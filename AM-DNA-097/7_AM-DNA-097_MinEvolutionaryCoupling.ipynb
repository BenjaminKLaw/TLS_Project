{
 "cells": [
  {
   "cell_type": "code",
   "execution_count": 1,
   "metadata": {},
   "outputs": [],
   "source": [
    "%matplotlib inline\n",
    "import numpy as np\n",
    "import pandas as pd\n",
    "import seaborn as sns\n",
    "import scipy as sp\n",
    "import pickle\n",
    "import itertools\n",
    "import matplotlib\n",
    "import matplotlib.pyplot as plt\n",
    "import ete3 as ete\n",
    "from pylab import *\n",
    "from scipy import cluster\n",
    "from Bio import Phylo\n",
    "from Bio.Phylo.TreeConstruction import DistanceTreeConstructor"
   ]
  },
  {
   "cell_type": "code",
   "execution_count": 2,
   "metadata": {},
   "outputs": [],
   "source": [
    "clusterColorFile = \"/Genomics/chanlab/mchan/Adriano/TLS/TLS_TLSCL/20211102_clusterColorsTLSCL.p\"\n",
    "with open(clusterColorFile,'rb') as fp:\n",
    "    colorDict = pickle.load(fp)"
   ]
  },
  {
   "cell_type": "code",
   "execution_count": 3,
   "metadata": {},
   "outputs": [],
   "source": [
    "# Load the TLS1 tree\n",
    "treeFile = \"/Genomics/chanlab/blaw/TLS/data/AM-DNA-097/lineage/2_lineage_reconstruction/AM-DNA-097_hybrid_newick_noMutationlessEdges_Labeled.nwk\"\n",
    "t = ete.Tree(treeFile,format=1)"
   ]
  },
  {
   "cell_type": "code",
   "execution_count": 4,
   "metadata": {},
   "outputs": [],
   "source": [
    "# Make the pairwise distance table\n",
    "leaves = [leaf.name for leaf in t.get_leaves()]\n",
    "\n",
    "df_pairwiseTreeDist = pd.DataFrame(index = leaves, columns = leaves)\n"
   ]
  },
  {
   "cell_type": "code",
   "execution_count": 5,
   "metadata": {},
   "outputs": [],
   "source": [
    "import itertools\n",
    "\n",
    "cell_pairs = list(itertools.combinations(leaves, 2))"
   ]
  },
  {
   "cell_type": "code",
   "execution_count": 6,
   "metadata": {},
   "outputs": [],
   "source": [
    "for index, col in cell_pairs:\n",
    "    dist = t.get_distance(index, col)\n",
    "    \n",
    "    df_pairwiseTreeDist.loc[index, col] = dist\n",
    "    df_pairwiseTreeDist.loc[col, index] = dist"
   ]
  },
  {
   "cell_type": "code",
   "execution_count": 7,
   "metadata": {},
   "outputs": [],
   "source": [
    "df_pairwiseTreeDist.to_csv('/Genomics/chanlab/blaw/TLS/data/AM-DNA-097/lineage/3_lineage_stats/AM-DNA-097_TLS1_neighbor_PairwiseBranchDist.txt', sep = '\\t', index=False)"
   ]
  },
  {
   "cell_type": "code",
   "execution_count": 8,
   "metadata": {},
   "outputs": [],
   "source": [
    "# Load the table of pairwise distances between cells\n",
    "df_pairwiseTreeDist = pd.read_csv(\"/Genomics/chanlab/mchan/Adriano/TLS/TLS_1_2/20220721_AM-DNA-097_TLS1_PairwiseBranchDistArgo.txt\", index_col = 0, sep = \"\\t\")\n",
    "\n",
    "s = pd.Series(index = df_pairwiseTreeDist.index, dtype = np.float64)\n",
    "np.fill_diagonal(df_pairwiseTreeDist.values, s)"
   ]
  },
  {
   "cell_type": "code",
   "execution_count": 9,
   "metadata": {},
   "outputs": [],
   "source": [
    "# Load the TLS1 cell types\n",
    "df_cellTypes = pd.read_csv('/Genomics/chanlab/blaw/TLS/LineageTracer/scRNAseq/TLS_120h_1_cellBC_cellState.tsv', sep = \"\\t\")\n",
    "\n",
    "df_cellTypes.set_index(\"cellBC\", inplace = True)\n",
    "df_cellTypes = df_cellTypes.loc[df_pairwiseTreeDist.index]"
   ]
  },
  {
   "cell_type": "code",
   "execution_count": 10,
   "metadata": {},
   "outputs": [],
   "source": [
    "leafNames = [n.name for n in t.get_leaves()]"
   ]
  },
  {
   "cell_type": "code",
   "execution_count": 11,
   "metadata": {},
   "outputs": [],
   "source": [
    "# Group all the early somite cells into an 'EarlySomite' cell type\n",
    "df_cellTypes.replace(['Somite0','Somite','Somite-1','aPSM','pPSM'], 'EarlySomite', inplace = True)"
   ]
  },
  {
   "cell_type": "code",
   "execution_count": 12,
   "metadata": {},
   "outputs": [],
   "source": [
    "# merge the distances dataframe with the cell types\n",
    "df_branchDist = pd.concat([df_pairwiseTreeDist, df_cellTypes.loc[df_pairwiseTreeDist.index, \"cell_state\"]], axis = 1)"
   ]
  },
  {
   "cell_type": "code",
   "execution_count": 13,
   "metadata": {},
   "outputs": [
    {
     "name": "stderr",
     "output_type": "stream",
     "text": [
      "/tmp/ipykernel_263101/445837340.py:8: DeprecationWarning: In a future version, `df.iloc[:, i] = newvals` will attempt to set the values inplace instead of always setting a new array. To retain the old behavior, use either `df[df.columns[i]] = newvals` or, if columns are non-unique, `df.isetitem(i, newvals)`\n",
      "  df_minBranchDist.loc[cellTypes, cellList] = x1\n",
      "/tmp/ipykernel_263101/445837340.py:8: DeprecationWarning: In a future version, `df.iloc[:, i] = newvals` will attempt to set the values inplace instead of always setting a new array. To retain the old behavior, use either `df[df.columns[i]] = newvals` or, if columns are non-unique, `df.isetitem(i, newvals)`\n",
      "  df_minBranchDist.loc[cellTypes, cellList] = x1\n",
      "/tmp/ipykernel_263101/445837340.py:8: DeprecationWarning: In a future version, `df.iloc[:, i] = newvals` will attempt to set the values inplace instead of always setting a new array. To retain the old behavior, use either `df[df.columns[i]] = newvals` or, if columns are non-unique, `df.isetitem(i, newvals)`\n",
      "  df_minBranchDist.loc[cellTypes, cellList] = x1\n",
      "/tmp/ipykernel_263101/445837340.py:8: DeprecationWarning: In a future version, `df.iloc[:, i] = newvals` will attempt to set the values inplace instead of always setting a new array. To retain the old behavior, use either `df[df.columns[i]] = newvals` or, if columns are non-unique, `df.isetitem(i, newvals)`\n",
      "  df_minBranchDist.loc[cellTypes, cellList] = x1\n",
      "/tmp/ipykernel_263101/445837340.py:8: DeprecationWarning: In a future version, `df.iloc[:, i] = newvals` will attempt to set the values inplace instead of always setting a new array. To retain the old behavior, use either `df[df.columns[i]] = newvals` or, if columns are non-unique, `df.isetitem(i, newvals)`\n",
      "  df_minBranchDist.loc[cellTypes, cellList] = x1\n",
      "/tmp/ipykernel_263101/445837340.py:8: DeprecationWarning: In a future version, `df.iloc[:, i] = newvals` will attempt to set the values inplace instead of always setting a new array. To retain the old behavior, use either `df[df.columns[i]] = newvals` or, if columns are non-unique, `df.isetitem(i, newvals)`\n",
      "  df_minBranchDist.loc[cellTypes, cellList] = x1\n",
      "/tmp/ipykernel_263101/445837340.py:8: DeprecationWarning: In a future version, `df.iloc[:, i] = newvals` will attempt to set the values inplace instead of always setting a new array. To retain the old behavior, use either `df[df.columns[i]] = newvals` or, if columns are non-unique, `df.isetitem(i, newvals)`\n",
      "  df_minBranchDist.loc[cellTypes, cellList] = x1\n",
      "/tmp/ipykernel_263101/445837340.py:8: DeprecationWarning: In a future version, `df.iloc[:, i] = newvals` will attempt to set the values inplace instead of always setting a new array. To retain the old behavior, use either `df[df.columns[i]] = newvals` or, if columns are non-unique, `df.isetitem(i, newvals)`\n",
      "  df_minBranchDist.loc[cellTypes, cellList] = x1\n",
      "/tmp/ipykernel_263101/445837340.py:8: DeprecationWarning: In a future version, `df.iloc[:, i] = newvals` will attempt to set the values inplace instead of always setting a new array. To retain the old behavior, use either `df[df.columns[i]] = newvals` or, if columns are non-unique, `df.isetitem(i, newvals)`\n",
      "  df_minBranchDist.loc[cellTypes, cellList] = x1\n",
      "/tmp/ipykernel_263101/445837340.py:8: DeprecationWarning: In a future version, `df.iloc[:, i] = newvals` will attempt to set the values inplace instead of always setting a new array. To retain the old behavior, use either `df[df.columns[i]] = newvals` or, if columns are non-unique, `df.isetitem(i, newvals)`\n",
      "  df_minBranchDist.loc[cellTypes, cellList] = x1\n"
     ]
    }
   ],
   "source": [
    "cellTypes = df_cellTypes[\"cell_state\"].unique()\n",
    "df_minBranchDist = pd.DataFrame(index = cellTypes, columns = df_branchDist.index)\n",
    "df_minBranchDist.fillna(-1, inplace = True)\n",
    "\n",
    "for cType in cellTypes:\n",
    "    cellList = df_cellTypes[df_cellTypes[\"cell_state\"] == cType].index.tolist()\n",
    "    x1 = df_branchDist.groupby([\"cell_state\"]).agg(dict.fromkeys(cellList, min))\n",
    "    df_minBranchDist.loc[cellTypes, cellList] = x1"
   ]
  },
  {
   "cell_type": "code",
   "execution_count": 12,
   "metadata": {},
   "outputs": [],
   "source": [
    "# Save the minBranch distances table\n",
    "df_minBranchDist.to_csv('/Genomics/chanlab/blaw/TLS/data/AM-DNA-097/lineage/AM-DNA-097_minDist_Table_EarlySomite.txt', sep = '\\t')"
   ]
  },
  {
   "cell_type": "code",
   "execution_count": 14,
   "metadata": {},
   "outputs": [],
   "source": [
    "def create_medianMinBranchTable(df_minBranchDist):\n",
    "    '''\n",
    "    input:\n",
    "        A dataframe of the min branch distance between each cell to cell state comparision\n",
    "    output:\n",
    "        A dataframe that contains the median distances for each cell state to cell state comparision\n",
    "    '''\n",
    "    df_minBranchDist_t1 = df_minBranchDist.T\n",
    "    x1 = [\"target_\" + i for i in df_minBranchDist_t1.columns.tolist()]\n",
    "    df_minBranchDist_t1.rename(columns = dict(zip(df_minBranchDist_t1.columns, x1)), inplace = True)\n",
    "\n",
    "    df_minBranchDist_t1 = pd.concat([df_minBranchDist_t1, df_cellTypes.loc[df_minBranchDist_t1.index, \"cell_state\"]], axis=1)\n",
    "\n",
    "    x1 = [\"target_\" + i for i in cellTypes]\n",
    "    df_cellTypeMinBranchDistMedian = df_minBranchDist_t1.groupby([\"cell_state\"]).agg(dict.fromkeys(x1, median))\n",
    "    return df_cellTypeMinBranchDistMedian"
   ]
  },
  {
   "cell_type": "code",
   "execution_count": 15,
   "metadata": {},
   "outputs": [],
   "source": [
    "# Create the median table for minBranch distances of each cell type to cell type\n",
    "df_cellTypeMinBranchDistMedian = create_medianMinBranchTable(df_minBranchDist)"
   ]
  },
  {
   "cell_type": "markdown",
   "metadata": {},
   "source": [
    "### Plot the distributions per cell type pair"
   ]
  },
  {
   "cell_type": "code",
   "execution_count": 16,
   "metadata": {},
   "outputs": [],
   "source": [
    "cellTypes = ['NMPs', 'NeuralTube1', 'NeuralTube2','EarlySomite', 'SomiteDermo', 'SomiteSclero',\n",
    "             'Endothelial','Endoderm', 'PCGLC','Unknown']"
   ]
  },
  {
   "cell_type": "code",
   "execution_count": 17,
   "metadata": {},
   "outputs": [],
   "source": [
    "# column focused\n",
    "h, axs = plt.subplots(10, 10, figsize = (15, 13))\n",
    "\n",
    "for i in np.arange(len(cellTypes)):\n",
    "    for j in np.arange(len(cellTypes)):\n",
    "        cellList = df_cellTypes[df_cellTypes[\"cell_state\"] == cellTypes[j]].index.tolist()\n",
    "        axs[j,i].hist(df_minBranchDist.loc[cellTypes[i], cellList], bins = np.arange(30))\n",
    "        axs[j,i].set_xlim([0,18])\n",
    "        if i == 0:\n",
    "            #axs[i,j].set_title(cellTypes[j],fontsize=6)\n",
    "            axs[j,i].set_ylabel(\"{}\\nn={}\".format(cellTypes[j], len(cellList)), fontsize = 6)\n",
    "        if j == 0:\n",
    "            axs[j,i].set_title(cellTypes[i], fontsize=6)\n",
    "            #axs[i,j].set_ylabel(\"{}\\nn={}\".format(cellTypes[i],len(cellList)),fontsize=6)\n",
    "        axs[j,i].tick_params(labelsize = 5)\n",
    "\n",
    "\n",
    "plt.suptitle('AM-DNA-097_TLS1')\n",
    "    \n",
    "plt.subplots_adjust(hspace = 0.6, wspace = 0.5)\n",
    "    \n",
    "#plt.savefig(\"/Genomics/chanlab/blaw/TLS/data/AM-DNA-097/lineage/3_lineage_stats/minDist_Distributions.pdf\", dpi = 300)\n",
    "#plt.show()\n",
    "plt.close()"
   ]
  },
  {
   "cell_type": "markdown",
   "metadata": {},
   "source": [
    "### Plot distribution of NMP cells to other groups"
   ]
  },
  {
   "cell_type": "code",
   "execution_count": 18,
   "metadata": {},
   "outputs": [],
   "source": [
    "NMP_cells = df_cellTypes[df_cellTypes['cell_state'] == 'NMPs'].index.values"
   ]
  },
  {
   "cell_type": "code",
   "execution_count": 19,
   "metadata": {},
   "outputs": [],
   "source": [
    "NMP_somite = np.zeros(len(NMP_cells))\n",
    "NMP_neural = np.zeros(len(NMP_cells))\n",
    "NMP_early_somite = np.zeros(len(NMP_cells))\n",
    "NMP_sclero = np.zeros(len(NMP_cells))\n",
    "NMP_dermo = np.zeros(len(NMP_cells))\n",
    "NMP_neuraltube1 = np.zeros(len(NMP_cells)) \n",
    "NMP_neuraltube2 = np.zeros(len(NMP_cells))\n",
    "NMP_PGC = np.zeros(len(NMP_cells))"
   ]
  },
  {
   "cell_type": "code",
   "execution_count": 20,
   "metadata": {},
   "outputs": [],
   "source": [
    "count = 0\n",
    "for i in NMP_cells:\n",
    "    NMP_early_somite[count] = df_minBranchDist.loc['EarlySomite'][i]\n",
    "    NMP_sclero[count] = df_minBranchDist.loc['SomiteSclero'][i]\n",
    "    NMP_dermo[count] = df_minBranchDist.loc['SomiteDermo'][i]\n",
    "    NMP_neuraltube1[count] = df_minBranchDist.loc['NeuralTube1'][i]\n",
    "    NMP_neuraltube2[count] = df_minBranchDist.loc['NeuralTube2'][i]\n",
    "    NMP_PGC[count] = df_minBranchDist.loc['PCGLC'][i]\n",
    "    NMP_somite[count] = min(df_minBranchDist.loc['EarlySomite'][i], df_minBranchDist.loc['SomiteSclero'][i], df_minBranchDist.loc['SomiteDermo'][i])\n",
    "    NMP_neural[count] = min(df_minBranchDist.loc['NeuralTube1'][i], df_minBranchDist.loc['NeuralTube2'][i])\n",
    "\n",
    "    count += 1"
   ]
  },
  {
   "cell_type": "code",
   "execution_count": 21,
   "metadata": {},
   "outputs": [],
   "source": [
    "# Plot the distribution of the distances from an NMP to the closest somite, neural, or PGC cell state\n",
    "plt.boxplot([NMP_somite, NMP_neural, NMP_PGC],\n",
    "            labels = ['Somite', 'Neural', 'PGC'])\n",
    "plt.ylim(0, 15)\n",
    "plt.tight_layout()\n",
    "#plt.savefig('/Genomics/chanlab/blaw/TLS/data/AM-DNA-097/lineage/3_lineage_stats/AM-DNA-097_NMP_minDists.pdf', dpi = 300)\n",
    "#plt.show()\n",
    "plt.close()"
   ]
  },
  {
   "cell_type": "markdown",
   "metadata": {},
   "source": [
    "### Plot distribution of Endothelial cells to other groups"
   ]
  },
  {
   "cell_type": "code",
   "execution_count": 22,
   "metadata": {},
   "outputs": [],
   "source": [
    "Endothelial_cells = df_cellTypes[df_cellTypes['cell_state'] == 'Endothelial'].index.values"
   ]
  },
  {
   "cell_type": "code",
   "execution_count": 23,
   "metadata": {},
   "outputs": [],
   "source": [
    "E_early_somite = np.zeros(len(Endothelial_cells))\n",
    "E_sclero = np.zeros(len(Endothelial_cells))\n",
    "E_dermo = np.zeros(len(Endothelial_cells))\n",
    "E_PGC = np.zeros(len(Endothelial_cells))"
   ]
  },
  {
   "cell_type": "code",
   "execution_count": 24,
   "metadata": {},
   "outputs": [],
   "source": [
    "count = 0\n",
    "for i in Endothelial_cells:\n",
    "    E_early_somite[count] = df_minBranchDist.loc['EarlySomite'][i]\n",
    "    E_sclero[count] = df_minBranchDist.loc['SomiteSclero'][i]\n",
    "    E_dermo[count] = df_minBranchDist.loc['SomiteDermo'][i]\n",
    "    E_PGC[count] = df_minBranchDist.loc['PCGLC'][i]\n",
    "    count += 1"
   ]
  },
  {
   "cell_type": "code",
   "execution_count": 28,
   "metadata": {},
   "outputs": [],
   "source": [
    "# Plot the distribution of the distances from an NMP to the closest somite, neural, or PGC cell state\n",
    "plt.boxplot([E_early_somite, E_sclero, E_dermo, E_PGC],\n",
    "            labels = ['EarlySomite', 'Sclero', 'Dermo', 'PGC'])\n",
    "plt.ylim(0, 15)\n",
    "plt.tight_layout()\n",
    "plt.savefig('/Genomics/chanlab/blaw/TLS/data/AM-DNA-097/lineage/3_lineage_stats/AM-DNA-097_Endothelial_minDists.pdf', dpi = 300)\n",
    "#plt.show()\n",
    "plt.close()"
   ]
  },
  {
   "cell_type": "markdown",
   "metadata": {},
   "source": [
    "### Plot the heatmaps"
   ]
  },
  {
   "cell_type": "code",
   "execution_count": 18,
   "metadata": {},
   "outputs": [
    {
     "data": {
      "image/png": "[encoded data removed]",
      "text/plain": [
       "<Figure size 720x720 with 4 Axes>"
      ]
     },
     "metadata": {
      "needs_background": "light"
     },
     "output_type": "display_data"
    }
   ],
   "source": [
    "# Plot a clustermap of the median distances between cell states\n",
    "temp = df_cellTypeMinBranchDistMedian.copy()\n",
    "#temp.drop(index = ['Unknown'], inplace = True)\n",
    "g = sns.clustermap(temp)\n",
    "plt.subplots_adjust(bottom = 0.3, right = 0.7)\n",
    "#plt.savefig('/Genomics/chanlab/blaw/TLS/data/AM-DNA-097/lineage/3_lineage_stats/AM-DNA-097_Evolutionary_Coupling.pdf', dpi = 300)\n",
    "plt.show()\n",
    "plt.close()"
   ]
  },
  {
   "cell_type": "code",
   "execution_count": null,
   "metadata": {},
   "outputs": [],
   "source": []
  }
 ],
 "metadata": {
  "kernelspec": {
   "display_name": "Python 3 (ipykernel)",
   "language": "python",
   "name": "python3"
  },
  "language_info": {
   "codemirror_mode": {
    "name": "ipython",
    "version": 3
   },
   "file_extension": ".py",
   "mimetype": "text/x-python",
   "name": "python",
   "nbconvert_exporter": "python",
   "pygments_lexer": "ipython3",
   "version": "3.9.11"
  }
 },
 "nbformat": 4,
 "nbformat_minor": 2
}
