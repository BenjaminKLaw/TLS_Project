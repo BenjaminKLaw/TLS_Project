{
 "cells": [
  {
   "cell_type": "code",
   "execution_count": 1,
   "id": "4034e789",
   "metadata": {},
   "outputs": [],
   "source": [
    "import numpy as np\n",
    "import pandas as pd\n",
    "import scipy as sp\n",
    "import scanpy as sc\n",
    "import cassiopeia as cas\n",
    "import seaborn as sns\n",
    "import statistics as stats\n",
    "import collections\n",
    "import pickle\n",
    "import scipy.sparse as sp_sparse\n",
    "import scipy.io\n",
    "\n",
    "from matplotlib.pyplot import rc_context\n",
    "from matplotlib import pyplot as plt\n",
    "from matplotlib.backends.backend_pdf import PdfPages\n",
    "from pylab import *\n",
    "from ete3 import Tree\n",
    "from typing import Tuple"
   ]
  },
  {
   "cell_type": "code",
   "execution_count": 2,
   "id": "8fb82ff9",
   "metadata": {},
   "outputs": [],
   "source": [
    "clusterColorsFile = \"/Genomics/chanlab/mchan/Adriano/TLS/TLS_TLSCL/20211102_clusterColorsTLSCL.p\"\n",
    "with open(clusterColorsFile,'rb') as fp:\n",
    "    colorDict = pickle.load(fp)"
   ]
  },
  {
   "cell_type": "code",
   "execution_count": 3,
   "id": "0f101fe4",
   "metadata": {},
   "outputs": [],
   "source": [
    "# Load the allele table, tree, and lineage table for TLS1\n",
    "TLS1_allele_table = pd.read_csv('/Genomics/chanlab/blaw/TLS/data/AM-DNA-097/lineage/2_lineage_reconstruction/allele_table.txt', sep='\\t')\n",
    "\n",
    "TLS1_loc = '/Genomics/chanlab/blaw/TLS/data/AM-DNA-097/lineage/2_lineage_reconstruction/AM-DNA-097_hybrid_newick_noMutationlessEdges_Labeled.nwk'\n",
    "t = Tree(TLS1_loc, format=1)\n",
    "\n",
    "lineage_table = pd.read_csv('/Genomics/chanlab/blaw/TLS/data/AM-DNA-097/lineage/2_lineage_reconstruction/AM-DNA-097_lineage_table.txt', sep = '\\t')\n",
    "\n",
    "cell_state_table = pd.read_csv('/Genomics/chanlab/blaw/TLS/LineageTracer/scRNAseq/TLS_120h_1_cellBC_cellState.tsv', sep='\\t')\n",
    "\n",
    "#TLS1 = sc.read_h5ad('/Genomics/chanlab/blaw/TLS/raw_data/scRNA/TLS12/TLS_120h_1.h5ad')"
   ]
  },
  {
   "cell_type": "code",
   "execution_count": 4,
   "id": "d0c2ae99",
   "metadata": {},
   "outputs": [],
   "source": [
    "def maxDepth(node):\n",
    "    '''\n",
    "    Input:\n",
    "        - a node in an ete tree\n",
    "    returns:\n",
    "        - The max depth of any branch in that node\n",
    "    '''\n",
    "    if node.is_leaf():\n",
    "        return 0\n",
    "    children_depths = []\n",
    "    \n",
    "    for child in node.children:\n",
    "        test = maxDepth(child)\n",
    "        \n",
    "        children_depths.append(test)\n",
    "        \n",
    "    return max(children_depths) + 1"
   ]
  },
  {
   "cell_type": "code",
   "execution_count": 5,
   "id": "b89ff82f",
   "metadata": {},
   "outputs": [],
   "source": [
    "# Find all the nodes in TLS1\n",
    "nodes = []\n",
    "for node in t.traverse():\n",
    "    if not node.is_leaf():\n",
    "        if node.name != 'node0':\n",
    "            nodes.append(node.name)"
   ]
  },
  {
   "cell_type": "code",
   "execution_count": 6,
   "id": "f9fba4b2",
   "metadata": {},
   "outputs": [],
   "source": [
    "node_info = pd.DataFrame(index = nodes, columns = ['Clone', 'Dist to Clone', 'Clone Depth', 'Progenitor Type', 'Normalized Dist'])"
   ]
  },
  {
   "cell_type": "code",
   "execution_count": 7,
   "id": "2d8c24c6",
   "metadata": {},
   "outputs": [],
   "source": [
    "for clone in t.children:\n",
    "    clone_depth = maxDepth(clone)\n",
    "    \n",
    "    for node in clone.traverse():\n",
    "        if not node.is_leaf():\n",
    "            dist_to_clone = t.get_distance(clone, node)\n",
    "            \n",
    "            node_info.loc[node.name]['Clone'] = clone.name\n",
    "            node_info.loc[node.name]['Dist to Clone'] = dist_to_clone\n",
    "            node_info.loc[node.name]['Clone Depth'] = clone_depth\n",
    "            node_info.loc[node.name]['Normalized Dist'] = dist_to_clone / clone_depth"
   ]
  },
  {
   "cell_type": "code",
   "execution_count": 8,
   "id": "0bffc1c4",
   "metadata": {},
   "outputs": [],
   "source": [
    "for clone in t.children:\n",
    "    if not clone.is_leaf():\n",
    "        node_info.loc[clone.name]['Progenitor Type'] = 'Clone'"
   ]
  },
  {
   "cell_type": "markdown",
   "id": "01c44ed9",
   "metadata": {},
   "source": [
    "### Label Progenitor Types:"
   ]
  },
  {
   "cell_type": "code",
   "execution_count": 9,
   "id": "0629d6c2",
   "metadata": {},
   "outputs": [],
   "source": [
    "def getProgenitorType(node, cell_state_table):\n",
    "    '''\n",
    "    input:\n",
    "        - a tree node to test\n",
    "        - a table that contains the annotated cell state for each cellBC\n",
    "    output:\n",
    "        - the type of progenitor that we are classifying it as given these criteria:\n",
    "    \n",
    "    - Extended progenitors: PGCs, Endoderm, Somitic, Neural\n",
    "    - Pluripotent progenitors: Endoderm, Somitic, Neural\n",
    "    - Bipotent progenitors: Somitic, Neural (both if contains or not NMPs still count)\n",
    "    - Neural Committed: Neural + NMP\n",
    "    - Somitic Committed: Somitic + NMP\n",
    "    - Endoderm progenitors: Endoderm only\n",
    "    - PGCLC progenitors: PGCLC only\n",
    "    - Somitic progenitors: somitic only\n",
    "    - Neural progenitors: neural only\n",
    "    \n",
    "    Neural class is made from NeuralTube1 and NeuralTube2\n",
    "    Somite class is pPSM, aPSM, Somite-1, Somite0, Somite, Somite1, SomiteSclero, SomiteDermo\n",
    "    \n",
    "    NMPs are left out of the analysis. +/- an NMP does not change the category that a node gets\n",
    "    \n",
    "    exclude nodes that are Endoderm without both somitic and neural (unless it is alone)\n",
    "    exclude nodes that are PGC without all 3 endoderm, somitic, and neural (unless it is alone)\n",
    "    \n",
    "    '''\n",
    "    progenitor_types = {'Extended Progenitor': set(['PCGLC', 'Endoderm', 'Somitic', 'Neural']),\n",
    "                        'Pluripotent Progenitor': set(['Endoderm', 'Somitic', 'Neural']),\n",
    "                        'Bipotent Progenitor' : set(['Somitic', 'Neural']),\n",
    "                        'Endoderm Progenitor': set(['Endoderm']),\n",
    "                        'PGCLC Progenitor': set(['PCGLC']),\n",
    "                        'Somitic Progenitor': set(['Somitic']),\n",
    "                        'Neural Progenitor': set(['Neural'])}\n",
    "    \n",
    "    \n",
    "    leaves = [leaf.name for leaf in node.get_leaves()]\n",
    "    \n",
    "    # make a list of the cell states in a given node\n",
    "    cell_types = cell_state_table[cell_state_table['cellBC'].isin(leaves)]['cell_state'].to_list()\n",
    "    \n",
    "    # Group the cell states into neural and somite categories\n",
    "    grouped_states = []\n",
    "    for state in cell_types:\n",
    "        if state in ['pPSM', 'aPSM', 'Somite', 'Somite0', 'Somite1', 'Somite-1', 'SomiteSclero', 'SomiteDermo']:\n",
    "            grouped_states.append('Somitic')\n",
    "        elif state in ['NeuralTube1', 'NeuralTube2']:\n",
    "            grouped_states.append('Neural')\n",
    "        elif state in ['PCGLC', 'Endoderm']:\n",
    "            grouped_states.append(state)\n",
    "    \n",
    "    state_set = set(grouped_states)\n",
    "    \n",
    "    for progenitor in progenitor_types.keys():\n",
    "        if state_set == progenitor_types[progenitor]:\n",
    "            return progenitor\n",
    "    \n",
    "    return 'Dropped'"
   ]
  },
  {
   "cell_type": "code",
   "execution_count": 10,
   "id": "84ae0495",
   "metadata": {},
   "outputs": [],
   "source": [
    "# For each node that is not a clone, record the progenitor type\n",
    "for clone in t.children:\n",
    "    for node in clone.traverse():\n",
    "        if not node.is_leaf():\n",
    "            node_info.loc[node.name]['Progenitor Type'] = getProgenitorType(node, cell_state_table)"
   ]
  },
  {
   "cell_type": "code",
   "execution_count": 11,
   "id": "8c87b12c",
   "metadata": {},
   "outputs": [],
   "source": [
    "# test excluding clones that are below 5 cells\n",
    "clones_below5 = []\n",
    "# test excluding nodes that are in clone 12 (the large rake)\n",
    "nodes_in_12 = []\n",
    "for clone in t.children:\n",
    "    if not clone.is_leaf():\n",
    "        if len(clone.get_leaves()) < 5:\n",
    "            for node in clone.traverse():\n",
    "                if not node.is_leaf():\n",
    "                    clones_below5.append(node.name)\n",
    "        if clone.name == 'node12':\n",
    "            for node in clone.traverse():\n",
    "                if not node.is_leaf():\n",
    "                    nodes_in_12.append(node.name)"
   ]
  },
  {
   "cell_type": "code",
   "execution_count": 12,
   "id": "e645c153",
   "metadata": {},
   "outputs": [],
   "source": [
    "node_info_above5 = node_info.drop(index = clones_below5).copy()\n",
    "node_info_without12 = node_info.drop(index = nodes_in_12).copy()"
   ]
  },
  {
   "cell_type": "code",
   "execution_count": 13,
   "id": "96d9ee40",
   "metadata": {},
   "outputs": [],
   "source": [
    "# Save all 3 tables\n",
    "node_info.to_csv('/Genomics/chanlab/blaw/TLS/data/AM-DNA-097/progenitor_analysis/node_progenitor_types.txt', sep = '\\t')\n",
    "node_info_above5.to_csv('/Genomics/chanlab/blaw/TLS/data/AM-DNA-097/progenitor_analysis/node_progenitor_types_above5.txt', sep = '\\t')\n",
    "node_info_without12.to_csv('/Genomics/chanlab/blaw/TLS/data/AM-DNA-097/progenitor_analysis/node_progenitor_types.txt', sep = '\\t')"
   ]
  },
  {
   "cell_type": "code",
   "execution_count": 14,
   "id": "5bf993e7",
   "metadata": {},
   "outputs": [],
   "source": [
    "# Plot the distribution of normalized depths for each node type\n",
    "fig, ax = plt.subplots(2, 4, figsize = (12, 6))\n",
    "\n",
    "count_1 = 0\n",
    "count_2 = 0\n",
    "for progenitor in np.unique(node_info['Progenitor Type']):\n",
    "    test_ax = ax[count_2, count_1]\n",
    "    count_1 += 1\n",
    "    if count_1 > 3:\n",
    "        count_2 = 1\n",
    "        count_1 = 0\n",
    "\n",
    "    test_ax.hist(node_info[node_info['Progenitor Type'] == progenitor]['Normalized Dist'])\n",
    "    test_ax.set_title(progenitor)\n",
    "plt.tight_layout()    \n",
    "#plt.show()\n",
    "plt.close()"
   ]
  },
  {
   "cell_type": "code",
   "execution_count": 15,
   "id": "90793de3",
   "metadata": {},
   "outputs": [],
   "source": [
    "# Plot the distribution of normalized depths for each node type with > 5 cells\n",
    "fig, ax = plt.subplots(2, 4, figsize = (12, 6))\n",
    "\n",
    "count_1 = 0\n",
    "count_2 = 0\n",
    "for progenitor in np.unique(node_info_above5['Progenitor Type']):\n",
    "    test_ax = ax[count_2, count_1]\n",
    "    count_1 += 1\n",
    "    if count_1 > 3:\n",
    "        count_2 = 1\n",
    "        count_1 = 0\n",
    "\n",
    "    test_ax.hist(node_info_above5[node_info_above5['Progenitor Type'] == progenitor]['Normalized Dist'])\n",
    "    test_ax.set_title(progenitor)\n",
    "plt.tight_layout()    \n",
    "#plt.show()\n",
    "plt.close()"
   ]
  },
  {
   "cell_type": "code",
   "execution_count": 16,
   "id": "53ea842c",
   "metadata": {},
   "outputs": [],
   "source": [
    "# Plot the distribution of normalized depths for each node type without clone 12\n",
    "fig, ax = plt.subplots(2, 4, figsize = (12, 6))\n",
    "\n",
    "count_1 = 0\n",
    "count_2 = 0\n",
    "for progenitor in np.unique(node_info_without12['Progenitor Type']):\n",
    "    test_ax = ax[count_2, count_1]\n",
    "    count_1 += 1\n",
    "    if count_1 > 3:\n",
    "        count_2 = 1\n",
    "        count_1 = 0\n",
    "\n",
    "    test_ax.hist(node_info_without12[node_info_without12['Progenitor Type'] == progenitor]['Normalized Dist'])\n",
    "    test_ax.set_title(progenitor)\n",
    "plt.tight_layout()    \n",
    "#plt.show()\n",
    "plt.close()"
   ]
  },
  {
   "cell_type": "markdown",
   "id": "846f5049",
   "metadata": {},
   "source": [
    "# Removing nodes with less than 5 cells, or removing the large rake do not make a large difference in the distributions of progenitor nodes"
   ]
  },
  {
   "cell_type": "code",
   "execution_count": 17,
   "id": "2479521b",
   "metadata": {},
   "outputs": [],
   "source": [
    "# Plot the distribution of nodes that are dropped from the analysis\n",
    "# 68 of the 665 nodes were dropped\n",
    "plt.hist(node_info[node_info['Progenitor Type'] == 'Dropped']['Normalized Dist'])\n",
    "plt.xlabel('Normalized Dist')\n",
    "plt.ylabel('Count')\n",
    "plt.title('Dropped Nodes - {} of {} nodes'.format(len(node_info[node_info['Progenitor Type'] == 'Dropped']), len(node_info)))\n",
    "plt.tight_layout()\n",
    "#plt.show()\n",
    "plt.close()"
   ]
  },
  {
   "cell_type": "code",
   "execution_count": 18,
   "id": "836d1082",
   "metadata": {},
   "outputs": [],
   "source": [
    "node_info['Normalized Dist'] = node_info['Normalized Dist'].astype('float')\n",
    "node_info_without12['Normalized Dist'] = node_info_without12['Normalized Dist'].astype('float')\n",
    "node_info_above5['Normalized Dist'] = node_info_above5['Normalized Dist'].astype('float')"
   ]
  },
  {
   "cell_type": "code",
   "execution_count": 19,
   "id": "3a27ffa7",
   "metadata": {},
   "outputs": [],
   "source": [
    "# Plot the normalized depth of each progenitor type\n",
    "fig, ax = plt.subplots(figsize = (15, 5))\n",
    "sns.violinplot(ax = ax, data = node_info[node_info['Progenitor Type'] != 'Dropped'], x = 'Progenitor Type', y = 'Normalized Dist', scale = 'area', cut = 0,\n",
    "               order = ['Extended Progenitor', 'Pluripotent Progenitor', 'Bipotent Progenitor', 'PGCLC Progenitor', 'Neural Progenitor', 'Somitic Progenitor', 'Endoderm Progenitor'])\n",
    "plt.title('TLS1 Node')\n",
    "plt.tight_layout()\n",
    "plt.savefig('/Genomics/chanlab/blaw/TLS/data/AM-DNA-097/progenitor_analysis/AM-DNA-097_Progenitor_Normalized_Depth.pdf', dpi = 300)\n",
    "#plt.show()\n",
    "plt.close()"
   ]
  },
  {
   "cell_type": "code",
   "execution_count": 20,
   "id": "35b10b66",
   "metadata": {},
   "outputs": [],
   "source": [
    "# Plot the normalized depth of each progenitor type\n",
    "fig, ax = plt.subplots(figsize = (15, 5))\n",
    "sns.boxplot(ax = ax, data = node_info[node_info['Progenitor Type'] != 'Dropped'], x = 'Progenitor Type', y = 'Normalized Dist',\n",
    "               order = ['Extended Progenitor', 'Pluripotent Progenitor', 'Bipotent Progenitor', 'PGCLC Progenitor', 'Neural Progenitor', 'Somitic Progenitor', 'Endoderm Progenitor'])\n",
    "plt.title('TLS1 Node Normalized Distances')\n",
    "plt.tight_layout()\n",
    "plt.savefig('/Genomics/chanlab/blaw/TLS/data/AM-DNA-097/lineage/Progenitor_Depths.pdf', dpi = 300)\n",
    "#plt.show()\n",
    "plt.close()"
   ]
  }
 ],
 "metadata": {
  "kernelspec": {
   "display_name": "Python 3 (ipykernel)",
   "language": "python",
   "name": "python3"
  },
  "language_info": {
   "codemirror_mode": {
    "name": "ipython",
    "version": 3
   },
   "file_extension": ".py",
   "mimetype": "text/x-python",
   "name": "python",
   "nbconvert_exporter": "python",
   "pygments_lexer": "ipython3",
   "version": "3.9.11"
  }
 },
 "nbformat": 4,
 "nbformat_minor": 5
}
