{
 "cells": [
  {
   "cell_type": "code",
   "execution_count": 1,
   "id": "4d8bb81a",
   "metadata": {},
   "outputs": [],
   "source": [
    "import pandas as pd\n",
    "import numpy as np\n",
    "import scanpy as sc\n",
    "import matplotlib as mpl\n",
    "import matplotlib.pyplot as plt\n",
    "from matplotlib.pyplot import rc_context\n",
    "import pickle\n",
    "import seaborn as sns\n",
    "import scipy\n",
    "import statistics as stats\n",
    "from copy import copy\n",
    "from ete3 import Tree\n",
    "from copy import copy"
   ]
  },
  {
   "cell_type": "code",
   "execution_count": 2,
   "id": "73a27d65",
   "metadata": {},
   "outputs": [],
   "source": [
    "sc.settings.verbosity = 0\n",
    "sc.settings.figdir = '/Genomics/chanlab/blaw/TLS/data/AM-DNA-097/scRNA/figures/'"
   ]
  },
  {
   "cell_type": "code",
   "execution_count": 10,
   "id": "38e6269e",
   "metadata": {},
   "outputs": [],
   "source": [
    "clusterColorsFile = \"/Genomics/chanlab/mchan/Adriano/TLS/TLS_TLSCL/20211102_clusterColorsTLSCL.p\"\n",
    "with open(clusterColorsFile,'rb') as fp:\n",
    "    colorDict = pickle.load(fp)\n",
    "    \n",
    "rreens = copy(mpl.cm.Greens)\n",
    "rreens.set_under(\"lightgray\")\n",
    "reds = copy(mpl.cm.Reds)\n",
    "reds.set_under(\"lightgray\")"
   ]
  },
  {
   "cell_type": "code",
   "execution_count": 4,
   "id": "6dcf61b2",
   "metadata": {},
   "outputs": [],
   "source": [
    "# Load AM-DNA-097 scanpy object\n",
    "TLS1 = sc.read_h5ad('/Genomics/chanlab/blaw/TLS/raw_data/scRNA/TLS12/TLS_120h_1.h5ad')\n",
    "# Load the TLS timecourse scanpy object\n",
    "TLS_integrated = sc.read_h5ad('/Genomics/chanlab/blaw/TLS/raw_data/scRNA/TLS12/TLS.integrated.h5ad')"
   ]
  },
  {
   "cell_type": "code",
   "execution_count": 5,
   "id": "79ea2819",
   "metadata": {},
   "outputs": [],
   "source": [
    "# Load the TLS1 tree\n",
    "TLS1_loc = '/Genomics/chanlab/blaw/TLS/data/AM-DNA-097/lineage/2_lineage_reconstruction/AM-DNA-097_hybrid_newick_noMutationlessEdges_Labeled.nwk'\n",
    "t = Tree(TLS1_loc, format=1)"
   ]
  },
  {
   "cell_type": "code",
   "execution_count": 6,
   "id": "e16a43ac",
   "metadata": {},
   "outputs": [],
   "source": [
    "# Load the allele table and lineage table\n",
    "allele_table = pd.read_csv(\"/Genomics/chanlab/blaw/TLS/data/AM-DNA-097/lineage/2_lineage_reconstruction/allele_table_filtered.txt\", sep = '\\t')\n",
    "lineage_table = pd.read_csv(\"/Genomics/chanlab/blaw/TLS/data/AM-DNA-097/lineage/2_lineage_reconstruction/AM-DNA-097_lineage_table.txt\", sep = '\\t')"
   ]
  },
  {
   "cell_type": "markdown",
   "id": "2e7ecedb",
   "metadata": {},
   "source": [
    "# UMAPs of Marker Genes"
   ]
  },
  {
   "cell_type": "code",
   "execution_count": 7,
   "id": "b7b784a8",
   "metadata": {},
   "outputs": [
    {
     "name": "stderr",
     "output_type": "stream",
     "text": [
      "... storing 'orig.ident' as categorical\n",
      "... storing 'integrated_snn_res.0.5' as categorical\n",
      "... storing 'seurat_clusters' as categorical\n",
      "... storing 'BC' as categorical\n",
      "... storing 'Phase' as categorical\n",
      "... storing 'old.ident' as categorical\n",
      "... storing 'integrated_snn_res.0.8' as categorical\n",
      "... storing 'cluster' as categorical\n",
      "... storing 'cell_state' as categorical\n",
      "... storing 'predicted.id' as categorical\n"
     ]
    }
   ],
   "source": [
    "with rc_context({'figure.figsize': (5, 5)}):\n",
    "    sc.pl.umap(TLS1, color=['cell_state', 'nCount_RNA', 'nFeature_RNA'], title='TLS_120h_Rep1', palette = colorDict, save = '_TLS1_scRNA_QC.pdf', show = False)"
   ]
  },
  {
   "cell_type": "code",
   "execution_count": 8,
   "id": "6482a701",
   "metadata": {},
   "outputs": [],
   "source": [
    "genes = ['Sox3', 'Meox2', 'Cdx2', 'Tbx6', 'Ripply2', 'Kdr', 'Foxa2', 'Dppa3', 'Cer1', 'Pax6', 'Dbx1', 'Pax3', 'Pax1', 'Sox9',\n",
    "         'Tcf15', 'Meox1']"
   ]
  },
  {
   "cell_type": "code",
   "execution_count": 11,
   "id": "71dac625",
   "metadata": {},
   "outputs": [],
   "source": [
    "for gene in genes:\n",
    "    with rc_context({'figure.figsize': (5, 5)}):\n",
    "        sc.pl.umap(TLS1, color=gene, title='TLS_120h_1_' + gene, use_raw = False, save = '_TLS1_' + gene + '.pdf', show = False, cmap=reds)"
   ]
  },
  {
   "cell_type": "markdown",
   "id": "4e20b87a",
   "metadata": {},
   "source": [
    "# Composition of TLS1 vs 120h of the Timecourse"
   ]
  },
  {
   "cell_type": "code",
   "execution_count": 12,
   "id": "c88a1a06",
   "metadata": {},
   "outputs": [],
   "source": [
    "TLS_120h = TLS_integrated[TLS_integrated.obs['orig.ident'].isin(['mGast_120h'])]"
   ]
  },
  {
   "cell_type": "code",
   "execution_count": 13,
   "id": "9d8122b1",
   "metadata": {},
   "outputs": [
    {
     "name": "stderr",
     "output_type": "stream",
     "text": [
      "/usr/local/python/3.9.11-mmchan/lib/python3.9/site-packages/anndata/_core/anndata.py:1095: FutureWarning: The `inplace` parameter in pandas.Categorical.remove_unused_categories is deprecated and will be removed in a future version.\n",
      "  df_sub[k].cat.remove_unused_categories(inplace=True)\n"
     ]
    }
   ],
   "source": [
    "TLS1_cell_states_percent = {}\n",
    "TLS_120h_cell_states_percent = {}\n",
    "\n",
    "for cell_state in colorDict.keys():\n",
    "    TLS1_cell_states_percent[cell_state] = 100 * len(TLS1[TLS1.obs['cell_state'] == cell_state]) / len(TLS1) \n",
    "    TLS_120h_cell_states_percent[cell_state] = 100 * len(TLS_120h[TLS_120h.obs['cell_state'] == cell_state]) / len(TLS_120h)"
   ]
  },
  {
   "cell_type": "code",
   "execution_count": 14,
   "id": "ee5314d4",
   "metadata": {},
   "outputs": [],
   "source": [
    "cell_percents = pd.DataFrame.from_dict([TLS_120h_cell_states_percent, TLS1_cell_states_percent])\n",
    "cell_percents = cell_percents.rename(index = {0: \"TLS_120h\", 1: \"TLS1\"})"
   ]
  },
  {
   "cell_type": "code",
   "execution_count": 15,
   "id": "df258198",
   "metadata": {},
   "outputs": [],
   "source": [
    "colors = []\n",
    "for color in cell_percents.columns:\n",
    "    colors.append(colorDict[color])\n",
    "    \n",
    "cell_percents.plot(kind='bar', use_index = True, stacked=True, color = colors, grid = False, figsize = (2, 2))\n",
    "plt.legend(loc='center left', bbox_to_anchor=(1.0, 0.5), prop={'size': 5})\n",
    "plt.title('cell_state_proportions')\n",
    "plt.ylabel('% cells/cluster')\n",
    "plt.savefig('/Genomics/chanlab/blaw/TLS/data/AM-DNA-097/scRNA/figures/TLS_1_vs_Timecourse_Cell_Percents.pdf', dpi = 300)\n",
    "#plt.show()\n",
    "plt.close()"
   ]
  },
  {
   "cell_type": "markdown",
   "id": "c2a79a59",
   "metadata": {},
   "source": [
    "# Overlay Desired Nodes onto TLS1 UMAP"
   ]
  },
  {
   "cell_type": "code",
   "execution_count": 16,
   "id": "f409280d",
   "metadata": {},
   "outputs": [],
   "source": [
    "# create a dictionary for the leaves in each selected node\n",
    "node_dict = {}\n",
    "selected_nodes = ['node1', 'node40', 'node150', 'node431', 'node534', 'node638', 'node640', 'node435', 'node42', 'node153']\n",
    "for node in t.traverse():\n",
    "    if node.name in selected_nodes:\n",
    "        node_dict[node.name] = [leaf.name for leaf in node.get_leaves()]"
   ]
  },
  {
   "cell_type": "code",
   "execution_count": 17,
   "id": "c16b8542",
   "metadata": {},
   "outputs": [],
   "source": [
    "for node in node_dict.keys():\n",
    "    test = node_dict[node]\n",
    "    cell_states = {}\n",
    "\n",
    "    for state in colorDict.keys():\n",
    "        cell_states[state] = 0\n",
    "\n",
    "    for cell in test:\n",
    "        cell_state = TLS1.obs.loc['TLS_120h_rep1_' + cell]['cell_state']\n",
    "        cell_states[cell_state] += 1\n",
    "        \n",
    "    sorted_cell_states = {k: v for k, v in sorted(cell_states.items(), key=lambda item: item[1])}\n",
    "    \n",
    "    labels = sorted_cell_states.keys()\n",
    "    sizes = sorted_cell_states.values()\n",
    "\n",
    "    colors = []\n",
    "    for label in labels:\n",
    "        colors.append(colorDict[label])\n",
    "\n",
    "    fig1, ax1 = plt.subplots()\n",
    "    ax1.pie(sizes, labels=labels, autopct='%1.1f%%', colors = colors, startangle=90)\n",
    "    ax1.axis('equal')  # Equal aspect ratio ensures that pie is drawn as a circle.\n",
    "    plt.title(node + ' - ' + str(len(test)) + ' Cells')\n",
    "    plt.savefig('/Genomics/chanlab/blaw/TLS/data/AM-DNA-097/scRNA/node_pies/' + node + '_composition_pie.pdf', dpi = 300)\n",
    "    #plt.show()\n",
    "    plt.close()"
   ]
  },
  {
   "cell_type": "code",
   "execution_count": 18,
   "id": "a00df1e7",
   "metadata": {},
   "outputs": [
    {
     "name": "stderr",
     "output_type": "stream",
     "text": [
      "/usr/local/python/3.9.11-mmchan/lib/python3.9/site-packages/anndata/_core/anndata.py:1095: FutureWarning: The `inplace` parameter in pandas.Categorical.remove_unused_categories is deprecated and will be removed in a future version.\n",
      "  df_sub[k].cat.remove_unused_categories(inplace=True)\n",
      "/usr/local/python/3.9.11-mmchan/lib/python3.9/site-packages/anndata/_core/anndata.py:1095: FutureWarning: The `inplace` parameter in pandas.Categorical.remove_unused_categories is deprecated and will be removed in a future version.\n",
      "  df_sub[k].cat.remove_unused_categories(inplace=True)\n",
      "/usr/local/python/3.9.11-mmchan/lib/python3.9/site-packages/anndata/_core/anndata.py:1095: FutureWarning: The `inplace` parameter in pandas.Categorical.remove_unused_categories is deprecated and will be removed in a future version.\n",
      "  df_sub[k].cat.remove_unused_categories(inplace=True)\n",
      "/usr/local/python/3.9.11-mmchan/lib/python3.9/site-packages/anndata/_core/anndata.py:1095: FutureWarning: The `inplace` parameter in pandas.Categorical.remove_unused_categories is deprecated and will be removed in a future version.\n",
      "  df_sub[k].cat.remove_unused_categories(inplace=True)\n",
      "/usr/local/python/3.9.11-mmchan/lib/python3.9/site-packages/anndata/_core/anndata.py:1095: FutureWarning: The `inplace` parameter in pandas.Categorical.remove_unused_categories is deprecated and will be removed in a future version.\n",
      "  df_sub[k].cat.remove_unused_categories(inplace=True)\n",
      "/usr/local/python/3.9.11-mmchan/lib/python3.9/site-packages/anndata/_core/anndata.py:1095: FutureWarning: The `inplace` parameter in pandas.Categorical.remove_unused_categories is deprecated and will be removed in a future version.\n",
      "  df_sub[k].cat.remove_unused_categories(inplace=True)\n",
      "/usr/local/python/3.9.11-mmchan/lib/python3.9/site-packages/anndata/_core/anndata.py:1095: FutureWarning: The `inplace` parameter in pandas.Categorical.remove_unused_categories is deprecated and will be removed in a future version.\n",
      "  df_sub[k].cat.remove_unused_categories(inplace=True)\n",
      "/usr/local/python/3.9.11-mmchan/lib/python3.9/site-packages/anndata/_core/anndata.py:1095: FutureWarning: The `inplace` parameter in pandas.Categorical.remove_unused_categories is deprecated and will be removed in a future version.\n",
      "  df_sub[k].cat.remove_unused_categories(inplace=True)\n",
      "/usr/local/python/3.9.11-mmchan/lib/python3.9/site-packages/anndata/_core/anndata.py:1095: FutureWarning: The `inplace` parameter in pandas.Categorical.remove_unused_categories is deprecated and will be removed in a future version.\n",
      "  df_sub[k].cat.remove_unused_categories(inplace=True)\n",
      "/usr/local/python/3.9.11-mmchan/lib/python3.9/site-packages/anndata/_core/anndata.py:1095: FutureWarning: The `inplace` parameter in pandas.Categorical.remove_unused_categories is deprecated and will be removed in a future version.\n",
      "  df_sub[k].cat.remove_unused_categories(inplace=True)\n",
      "/usr/local/python/3.9.11-mmchan/lib/python3.9/site-packages/anndata/_core/anndata.py:1095: FutureWarning: The `inplace` parameter in pandas.Categorical.remove_unused_categories is deprecated and will be removed in a future version.\n",
      "  df_sub[k].cat.remove_unused_categories(inplace=True)\n",
      "/usr/local/python/3.9.11-mmchan/lib/python3.9/site-packages/anndata/_core/anndata.py:1095: FutureWarning: The `inplace` parameter in pandas.Categorical.remove_unused_categories is deprecated and will be removed in a future version.\n",
      "  df_sub[k].cat.remove_unused_categories(inplace=True)\n",
      "/usr/local/python/3.9.11-mmchan/lib/python3.9/site-packages/anndata/_core/anndata.py:1095: FutureWarning: The `inplace` parameter in pandas.Categorical.remove_unused_categories is deprecated and will be removed in a future version.\n",
      "  df_sub[k].cat.remove_unused_categories(inplace=True)\n",
      "/usr/local/python/3.9.11-mmchan/lib/python3.9/site-packages/anndata/_core/anndata.py:1095: FutureWarning: The `inplace` parameter in pandas.Categorical.remove_unused_categories is deprecated and will be removed in a future version.\n",
      "  df_sub[k].cat.remove_unused_categories(inplace=True)\n",
      "/usr/local/python/3.9.11-mmchan/lib/python3.9/site-packages/anndata/_core/anndata.py:1095: FutureWarning: The `inplace` parameter in pandas.Categorical.remove_unused_categories is deprecated and will be removed in a future version.\n",
      "  df_sub[k].cat.remove_unused_categories(inplace=True)\n",
      "/usr/local/python/3.9.11-mmchan/lib/python3.9/site-packages/anndata/_core/anndata.py:1095: FutureWarning: The `inplace` parameter in pandas.Categorical.remove_unused_categories is deprecated and will be removed in a future version.\n",
      "  df_sub[k].cat.remove_unused_categories(inplace=True)\n",
      "/usr/local/python/3.9.11-mmchan/lib/python3.9/site-packages/anndata/_core/anndata.py:1095: FutureWarning: The `inplace` parameter in pandas.Categorical.remove_unused_categories is deprecated and will be removed in a future version.\n",
      "  df_sub[k].cat.remove_unused_categories(inplace=True)\n",
      "/usr/local/python/3.9.11-mmchan/lib/python3.9/site-packages/anndata/_core/anndata.py:1095: FutureWarning: The `inplace` parameter in pandas.Categorical.remove_unused_categories is deprecated and will be removed in a future version.\n",
      "  df_sub[k].cat.remove_unused_categories(inplace=True)\n",
      "/usr/local/python/3.9.11-mmchan/lib/python3.9/site-packages/anndata/_core/anndata.py:1095: FutureWarning: The `inplace` parameter in pandas.Categorical.remove_unused_categories is deprecated and will be removed in a future version.\n",
      "  df_sub[k].cat.remove_unused_categories(inplace=True)\n",
      "/usr/local/python/3.9.11-mmchan/lib/python3.9/site-packages/anndata/_core/anndata.py:1095: FutureWarning: The `inplace` parameter in pandas.Categorical.remove_unused_categories is deprecated and will be removed in a future version.\n",
      "  df_sub[k].cat.remove_unused_categories(inplace=True)\n",
      "/usr/local/python/3.9.11-mmchan/lib/python3.9/site-packages/anndata/_core/anndata.py:1095: FutureWarning: The `inplace` parameter in pandas.Categorical.remove_unused_categories is deprecated and will be removed in a future version.\n",
      "  df_sub[k].cat.remove_unused_categories(inplace=True)\n",
      "/usr/local/python/3.9.11-mmchan/lib/python3.9/site-packages/anndata/_core/anndata.py:1095: FutureWarning: The `inplace` parameter in pandas.Categorical.remove_unused_categories is deprecated and will be removed in a future version.\n",
      "  df_sub[k].cat.remove_unused_categories(inplace=True)\n",
      "/usr/local/python/3.9.11-mmchan/lib/python3.9/site-packages/anndata/_core/anndata.py:1095: FutureWarning: The `inplace` parameter in pandas.Categorical.remove_unused_categories is deprecated and will be removed in a future version.\n",
      "  df_sub[k].cat.remove_unused_categories(inplace=True)\n",
      "/usr/local/python/3.9.11-mmchan/lib/python3.9/site-packages/anndata/_core/anndata.py:1095: FutureWarning: The `inplace` parameter in pandas.Categorical.remove_unused_categories is deprecated and will be removed in a future version.\n",
      "  df_sub[k].cat.remove_unused_categories(inplace=True)\n",
      "/usr/local/python/3.9.11-mmchan/lib/python3.9/site-packages/anndata/_core/anndata.py:1095: FutureWarning: The `inplace` parameter in pandas.Categorical.remove_unused_categories is deprecated and will be removed in a future version.\n",
      "  df_sub[k].cat.remove_unused_categories(inplace=True)\n",
      "/usr/local/python/3.9.11-mmchan/lib/python3.9/site-packages/anndata/_core/anndata.py:1095: FutureWarning: The `inplace` parameter in pandas.Categorical.remove_unused_categories is deprecated and will be removed in a future version.\n",
      "  df_sub[k].cat.remove_unused_categories(inplace=True)\n",
      "/usr/local/python/3.9.11-mmchan/lib/python3.9/site-packages/anndata/_core/anndata.py:1095: FutureWarning: The `inplace` parameter in pandas.Categorical.remove_unused_categories is deprecated and will be removed in a future version.\n",
      "  df_sub[k].cat.remove_unused_categories(inplace=True)\n",
      "/usr/local/python/3.9.11-mmchan/lib/python3.9/site-packages/anndata/_core/anndata.py:1095: FutureWarning: The `inplace` parameter in pandas.Categorical.remove_unused_categories is deprecated and will be removed in a future version.\n",
      "  df_sub[k].cat.remove_unused_categories(inplace=True)\n",
      "/usr/local/python/3.9.11-mmchan/lib/python3.9/site-packages/anndata/_core/anndata.py:1095: FutureWarning: The `inplace` parameter in pandas.Categorical.remove_unused_categories is deprecated and will be removed in a future version.\n",
      "  df_sub[k].cat.remove_unused_categories(inplace=True)\n",
      "/usr/local/python/3.9.11-mmchan/lib/python3.9/site-packages/anndata/_core/anndata.py:1095: FutureWarning: The `inplace` parameter in pandas.Categorical.remove_unused_categories is deprecated and will be removed in a future version.\n",
      "  df_sub[k].cat.remove_unused_categories(inplace=True)\n"
     ]
    },
    {
     "name": "stderr",
     "output_type": "stream",
     "text": [
      "/usr/local/python/3.9.11-mmchan/lib/python3.9/site-packages/anndata/_core/anndata.py:1095: FutureWarning: The `inplace` parameter in pandas.Categorical.remove_unused_categories is deprecated and will be removed in a future version.\n",
      "  df_sub[k].cat.remove_unused_categories(inplace=True)\n",
      "/usr/local/python/3.9.11-mmchan/lib/python3.9/site-packages/anndata/_core/anndata.py:1095: FutureWarning: The `inplace` parameter in pandas.Categorical.remove_unused_categories is deprecated and will be removed in a future version.\n",
      "  df_sub[k].cat.remove_unused_categories(inplace=True)\n",
      "/usr/local/python/3.9.11-mmchan/lib/python3.9/site-packages/anndata/_core/anndata.py:1095: FutureWarning: The `inplace` parameter in pandas.Categorical.remove_unused_categories is deprecated and will be removed in a future version.\n",
      "  df_sub[k].cat.remove_unused_categories(inplace=True)\n",
      "/usr/local/python/3.9.11-mmchan/lib/python3.9/site-packages/anndata/_core/anndata.py:1095: FutureWarning: The `inplace` parameter in pandas.Categorical.remove_unused_categories is deprecated and will be removed in a future version.\n",
      "  df_sub[k].cat.remove_unused_categories(inplace=True)\n",
      "/usr/local/python/3.9.11-mmchan/lib/python3.9/site-packages/anndata/_core/anndata.py:1095: FutureWarning: The `inplace` parameter in pandas.Categorical.remove_unused_categories is deprecated and will be removed in a future version.\n",
      "  df_sub[k].cat.remove_unused_categories(inplace=True)\n",
      "/usr/local/python/3.9.11-mmchan/lib/python3.9/site-packages/anndata/_core/anndata.py:1095: FutureWarning: The `inplace` parameter in pandas.Categorical.remove_unused_categories is deprecated and will be removed in a future version.\n",
      "  df_sub[k].cat.remove_unused_categories(inplace=True)\n",
      "/usr/local/python/3.9.11-mmchan/lib/python3.9/site-packages/anndata/_core/anndata.py:1095: FutureWarning: The `inplace` parameter in pandas.Categorical.remove_unused_categories is deprecated and will be removed in a future version.\n",
      "  df_sub[k].cat.remove_unused_categories(inplace=True)\n",
      "/usr/local/python/3.9.11-mmchan/lib/python3.9/site-packages/anndata/_core/anndata.py:1095: FutureWarning: The `inplace` parameter in pandas.Categorical.remove_unused_categories is deprecated and will be removed in a future version.\n",
      "  df_sub[k].cat.remove_unused_categories(inplace=True)\n",
      "/usr/local/python/3.9.11-mmchan/lib/python3.9/site-packages/anndata/_core/anndata.py:1095: FutureWarning: The `inplace` parameter in pandas.Categorical.remove_unused_categories is deprecated and will be removed in a future version.\n",
      "  df_sub[k].cat.remove_unused_categories(inplace=True)\n",
      "/usr/local/python/3.9.11-mmchan/lib/python3.9/site-packages/anndata/_core/anndata.py:1095: FutureWarning: The `inplace` parameter in pandas.Categorical.remove_unused_categories is deprecated and will be removed in a future version.\n",
      "  df_sub[k].cat.remove_unused_categories(inplace=True)\n",
      "/usr/local/python/3.9.11-mmchan/lib/python3.9/site-packages/anndata/_core/anndata.py:1095: FutureWarning: The `inplace` parameter in pandas.Categorical.remove_unused_categories is deprecated and will be removed in a future version.\n",
      "  df_sub[k].cat.remove_unused_categories(inplace=True)\n",
      "/usr/local/python/3.9.11-mmchan/lib/python3.9/site-packages/anndata/_core/anndata.py:1095: FutureWarning: The `inplace` parameter in pandas.Categorical.remove_unused_categories is deprecated and will be removed in a future version.\n",
      "  df_sub[k].cat.remove_unused_categories(inplace=True)\n",
      "/usr/local/python/3.9.11-mmchan/lib/python3.9/site-packages/anndata/_core/anndata.py:1095: FutureWarning: The `inplace` parameter in pandas.Categorical.remove_unused_categories is deprecated and will be removed in a future version.\n",
      "  df_sub[k].cat.remove_unused_categories(inplace=True)\n",
      "/usr/local/python/3.9.11-mmchan/lib/python3.9/site-packages/anndata/_core/anndata.py:1095: FutureWarning: The `inplace` parameter in pandas.Categorical.remove_unused_categories is deprecated and will be removed in a future version.\n",
      "  df_sub[k].cat.remove_unused_categories(inplace=True)\n",
      "/usr/local/python/3.9.11-mmchan/lib/python3.9/site-packages/anndata/_core/anndata.py:1095: FutureWarning: The `inplace` parameter in pandas.Categorical.remove_unused_categories is deprecated and will be removed in a future version.\n",
      "  df_sub[k].cat.remove_unused_categories(inplace=True)\n",
      "/usr/local/python/3.9.11-mmchan/lib/python3.9/site-packages/anndata/_core/anndata.py:1095: FutureWarning: The `inplace` parameter in pandas.Categorical.remove_unused_categories is deprecated and will be removed in a future version.\n",
      "  df_sub[k].cat.remove_unused_categories(inplace=True)\n",
      "/usr/local/python/3.9.11-mmchan/lib/python3.9/site-packages/anndata/_core/anndata.py:1095: FutureWarning: The `inplace` parameter in pandas.Categorical.remove_unused_categories is deprecated and will be removed in a future version.\n",
      "  df_sub[k].cat.remove_unused_categories(inplace=True)\n",
      "/usr/local/python/3.9.11-mmchan/lib/python3.9/site-packages/anndata/_core/anndata.py:1095: FutureWarning: The `inplace` parameter in pandas.Categorical.remove_unused_categories is deprecated and will be removed in a future version.\n",
      "  df_sub[k].cat.remove_unused_categories(inplace=True)\n",
      "/usr/local/python/3.9.11-mmchan/lib/python3.9/site-packages/anndata/_core/anndata.py:1095: FutureWarning: The `inplace` parameter in pandas.Categorical.remove_unused_categories is deprecated and will be removed in a future version.\n",
      "  df_sub[k].cat.remove_unused_categories(inplace=True)\n",
      "/usr/local/python/3.9.11-mmchan/lib/python3.9/site-packages/anndata/_core/anndata.py:1095: FutureWarning: The `inplace` parameter in pandas.Categorical.remove_unused_categories is deprecated and will be removed in a future version.\n",
      "  df_sub[k].cat.remove_unused_categories(inplace=True)\n",
      "/usr/local/python/3.9.11-mmchan/lib/python3.9/site-packages/anndata/_core/anndata.py:1095: FutureWarning: The `inplace` parameter in pandas.Categorical.remove_unused_categories is deprecated and will be removed in a future version.\n",
      "  df_sub[k].cat.remove_unused_categories(inplace=True)\n",
      "/usr/local/python/3.9.11-mmchan/lib/python3.9/site-packages/anndata/_core/anndata.py:1095: FutureWarning: The `inplace` parameter in pandas.Categorical.remove_unused_categories is deprecated and will be removed in a future version.\n",
      "  df_sub[k].cat.remove_unused_categories(inplace=True)\n",
      "/usr/local/python/3.9.11-mmchan/lib/python3.9/site-packages/anndata/_core/anndata.py:1095: FutureWarning: The `inplace` parameter in pandas.Categorical.remove_unused_categories is deprecated and will be removed in a future version.\n",
      "  df_sub[k].cat.remove_unused_categories(inplace=True)\n",
      "/usr/local/python/3.9.11-mmchan/lib/python3.9/site-packages/anndata/_core/anndata.py:1095: FutureWarning: The `inplace` parameter in pandas.Categorical.remove_unused_categories is deprecated and will be removed in a future version.\n",
      "  df_sub[k].cat.remove_unused_categories(inplace=True)\n",
      "/usr/local/python/3.9.11-mmchan/lib/python3.9/site-packages/anndata/_core/anndata.py:1095: FutureWarning: The `inplace` parameter in pandas.Categorical.remove_unused_categories is deprecated and will be removed in a future version.\n",
      "  df_sub[k].cat.remove_unused_categories(inplace=True)\n",
      "/usr/local/python/3.9.11-mmchan/lib/python3.9/site-packages/anndata/_core/anndata.py:1095: FutureWarning: The `inplace` parameter in pandas.Categorical.remove_unused_categories is deprecated and will be removed in a future version.\n",
      "  df_sub[k].cat.remove_unused_categories(inplace=True)\n",
      "/usr/local/python/3.9.11-mmchan/lib/python3.9/site-packages/anndata/_core/anndata.py:1095: FutureWarning: The `inplace` parameter in pandas.Categorical.remove_unused_categories is deprecated and will be removed in a future version.\n",
      "  df_sub[k].cat.remove_unused_categories(inplace=True)\n",
      "/usr/local/python/3.9.11-mmchan/lib/python3.9/site-packages/anndata/_core/anndata.py:1095: FutureWarning: The `inplace` parameter in pandas.Categorical.remove_unused_categories is deprecated and will be removed in a future version.\n",
      "  df_sub[k].cat.remove_unused_categories(inplace=True)\n",
      "/usr/local/python/3.9.11-mmchan/lib/python3.9/site-packages/anndata/_core/anndata.py:1095: FutureWarning: The `inplace` parameter in pandas.Categorical.remove_unused_categories is deprecated and will be removed in a future version.\n",
      "  df_sub[k].cat.remove_unused_categories(inplace=True)\n",
      "/usr/local/python/3.9.11-mmchan/lib/python3.9/site-packages/anndata/_core/anndata.py:1095: FutureWarning: The `inplace` parameter in pandas.Categorical.remove_unused_categories is deprecated and will be removed in a future version.\n",
      "  df_sub[k].cat.remove_unused_categories(inplace=True)\n"
     ]
    },
    {
     "name": "stderr",
     "output_type": "stream",
     "text": [
      "/usr/local/python/3.9.11-mmchan/lib/python3.9/site-packages/anndata/_core/anndata.py:1095: FutureWarning: The `inplace` parameter in pandas.Categorical.remove_unused_categories is deprecated and will be removed in a future version.\n",
      "  df_sub[k].cat.remove_unused_categories(inplace=True)\n",
      "/usr/local/python/3.9.11-mmchan/lib/python3.9/site-packages/anndata/_core/anndata.py:1095: FutureWarning: The `inplace` parameter in pandas.Categorical.remove_unused_categories is deprecated and will be removed in a future version.\n",
      "  df_sub[k].cat.remove_unused_categories(inplace=True)\n",
      "/usr/local/python/3.9.11-mmchan/lib/python3.9/site-packages/anndata/_core/anndata.py:1095: FutureWarning: The `inplace` parameter in pandas.Categorical.remove_unused_categories is deprecated and will be removed in a future version.\n",
      "  df_sub[k].cat.remove_unused_categories(inplace=True)\n",
      "/usr/local/python/3.9.11-mmchan/lib/python3.9/site-packages/anndata/_core/anndata.py:1095: FutureWarning: The `inplace` parameter in pandas.Categorical.remove_unused_categories is deprecated and will be removed in a future version.\n",
      "  df_sub[k].cat.remove_unused_categories(inplace=True)\n",
      "/usr/local/python/3.9.11-mmchan/lib/python3.9/site-packages/anndata/_core/anndata.py:1095: FutureWarning: The `inplace` parameter in pandas.Categorical.remove_unused_categories is deprecated and will be removed in a future version.\n",
      "  df_sub[k].cat.remove_unused_categories(inplace=True)\n",
      "/usr/local/python/3.9.11-mmchan/lib/python3.9/site-packages/anndata/_core/anndata.py:1095: FutureWarning: The `inplace` parameter in pandas.Categorical.remove_unused_categories is deprecated and will be removed in a future version.\n",
      "  df_sub[k].cat.remove_unused_categories(inplace=True)\n",
      "/usr/local/python/3.9.11-mmchan/lib/python3.9/site-packages/anndata/_core/anndata.py:1095: FutureWarning: The `inplace` parameter in pandas.Categorical.remove_unused_categories is deprecated and will be removed in a future version.\n",
      "  df_sub[k].cat.remove_unused_categories(inplace=True)\n",
      "/usr/local/python/3.9.11-mmchan/lib/python3.9/site-packages/anndata/_core/anndata.py:1095: FutureWarning: The `inplace` parameter in pandas.Categorical.remove_unused_categories is deprecated and will be removed in a future version.\n",
      "  df_sub[k].cat.remove_unused_categories(inplace=True)\n",
      "/usr/local/python/3.9.11-mmchan/lib/python3.9/site-packages/anndata/_core/anndata.py:1095: FutureWarning: The `inplace` parameter in pandas.Categorical.remove_unused_categories is deprecated and will be removed in a future version.\n",
      "  df_sub[k].cat.remove_unused_categories(inplace=True)\n",
      "/usr/local/python/3.9.11-mmchan/lib/python3.9/site-packages/anndata/_core/anndata.py:1095: FutureWarning: The `inplace` parameter in pandas.Categorical.remove_unused_categories is deprecated and will be removed in a future version.\n",
      "  df_sub[k].cat.remove_unused_categories(inplace=True)\n",
      "/usr/local/python/3.9.11-mmchan/lib/python3.9/site-packages/anndata/_core/anndata.py:1095: FutureWarning: The `inplace` parameter in pandas.Categorical.remove_unused_categories is deprecated and will be removed in a future version.\n",
      "  df_sub[k].cat.remove_unused_categories(inplace=True)\n",
      "/usr/local/python/3.9.11-mmchan/lib/python3.9/site-packages/anndata/_core/anndata.py:1095: FutureWarning: The `inplace` parameter in pandas.Categorical.remove_unused_categories is deprecated and will be removed in a future version.\n",
      "  df_sub[k].cat.remove_unused_categories(inplace=True)\n",
      "/usr/local/python/3.9.11-mmchan/lib/python3.9/site-packages/anndata/_core/anndata.py:1095: FutureWarning: The `inplace` parameter in pandas.Categorical.remove_unused_categories is deprecated and will be removed in a future version.\n",
      "  df_sub[k].cat.remove_unused_categories(inplace=True)\n",
      "/usr/local/python/3.9.11-mmchan/lib/python3.9/site-packages/anndata/_core/anndata.py:1095: FutureWarning: The `inplace` parameter in pandas.Categorical.remove_unused_categories is deprecated and will be removed in a future version.\n",
      "  df_sub[k].cat.remove_unused_categories(inplace=True)\n",
      "/usr/local/python/3.9.11-mmchan/lib/python3.9/site-packages/anndata/_core/anndata.py:1095: FutureWarning: The `inplace` parameter in pandas.Categorical.remove_unused_categories is deprecated and will be removed in a future version.\n",
      "  df_sub[k].cat.remove_unused_categories(inplace=True)\n",
      "/usr/local/python/3.9.11-mmchan/lib/python3.9/site-packages/anndata/_core/anndata.py:1095: FutureWarning: The `inplace` parameter in pandas.Categorical.remove_unused_categories is deprecated and will be removed in a future version.\n",
      "  df_sub[k].cat.remove_unused_categories(inplace=True)\n",
      "/usr/local/python/3.9.11-mmchan/lib/python3.9/site-packages/anndata/_core/anndata.py:1095: FutureWarning: The `inplace` parameter in pandas.Categorical.remove_unused_categories is deprecated and will be removed in a future version.\n",
      "  df_sub[k].cat.remove_unused_categories(inplace=True)\n",
      "/usr/local/python/3.9.11-mmchan/lib/python3.9/site-packages/anndata/_core/anndata.py:1095: FutureWarning: The `inplace` parameter in pandas.Categorical.remove_unused_categories is deprecated and will be removed in a future version.\n",
      "  df_sub[k].cat.remove_unused_categories(inplace=True)\n",
      "/usr/local/python/3.9.11-mmchan/lib/python3.9/site-packages/anndata/_core/anndata.py:1095: FutureWarning: The `inplace` parameter in pandas.Categorical.remove_unused_categories is deprecated and will be removed in a future version.\n",
      "  df_sub[k].cat.remove_unused_categories(inplace=True)\n",
      "/usr/local/python/3.9.11-mmchan/lib/python3.9/site-packages/anndata/_core/anndata.py:1095: FutureWarning: The `inplace` parameter in pandas.Categorical.remove_unused_categories is deprecated and will be removed in a future version.\n",
      "  df_sub[k].cat.remove_unused_categories(inplace=True)\n",
      "/usr/local/python/3.9.11-mmchan/lib/python3.9/site-packages/anndata/_core/anndata.py:1095: FutureWarning: The `inplace` parameter in pandas.Categorical.remove_unused_categories is deprecated and will be removed in a future version.\n",
      "  df_sub[k].cat.remove_unused_categories(inplace=True)\n",
      "/usr/local/python/3.9.11-mmchan/lib/python3.9/site-packages/anndata/_core/anndata.py:1095: FutureWarning: The `inplace` parameter in pandas.Categorical.remove_unused_categories is deprecated and will be removed in a future version.\n",
      "  df_sub[k].cat.remove_unused_categories(inplace=True)\n",
      "/usr/local/python/3.9.11-mmchan/lib/python3.9/site-packages/anndata/_core/anndata.py:1095: FutureWarning: The `inplace` parameter in pandas.Categorical.remove_unused_categories is deprecated and will be removed in a future version.\n",
      "  df_sub[k].cat.remove_unused_categories(inplace=True)\n",
      "/usr/local/python/3.9.11-mmchan/lib/python3.9/site-packages/anndata/_core/anndata.py:1095: FutureWarning: The `inplace` parameter in pandas.Categorical.remove_unused_categories is deprecated and will be removed in a future version.\n",
      "  df_sub[k].cat.remove_unused_categories(inplace=True)\n",
      "/usr/local/python/3.9.11-mmchan/lib/python3.9/site-packages/anndata/_core/anndata.py:1095: FutureWarning: The `inplace` parameter in pandas.Categorical.remove_unused_categories is deprecated and will be removed in a future version.\n",
      "  df_sub[k].cat.remove_unused_categories(inplace=True)\n",
      "/usr/local/python/3.9.11-mmchan/lib/python3.9/site-packages/anndata/_core/anndata.py:1095: FutureWarning: The `inplace` parameter in pandas.Categorical.remove_unused_categories is deprecated and will be removed in a future version.\n",
      "  df_sub[k].cat.remove_unused_categories(inplace=True)\n",
      "/usr/local/python/3.9.11-mmchan/lib/python3.9/site-packages/anndata/_core/anndata.py:1095: FutureWarning: The `inplace` parameter in pandas.Categorical.remove_unused_categories is deprecated and will be removed in a future version.\n",
      "  df_sub[k].cat.remove_unused_categories(inplace=True)\n",
      "/usr/local/python/3.9.11-mmchan/lib/python3.9/site-packages/anndata/_core/anndata.py:1095: FutureWarning: The `inplace` parameter in pandas.Categorical.remove_unused_categories is deprecated and will be removed in a future version.\n",
      "  df_sub[k].cat.remove_unused_categories(inplace=True)\n",
      "/usr/local/python/3.9.11-mmchan/lib/python3.9/site-packages/anndata/_core/anndata.py:1095: FutureWarning: The `inplace` parameter in pandas.Categorical.remove_unused_categories is deprecated and will be removed in a future version.\n",
      "  df_sub[k].cat.remove_unused_categories(inplace=True)\n",
      "/usr/local/python/3.9.11-mmchan/lib/python3.9/site-packages/anndata/_core/anndata.py:1095: FutureWarning: The `inplace` parameter in pandas.Categorical.remove_unused_categories is deprecated and will be removed in a future version.\n",
      "  df_sub[k].cat.remove_unused_categories(inplace=True)\n"
     ]
    },
    {
     "name": "stderr",
     "output_type": "stream",
     "text": [
      "/usr/local/python/3.9.11-mmchan/lib/python3.9/site-packages/anndata/_core/anndata.py:1095: FutureWarning: The `inplace` parameter in pandas.Categorical.remove_unused_categories is deprecated and will be removed in a future version.\n",
      "  df_sub[k].cat.remove_unused_categories(inplace=True)\n",
      "/usr/local/python/3.9.11-mmchan/lib/python3.9/site-packages/anndata/_core/anndata.py:1095: FutureWarning: The `inplace` parameter in pandas.Categorical.remove_unused_categories is deprecated and will be removed in a future version.\n",
      "  df_sub[k].cat.remove_unused_categories(inplace=True)\n",
      "/usr/local/python/3.9.11-mmchan/lib/python3.9/site-packages/anndata/_core/anndata.py:1095: FutureWarning: The `inplace` parameter in pandas.Categorical.remove_unused_categories is deprecated and will be removed in a future version.\n",
      "  df_sub[k].cat.remove_unused_categories(inplace=True)\n",
      "/usr/local/python/3.9.11-mmchan/lib/python3.9/site-packages/anndata/_core/anndata.py:1095: FutureWarning: The `inplace` parameter in pandas.Categorical.remove_unused_categories is deprecated and will be removed in a future version.\n",
      "  df_sub[k].cat.remove_unused_categories(inplace=True)\n",
      "/usr/local/python/3.9.11-mmchan/lib/python3.9/site-packages/anndata/_core/anndata.py:1095: FutureWarning: The `inplace` parameter in pandas.Categorical.remove_unused_categories is deprecated and will be removed in a future version.\n",
      "  df_sub[k].cat.remove_unused_categories(inplace=True)\n",
      "/usr/local/python/3.9.11-mmchan/lib/python3.9/site-packages/anndata/_core/anndata.py:1095: FutureWarning: The `inplace` parameter in pandas.Categorical.remove_unused_categories is deprecated and will be removed in a future version.\n",
      "  df_sub[k].cat.remove_unused_categories(inplace=True)\n",
      "/usr/local/python/3.9.11-mmchan/lib/python3.9/site-packages/anndata/_core/anndata.py:1095: FutureWarning: The `inplace` parameter in pandas.Categorical.remove_unused_categories is deprecated and will be removed in a future version.\n",
      "  df_sub[k].cat.remove_unused_categories(inplace=True)\n",
      "/usr/local/python/3.9.11-mmchan/lib/python3.9/site-packages/anndata/_core/anndata.py:1095: FutureWarning: The `inplace` parameter in pandas.Categorical.remove_unused_categories is deprecated and will be removed in a future version.\n",
      "  df_sub[k].cat.remove_unused_categories(inplace=True)\n",
      "/usr/local/python/3.9.11-mmchan/lib/python3.9/site-packages/anndata/_core/anndata.py:1095: FutureWarning: The `inplace` parameter in pandas.Categorical.remove_unused_categories is deprecated and will be removed in a future version.\n",
      "  df_sub[k].cat.remove_unused_categories(inplace=True)\n",
      "/usr/local/python/3.9.11-mmchan/lib/python3.9/site-packages/anndata/_core/anndata.py:1095: FutureWarning: The `inplace` parameter in pandas.Categorical.remove_unused_categories is deprecated and will be removed in a future version.\n",
      "  df_sub[k].cat.remove_unused_categories(inplace=True)\n",
      "/usr/local/python/3.9.11-mmchan/lib/python3.9/site-packages/anndata/_core/anndata.py:1095: FutureWarning: The `inplace` parameter in pandas.Categorical.remove_unused_categories is deprecated and will be removed in a future version.\n",
      "  df_sub[k].cat.remove_unused_categories(inplace=True)\n",
      "/usr/local/python/3.9.11-mmchan/lib/python3.9/site-packages/anndata/_core/anndata.py:1095: FutureWarning: The `inplace` parameter in pandas.Categorical.remove_unused_categories is deprecated and will be removed in a future version.\n",
      "  df_sub[k].cat.remove_unused_categories(inplace=True)\n",
      "/usr/local/python/3.9.11-mmchan/lib/python3.9/site-packages/anndata/_core/anndata.py:1095: FutureWarning: The `inplace` parameter in pandas.Categorical.remove_unused_categories is deprecated and will be removed in a future version.\n",
      "  df_sub[k].cat.remove_unused_categories(inplace=True)\n",
      "/usr/local/python/3.9.11-mmchan/lib/python3.9/site-packages/anndata/_core/anndata.py:1095: FutureWarning: The `inplace` parameter in pandas.Categorical.remove_unused_categories is deprecated and will be removed in a future version.\n",
      "  df_sub[k].cat.remove_unused_categories(inplace=True)\n",
      "/usr/local/python/3.9.11-mmchan/lib/python3.9/site-packages/anndata/_core/anndata.py:1095: FutureWarning: The `inplace` parameter in pandas.Categorical.remove_unused_categories is deprecated and will be removed in a future version.\n",
      "  df_sub[k].cat.remove_unused_categories(inplace=True)\n",
      "/usr/local/python/3.9.11-mmchan/lib/python3.9/site-packages/anndata/_core/anndata.py:1095: FutureWarning: The `inplace` parameter in pandas.Categorical.remove_unused_categories is deprecated and will be removed in a future version.\n",
      "  df_sub[k].cat.remove_unused_categories(inplace=True)\n",
      "/usr/local/python/3.9.11-mmchan/lib/python3.9/site-packages/anndata/_core/anndata.py:1095: FutureWarning: The `inplace` parameter in pandas.Categorical.remove_unused_categories is deprecated and will be removed in a future version.\n",
      "  df_sub[k].cat.remove_unused_categories(inplace=True)\n",
      "/usr/local/python/3.9.11-mmchan/lib/python3.9/site-packages/anndata/_core/anndata.py:1095: FutureWarning: The `inplace` parameter in pandas.Categorical.remove_unused_categories is deprecated and will be removed in a future version.\n",
      "  df_sub[k].cat.remove_unused_categories(inplace=True)\n",
      "/usr/local/python/3.9.11-mmchan/lib/python3.9/site-packages/anndata/_core/anndata.py:1095: FutureWarning: The `inplace` parameter in pandas.Categorical.remove_unused_categories is deprecated and will be removed in a future version.\n",
      "  df_sub[k].cat.remove_unused_categories(inplace=True)\n",
      "/usr/local/python/3.9.11-mmchan/lib/python3.9/site-packages/anndata/_core/anndata.py:1095: FutureWarning: The `inplace` parameter in pandas.Categorical.remove_unused_categories is deprecated and will be removed in a future version.\n",
      "  df_sub[k].cat.remove_unused_categories(inplace=True)\n",
      "/usr/local/python/3.9.11-mmchan/lib/python3.9/site-packages/anndata/_core/anndata.py:1095: FutureWarning: The `inplace` parameter in pandas.Categorical.remove_unused_categories is deprecated and will be removed in a future version.\n",
      "  df_sub[k].cat.remove_unused_categories(inplace=True)\n",
      "/usr/local/python/3.9.11-mmchan/lib/python3.9/site-packages/anndata/_core/anndata.py:1095: FutureWarning: The `inplace` parameter in pandas.Categorical.remove_unused_categories is deprecated and will be removed in a future version.\n",
      "  df_sub[k].cat.remove_unused_categories(inplace=True)\n",
      "/usr/local/python/3.9.11-mmchan/lib/python3.9/site-packages/anndata/_core/anndata.py:1095: FutureWarning: The `inplace` parameter in pandas.Categorical.remove_unused_categories is deprecated and will be removed in a future version.\n",
      "  df_sub[k].cat.remove_unused_categories(inplace=True)\n",
      "/usr/local/python/3.9.11-mmchan/lib/python3.9/site-packages/anndata/_core/anndata.py:1095: FutureWarning: The `inplace` parameter in pandas.Categorical.remove_unused_categories is deprecated and will be removed in a future version.\n",
      "  df_sub[k].cat.remove_unused_categories(inplace=True)\n",
      "/usr/local/python/3.9.11-mmchan/lib/python3.9/site-packages/anndata/_core/anndata.py:1095: FutureWarning: The `inplace` parameter in pandas.Categorical.remove_unused_categories is deprecated and will be removed in a future version.\n",
      "  df_sub[k].cat.remove_unused_categories(inplace=True)\n",
      "/usr/local/python/3.9.11-mmchan/lib/python3.9/site-packages/anndata/_core/anndata.py:1095: FutureWarning: The `inplace` parameter in pandas.Categorical.remove_unused_categories is deprecated and will be removed in a future version.\n",
      "  df_sub[k].cat.remove_unused_categories(inplace=True)\n",
      "/usr/local/python/3.9.11-mmchan/lib/python3.9/site-packages/anndata/_core/anndata.py:1095: FutureWarning: The `inplace` parameter in pandas.Categorical.remove_unused_categories is deprecated and will be removed in a future version.\n",
      "  df_sub[k].cat.remove_unused_categories(inplace=True)\n",
      "/usr/local/python/3.9.11-mmchan/lib/python3.9/site-packages/anndata/_core/anndata.py:1095: FutureWarning: The `inplace` parameter in pandas.Categorical.remove_unused_categories is deprecated and will be removed in a future version.\n",
      "  df_sub[k].cat.remove_unused_categories(inplace=True)\n",
      "/usr/local/python/3.9.11-mmchan/lib/python3.9/site-packages/anndata/_core/anndata.py:1095: FutureWarning: The `inplace` parameter in pandas.Categorical.remove_unused_categories is deprecated and will be removed in a future version.\n",
      "  df_sub[k].cat.remove_unused_categories(inplace=True)\n",
      "/usr/local/python/3.9.11-mmchan/lib/python3.9/site-packages/anndata/_core/anndata.py:1095: FutureWarning: The `inplace` parameter in pandas.Categorical.remove_unused_categories is deprecated and will be removed in a future version.\n",
      "  df_sub[k].cat.remove_unused_categories(inplace=True)\n"
     ]
    },
    {
     "name": "stderr",
     "output_type": "stream",
     "text": [
      "/usr/local/python/3.9.11-mmchan/lib/python3.9/site-packages/anndata/_core/anndata.py:1095: FutureWarning: The `inplace` parameter in pandas.Categorical.remove_unused_categories is deprecated and will be removed in a future version.\n",
      "  df_sub[k].cat.remove_unused_categories(inplace=True)\n",
      "/usr/local/python/3.9.11-mmchan/lib/python3.9/site-packages/anndata/_core/anndata.py:1095: FutureWarning: The `inplace` parameter in pandas.Categorical.remove_unused_categories is deprecated and will be removed in a future version.\n",
      "  df_sub[k].cat.remove_unused_categories(inplace=True)\n",
      "/usr/local/python/3.9.11-mmchan/lib/python3.9/site-packages/anndata/_core/anndata.py:1095: FutureWarning: The `inplace` parameter in pandas.Categorical.remove_unused_categories is deprecated and will be removed in a future version.\n",
      "  df_sub[k].cat.remove_unused_categories(inplace=True)\n",
      "/usr/local/python/3.9.11-mmchan/lib/python3.9/site-packages/anndata/_core/anndata.py:1095: FutureWarning: The `inplace` parameter in pandas.Categorical.remove_unused_categories is deprecated and will be removed in a future version.\n",
      "  df_sub[k].cat.remove_unused_categories(inplace=True)\n",
      "/usr/local/python/3.9.11-mmchan/lib/python3.9/site-packages/anndata/_core/anndata.py:1095: FutureWarning: The `inplace` parameter in pandas.Categorical.remove_unused_categories is deprecated and will be removed in a future version.\n",
      "  df_sub[k].cat.remove_unused_categories(inplace=True)\n",
      "/usr/local/python/3.9.11-mmchan/lib/python3.9/site-packages/anndata/_core/anndata.py:1095: FutureWarning: The `inplace` parameter in pandas.Categorical.remove_unused_categories is deprecated and will be removed in a future version.\n",
      "  df_sub[k].cat.remove_unused_categories(inplace=True)\n",
      "/usr/local/python/3.9.11-mmchan/lib/python3.9/site-packages/anndata/_core/anndata.py:1095: FutureWarning: The `inplace` parameter in pandas.Categorical.remove_unused_categories is deprecated and will be removed in a future version.\n",
      "  df_sub[k].cat.remove_unused_categories(inplace=True)\n",
      "/usr/local/python/3.9.11-mmchan/lib/python3.9/site-packages/anndata/_core/anndata.py:1095: FutureWarning: The `inplace` parameter in pandas.Categorical.remove_unused_categories is deprecated and will be removed in a future version.\n",
      "  df_sub[k].cat.remove_unused_categories(inplace=True)\n",
      "/usr/local/python/3.9.11-mmchan/lib/python3.9/site-packages/anndata/_core/anndata.py:1095: FutureWarning: The `inplace` parameter in pandas.Categorical.remove_unused_categories is deprecated and will be removed in a future version.\n",
      "  df_sub[k].cat.remove_unused_categories(inplace=True)\n",
      "/usr/local/python/3.9.11-mmchan/lib/python3.9/site-packages/anndata/_core/anndata.py:1095: FutureWarning: The `inplace` parameter in pandas.Categorical.remove_unused_categories is deprecated and will be removed in a future version.\n",
      "  df_sub[k].cat.remove_unused_categories(inplace=True)\n",
      "/usr/local/python/3.9.11-mmchan/lib/python3.9/site-packages/anndata/_core/anndata.py:1095: FutureWarning: The `inplace` parameter in pandas.Categorical.remove_unused_categories is deprecated and will be removed in a future version.\n",
      "  df_sub[k].cat.remove_unused_categories(inplace=True)\n",
      "/usr/local/python/3.9.11-mmchan/lib/python3.9/site-packages/anndata/_core/anndata.py:1095: FutureWarning: The `inplace` parameter in pandas.Categorical.remove_unused_categories is deprecated and will be removed in a future version.\n",
      "  df_sub[k].cat.remove_unused_categories(inplace=True)\n",
      "/usr/local/python/3.9.11-mmchan/lib/python3.9/site-packages/anndata/_core/anndata.py:1095: FutureWarning: The `inplace` parameter in pandas.Categorical.remove_unused_categories is deprecated and will be removed in a future version.\n",
      "  df_sub[k].cat.remove_unused_categories(inplace=True)\n",
      "/usr/local/python/3.9.11-mmchan/lib/python3.9/site-packages/anndata/_core/anndata.py:1095: FutureWarning: The `inplace` parameter in pandas.Categorical.remove_unused_categories is deprecated and will be removed in a future version.\n",
      "  df_sub[k].cat.remove_unused_categories(inplace=True)\n",
      "/usr/local/python/3.9.11-mmchan/lib/python3.9/site-packages/anndata/_core/anndata.py:1095: FutureWarning: The `inplace` parameter in pandas.Categorical.remove_unused_categories is deprecated and will be removed in a future version.\n",
      "  df_sub[k].cat.remove_unused_categories(inplace=True)\n",
      "/usr/local/python/3.9.11-mmchan/lib/python3.9/site-packages/anndata/_core/anndata.py:1095: FutureWarning: The `inplace` parameter in pandas.Categorical.remove_unused_categories is deprecated and will be removed in a future version.\n",
      "  df_sub[k].cat.remove_unused_categories(inplace=True)\n",
      "/usr/local/python/3.9.11-mmchan/lib/python3.9/site-packages/anndata/_core/anndata.py:1095: FutureWarning: The `inplace` parameter in pandas.Categorical.remove_unused_categories is deprecated and will be removed in a future version.\n",
      "  df_sub[k].cat.remove_unused_categories(inplace=True)\n",
      "/usr/local/python/3.9.11-mmchan/lib/python3.9/site-packages/anndata/_core/anndata.py:1095: FutureWarning: The `inplace` parameter in pandas.Categorical.remove_unused_categories is deprecated and will be removed in a future version.\n",
      "  df_sub[k].cat.remove_unused_categories(inplace=True)\n",
      "/usr/local/python/3.9.11-mmchan/lib/python3.9/site-packages/anndata/_core/anndata.py:1095: FutureWarning: The `inplace` parameter in pandas.Categorical.remove_unused_categories is deprecated and will be removed in a future version.\n",
      "  df_sub[k].cat.remove_unused_categories(inplace=True)\n",
      "/usr/local/python/3.9.11-mmchan/lib/python3.9/site-packages/anndata/_core/anndata.py:1095: FutureWarning: The `inplace` parameter in pandas.Categorical.remove_unused_categories is deprecated and will be removed in a future version.\n",
      "  df_sub[k].cat.remove_unused_categories(inplace=True)\n",
      "/usr/local/python/3.9.11-mmchan/lib/python3.9/site-packages/anndata/_core/anndata.py:1095: FutureWarning: The `inplace` parameter in pandas.Categorical.remove_unused_categories is deprecated and will be removed in a future version.\n",
      "  df_sub[k].cat.remove_unused_categories(inplace=True)\n",
      "/usr/local/python/3.9.11-mmchan/lib/python3.9/site-packages/anndata/_core/anndata.py:1095: FutureWarning: The `inplace` parameter in pandas.Categorical.remove_unused_categories is deprecated and will be removed in a future version.\n",
      "  df_sub[k].cat.remove_unused_categories(inplace=True)\n",
      "/usr/local/python/3.9.11-mmchan/lib/python3.9/site-packages/anndata/_core/anndata.py:1095: FutureWarning: The `inplace` parameter in pandas.Categorical.remove_unused_categories is deprecated and will be removed in a future version.\n",
      "  df_sub[k].cat.remove_unused_categories(inplace=True)\n",
      "/usr/local/python/3.9.11-mmchan/lib/python3.9/site-packages/anndata/_core/anndata.py:1095: FutureWarning: The `inplace` parameter in pandas.Categorical.remove_unused_categories is deprecated and will be removed in a future version.\n",
      "  df_sub[k].cat.remove_unused_categories(inplace=True)\n",
      "/usr/local/python/3.9.11-mmchan/lib/python3.9/site-packages/anndata/_core/anndata.py:1095: FutureWarning: The `inplace` parameter in pandas.Categorical.remove_unused_categories is deprecated and will be removed in a future version.\n",
      "  df_sub[k].cat.remove_unused_categories(inplace=True)\n",
      "/usr/local/python/3.9.11-mmchan/lib/python3.9/site-packages/anndata/_core/anndata.py:1095: FutureWarning: The `inplace` parameter in pandas.Categorical.remove_unused_categories is deprecated and will be removed in a future version.\n",
      "  df_sub[k].cat.remove_unused_categories(inplace=True)\n",
      "/usr/local/python/3.9.11-mmchan/lib/python3.9/site-packages/anndata/_core/anndata.py:1095: FutureWarning: The `inplace` parameter in pandas.Categorical.remove_unused_categories is deprecated and will be removed in a future version.\n",
      "  df_sub[k].cat.remove_unused_categories(inplace=True)\n",
      "/usr/local/python/3.9.11-mmchan/lib/python3.9/site-packages/anndata/_core/anndata.py:1095: FutureWarning: The `inplace` parameter in pandas.Categorical.remove_unused_categories is deprecated and will be removed in a future version.\n",
      "  df_sub[k].cat.remove_unused_categories(inplace=True)\n",
      "/usr/local/python/3.9.11-mmchan/lib/python3.9/site-packages/anndata/_core/anndata.py:1095: FutureWarning: The `inplace` parameter in pandas.Categorical.remove_unused_categories is deprecated and will be removed in a future version.\n",
      "  df_sub[k].cat.remove_unused_categories(inplace=True)\n",
      "/usr/local/python/3.9.11-mmchan/lib/python3.9/site-packages/anndata/_core/anndata.py:1095: FutureWarning: The `inplace` parameter in pandas.Categorical.remove_unused_categories is deprecated and will be removed in a future version.\n",
      "  df_sub[k].cat.remove_unused_categories(inplace=True)\n"
     ]
    }
   ],
   "source": [
    "for ID in node_dict.keys():\n",
    "    TLS1_node_ID = TLS1[['TLS_120h_rep1_' + s for s in node_dict[ID]]].copy()\n",
    "    \n",
    "    fig, ax = plt.subplots(1, 1, figsize=(5, 5))\n",
    "    plt.plot(TLS1.obsm['X_umap'][:,0], TLS1.obsm['X_umap'][:,1], '.', color= \"lightgray\", alpha = 0.8, ms = 5, rasterized = True, markeredgewidth = 0.0)\n",
    "    for cell_state in colorDict.keys():\n",
    "        TLS1_node_ID_cell_state = TLS1_node_ID[TLS1_node_ID.obs['cell_state'] == cell_state].copy()\n",
    "        plt.plot(TLS1_node_ID_cell_state.obsm['X_umap'][:,0], TLS1_node_ID_cell_state.obsm['X_umap'][:,1], '.', alpha = 1, ms = 10, color = colorDict[cell_state], markeredgewidth = 0.0)\n",
    "    plt.axis([-15, 11, -15, 11])\n",
    "    ax.set_yticks([])\n",
    "    ax.set_xticks([])\n",
    "    plt.title(str(ID) + \" - \" + str(len(node_dict[ID])) + ' Cells')\n",
    "    plt.savefig('/Genomics/chanlab/blaw/TLS/data/AM-DNA-097/scRNA/node_umaps/' + str(ID) + '_umap_Overlay.pdf', dpi = 900)\n",
    "    #plt.show()\n",
    "    plt.close()"
   ]
  },
  {
   "cell_type": "markdown",
   "id": "1c7d6da3",
   "metadata": {},
   "source": [
    "# QC of Target and Cut Sites in the scRNA seq"
   ]
  },
  {
   "cell_type": "code",
   "execution_count": 19,
   "id": "c92a250a",
   "metadata": {},
   "outputs": [],
   "source": [
    "lineage_table[\"cellBC1\"] = \"TLS_120h_rep1_\" + lineage_table[\"cellBC\"]\n",
    "lineage_table.set_index(\"cellBC1\", inplace = True)\n",
    "lineage_table.drop(\"cellBC\", axis = 1, inplace = True)\n",
    "n = lineage_table.shape[0]"
   ]
  },
  {
   "cell_type": "code",
   "execution_count": 20,
   "id": "e1489201",
   "metadata": {},
   "outputs": [],
   "source": [
    "aColNames = lineage_table.columns[range(0, lineage_table.shape[1], 3)].tolist()"
   ]
  },
  {
   "cell_type": "code",
   "execution_count": 21,
   "id": "91a20e2c",
   "metadata": {},
   "outputs": [],
   "source": [
    "mask = lineage_table[aColNames].isnull() == False\n",
    "maskSum = mask.sum(axis = 0)\n",
    "\n",
    "maskSum1 = maskSum / lineage_table.shape[0]\n",
    "ms = maskSum1.sort_values(ascending = False)\n",
    "aIntBCs = [i.split(\"_\")[0] for i in ms.index.tolist()]\n",
    "\n",
    "h = plt.figure(figsize = (4, 4))\n",
    "plt.bar(np.arange(10), ms)\n",
    "plt.ylim([0, 1.05])\n",
    "plt.ylabel(\"fraction tS\")\n",
    "plt.xlabel(\"target site\")\n",
    "plt.title(\"AM-DNA-097_TLS1\")\n",
    "plt.xticks([i for i in range(len(aIntBCs))], aIntBCs, rotation = 90)\n",
    "plt.subplots_adjust(left = 0.2, bottom = 0.5)\n",
    "plt.savefig(\"/Genomics/chanlab/blaw/TLS/data/AM-DNA-097/lineage/3_lineage_stats/AM-DNA-097_tSCapture.pdf\", dpi = 300)\n",
    "#plt.show()\n",
    "plt.close()"
   ]
  },
  {
   "cell_type": "code",
   "execution_count": 22,
   "id": "e22944b9",
   "metadata": {},
   "outputs": [],
   "source": [
    "aIntBCs_cutSites = [i + j for i in aIntBCs for j in [\"_r1\",\"_r2\",\"_r3\"] ]"
   ]
  },
  {
   "cell_type": "code",
   "execution_count": 23,
   "id": "ad306bca",
   "metadata": {},
   "outputs": [],
   "source": [
    "# indel histograms\n",
    "maskNA = lineage_table[aIntBCs_cutSites].isnull() == True\n",
    "maskNASum = maskNA.sum(axis = 0)\n",
    "maskNone = lineage_table[aIntBCs_cutSites] == \"[None]\"\n",
    "maskNoneSum = maskNone.sum(axis = 0)\n",
    "maskMiss = lineage_table[aIntBCs_cutSites] == \"Missing\"\n",
    "maskMissSum = maskMiss.sum(axis = 0)\n",
    "maskTotal1 = maskNASum + maskNoneSum + maskMissSum\n",
    "maskCutSum = lineage_table.shape[0] - maskTotal1\n",
    "\n",
    "l = []\n",
    "x = 0\n",
    "for i in np.arange(1, len(maskMissSum) + 1):\n",
    "    l.append(x)\n",
    "    x = x + 1\n",
    "    if i % 3 == 0:\n",
    "        x = x + 1\n",
    "\n",
    "h = plt.figure(figsize = (8,5))\n",
    "ax = plt.subplot(1, 1, 1)\n",
    "plt.bar(l, maskCutSum, 0.75, label =\"Cut\", color = \"Red\")\n",
    "plt.bar(l, maskNoneSum, 0.75, bottom = maskCutSum + maskMissSum, label = \"NoCut\", color = \"Grey\")\n",
    "plt.bar(l, maskMissSum, 0.75, bottom = maskCutSum, label = \"Missing\", color = \"Blue\")\n",
    "x1 = plt.xticks(l, aIntBCs_cutSites, rotation = 90, fontsize = 8)\n",
    "plt.ylabel(\"# cells\")\n",
    "plt.legend(loc = \"upper right\")\n",
    "\n",
    "plt.subplots_adjust(left = 0.1, bottom = 0.3)\n",
    "plt.savefig(\"/Genomics/chanlab/blaw/TLS/data/AM-DNA-097/lineage/3_lineage_stats/AM-DNA-097_Cut_Site_Capture.pdf\", dpi = 300)\n",
    "#plt.show()\n",
    "plt.close()"
   ]
  },
  {
   "cell_type": "code",
   "execution_count": 24,
   "id": "03b47da4",
   "metadata": {},
   "outputs": [],
   "source": [
    "maskPresent = lineage_table[aIntBCs_cutSites].isnull() == False\n",
    "maskPresentSum = maskPresent.sum(axis = 1)\n",
    "maskNone = lineage_table[aIntBCs_cutSites] == \"[None]\"\n",
    "maskNoneSum = maskNone.sum(axis = 1)\n",
    "maskMiss = lineage_table[aIntBCs_cutSites] == \"Missing\"\n",
    "maskMissSum = maskMiss.sum(axis = 1)\n",
    "maskCutSum = maskPresentSum - maskNoneSum - maskMissSum\n",
    "\n",
    "pctCut = maskCutSum / maskPresentSum\n",
    "#pctCut[0:10]"
   ]
  },
  {
   "cell_type": "code",
   "execution_count": 25,
   "id": "28128600",
   "metadata": {},
   "outputs": [],
   "source": [
    "TLS1.obs = pd.concat([TLS1.obs, pctCut], axis = 1)\n",
    "TLS1.obs.rename(columns={0: \"pctCut\"}, inplace = True)"
   ]
  },
  {
   "cell_type": "code",
   "execution_count": 26,
   "id": "f64d776b",
   "metadata": {},
   "outputs": [],
   "source": [
    "mask = lineage_table[aColNames].isnull() == False\n",
    "maskSum = mask.sum(axis = 1)\n",
    "TLS1.obs[\"numTargetSites\"] = maskSum.loc[maskSum.index]\n",
    "\n",
    "mask = (lineage_table.isnull() == False) & (lineage_table !=\"[None]\") & (lineage_table != \"Missing\")\n",
    "maskSum = mask.sum(axis = 1)\n",
    "TLS1.obs[\"numIndels\"] = maskSum.loc[maskSum.index]"
   ]
  },
  {
   "cell_type": "code",
   "execution_count": 27,
   "id": "e213eed6",
   "metadata": {},
   "outputs": [],
   "source": [
    "with rc_context({'figure.figsize': (5, 5)}):\n",
    "    sc.pl.umap(TLS1, color=['GFP-Cas9-p'], cmap = Greens, use_raw = False, vmin = 0, vmax = 2, legend_loc = None, \n",
    "               save = 'GFP_Expression_per_Cell.pdf', show = False)"
   ]
  },
  {
   "cell_type": "code",
   "execution_count": 28,
   "id": "b5888bc9",
   "metadata": {},
   "outputs": [],
   "source": [
    "with rc_context({'figure.figsize': (5, 5)}):\n",
    "    sc.pl.umap(TLS1, color='pctCut', cmap = Reds, use_raw = False, vmin = 0, vmax = 1, save = 'Percent_Cut_per_Cell.pdf', show = False)"
   ]
  },
  {
   "cell_type": "code",
   "execution_count": 29,
   "id": "acf9f5fa",
   "metadata": {},
   "outputs": [],
   "source": [
    "with rc_context({'figure.figsize': (5, 5)}):\n",
    "    sc.pl.umap(TLS1, color='numIndels', title = 'n Indels / Cell', cmap = Reds, use_raw = False, vmin = 0, vmax = 30,\n",
    "               save = 'Indels_per_Cell.pdf', show = False)"
   ]
  },
  {
   "cell_type": "code",
   "execution_count": 30,
   "id": "cd613520",
   "metadata": {},
   "outputs": [],
   "source": [
    "with rc_context({'figure.figsize': (5, 5)}):\n",
    "    sc.pl.umap(TLS1, color='numTargetSites', cmap = Reds, use_raw = False, vmin = 0, vmax = 10,\n",
    "               save = 'n_Target_Sites_per_Cell.pdf', show = False)"
   ]
  },
  {
   "cell_type": "markdown",
   "id": "f1a47d5b",
   "metadata": {},
   "source": [
    "# Histograms of Tree Metrics"
   ]
  },
  {
   "cell_type": "code",
   "execution_count": 31,
   "id": "e11b9c18",
   "metadata": {},
   "outputs": [],
   "source": [
    "GFP_expr = TLS1.X[:,21473]\n",
    "GFP_expr = GFP_expr.todense()"
   ]
  },
  {
   "cell_type": "code",
   "execution_count": 32,
   "id": "a2e3243c",
   "metadata": {},
   "outputs": [],
   "source": [
    "# Add GFP positive and pctCut positive columns\n",
    "TLS1.obs['GFP-Cas9-p'] = GFP_expr\n",
    "TLS1.obs[\"GFP_pos\"] = 0\n",
    "x1 = TLS1.obs[TLS1.obs[\"GFP-Cas9-p\"] > 0].index.tolist()\n",
    "TLS1.obs.loc[x1, \"GFP_pos\"] = 1\n",
    "\n",
    "TLS1.obs[\"pctCut_pos\"] = 0\n",
    "x1 = TLS1.obs[TLS1.obs[\"pctCut\"] > 0].index.tolist()\n",
    "TLS1.obs.loc[x1,\"pctCut_pos\"] = 1"
   ]
  },
  {
   "cell_type": "code",
   "execution_count": 33,
   "id": "c9412be8",
   "metadata": {},
   "outputs": [
    {
     "data": {
      "text/plain": [
       "0.3413474979032709"
      ]
     },
     "execution_count": 33,
     "metadata": {},
     "output_type": "execute_result"
    }
   ],
   "source": [
    "len(TLS1.obs[TLS1.obs['GFP_pos'] == 1]) / len(TLS1.obs)"
   ]
  },
  {
   "cell_type": "code",
   "execution_count": 35,
   "id": "27fc1dfa",
   "metadata": {},
   "outputs": [],
   "source": [
    "# Plot the distribution of the number of target sites in GFP negative cells\n",
    "fig = plt.subplots\n",
    "ax1 = sns.histplot(data = TLS1.obs[TLS1.obs['GFP_pos'] == 0], x = 'numTargetSites', binwidth = 1, bins = 10)\n",
    "ax1.set_xlim(0, 11)\n",
    "ax1.set_xticks([0, 2, 4, 6, 8, 10])\n",
    "ax1.grid(False)\n",
    "ax1.set_title('GFP- {} Cells'.format(len(TLS1.obs[TLS1.obs['GFP_pos'] == 0])))\n",
    "\n",
    "plt.savefig('/Genomics/chanlab/blaw/TLS/data/AM-DNA-097/lineage/3_lineage_stats/n_target_sites_GFP-_hist.pdf', dpi = 300)\n",
    "#plt.show()\n",
    "plt.close()"
   ]
  },
  {
   "cell_type": "code",
   "execution_count": 37,
   "id": "ed239ab5",
   "metadata": {},
   "outputs": [],
   "source": [
    "# Plot the distribution of the number of target sites in GFP positive cells\n",
    "fig = plt.subplots\n",
    "ax1 = sns.histplot(data = TLS1.obs[TLS1.obs['GFP_pos'] == 1], x = 'numTargetSites', binwidth = 1, bins = 10)\n",
    "ax1.set_xlim(0, 11)\n",
    "ax1.set_xticks([0, 2, 4, 6, 8, 10])\n",
    "ax1.grid(False)\n",
    "ax1.set_title('GFP+ {} Cells'.format(len(TLS1.obs[TLS1.obs['GFP_pos'] == 1])))\n",
    "\n",
    "plt.savefig('/Genomics/chanlab/blaw/TLS/data/AM-DNA-097/lineage/3_lineage_stats/n_target_sites_GFP+_hist.pdf', dpi = 300)\n",
    "#plt.show()\n",
    "plt.close()"
   ]
  },
  {
   "cell_type": "code",
   "execution_count": 38,
   "id": "3b6fedf7",
   "metadata": {},
   "outputs": [],
   "source": [
    "# Plot the distribution of the number of indels in GFP negative cells\n",
    "fig = plt.figure()\n",
    "ax = sns.histplot(data = TLS1.obs[TLS1.obs['GFP_pos'] == 0], x = 'numIndels', binwidth = 1, kde = True, fill = True)\n",
    "ax.set_xlim(0, 30)\n",
    "ax.grid(False)\n",
    "ax.set_title('GFP- {} Cells'.format(len(TLS1.obs[TLS1.obs['GFP_pos'] == 0])))\n",
    "plt.savefig('/Genomics/chanlab/blaw/TLS/data/AM-DNA-097/lineage/3_lineage_stats/n_Indels_GFP-_hist.pdf', dpi = 300)\n",
    "#plt.show()\n",
    "plt.close()"
   ]
  },
  {
   "cell_type": "code",
   "execution_count": 39,
   "id": "29d5dbcd",
   "metadata": {},
   "outputs": [],
   "source": [
    "# Plot the distribution of the number of indels in GFP positive cells\n",
    "fig = plt.figure()\n",
    "ax = sns.histplot(data = TLS1.obs[TLS1.obs['GFP_pos'] == 1], x = 'numIndels', binwidth = 1, kde = True, fill = True)\n",
    "ax.set_xlim(0, 30)\n",
    "ax.grid(False)\n",
    "ax.set_title('GFP+ {} Cells'.format(len(TLS1.obs[TLS1.obs['GFP_pos'] == 1])))\n",
    "plt.savefig('/Genomics/chanlab/blaw/TLS/data/AM-DNA-097/lineage/3_lineage_stats/n_Indels_GFP+_hist.pdf', dpi = 300)\n",
    "#plt.show()\n",
    "plt.close()"
   ]
  },
  {
   "cell_type": "code",
   "execution_count": 40,
   "id": "982cf37e",
   "metadata": {},
   "outputs": [],
   "source": [
    "# Plot the distribution of the percent cutting in GFP negative cells\n",
    "fig = plt.figure()\n",
    "ax = sns.histplot(data = TLS1.obs[TLS1.obs['GFP_pos'] == 0], x = 'pctCut', binwidth = 0.05, kde = True)\n",
    "ax.set_xlim(0, 1)\n",
    "ax.grid(False)\n",
    "ax.set_title('GFP- {} Cells'.format(len(TLS1.obs[TLS1.obs['GFP_pos'] == 0])))\n",
    "plt.savefig('/Genomics/chanlab/blaw/TLS/data/AM-DNA-097/lineage/3_lineage_stats/PctCut_GFP-_hist.pdf', dpi = 300)\n",
    "#plt.show()\n",
    "plt.close()"
   ]
  },
  {
   "cell_type": "code",
   "execution_count": 41,
   "id": "8070603b",
   "metadata": {},
   "outputs": [],
   "source": [
    "# Plot the distribution of the percent cutting in GFP positive cells\n",
    "fig = plt.figure()\n",
    "ax = sns.histplot(data = TLS1.obs[TLS1.obs['GFP_pos'] == 1], x = 'pctCut', binwidth = 0.05, kde = True)\n",
    "ax.set_xlim(0, 1)\n",
    "ax.grid(False)\n",
    "ax.set_title('GFP+ {} Cells'.format(len(TLS1.obs[TLS1.obs['GFP_pos'] == 1])))\n",
    "plt.savefig('/Genomics/chanlab/blaw/TLS/data/AM-DNA-097/lineage/3_lineage_stats/PctCut_GFP+_hist.pdf', dpi = 300)\n",
    "#plt.show()\n",
    "plt.close()"
   ]
  },
  {
   "cell_type": "code",
   "execution_count": 42,
   "id": "2b39d50f",
   "metadata": {},
   "outputs": [],
   "source": [
    "# Plot the distribution of the GFP-Casp-P expression\n",
    "fig = plt.figure()\n",
    "ax = sns.histplot(GFP_expr, kde = True, binwidth = 0.1, legend = False)\n",
    "ax.set_xlabel('GFP-Cas9-P')\n",
    "ax.set_xlim(0, 2)\n",
    "plt.grid(False)\n",
    "plt.savefig('/Genomics/chanlab/blaw/TLS/data/AM-DNA-097/lineage/3_lineage_stats/GFP-Cas9-P_hist.pdf', dpi = 300)\n",
    "#plt.show()\n",
    "plt.close()"
   ]
  },
  {
   "cell_type": "code",
   "execution_count": 43,
   "id": "0edd6161",
   "metadata": {},
   "outputs": [],
   "source": [
    "# Plot the distribution of GFP expression in GFP + cells\n",
    "fig = plt.figure()\n",
    "ax = sns.histplot(data = TLS1.obs[TLS1.obs['GFP_pos'] == 1], x = 'GFP-Cas9-p', binwidth = 0.1, kde = True)\n",
    "ax.set_xlim(0, 2)\n",
    "ax.grid(False)\n",
    "ax.set_title('TLS1 GFP+_' + str(len(TLS1.obs[TLS1.obs['GFP_pos'] == 1]['GFP-Cas9-p'])) + '_cells')\n",
    "plt.savefig('/Genomics/chanlab/blaw/TLS/data/AM-DNA-097/lineage/3_lineage_stats/GFP-Cas9-P_GFP+_hist.pdf', dpi = 300)\n",
    "#plt.show()\n",
    "plt.close()"
   ]
  },
  {
   "cell_type": "markdown",
   "id": "8f85c5e8",
   "metadata": {},
   "source": [
    "# Composition of GFP+ and GFP- cells"
   ]
  },
  {
   "cell_type": "code",
   "execution_count": 44,
   "id": "0261968d",
   "metadata": {},
   "outputs": [],
   "source": [
    "TLS1_GFPpos_cell_state_freq = {}\n",
    "TLS1_GFPneg_cell_state_freq = {}"
   ]
  },
  {
   "cell_type": "code",
   "execution_count": 45,
   "id": "9c3695d3",
   "metadata": {},
   "outputs": [],
   "source": [
    "GFPpos = TLS1.obs[TLS1.obs['GFP_pos'] == 1]\n",
    "GFPneg = TLS1.obs[TLS1.obs['GFP_pos'] == 0]"
   ]
  },
  {
   "cell_type": "code",
   "execution_count": 46,
   "id": "3625830a",
   "metadata": {},
   "outputs": [],
   "source": [
    "for cell_state in colorDict.keys():\n",
    "    TLS1_GFPpos_cell_state_freq[cell_state] = 100 * len(GFPpos[GFPpos['cell_state'] == cell_state]) / len(GFPpos['cell_state'])\n",
    "    TLS1_GFPneg_cell_state_freq[cell_state] = 100 * len(GFPneg[GFPneg['cell_state'] == cell_state]) / len(GFPneg['cell_state'])"
   ]
  },
  {
   "cell_type": "code",
   "execution_count": 47,
   "id": "e20b792b",
   "metadata": {},
   "outputs": [],
   "source": [
    "cell_percents = pd.DataFrame.from_dict([TLS1_GFPpos_cell_state_freq, TLS1_GFPneg_cell_state_freq])\n",
    "cell_percents = cell_percents.rename(index = {0: \"GFP+\", 1: \"GFP-\"})"
   ]
  },
  {
   "cell_type": "code",
   "execution_count": 48,
   "id": "a98a545e",
   "metadata": {},
   "outputs": [],
   "source": [
    "colors = []\n",
    "for color in cell_percents.columns:\n",
    "    colors.append(colorDict[color])"
   ]
  },
  {
   "cell_type": "code",
   "execution_count": 50,
   "id": "231e3e25",
   "metadata": {},
   "outputs": [],
   "source": [
    "# Plot the composition of TLS1 in GFP+ and GFP- groups\n",
    "cell_percents.plot(kind='bar', use_index = True, stacked=True, color = colors, grid = False)\n",
    "plt.legend(loc='center left', bbox_to_anchor=(1.0, 0.5))\n",
    "plt.title('TLS1 GFP +/- Composition')\n",
    "plt.ylabel('% cells/cluster')\n",
    "plt.tight_layout()\n",
    "plt.savefig('/Genomics/chanlab/blaw/TLS/data/AM-DNA-097/lineage/3_lineage_stats/TLS_1_GFP+_vs_GFP-_Composition.pdf', dpi = 300)\n",
    "#plt.show()\n",
    "plt.close()"
   ]
  },
  {
   "cell_type": "markdown",
   "id": "fc322b4b",
   "metadata": {},
   "source": [
    "# Cell proportions of cells for GFP+/- and pctCut +/-"
   ]
  },
  {
   "cell_type": "code",
   "execution_count": 51,
   "id": "1ec7852b",
   "metadata": {},
   "outputs": [],
   "source": [
    "# % cut by cell cluster ID\n",
    "cellCounts = TLS1.obs[\"cell_state\"].value_counts()\n",
    "\n",
    "x1 = TLS1.obs.groupby([\"cell_state\", \"GFP_pos\"]).agg({\"pctCut_pos\": \"count\"}).reset_index()\n",
    "x1.rename(columns = {\"pctCut_pos\": \"n_count\"}, inplace = True)\n",
    "\n",
    "b1 = x1[x1[\"GFP_pos\"] == 1].reset_index(drop = True)\n",
    "cellStateList = b1[\"cell_state\"].tolist() #cellStateList\n",
    "b1.set_index(\"cell_state\",inplace = True)\n",
    "b1[\"prop\"] = b1[\"n_count\"] / cellCounts[cellStateList]\n",
    "\n",
    "b2 = x1[x1[\"GFP_pos\"] == 0].reset_index(drop = True)\n",
    "b2.set_index(\"cell_state\", inplace = True)\n",
    "b2[\"prop\"] = b2[\"n_count\"] / cellCounts[cellStateList]\n",
    "\n",
    "x2 = TLS1.obs.groupby([\"cell_state\", \"pctCut_pos\"]).agg({\"GFP_pos\": \"count\"}).reset_index()\n",
    "x2.rename(columns={\"GFP_pos\": \"n_count\"}, inplace = True)\n",
    "\n",
    "p1 = x2[x2[\"pctCut_pos\"] == 1].reset_index(drop = True)\n",
    "p1.set_index(\"cell_state\", inplace = True)\n",
    "p1[\"prop\"] = p1[\"n_count\"] / cellCounts[cellStateList]\n",
    "\n",
    "p2 = x2[x2[\"pctCut_pos\"] == 0].reset_index(drop = True)\n",
    "p2.set_index(\"cell_state\", inplace = True)\n",
    "p2[\"prop\"] = p2[\"n_count\"] / cellCounts[cellStateList]"
   ]
  },
  {
   "cell_type": "code",
   "execution_count": 53,
   "id": "f0bebc34",
   "metadata": {},
   "outputs": [],
   "source": [
    "# Plot the number and percent of cells that are GFP+/- and PctCut + /- per cell state\n",
    "h = plt.figure(figsize=(12,8))\n",
    "\n",
    "ax = plt.subplot(2,2,1)\n",
    "plt.bar(np.arange(len(cellStateList)),b1[\"n_count\"],0.75,label=\"GFP>0\",color=\"Green\")\n",
    "plt.bar(np.arange(len(cellStateList)),b2[\"n_count\"],0.75,bottom=b1[\"n_count\"],label=\"GFP=0\",color=\"Grey\")\n",
    "x1 = plt.xticks(np.arange(len(cellStateList)), cellStateList, rotation=90,fontsize=8)\n",
    "plt.ylabel(\"# cells\")\n",
    "plt.grid(False)\n",
    "plt.legend(loc=\"upper right\")\n",
    "\n",
    "ax = plt.subplot(2,2,2)\n",
    "plt.bar(np.arange(len(cellStateList)),b1[\"prop\"],0.75,label=\"GFP>0\",color=\"Green\")\n",
    "plt.bar(np.arange(len(cellStateList)),b2[\"prop\"],0.75,bottom=b1[\"prop\"],label=\"GFP=0\",color=\"Grey\")\n",
    "x1 = plt.xticks(np.arange(len(cellStateList)), cellStateList, rotation=90,fontsize=8)\n",
    "plt.ylabel(\"% cells\")\n",
    "plt.grid(False)\n",
    "plt.legend(loc=\"upper right\")\n",
    "\n",
    "ax = plt.subplot(2,2,3)\n",
    "plt.bar(np.arange(len(cellStateList)),p1[\"n_count\"],0.75,label=\"pctCut>0\",color=\"Red\")\n",
    "plt.bar(np.arange(len(cellStateList)),p2[\"n_count\"],0.75,bottom=p1[\"n_count\"],label=\"pctCut=0\",color=\"Grey\")\n",
    "x1 = plt.xticks(np.arange(len(cellStateList)), cellStateList, rotation=90,fontsize=8)\n",
    "plt.ylabel(\"# cells\")\n",
    "plt.grid(False)\n",
    "plt.legend(loc=\"upper right\")\n",
    "\n",
    "ax = plt.subplot(2,2,4)\n",
    "plt.bar(np.arange(len(cellStateList)),p1[\"prop\"],0.75,label=\"pctCut>0\",color=\"Red\")\n",
    "plt.bar(np.arange(len(cellStateList)),p2[\"prop\"],0.75,bottom=p1[\"prop\"],label=\"pctCut=0\",color=\"Grey\")\n",
    "x1 = plt.xticks(np.arange(len(cellStateList)), cellStateList, rotation=90,fontsize=8)\n",
    "plt.ylabel(\"% cells\")\n",
    "plt.grid(False)\n",
    "plt.legend(loc=\"upper right\")\n",
    "\n",
    "plt.suptitle('AM-DNA-097_TLS1')\n",
    "plt.subplots_adjust(left=0.1,bottom=0.2,hspace=0.5)\n",
    "plt.savefig('/Genomics/chanlab/blaw/TLS/data/AM-DNA-097/lineage/3_lineage_stats/GFP_pctCut_by_cellType.pdf', dpi = 900)\n",
    "#plt.show()\n",
    "plt.close()"
   ]
  },
  {
   "cell_type": "code",
   "execution_count": 54,
   "id": "53a51db2",
   "metadata": {},
   "outputs": [],
   "source": [
    "# Plot the percent cut vs GFP in each cell state\n",
    "for cell_state in colorDict.keys():\n",
    "    plt.scatter(b1.loc[cell_state]['prop'], p1.loc[cell_state]['prop'], color = colorDict[cell_state])\n",
    "    \n",
    "plt.grid(False)\n",
    "plt.xlim(0, 0.6)\n",
    "plt.ylim(0.2, 0.8)\n",
    "plt.xlabel('Proportion GFP+')\n",
    "plt.ylabel('Proportion Cut')\n",
    "plt.savefig('/Genomics/chanlab/blaw/TLS/data/AM-DNA-097/lineage/3_lineage_stats/Cut_vs_GFP_by_Cellstate.pdf', dpi = 900)\n",
    "#plt.show()\n",
    "plt.close()"
   ]
  },
  {
   "cell_type": "code",
   "execution_count": 55,
   "id": "c2dbf100",
   "metadata": {},
   "outputs": [],
   "source": [
    "# boxplot of pctCut in GFP+ and GFP-\n",
    "fig = plt.figure()\n",
    "ax = sns.boxplot(data = TLS1.obs, x = 'GFP_pos', y = 'pctCut')\n",
    "ax.set_ylim(0, 1)\n",
    "ax.set_ylabel('% Cut TS/cell')\n",
    "ax.grid(False)\n",
    "ax.set_title('pctCut')\n",
    "plt.savefig('/Genomics/chanlab/blaw/TLS/data/AM-DNA-097/lineage/3_lineage_stats/PctCut_GFP+_vs_GFP-_boxplot.pdf', dpi = 900)\n",
    "#plt.show()\n",
    "plt.close()"
   ]
  },
  {
   "cell_type": "code",
   "execution_count": 56,
   "id": "1341671b",
   "metadata": {},
   "outputs": [],
   "source": [
    "# boxplot of pctCut in GFP+ and GFP-\n",
    "fig = plt.figure()\n",
    "ax = sns.boxplot(data = TLS1.obs, x = 'GFP_pos', y = 'pctCut')\n",
    "ax.set_ylim(0, 1)\n",
    "ax.set_ylabel('% Cut TS/cell')\n",
    "ax.grid(False)\n",
    "ax.set_title('pctCut')\n",
    "plt.savefig('/Genomics/chanlab/blaw/TLS/data/AM-DNA-097/lineage/3_lineage_stats/PctCut_GFP+_vs_GFP-_boxplot.pdf', dpi = 900)\n",
    "#plt.show()\n",
    "plt.close()"
   ]
  },
  {
   "cell_type": "code",
   "execution_count": 57,
   "id": "1c5237e7",
   "metadata": {},
   "outputs": [],
   "source": [
    "# boxplot of pctCut in GFP+ and GFP-\n",
    "fig = plt.figure()\n",
    "ax = sns.boxplot(data = TLS1.obs, x = 'pctCut_pos', y = 'GFP-Cas9-p')\n",
    "ax.set_ylim(0, 2)\n",
    "ax.set_ylabel('GFP Expression')\n",
    "ax.grid(False)\n",
    "ax.set_title('GFP Expression')\n",
    "plt.savefig('/Genomics/chanlab/blaw/TLS/data/AM-DNA-097/lineage/3_lineage_stats/GFP_Cut_vs_Uncut_boxplot.pdf', dpi = 900)\n",
    "#plt.show()\n",
    "plt.close()"
   ]
  }
 ],
 "metadata": {
  "kernelspec": {
   "display_name": "Python 3 (ipykernel)",
   "language": "python",
   "name": "python3"
  },
  "language_info": {
   "codemirror_mode": {
    "name": "ipython",
    "version": 3
   },
   "file_extension": ".py",
   "mimetype": "text/x-python",
   "name": "python",
   "nbconvert_exporter": "python",
   "pygments_lexer": "ipython3",
   "version": "3.9.11"
  }
 },
 "nbformat": 4,
 "nbformat_minor": 5
}
