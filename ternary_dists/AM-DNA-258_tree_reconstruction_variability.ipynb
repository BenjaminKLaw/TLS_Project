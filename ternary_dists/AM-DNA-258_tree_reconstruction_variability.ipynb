{
 "cells": [
  {
   "cell_type": "markdown",
   "id": "c8ccdd87",
   "metadata": {},
   "source": [
    "# Info\n",
    "\n",
    "- In this script, I investigated the variability in ternary plots that occurs when different tree reconstructions are created from the same tree\n",
    "\n",
    "- To do this, I used the 30 different random seeds for each of the TLS M and TLSCL barcodes to investigate how these subtly different trees compare\n",
    "\n",
    "- I will compare the ternary distances between seeds of the same tree (intra) and random comparisons of seeds from seperate trees (inter)"
   ]
  },
  {
   "cell_type": "code",
   "execution_count": 1,
   "id": "d11d2913",
   "metadata": {},
   "outputs": [],
   "source": [
    "import cassiopeia as cas\n",
    "import pandas as pd\n",
    "import numpy as np\n",
    "import pickle\n",
    "import os\n",
    "from ete3 import Tree\n",
    "import itertools\n",
    "import seaborn as sns\n",
    "import matplotlib.pyplot as plt\n",
    "import random"
   ]
  },
  {
   "cell_type": "code",
   "execution_count": 28,
   "id": "b70e830d",
   "metadata": {},
   "outputs": [],
   "source": [
    "# Load the table of cell states\n",
    "cell_state_table = pd.read_csv('/Genomics/chanlab/blaw/TLS/metadata/TLS_TLSCL_cellBC_cellState.tsv', sep='\\t')\n",
    "\n",
    "clusterColorsFile = \"/Genomics/chanlab/mchan/Adriano/TLS/TLS_TLSCL/20211102_clusterColorsTLSCL.p\"\n",
    "with open(clusterColorsFile,'rb') as fp:\n",
    "    colorDict = pickle.load(fp)\n",
    "    \n",
    "barcodes = [\"Bar1\", 'Bar2', 'Bar3', 'Bar4', 'Bar5', 'Bar6','Bar7','Bar8','Bar9','Bar10','Bar11', 'Bar12', 'Bar13','Bar14',\n",
    "            'Bar15', 'Bar16', 'Bar18', 'Bar19','Bar20','Bar21', 'Bar22','Bar23','Bar24']\n",
    "\n",
    "TLS_barcodes = ['Bar1', 'Bar2', 'Bar4', 'Bar5', 'Bar7', 'Bar10', 'Bar11', 'Bar13', 'Bar16', 'Bar19', 'Bar22']\n",
    "TLSCL_barcodes = ['Bar3', 'Bar6', 'Bar9', 'Bar12', 'Bar14', 'Bar15', 'Bar20', 'Bar21', 'Bar23', 'Bar24']\n",
    "\n",
    "Seeds = [3882, 721488, 2299, 31525, 1493, 845228, 7051, 622697, 7966, 602613, 2513, 695825, 9902, 941621, 4622, 766561, 1228,\n",
    " 597307, 6152, 927685, 6064, 356182, 3252, 732589, 44, 539499, 8802, 989417, 222, 107820]"
   ]
  },
  {
   "cell_type": "markdown",
   "id": "168f74a8",
   "metadata": {},
   "source": [
    "# Process all the datasets:\n",
    "When performing ILP, cassiopeia creates a set of proposed solutions. Ideally i would test X number of each of these proposed trees. Unfortunately, I am having trouble accessing that set, so I will use the 30 random see trees that were made previously to setup the pipeline / investigate initial information. These random seeds affect the path that gurobi takes when solving the tree problem, creating slight variations in the tree"
   ]
  },
  {
   "cell_type": "code",
   "execution_count": 3,
   "id": "c977bf4e",
   "metadata": {},
   "outputs": [],
   "source": [
    "# Label internal nodes\n",
    "def nameInteriorNodes(nwkFile,outnwkFile):\n",
    "\n",
    "    t = Tree(nwkFile,format=1)\n",
    "    labelID = 0\n",
    "\n",
    "    for node in t.traverse():\n",
    "        if node.is_leaf() == False:\n",
    "            node.name = \"node{}\".format(labelID)\n",
    "            labelID = labelID + 1\n",
    "\n",
    "    t.write(format=8,outfile=outnwkFile)"
   ]
  },
  {
   "cell_type": "code",
   "execution_count": 4,
   "id": "cbe30670",
   "metadata": {},
   "outputs": [],
   "source": [
    "def add_node0(nwkFile, outnwkFile):\n",
    "    infile = open(nwkFile, 'r')\n",
    "    outfile = open(outnwkFile, 'w')\n",
    "    \n",
    "    outfile.write(infile.readline()[:-1])\n",
    "    outfile.write('node0;')\n",
    "          \n",
    "    infile.close()\n",
    "    outfile.close()"
   ]
  },
  {
   "cell_type": "code",
   "execution_count": 24,
   "id": "35528862",
   "metadata": {},
   "outputs": [],
   "source": [
    "# create labeled nwk files for each of the seed trees\n",
    "for barcode in barcodes:\n",
    "    folder_loc = '/Genomics/chanlab/blaw/TLS/sandbox/AM-DNA-258/ilp_seed_study/trees/{}/newick/'.format(barcode)\n",
    "    \n",
    "    for file in os.listdir(folder_loc):\n",
    "        seed = file.split('_')[2]\n",
    "        \n",
    "        if not os.path.exists('/Genomics/chanlab/blaw/TLS/data/ternary_dists/tree_seed_variability/{}/'.format(barcode)):\n",
    "            os.mkdir('/Genomics/chanlab/blaw/TLS/data/ternary_dists/tree_seed_variability/{}/'.format(barcode))\n",
    "        if not os.path.exists('/Genomics/chanlab/blaw/TLS/data/ternary_dists/tree_seed_variability/{}/newick_files/'.format(barcode)):\n",
    "            os.mkdir('/Genomics/chanlab/blaw/TLS/data/ternary_dists/tree_seed_variability/{}/newick_files/'.format(barcode))\n",
    "\n",
    "        \n",
    "        nameInteriorNodes(folder_loc + file,\n",
    "                          '/Genomics/chanlab/blaw/TLS/data/ternary_dists/tree_seed_variability/{}/newick_files/{}_seed_{}_node0_missing.txt'.format(barcode, barcode, seed))\n",
    "        \n",
    "        add_node0('/Genomics/chanlab/blaw/TLS/data/ternary_dists/tree_seed_variability/{}/newick_files/{}_seed_{}_node0_missing.txt'.format(barcode, barcode, seed),\n",
    "                  '/Genomics/chanlab/blaw/TLS/data/ternary_dists/tree_seed_variability/{}/newick_files/{}_seed_{}_newick_noMutationlessEdges_Labeled.nwk'.format(barcode, barcode, seed))"
   ]
  },
  {
   "cell_type": "markdown",
   "id": "17ab74c6",
   "metadata": {},
   "source": [
    "# Create a node info table for all 30 trees from the same seed"
   ]
  },
  {
   "cell_type": "code",
   "execution_count": 5,
   "id": "b843612b",
   "metadata": {},
   "outputs": [],
   "source": [
    "def maxDepth(node):\n",
    "    '''\n",
    "    Input:\n",
    "        - a node in an ete tree\n",
    "    returns:\n",
    "        - The max depth of any branch in that node\n",
    "    '''\n",
    "    if node.is_leaf():\n",
    "        return 0\n",
    "    children_depths = []\n",
    "    \n",
    "    for child in node.children:\n",
    "        test = maxDepth(child)\n",
    "        \n",
    "        children_depths.append(test)\n",
    "        \n",
    "    return max(children_depths) + 1"
   ]
  },
  {
   "cell_type": "code",
   "execution_count": 6,
   "id": "60f95a49",
   "metadata": {},
   "outputs": [],
   "source": [
    "def countNMP_Somite_Neural(node, cell_state_table):\n",
    "    '''\n",
    "    Input:\n",
    "        - a node in an ete tree\n",
    "        - a table of cell states for each cellBC. Assumes that each leaf of the ete tree is a cellBC in the table\n",
    "    return:\n",
    "        - A tuple of the number of NMP, somitic, and neural cells that are leaves of the node\n",
    "    '''\n",
    "    leaves = [leaf.name for leaf in node.get_leaves()]\n",
    "\n",
    "    cell_types = cell_state_table[cell_state_table['cellBC'].isin(leaves)]['cell_state'].to_list()\n",
    "\n",
    "    # Group the Neural and Somite cell states into 1 category and remove PGCLC, Endoderm, Unknown, Epithelial\n",
    "    somitic_count = 0\n",
    "    NMP_count = 0\n",
    "    neural_count = 0\n",
    "    for state in cell_types:\n",
    "        if state in ['pPSM', 'aPSM', 'Somite', 'Somite0', 'Somite1', 'Somite-1', 'SomiteSclero', 'SomiteDermo']:\n",
    "            somitic_count += 1\n",
    "        elif state in ['NeuralTube1', 'NeuralTube2']:\n",
    "            neural_count += 1\n",
    "        elif state in ['NMPs']:\n",
    "            NMP_count += 1\n",
    "\n",
    "    return (NMP_count, somitic_count, neural_count)"
   ]
  },
  {
   "cell_type": "code",
   "execution_count": 7,
   "id": "e9850223",
   "metadata": {},
   "outputs": [],
   "source": [
    "node_columns = ['Barcode', 'Seed', 'Node', 'Node Size', 'Clone', 'Clone Size', 'Max Clone Depth', 'Dist to Clone', 'Percent NMP', \n",
    "                'Percent Somitic', 'Percent Neural']\n",
    "\n",
    "for barcode in barcodes:\n",
    "    node_info = pd.DataFrame(columns = node_columns)\n",
    "\n",
    "    # Store the node information of nodes to filter\n",
    "    bad_nodes = []\n",
    "    small_nodes = []\n",
    "\n",
    "    for seed in Seeds:\n",
    "        treeFile = \"/Genomics/chanlab/blaw/TLS/data/ternary_dists/tree_seed_variability/{}/newick_files/{}_seed_{}_newick_noMutationlessEdges_Labeled.nwk\".format(barcode, barcode, seed)\n",
    "        t = Tree(treeFile, format = 1)\n",
    "\n",
    "        # Add all nodes in the tree to the node_info dataframe\n",
    "        node_names = []\n",
    "        for node in t.traverse():\n",
    "            if node.name != 'node0' and not node.is_leaf():\n",
    "                node_names.append('{}_seed_{}_{}'.format(barcode, seed, node.name))\n",
    "\n",
    "        temp_node_info = pd.DataFrame(index = node_names, columns = node_columns)\n",
    "        node_info = pd.concat((node_info, temp_node_info))\n",
    "\n",
    "        # fill in node information, don't keep roots\n",
    "        for clone in t.children:\n",
    "            clone_max_depth = maxDepth(clone)\n",
    "\n",
    "            for node in clone.traverse():\n",
    "                if not node.is_leaf():\n",
    "                    leaves = [leaf.name for leaf in node.get_leaves()]\n",
    "                    cell_types = cell_state_table[cell_state_table['cellBC'].isin(leaves)]['cell_state'].to_list()\n",
    "\n",
    "                    # Record nodes that need to be removed, currently removing any non NMP cell type and nodes with less than 4 leaves\n",
    "                    if 'Endoderm' in cell_types or 'PCGLC' in cell_types or 'Unknown' in cell_types or 'Endothelial' in cell_types:\n",
    "                        bad_nodes.append('{}_seed_{}_{}'.format(barcode, seed, node.name))\n",
    "                    elif len(leaves) < 4:\n",
    "                        small_nodes.append('{}_seed_{}_{}'.format(barcode, seed, node.name))\n",
    "\n",
    "                    NMP_count, somitic_count, neural_count = countNMP_Somite_Neural(node, cell_state_table)\n",
    "\n",
    "                    total = somitic_count + NMP_count + neural_count\n",
    "                    if total > 0:\n",
    "                        NMP_frac = NMP_count / total\n",
    "                        somitic_frac = somitic_count / total\n",
    "                        neural_frac = neural_count / total\n",
    "                    else:\n",
    "                        NMP_frac = 0\n",
    "                        somitic_frac = 0\n",
    "                        neural_frac = 0\n",
    "\n",
    "                    # Record node information to the large table\n",
    "                    node_info.loc['{}_seed_{}_{}'.format(barcode, seed, node.name), 'Barcode'] = barcode\n",
    "                    node_info.loc['{}_seed_{}_{}'.format(barcode, seed, node.name), 'Seed'] = seed\n",
    "                    node_info.loc['{}_seed_{}_{}'.format(barcode, seed, node.name), 'Node'] = node.name\n",
    "                    node_info.loc['{}_seed_{}_{}'.format(barcode, seed, node.name), 'Node Size'] = len(node.get_leaves())\n",
    "                    node_info.loc['{}_seed_{}_{}'.format(barcode, seed, node.name), 'Clone'] = clone.name\n",
    "                    node_info.loc['{}_seed_{}_{}'.format(barcode, seed, node.name), 'Clone Size'] = len(clone.get_leaves())\n",
    "                    node_info.loc['{}_seed_{}_{}'.format(barcode, seed, node.name), 'Max Clone Depth'] = clone_max_depth\n",
    "                    node_info.loc['{}_seed_{}_{}'.format(barcode, seed, node.name), 'Dist to Clone'] = t.get_distance(clone, node)\n",
    "                    node_info.loc['{}_seed_{}_{}'.format(barcode, seed, node.name), 'Percent NMP'] = NMP_frac\n",
    "                    node_info.loc['{}_seed_{}_{}'.format(barcode, seed, node.name), 'Percent Somitic'] = somitic_frac\n",
    "                    node_info.loc['{}_seed_{}_{}'.format(barcode, seed, node.name), 'Percent Neural'] = neural_frac\n",
    "\n",
    "    node_info.drop(index = bad_nodes, inplace = True)\n",
    "    node_info.drop(index = small_nodes, inplace = True)\n",
    "\n",
    "    # Calculate the normalized Depth of each node\n",
    "    node_info['Normalized Dist'] = node_info['Dist to Clone'] / node_info['Max Clone Depth']\n",
    "\n",
    "    # Classify nodes by progenitor type and % extant NMPs\n",
    "    node_info['Progenitor Type'] = '-'\n",
    "    node_info['Progenitor Pool'] = '-'\n",
    "\n",
    "    for node in node_info.index.values:\n",
    "        # A node is bipotent if it produces both neural and somitic cells\n",
    "        # Bipotent and transient bipotent (bipotent without NMPs) are both labeled as bipotent\n",
    "        if (node_info.loc[node, 'Percent Neural'] > 0) and (node_info.loc[node, 'Percent Somitic'] > 0):\n",
    "            node_info.loc[node, 'Progenitor Type'] = 'Bipotent'\n",
    "\n",
    "        # A node is committed towards the somitic lineage if it produces somites but not neural cells\n",
    "        elif (node_info.loc[node, 'Percent Somitic'] > 0) and (node_info.loc[node, 'Percent Neural'] == 0):\n",
    "            node_info.loc[node, 'Progenitor Type'] = 'Somitic Committed'\n",
    "\n",
    "        # A node is committed towards the neural lineage if it produces neural but not somitic cells\n",
    "        elif (node_info.loc[node, 'Percent Somitic'] == 0) and (node_info.loc[node, 'Percent Neural'] > 0):\n",
    "            node_info.loc[node, 'Progenitor Type'] = 'Neural Committed'\n",
    "\n",
    "        # A node is proliferating if it does not produce somitic or neural cells (exclusively produces NMPs)\n",
    "        elif (node_info.loc[node, 'Percent Somitic'] == 0) and (node_info.loc[node, 'Percent Neural'] == 0):\n",
    "            node_info.loc[node, 'Progenitor Type'] = 'Proliferating'\n",
    "\n",
    "\n",
    "        # A node is proliferating if it produces exclusively NMPs\n",
    "        if node_info.loc[node, 'Percent NMP'] == 1:\n",
    "            node_info.loc[node, 'Progenitor Pool'] = 'Proliferating'\n",
    "\n",
    "        # A node is differentiating if it produces some NMPS\n",
    "        elif node_info.loc[node, 'Percent NMP'] > 0:\n",
    "            node_info.loc[node, 'Progenitor Pool'] = 'Differentiating'\n",
    "\n",
    "        # A node is exhausted if it produces 0 NMPs\n",
    "        elif node_info.loc[node, 'Percent NMP'] == 0:\n",
    "            node_info.loc[node, 'Progenitor Pool'] = 'Exhausted'\n",
    "\n",
    "    # Save the node table for nodes >= 4\n",
    "    node_info.to_csv('/Genomics/chanlab/blaw/TLS/data/ternary_dists/tree_seed_variability/{}/{}_node_information_filtered.txt'.format(barcode, barcode), sep = '\\t')"
   ]
  },
  {
   "cell_type": "markdown",
   "id": "61ba7607",
   "metadata": {},
   "source": [
    "# Calculate the distance between seeds of the same barcode\n",
    "\n",
    "Ternary Distance:\n",
    "- Identify the 2 nodes that have the smallest distance between them from tree A and tree B.\n",
    "- Remove both nodes from the dataset\n",
    "- Repeat until A or B runs out of nodes\n",
    "- The total ternary distance is calculated as the sum of the distances between the set of minimum distance node pairs\n",
    "- Add a penalty for any remaining nodes"
   ]
  },
  {
   "cell_type": "code",
   "execution_count": 8,
   "id": "a6d72f5e",
   "metadata": {},
   "outputs": [],
   "source": [
    "def calcDist(node1, node2, node_info):\n",
    "    '''\n",
    "    input:\n",
    "        node1 - a name of the first node, assumed to be an index in node_info\n",
    "        node2 - a name of the second node, assumed to be an index in node_info\n",
    "        node_info - a node info table that has the fraction of NMP, Neural, and Somitic columns\n",
    "        \n",
    "    returns:\n",
    "        The euclidean distance between the 2 nodes from the 3 fractions\n",
    "    '''\n",
    "    x1 = node_info.loc[node1, 'Percent NMP']\n",
    "    y1 = node_info.loc[node1, 'Percent Neural']\n",
    "    z1 = node_info.loc[node1, 'Percent Somitic']\n",
    "    \n",
    "    x2 = node_info.loc[node2, 'Percent NMP']\n",
    "    y2 = node_info.loc[node2, 'Percent Neural']\n",
    "    z2 = node_info.loc[node2, 'Percent Somitic']\n",
    "    \n",
    "    return np.sqrt((x1-x2)**2 + (y1-y2)**2 + (z1-z2)**2)"
   ]
  },
  {
   "cell_type": "code",
   "execution_count": 9,
   "id": "6ef1e716",
   "metadata": {},
   "outputs": [],
   "source": [
    "def calcTernaryDist(tree1_name, tree2_name, node_info, meta_col = 'Seed'):\n",
    "    '''\n",
    "    input:\n",
    "        tree1 - string to subset all nodes in tree1 using the meta_col, assumed to all be in the node_info table\n",
    "        tree2 - string to subset all nodes in tree2 using the meta_col, assumed to all be in the node_info table\n",
    "        node_info - a node_info table that contains all nodes in tree1 and tree2, the column from meta_col and the fractions of NMP, Neural, and Somitic.\n",
    "        meta_col - A column name in node_info that can be used to split tree1 and tree2\n",
    "    returns:\n",
    "        a value of the distance between tree1 and tree2\n",
    "    '''\n",
    "    tree1_nodes = node_info[node_info[meta_col] == tree1_name].index\n",
    "    tree2_nodes = node_info[node_info[meta_col] == tree2_name].index\n",
    "    \n",
    "    pairwise_dists_df = pd.DataFrame(index = tree1_nodes, columns = tree2_nodes)\n",
    "    \n",
    "    for i in pairwise_dists_df.index:\n",
    "        for j in pairwise_dists_df.columns:\n",
    "            pairwise_dists_df.loc[i, j] = calcDist(i, j, node_info)\n",
    "            \n",
    "    total_dist = 0\n",
    "    pen = 0 \n",
    "    temp_dists_df = pairwise_dists_df.copy()\n",
    "    min_nodes = min(len(temp_dists_df.columns), len(temp_dists_df.index))\n",
    "    \n",
    "    for i in range(max(len(temp_dists_df.columns), len(temp_dists_df.index))):\n",
    "        if len(temp_dists_df.columns) == 0 or len(temp_dists_df.index) == 0:\n",
    "            pen += 1\n",
    "        else:\n",
    "            min_val = 100\n",
    "            min_col = '' \n",
    "            min_row = ''\n",
    "            for col in temp_dists_df.columns:\n",
    "                temp_dists_df[col] = pd.to_numeric(temp_dists_df[col])\n",
    "\n",
    "                temp_row = temp_dists_df[col].idxmin(axis = 0)\n",
    "                if min_val > temp_dists_df.loc[temp_row, col]:\n",
    "                    min_val = temp_dists_df.loc[temp_row, col]\n",
    "                    min_row = temp_row\n",
    "                    min_col = col\n",
    "\n",
    "            total_dist += temp_dists_df.loc[min_row, min_col]\n",
    "\n",
    "            temp_dists_df.drop(index = min_row, inplace = True)\n",
    "            temp_dists_df.drop(columns = min_col, inplace = True)    \n",
    "            \n",
    "    return (total_dist / min_nodes, (total_dist / min_nodes) + pen)"
   ]
  },
  {
   "cell_type": "markdown",
   "id": "9ad417bd",
   "metadata": {},
   "source": [
    "# Calculate the ternary distances between different seeds of the same barcode\n",
    "\n",
    "- to compare barcodes across structures, we normalize the ternary distance by the # of nodes in the tree, making the maximum distance between 2 trees 1"
   ]
  },
  {
   "cell_type": "code",
   "execution_count": 16,
   "id": "cf1633c1",
   "metadata": {},
   "outputs": [],
   "source": [
    "# Create  a dataframe of all the possible seed combinations (only intra)\n",
    "barcode_tree_pairs = []\n",
    "pairs = list(itertools.combinations(Seeds, (2)))\n",
    "\n",
    "for barcode in barcodes:\n",
    "    for pair in pairs:\n",
    "        seed1 = pair[0]\n",
    "        seed2 = pair[1]\n",
    "        barcode_tree_pairs.append('{}_{}_{}'.format(barcode, seed1, seed2))\n",
    "        \n",
    "multiseq_all_dists_df = pd.DataFrame(index = barcode_tree_pairs, columns = ['Barcode', 'Seed1', 'Seed2', 'Dist', 'Pen_Dist'])\n",
    "\n",
    "# add metadata and seed info to the dataframe\n",
    "for i in multiseq_all_dists_df.index:\n",
    "    barcode = i.split('_')[0]\n",
    "    Seed1 = i.split('_')[1]\n",
    "    Seed2 = i.split('_')[2]\n",
    "    \n",
    "    multiseq_all_dists_df.loc[i, 'Barcode'] = barcode\n",
    "    multiseq_all_dists_df.loc[i, 'Seed1'] = Seed1\n",
    "    multiseq_all_dists_df.loc[i, 'Seed2'] = Seed2"
   ]
  },
  {
   "cell_type": "code",
   "execution_count": 18,
   "id": "a7c74b7c",
   "metadata": {},
   "outputs": [],
   "source": [
    "# calculate the ternary distance for each comparison\n",
    "for barcode in multiseq_all_dists_df['Barcode'].unique():\n",
    "    temp_node_info = pd.read_csv('/Genomics/chanlab/blaw/TLS/data/ternary_dists/tree_seed_variability/{}/{}_node_information_filtered.txt'.format(barcode, barcode), sep = '\\t', index_col = 0)\n",
    "    \n",
    "    for index in multiseq_all_dists_df[multiseq_all_dists_df['Barcode'] == barcode].index:\n",
    "        Seed1 = multiseq_all_dists_df.loc[index, 'Seed1']\n",
    "        Seed2 = multiseq_all_dists_df.loc[index, 'Seed2']\n",
    "        \n",
    "        dist, pen_dist = calcTernaryDist(int(Seed1), int(Seed2), temp_node_info)\n",
    "        \n",
    "        multiseq_all_dists_df.loc[index, 'Dist'] = dist\n",
    "        multiseq_all_dists_df.loc[index, 'Pen_Dist'] = pen_dist"
   ]
  },
  {
   "cell_type": "code",
   "execution_count": 19,
   "id": "b1a7fd46",
   "metadata": {},
   "outputs": [],
   "source": [
    "multiseq_all_dists_df.to_csv('/Genomics/chanlab/blaw/TLS/data/ternary_dists/tree_seed_variability/multiseq_pairwise_Seeds_in_same_Bar_dists.txt', sep = '\\t')"
   ]
  },
  {
   "cell_type": "code",
   "execution_count": 10,
   "id": "24350cc9",
   "metadata": {},
   "outputs": [],
   "source": [
    "multiseq_all_dists_df = pd.read_csv('/Genomics/chanlab/blaw/TLS/data/ternary_dists/tree_seed_variability/multiseq_pairwise_Seeds_in_same_Bar_dists.txt', sep = '\\t', index_col = 0)"
   ]
  },
  {
   "cell_type": "code",
   "execution_count": 11,
   "id": "4746dab4",
   "metadata": {},
   "outputs": [],
   "source": [
    "seed_comparisons = set()\n",
    "barcodes = set()\n",
    "\n",
    "for i in multiseq_all_dists_df.index:\n",
    "    seed_comparison = i.split('_')[1] + '_' + i.split('_')[2]\n",
    "    \n",
    "    seed_comparisons.add(seed_comparison)\n",
    "    barcodes.add(i.split('_')[0])"
   ]
  },
  {
   "cell_type": "code",
   "execution_count": 12,
   "id": "c1b5f770",
   "metadata": {},
   "outputs": [],
   "source": [
    "barcode_dists_df = pd.DataFrame(index = seed_comparisons, columns = barcodes)\n",
    "barcode_pen_dists_df = pd.DataFrame(index = seed_comparisons, columns = barcodes)"
   ]
  },
  {
   "cell_type": "code",
   "execution_count": 13,
   "id": "2186d079",
   "metadata": {},
   "outputs": [],
   "source": [
    "for i in barcode_dists_df.index:\n",
    "    for j in barcode_dists_df.columns:\n",
    "        full_index = j + '_' + i\n",
    "        \n",
    "        barcode_dists_df.loc[i, j] = multiseq_all_dists_df.loc[full_index, 'Dist']\n",
    "        barcode_pen_dists_df.loc[i, j] = multiseq_all_dists_df.loc[full_index, 'Pen_Dist']"
   ]
  },
  {
   "cell_type": "code",
   "execution_count": 14,
   "id": "cd1b765f",
   "metadata": {},
   "outputs": [],
   "source": [
    "node_sizes = {}\n",
    "\n",
    "for barcode in multiseq_all_dists_df['Barcode'].unique():\n",
    "    temp_node_info = pd.read_csv('/Genomics/chanlab/blaw/TLS/data/ternary_dists/tree_seed_variability/{}/{}_node_information_filtered.txt'.format(barcode, barcode), sep = '\\t', index_col = 0)\n",
    "    \n",
    "    node_sizes[barcode] = len(temp_node_info[temp_node_info['Seed'] == 222])"
   ]
  },
  {
   "cell_type": "code",
   "execution_count": 15,
   "id": "143241b1",
   "metadata": {},
   "outputs": [],
   "source": [
    "for col in barcode_dists_df.columns:\n",
    "    barcode_dists_df[col] = barcode_dists_df[col] / node_sizes[col]"
   ]
  },
  {
   "cell_type": "code",
   "execution_count": 16,
   "id": "a892321a",
   "metadata": {},
   "outputs": [],
   "source": [
    "barcode_sizes = {}\n",
    "\n",
    "for barcode in barcodes:\n",
    "    treeFile = \"/Genomics/chanlab/blaw/TLS/data/AM-DNA-258/lineage/3_lineage_reconstruction/{}/{}_newick_noMutationlessEdges_Labeled.nwk\".format(barcode, barcode)\n",
    "    t = Tree(treeFile, format = 1)\n",
    "    \n",
    "    barcode_sizes[barcode] = len(t.get_leaves())"
   ]
  },
  {
   "cell_type": "code",
   "execution_count": 17,
   "id": "8777026b",
   "metadata": {},
   "outputs": [],
   "source": [
    "sorted_barcode_sizes = sorted(barcode_sizes.items(), key=lambda x:x[1], reverse=False)"
   ]
  },
  {
   "cell_type": "code",
   "execution_count": 18,
   "id": "0b00e0c4",
   "metadata": {},
   "outputs": [],
   "source": [
    "sorted_barcode_names = []\n",
    "for i in sorted_barcode_sizes:\n",
    "    sorted_barcode_names.append(i[0])"
   ]
  },
  {
   "cell_type": "code",
   "execution_count": 23,
   "id": "1ab9291a",
   "metadata": {},
   "outputs": [],
   "source": [
    "fig, ax = plt.subplots(figsize = (20, 5))\n",
    "sns.boxplot(data = barcode_dists_df, order = sorted_barcode_names)\n",
    "ax.set_ylabel('Normalized Ternary Distance')\n",
    "ax.set_title('Intra Seed Distances')\n",
    "#plt.show()\n",
    "plt.close()"
   ]
  },
  {
   "cell_type": "code",
   "execution_count": 25,
   "id": "064f2de2",
   "metadata": {},
   "outputs": [],
   "source": [
    "fig, ax = plt.subplots(figsize = (20, 5))\n",
    "sns.boxplot(data = barcode_pen_dists_df, order = sorted_barcode_names)\n",
    "ax.set_ylabel('Normalized Distance + Penalty')\n",
    "ax.set_title('Distances With Penalty')\n",
    "#plt.show()\n",
    "plt.close()"
   ]
  },
  {
   "cell_type": "markdown",
   "id": "5e9d7c46",
   "metadata": {},
   "source": [
    "# Randomly sample 2 TLS trees from different barcodes to see how the distances between different trees looks"
   ]
  },
  {
   "cell_type": "code",
   "execution_count": 29,
   "id": "e80c2a14",
   "metadata": {},
   "outputs": [],
   "source": [
    "dists = []\n",
    "pen_dists = []\n",
    "\n",
    "for i in range(435):\n",
    "    barcode1, barcode2 = random.sample(TLS_barcodes, 2)\n",
    "    \n",
    "    temp_bar1_node_info = pd.read_csv('/Genomics/chanlab/blaw/TLS/data/ternary_dists/tree_seed_variability/{}/{}_node_information_filtered.txt'.format(barcode1, barcode1), sep = '\\t', index_col = 0)\n",
    "    temp_bar2_node_info = pd.read_csv('/Genomics/chanlab/blaw/TLS/data/ternary_dists/tree_seed_variability/{}/{}_node_information_filtered.txt'.format(barcode2, barcode2), sep = '\\t', index_col = 0)\n",
    "\n",
    "    barcode1_seed = random.sample(Seeds, 1)[0]\n",
    "    barcode2_seed = random.sample(Seeds, 1)[0]\n",
    "    \n",
    "    temp_node_info = pd.concat([temp_bar1_node_info[temp_bar1_node_info['Seed'] == barcode1_seed], temp_bar2_node_info[temp_bar2_node_info['Seed'] == barcode2_seed]])\n",
    "    \n",
    "    dist, pen_dist = calcTernaryDist(barcode1, barcode2, temp_node_info, meta_col = 'Barcode')\n",
    "    \n",
    "    dists.append(dist)\n",
    "    pen_dists.append(pen_dist)"
   ]
  },
  {
   "cell_type": "code",
   "execution_count": 30,
   "id": "23c0e53a",
   "metadata": {},
   "outputs": [],
   "source": [
    "TLSCL_dists = []\n",
    "TLSCL_pen_dists = []\n",
    "\n",
    "for i in range(435):\n",
    "    barcode1, barcode2 = random.sample(TLSCL_barcodes, 2)\n",
    "    \n",
    "    temp_bar1_node_info = pd.read_csv('/Genomics/chanlab/blaw/TLS/data/ternary_dists/tree_seed_variability/{}/{}_node_information_filtered.txt'.format(barcode1, barcode1), sep = '\\t', index_col = 0)\n",
    "    temp_bar2_node_info = pd.read_csv('/Genomics/chanlab/blaw/TLS/data/ternary_dists/tree_seed_variability/{}/{}_node_information_filtered.txt'.format(barcode2, barcode2), sep = '\\t', index_col = 0)\n",
    "\n",
    "    barcode1_seed = random.sample(Seeds, 1)[0]\n",
    "    barcode2_seed = random.sample(Seeds, 1)[0]\n",
    "    \n",
    "    temp_node_info = pd.concat([temp_bar1_node_info[temp_bar1_node_info['Seed'] == barcode1_seed], temp_bar2_node_info[temp_bar2_node_info['Seed'] == barcode2_seed]])\n",
    "    \n",
    "    TLSCL_dist, TLSCL_pen_dist = calcTernaryDist(barcode1, barcode2, temp_node_info, meta_col = 'Barcode')\n",
    "    \n",
    "    TLSCL_dists.append(TLSCL_dist)\n",
    "    TLSCL_pen_dists.append(TLSCL_pen_dist)"
   ]
  },
  {
   "cell_type": "code",
   "execution_count": 31,
   "id": "db3cfd50",
   "metadata": {},
   "outputs": [],
   "source": [
    "barcode_dists_df['TLS_Trees'] = dists\n",
    "barcode_pen_dists_df['TLS_Trees'] = pen_dists\n",
    "barcode_dists_df['TLSCL_Trees'] = TLSCL_dists\n",
    "barcode_pen_dists_df['TLSCL_Trees'] = TLSCL_pen_dists"
   ]
  },
  {
   "cell_type": "code",
   "execution_count": 34,
   "id": "07244273",
   "metadata": {},
   "outputs": [],
   "source": [
    "fig, ax = plt.subplots(figsize = (25, 5))\n",
    "sns.boxplot(data = barcode_dists_df, order = sorted_barcode_names + ['TLS_Trees', 'TLSCL_Trees'])\n",
    "ax.set_ylabel('Normalized Ternary Distance')\n",
    "ax.set_title('Distances')\n",
    "plt.ylim(0, 0.5)\n",
    "plt.savefig('/Genomics/chanlab/blaw/TLS/data/ternary_dists/tree_seed_variability/results/tree_seed_variability_normalized_dist.pdf', dpi = 300)\n",
    "#plt.show()\n",
    "plt.close()"
   ]
  },
  {
   "cell_type": "code",
   "execution_count": 35,
   "id": "01fd0039",
   "metadata": {},
   "outputs": [],
   "source": [
    "fig, ax = plt.subplots(figsize = (25, 5))\n",
    "sns.boxplot(data = barcode_pen_dists_df, order = sorted_barcode_names + ['TLS_Trees', 'TLSCL_Trees'])\n",
    "ax.set_ylabel('Normalized Distance + Penalty')\n",
    "ax.set_title('Distances With Penalty')\n",
    "plt.savefig('/Genomics/chanlab/blaw/TLS/data/ternary_dists/tree_seed_variability/results/tree_seed_variability_normalized_dist_penalty.pdf', dpi = 300)\n",
    "#plt.show()\n",
    "plt.close()"
   ]
  },
  {
   "cell_type": "code",
   "execution_count": null,
   "id": "89b50239",
   "metadata": {},
   "outputs": [],
   "source": []
  }
 ],
 "metadata": {
  "kernelspec": {
   "display_name": "Python 3 (ipykernel)",
   "language": "python",
   "name": "python3"
  },
  "language_info": {
   "codemirror_mode": {
    "name": "ipython",
    "version": 3
   },
   "file_extension": ".py",
   "mimetype": "text/x-python",
   "name": "python",
   "nbconvert_exporter": "python",
   "pygments_lexer": "ipython3",
   "version": "3.9.11"
  }
 },
 "nbformat": 4,
 "nbformat_minor": 5
}
