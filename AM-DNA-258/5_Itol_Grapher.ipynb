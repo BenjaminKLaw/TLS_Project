{
 "cells": [
  {
   "cell_type": "code",
   "execution_count": 3,
   "id": "6a464c2c",
   "metadata": {},
   "outputs": [],
   "source": [
    "from IPython.display import Image\n",
    "#import gurobipy\n",
    "import cassiopeia as cas\n",
    "import pandas as pd\n",
    "import numpy as np\n",
    "import pickle\n",
    "import os\n",
    "import matplotlib.pyplot as plt\n",
    "import seaborn as sns\n",
    "from ete3 import Tree\n",
    "from typing import Tuple\n",
    "import scipy"
   ]
  },
  {
   "cell_type": "code",
   "execution_count": 14,
   "id": "dd147045",
   "metadata": {},
   "outputs": [],
   "source": [
    "start_dir = '/Genomics/chanlab/blaw/TLS/data/AM-DNA-258/lineage/3_lineage_reconstruction/'\n",
    "out_dir = '/Genomics/chanlab/blaw/TLS/data/AM-DNA-258/lineage/tree_graphing/'"
   ]
  },
  {
   "cell_type": "code",
   "execution_count": 5,
   "id": "f09249a7",
   "metadata": {},
   "outputs": [],
   "source": [
    "clusterColorsFile = \"/Genomics/chanlab/mchan/Adriano/TLS/TLS_TLSCL/20211102_clusterColorsTLSCL.p\"\n",
    "with open(clusterColorsFile,'rb') as fp:\n",
    "    colorDict = pickle.load(fp)"
   ]
  },
  {
   "cell_type": "code",
   "execution_count": 76,
   "id": "fa14cd82",
   "metadata": {},
   "outputs": [],
   "source": [
    "colors = ['#e6194b', '#3cb44b', '#ffe119', '#4363d8', '#f58231', '#911eb4', '#46f0f0', '#f032e6', '#bcf60c', '#fabebe', \n",
    "          '#008080', '#e6beff', '#9a6324', '#fffac8', '#800000', '#aaffc3', '#808000', '#ffd8b1', '#000075', '#808080', \n",
    "          '#ffffff', '#000000', '#1f77b4', '#aec7e8', '#ff7f0e', '#ffbb78', '#2ca02c', '#98df8a', '#d62728', '#ff9896',\n",
    "          '#9467bd', '#c5b0d5', '#8c564b', '#c49c94', '#e377c2', '#f7b6d2', '#7f7f7f', '#c7c7c7', '#bcbd22', '#dbdb8d',\n",
    "          '#17becf', '#9edae5']"
   ]
  },
  {
   "cell_type": "code",
   "execution_count": 79,
   "id": "9a0bbe0f",
   "metadata": {},
   "outputs": [],
   "source": [
    "def plotItol (barcode, file, colorList):\n",
    "    t = Tree(start_dir + barcode + '/' + file, format=1)\n",
    "    tree_meta = pd.read_csv(start_dir + barcode + '/' + barcode + '_metadata.txt', sep='\\t')\n",
    "    character_matrix = pd.read_csv(start_dir + barcode + '/' + barcode + '_character_matrix.txt', sep='\\t', index_col = 0)\n",
    "\n",
    "    prior_file = start_dir + barcode + '/' + barcode + '_priors.pickle'\n",
    "    with open(prior_file, 'rb') as f:\n",
    "        priors = pickle.load(f)\n",
    "\n",
    "    test_tree = cas.data.CassiopeiaTree(character_matrix=character_matrix, priors=priors, tree = t)\n",
    "\n",
    "    missing_proportion = (character_matrix == -1).sum(axis=0) / character_matrix.shape[0]\n",
    "    uncut_proportion = (character_matrix == 0).sum(axis=0) / character_matrix.shape[0]\n",
    "    n_unique_states = character_matrix.apply(lambda x: len(np.unique(x[(x != 0) & (x != -1)])), axis=0)\n",
    "\n",
    "    character_meta = pd.DataFrame([missing_proportion, uncut_proportion, n_unique_states], index = ['missing_prop', 'uncut_prop', 'n_unique_states']).T\n",
    "    test_tree.cell_meta = tree_meta\n",
    "    test_tree.character_meta = character_meta\n",
    "\n",
    "    test_tree.cell_meta['cluster'] = test_tree.cell_meta['cell_state'].str[2:-2]\n",
    "    test_tree.cell_meta['lenti'] = test_tree.cell_meta['StF_Group'].str[2:-2]\n",
    "    test_tree.cell_meta.set_index(\"cellBC\",inplace=True)\n",
    "\n",
    "    cas.pl.upload_and_export_itol(test_tree, 'AM-DNA-258_' + barcode + '_Final', api_key = 'jtMaYpxAc94ImqU7xJjubQ',\n",
    "                                  project_name = 'AM-DNA-258', export_filepath= out_dir + barcode + '_Final_Lenti_Tree.pdf', \n",
    "                                  meta_data = ['cluster', 'lenti'], palette = colorList)\n",
    "    \n",
    "    return test_tree"
   ]
  },
  {
   "cell_type": "code",
   "execution_count": 19,
   "id": "bb53f0c5",
   "metadata": {},
   "outputs": [
    {
     "name": "stdout",
     "output_type": "stream",
     "text": [
      "iTOL output: SUCCESS: 12811211774106851670433548\n",
      "\n",
      "Tree Web Page URL: http://itol.embl.de/external.cgi?tree=12811211774106851670433548&restore_saved=1\n",
      "Warnings: []\n"
     ]
    }
   ],
   "source": [
    "Bar1_color = ['#0000cd', '#30D5C8',\n",
    "             '#228B22', '#023020',\n",
    "             '#ff0000', '#ba55d3',\n",
    "             '#800080', '#9400d3',\n",
    "             '#FF00FF', '#FFC0CB',\n",
    "             '#808080', '#483d8b',\n",
    "             '#6a5acd', '#FFFF00']\n",
    "\n",
    "file = 'Bar1_ilp_newick_noMutationlessEdges.txt'\n",
    "barcode = 'Bar1'\n",
    "\n",
    "test_tree = plotItol(barcode, file, Bar1_color)"
   ]
  },
  {
   "cell_type": "code",
   "execution_count": 20,
   "id": "5750f142",
   "metadata": {},
   "outputs": [
    {
     "name": "stdout",
     "output_type": "stream",
     "text": [
      "iTOL output: SUCCESS: 12811211774107331670433553\n",
      "\n",
      "Tree Web Page URL: http://itol.embl.de/external.cgi?tree=12811211774107331670433553&restore_saved=1\n",
      "Warnings: []\n"
     ]
    }
   ],
   "source": [
    "Bar2_color = ['#0000cd', '#30D5C8',\n",
    "             '#228B22', '#023020',\n",
    "             '#ba55d3', '#800080',\n",
    "             '#9400d3', '#FF00FF',\n",
    "             '#FFC0CB', '#808080',\n",
    "             '#483d8b', '#6a5acd',\n",
    "             '#FFFF00', '#FF00FF']\n",
    "\n",
    "file = 'Bar2_ilp_newick_noMutationlessEdges.txt'\n",
    "barcode = 'Bar2'\n",
    "\n",
    "test_tree = plotItol(barcode, file, Bar2_color)"
   ]
  },
  {
   "cell_type": "code",
   "execution_count": 80,
   "id": "059ca11f",
   "metadata": {},
   "outputs": [
    {
     "name": "stdout",
     "output_type": "stream",
     "text": [
      "iTOL output: SUCCESS: 1281121177472651670442050\n",
      "\n",
      "Tree Web Page URL: http://itol.embl.de/external.cgi?tree=1281121177472651670442050&restore_saved=1\n",
      "Warnings: []\n"
     ]
    }
   ],
   "source": [
    "Bar3_color = ['#30D5C8', '#228B22',\n",
    "              '#ba55d3', '#9400d3',\n",
    "              '#FF00FF', '#FFC0CB',\n",
    "              '#808080', '#483d8b',\n",
    "              '#6a5acd', '',\n",
    "              '', '',\n",
    "              '', '']\n",
    "\n",
    "file = 'Bar3_hybrid_newick_noMutationlessEdges.txt'\n",
    "barcode = 'Bar3'\n",
    "\n",
    "test_tree = plotItol(barcode, file, colors)"
   ]
  },
  {
   "cell_type": "code",
   "execution_count": 22,
   "id": "a386f1f5",
   "metadata": {},
   "outputs": [
    {
     "name": "stdout",
     "output_type": "stream",
     "text": [
      "iTOL output: SUCCESS: 12811211774108381670433578\n",
      "\n",
      "Tree Web Page URL: http://itol.embl.de/external.cgi?tree=12811211774108381670433578&restore_saved=1\n",
      "Warnings: []\n"
     ]
    }
   ],
   "source": [
    "Bar4_color = ['#0000cd', '#30D5C8',\n",
    "             '#228B22', '#023020',\n",
    "             '#ba55d3', '#800080',\n",
    "             '#9400d3', '#FF00FF',\n",
    "             '#FFC0CB', '#808080',\n",
    "             '#483d8b', '#6a5acd',\n",
    "             '#FFFF00', '#ff0000']\n",
    "\n",
    "file = 'Bar4_ilp_newick_noMutationlessEdges.txt'\n",
    "barcode = 'Bar4'\n",
    "\n",
    "test_tree = plotItol(barcode, file, Bar4_color)"
   ]
  },
  {
   "cell_type": "code",
   "execution_count": 23,
   "id": "8230c60d",
   "metadata": {},
   "outputs": [
    {
     "name": "stdout",
     "output_type": "stream",
     "text": [
      "iTOL output: SUCCESS: 12811211774108841670433583\n",
      "\n",
      "Tree Web Page URL: http://itol.embl.de/external.cgi?tree=12811211774108841670433583&restore_saved=1\n",
      "Warnings: []\n"
     ]
    }
   ],
   "source": [
    "Bar5_color = ['#FFFF00', '#0000cd',\n",
    "             '#30D5C8', '#228B22',\n",
    "             '#023020', '#ff0000',\n",
    "             '#ba55d3', '#800080',\n",
    "             '#9400d3', '#FF00FF',\n",
    "             '#FFC0CB', '#30D5C8',\n",
    "             '#483d8b', '#6a5acd']\n",
    "\n",
    "file = 'Bar5_ilp_newick_noMutationlessEdges.txt'\n",
    "barcode = 'Bar5'\n",
    "\n",
    "test_tree = plotItol(barcode, file, Bar5_color)"
   ]
  },
  {
   "cell_type": "code",
   "execution_count": 24,
   "id": "96c509c3",
   "metadata": {},
   "outputs": [
    {
     "name": "stdout",
     "output_type": "stream",
     "text": [
      "iTOL output: SUCCESS: 12811211774109381670433588\n",
      "\n",
      "Tree Web Page URL: http://itol.embl.de/external.cgi?tree=12811211774109381670433588&restore_saved=1\n",
      "Warnings: []\n"
     ]
    }
   ],
   "source": [
    "Bar6_color = ['#FFFF00', '#30D5C8',\n",
    "             '#30D5C8', '#ba55d3',\n",
    "             '#9400d3', '#FF00FF',\n",
    "             '#FFC0CB', '#483d8b',\n",
    "             '#6a5acd', '#FF00FF',\n",
    "             '#FFC0CB', '#228B22',\n",
    "             '#483d8b', '#6a5acd']\n",
    "\n",
    "file = 'Bar6_ilp_newick_noMutationlessEdges.txt'\n",
    "barcode = 'Bar6'\n",
    "\n",
    "test_tree = plotItol(barcode, file, Bar6_color)"
   ]
  },
  {
   "cell_type": "code",
   "execution_count": 25,
   "id": "e6c02429",
   "metadata": {},
   "outputs": [
    {
     "name": "stdout",
     "output_type": "stream",
     "text": [
      "iTOL output: SUCCESS: 12811211774109811670433593\n",
      "\n",
      "Tree Web Page URL: http://itol.embl.de/external.cgi?tree=12811211774109811670433593&restore_saved=1\n",
      "Warnings: []\n"
     ]
    }
   ],
   "source": [
    "Bar7_color = ['#30D5C8', '#228B22',\n",
    "                '#023020', '#ff0000',\n",
    "                '#ba55d3', '#800080',\n",
    "                '#9400d3', '#FF00FF',\n",
    "                '#FFC0CB', '#808080',\n",
    "                '#483d8b', '#6a5acd',\n",
    "                '#0000cd', '']\n",
    "\n",
    "file = 'Bar7_ilp_newick_noMutationlessEdges.txt'\n",
    "barcode = 'Bar7'\n",
    "\n",
    "test_tree = plotItol(barcode, file, Bar7_color)"
   ]
  },
  {
   "cell_type": "code",
   "execution_count": 26,
   "id": "6807f6c8",
   "metadata": {},
   "outputs": [
    {
     "name": "stdout",
     "output_type": "stream",
     "text": [
      "iTOL output: SUCCESS: 12811211774110301670433598\n",
      "\n",
      "Tree Web Page URL: http://itol.embl.de/external.cgi?tree=12811211774110301670433598&restore_saved=1\n",
      "Warnings: []\n"
     ]
    }
   ],
   "source": [
    "Bar9_color = ['#30D5C8', '#228B22',\n",
    "              '#023020', '#ff0000',\n",
    "              '#ba55d3', '#800080',\n",
    "              '#9400d3', '#FF00FF',\n",
    "              '#FFC0CB', '#483d8b',\n",
    "              '#6a5acd', '#FFFF00',\n",
    "              '#0000cd', '#808080']\n",
    "\n",
    "file = 'Bar9_ilp_newick_noMutationlessEdges.txt'\n",
    "barcode = 'Bar9'\n",
    "\n",
    "test_tree = plotItol(barcode, file, Bar9_color)"
   ]
  },
  {
   "cell_type": "code",
   "execution_count": 35,
   "id": "7a5ca2bb",
   "metadata": {},
   "outputs": [
    {
     "name": "stdout",
     "output_type": "stream",
     "text": [
      "iTOL output: SUCCESS: 12811211774486111670440266\n",
      "\n",
      "Tree Web Page URL: http://itol.embl.de/external.cgi?tree=12811211774486111670440266&restore_saved=1\n",
      "Warnings: []\n"
     ]
    }
   ],
   "source": [
    "Bar10_color = ['#FFFF00', '#FFC0CB',\n",
    "              '#30D5C8', '#228B22',\n",
    "              '#023020', '#ba55d3',\n",
    "              '#800080', '#9400d3',\n",
    "              '#FF00FF', '#FFC0CB',\n",
    "              '#808080', '#483d8b',\n",
    "              '#6a5acd', '#ff0000']\n",
    "\n",
    "file = 'Bar10_ilp_newick_noMutationlessEdges.txt'\n",
    "barcode = 'Bar10'\n",
    "\n",
    "test_tree = plotItol(barcode, file, Bar10_color)"
   ]
  },
  {
   "cell_type": "code",
   "execution_count": 36,
   "id": "51acb702",
   "metadata": {},
   "outputs": [
    {
     "name": "stdout",
     "output_type": "stream",
     "text": [
      "iTOL output: SUCCESS: 12811211774487031670440273\n",
      "\n",
      "Tree Web Page URL: http://itol.embl.de/external.cgi?tree=12811211774487031670440273&restore_saved=1\n",
      "Warnings: []\n"
     ]
    }
   ],
   "source": [
    "Bar11_color = ['#0000cd', '#30D5C8',\n",
    "              '#228B22', '#023020',\n",
    "              '#ff0000', '#ba55d3',\n",
    "              '#800080', '#9400d3',\n",
    "              '#FF00FF', '#FFC0CB',\n",
    "              '#483d8b', '#6a5acd',\n",
    "              '#808080', '#FFFF00']\n",
    "\n",
    "file = 'Bar11_ilp_newick_noMutationlessEdges.txt'\n",
    "barcode = 'Bar11'\n",
    "\n",
    "test_tree = plotItol(barcode, file, Bar11_color)"
   ]
  },
  {
   "cell_type": "code",
   "execution_count": 37,
   "id": "0a0b3d26",
   "metadata": {},
   "outputs": [
    {
     "name": "stdout",
     "output_type": "stream",
     "text": [
      "iTOL output: SUCCESS: 12811211774487531670440278\n",
      "\n",
      "Tree Web Page URL: http://itol.embl.de/external.cgi?tree=12811211774487531670440278&restore_saved=1\n",
      "Warnings: []\n"
     ]
    }
   ],
   "source": [
    "Bar12_color = ['#FFFF00', '#30D5C8',\n",
    "              '#228B22', '#023020',\n",
    "              '#ff0000', '#ba55d3',\n",
    "              '#800080', '#9400d3',\n",
    "              '#FF00FF', '#FFC0CB',\n",
    "              '#483d8b', '#6a5acd',\n",
    "              '#808080', '#0000cd']\n",
    "\n",
    "file = 'Bar12_ilp_newick_noMutationlessEdges.txt'\n",
    "barcode = 'Bar12'\n",
    "\n",
    "test_tree = plotItol(barcode, file, Bar12_color)"
   ]
  },
  {
   "cell_type": "code",
   "execution_count": 38,
   "id": "82ce6484",
   "metadata": {},
   "outputs": [
    {
     "name": "stdout",
     "output_type": "stream",
     "text": [
      "iTOL output: SUCCESS: 12811211774488171670440283\n",
      "\n",
      "Tree Web Page URL: http://itol.embl.de/external.cgi?tree=12811211774488171670440283&restore_saved=1\n",
      "Warnings: []\n"
     ]
    }
   ],
   "source": [
    "Bar13_color = ['#0000cd', '#30D5C8',\n",
    "              '#228B22', '#023020',\n",
    "              '#ba55d3', '#800080',\n",
    "              '#9400d3', '#FF00FF',\n",
    "              '#FFC0CB', '#808080',\n",
    "              '#483d8b', '#6a5acd',\n",
    "              '#ff0000', '#FFFF00']\n",
    "\n",
    "file = 'Bar13_ilp_newick_noMutationlessEdges.txt'\n",
    "barcode = 'Bar13'\n",
    "\n",
    "test_tree = plotItol(barcode, file, Bar13_color)"
   ]
  },
  {
   "cell_type": "code",
   "execution_count": 81,
   "id": "9e96fc45",
   "metadata": {},
   "outputs": [
    {
     "name": "stdout",
     "output_type": "stream",
     "text": [
      "iTOL output: SUCCESS: 1281121177473501670442065\n",
      "\n",
      "Tree Web Page URL: http://itol.embl.de/external.cgi?tree=1281121177473501670442065&restore_saved=1\n",
      "Warnings: []\n"
     ]
    }
   ],
   "source": [
    "Bar14_color = ['#FFFF00', '#30D5C8',\n",
    "              '#228B22', '#ba55d3',\n",
    "              '#800080', '#9400d3',\n",
    "              '#FF00FF', '#FFC0CB',\n",
    "              '#808080', '#483d8b',\n",
    "              '#6a5acd', '#023020',\n",
    "              '#0000cd', '#ff0000']\n",
    "\n",
    "file = 'Bar14_ilp_newick_noMutationlessEdges.txt'\n",
    "barcode = 'Bar14'\n",
    "\n",
    "test_tree = plotItol(barcode, file, colors)"
   ]
  },
  {
   "cell_type": "code",
   "execution_count": 40,
   "id": "8f28846c",
   "metadata": {},
   "outputs": [
    {
     "name": "stdout",
     "output_type": "stream",
     "text": [
      "iTOL output: SUCCESS: 1281121177410961670440513\n",
      "\n",
      "Tree Web Page URL: http://itol.embl.de/external.cgi?tree=1281121177410961670440513&restore_saved=1\n",
      "Warnings: []\n"
     ]
    }
   ],
   "source": [
    "Bar15_color = ['#30D5C8', '#228B22',\n",
    "              '#ba55d3', '#9400d3',\n",
    "              '#FF00FF', '#FFC0CB',\n",
    "              '#808080', '#483d8b',\n",
    "              '#6a5acd', '',\n",
    "              '', '',\n",
    "              '', '']\n",
    "\n",
    "file = 'Bar15_ilp_newick_noMutationlessEdges.txt'\n",
    "barcode = 'Bar15'\n",
    "\n",
    "test_tree = plotItol(barcode, file, Bar15_color)"
   ]
  },
  {
   "cell_type": "code",
   "execution_count": 41,
   "id": "e552dc19",
   "metadata": {},
   "outputs": [
    {
     "name": "stdout",
     "output_type": "stream",
     "text": [
      "iTOL output: SUCCESS: 1281121177411471670440518\n",
      "\n",
      "Tree Web Page URL: http://itol.embl.de/external.cgi?tree=1281121177411471670440518&restore_saved=1\n",
      "Warnings: []\n"
     ]
    }
   ],
   "source": [
    "Bar16_color = ['#FFFF00', '#0000cd',\n",
    "              '#30D5C8', '#228B22',\n",
    "              '#023020', '#ba55d3',\n",
    "              '#800080', '#9400d3',\n",
    "              '#FF00FF', '#FFC0CB',\n",
    "              '#808080', '#483d8b',\n",
    "              '#6a5acd', '']\n",
    "\n",
    "file = 'Bar16_ilp_newick_noMutationlessEdges.txt'\n",
    "barcode = 'Bar16'\n",
    "\n",
    "test_tree = plotItol(barcode, file, Bar16_color)"
   ]
  },
  {
   "cell_type": "code",
   "execution_count": 42,
   "id": "7b6c4427",
   "metadata": {},
   "outputs": [
    {
     "name": "stdout",
     "output_type": "stream",
     "text": [
      "iTOL output: SUCCESS: 1281121177412011670440523\n",
      "\n",
      "Tree Web Page URL: http://itol.embl.de/external.cgi?tree=1281121177412011670440523&restore_saved=1\n",
      "Warnings: []\n"
     ]
    }
   ],
   "source": [
    "Bar18_color = ['#ba55d3', '#9400d3',\n",
    "              '#FF00FF', '#FFC0CB',\n",
    "              '#808080', '',\n",
    "              '', '',\n",
    "              '', '',\n",
    "              '', '',\n",
    "              '', '']\n",
    "\n",
    "file = 'Bar18_ilp_newick_noMutationlessEdges.txt'\n",
    "barcode = 'Bar18'\n",
    "\n",
    "test_tree = plotItol(barcode, file, Bar18_color)"
   ]
  },
  {
   "cell_type": "code",
   "execution_count": 43,
   "id": "db9cfcee",
   "metadata": {},
   "outputs": [
    {
     "name": "stdout",
     "output_type": "stream",
     "text": [
      "iTOL output: SUCCESS: 1281121177412581670440527\n",
      "\n",
      "Tree Web Page URL: http://itol.embl.de/external.cgi?tree=1281121177412581670440527&restore_saved=1\n",
      "Warnings: []\n"
     ]
    }
   ],
   "source": [
    "Bar19_color = ['#0000cd', '#30D5C8',\n",
    "              '#228B22', '#023020',\n",
    "              '#ba55d3', '#800080',\n",
    "              '#9400d3', '#FF00FF',\n",
    "              '#FFC0CB', '#808080',\n",
    "              '#483d8b', '#6a5acd',\n",
    "              '', '']\n",
    "\n",
    "file = 'Bar19_ilp_newick_noMutationlessEdges.txt'\n",
    "barcode = 'Bar19'\n",
    "\n",
    "test_tree = plotItol(barcode, file, Bar19_color)"
   ]
  },
  {
   "cell_type": "code",
   "execution_count": 49,
   "id": "71b60bac",
   "metadata": {},
   "outputs": [
    {
     "name": "stdout",
     "output_type": "stream",
     "text": [
      "iTOL output: SUCCESS: 1281121177430961670440846\n",
      "\n",
      "Tree Web Page URL: http://itol.embl.de/external.cgi?tree=1281121177430961670440846&restore_saved=1\n",
      "Warnings: []\n"
     ]
    }
   ],
   "source": [
    "Bar20_color = ['#30D5C8', '#228B22',\n",
    "              '#ba55d3', '#800080',\n",
    "              '#9400d3', '#FF00FF',\n",
    "              '#FFC0CB', '#808080',\n",
    "              '#483d8b', '#6a5acd',\n",
    "              '', '',\n",
    "              '', '']\n",
    "\n",
    "file = 'Bar20_ilp_newick_noMutationlessEdges.txt'\n",
    "barcode = 'Bar20'\n",
    "\n",
    "test_tree = plotItol(barcode, file, Bar20_color)"
   ]
  },
  {
   "cell_type": "code",
   "execution_count": 45,
   "id": "396e02b3",
   "metadata": {},
   "outputs": [
    {
     "name": "stdout",
     "output_type": "stream",
     "text": [
      "iTOL output: SUCCESS: 1281121177413681670440537\n",
      "\n",
      "Tree Web Page URL: http://itol.embl.de/external.cgi?tree=1281121177413681670440537&restore_saved=1\n",
      "Warnings: []\n"
     ]
    }
   ],
   "source": [
    "Bar21_color = ['#30D5C8', '#228B22',\n",
    "              '#ff0000', '#ba55d3',\n",
    "              '#800080', '#9400d3',\n",
    "              '#FF00FF', '#FFC0CB',\n",
    "              '#808080', '#483d8b',\n",
    "              '#6a5acd', '',\n",
    "              '', '']\n",
    "\n",
    "file = 'Bar21_ilp_newick_noMutationlessEdges.txt'\n",
    "barcode = 'Bar21'\n",
    "\n",
    "test_tree = plotItol(barcode, file, Bar21_color)"
   ]
  },
  {
   "cell_type": "code",
   "execution_count": 46,
   "id": "9c63dd65",
   "metadata": {},
   "outputs": [
    {
     "name": "stdout",
     "output_type": "stream",
     "text": [
      "iTOL output: SUCCESS: 1281121177414311670440542\n",
      "\n",
      "Tree Web Page URL: http://itol.embl.de/external.cgi?tree=1281121177414311670440542&restore_saved=1\n",
      "Warnings: []\n"
     ]
    }
   ],
   "source": [
    "Bar22_color = ['#FFFF00', '#0000cd',\n",
    "              '#30D5C8', '#228B22',\n",
    "              '#023020', '#ff0000',\n",
    "              '#ba55d3', '#800080',\n",
    "              '#9400d3', '#FF00FF',\n",
    "              '#FFC0CB', '#808080',\n",
    "              '#483d8b', '#6a5acd']\n",
    "\n",
    "file = 'Bar22_ilp_newick_noMutationlessEdges.txt'\n",
    "barcode = 'Bar22'\n",
    "\n",
    "test_tree = plotItol(barcode, file, Bar22_color)"
   ]
  },
  {
   "cell_type": "code",
   "execution_count": 47,
   "id": "eef6d9ba",
   "metadata": {},
   "outputs": [
    {
     "name": "stdout",
     "output_type": "stream",
     "text": [
      "iTOL output: SUCCESS: 1281121177414911670440548\n",
      "\n",
      "Tree Web Page URL: http://itol.embl.de/external.cgi?tree=1281121177414911670440548&restore_saved=1\n",
      "Warnings: []\n"
     ]
    }
   ],
   "source": [
    "Bar23_color = ['#30D5C8', '#228B22',\n",
    "              '#ba55d3', '#9400d3',\n",
    "              '#FF00FF', '#FFC0CB',\n",
    "              '#808080', '#483d8b',\n",
    "              '#6a5acd', '',\n",
    "              '', '',\n",
    "              '', '']\n",
    "\n",
    "file = 'Bar23_ilp_newick_noMutationlessEdges.txt'\n",
    "barcode = 'Bar23'\n",
    "\n",
    "test_tree = plotItol(barcode, file, Bar23_color)"
   ]
  },
  {
   "cell_type": "code",
   "execution_count": 48,
   "id": "2269ef70",
   "metadata": {},
   "outputs": [
    {
     "name": "stdout",
     "output_type": "stream",
     "text": [
      "iTOL output: SUCCESS: 1281121177415621670440553\n",
      "\n",
      "Tree Web Page URL: http://itol.embl.de/external.cgi?tree=1281121177415621670440553&restore_saved=1\n",
      "Warnings: []\n"
     ]
    }
   ],
   "source": [
    "Bar24_color = ['#FFFF00', '#30D5C8',\n",
    "              '#023020', '#ba55d3',\n",
    "              '#800080', '#9400d3',\n",
    "              '#FF00FF', '#FFC0CB',\n",
    "              '#483d8b', '#6a5acd',\n",
    "              '', '',\n",
    "              '', '']\n",
    "\n",
    "file = 'Bar24_ilp_newick_noMutationlessEdges.txt'\n",
    "barcode = 'Bar24'\n",
    "\n",
    "test_tree = plotItol(barcode, file, Bar24_color)"
   ]
  },
  {
   "cell_type": "code",
   "execution_count": null,
   "id": "43ddaaf6",
   "metadata": {},
   "outputs": [],
   "source": []
  }
 ],
 "metadata": {
  "kernelspec": {
   "display_name": "Python 3 (ipykernel)",
   "language": "python",
   "name": "python3"
  },
  "language_info": {
   "codemirror_mode": {
    "name": "ipython",
    "version": 3
   },
   "file_extension": ".py",
   "mimetype": "text/x-python",
   "name": "python",
   "nbconvert_exporter": "python",
   "pygments_lexer": "ipython3",
   "version": "3.9.11"
  }
 },
 "nbformat": 4,
 "nbformat_minor": 5
}
