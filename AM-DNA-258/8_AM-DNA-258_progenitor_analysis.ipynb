{
 "cells": [
  {
   "cell_type": "code",
   "execution_count": 1,
   "id": "4034e789",
   "metadata": {},
   "outputs": [],
   "source": [
    "import sys\n",
    "import numpy as np\n",
    "import pandas as pd\n",
    "import scipy as sp\n",
    "import scanpy as sc\n",
    "import cassiopeia as cas\n",
    "import seaborn as sns\n",
    "import collections\n",
    "import scipy.sparse as sp_sparse\n",
    "import scipy.io\n",
    "import tables\n",
    "import csv\n",
    "import itertools\n",
    "\n",
    "from matplotlib.pyplot import rc_context\n",
    "from matplotlib import pyplot as plt\n",
    "from matplotlib.backends.backend_pdf import PdfPages\n",
    "import pickle\n",
    "from pylab import *\n",
    "from ete3 import Tree\n",
    "from typing import Tuple\n",
    "\n",
    "import statistics as stats"
   ]
  },
  {
   "cell_type": "code",
   "execution_count": 2,
   "id": "0f101fe4",
   "metadata": {},
   "outputs": [],
   "source": [
    "# Load the table of cell states\n",
    "cell_state_table = pd.read_csv('/Genomics/chanlab/blaw/TLS/metadata/TLS_TLSCL_cellBC_cellState.tsv', sep='\\t')\n",
    "\n",
    "clusterColorsFile = \"/Genomics/chanlab/mchan/Adriano/TLS/TLS_TLSCL/20211102_clusterColorsTLSCL.p\"\n",
    "with open(clusterColorsFile,'rb') as fp:\n",
    "    colorDict = pickle.load(fp)\n",
    "    \n",
    "multiSeq_BC = pd.read_csv('/Genomics/chanlab/blaw/TLS/metadata/multiseq_barcodes.txt', sep = '\\t')"
   ]
  },
  {
   "cell_type": "code",
   "execution_count": 3,
   "id": "2205d739",
   "metadata": {},
   "outputs": [],
   "source": [
    "# Helpful lists. Removing Bar8 and Bar18\n",
    "barcodes = [\"Bar1\", 'Bar2', 'Bar3', 'Bar4', 'Bar5', 'Bar6','Bar7','Bar9','Bar10','Bar11', 'Bar12', 'Bar13','Bar14',\n",
    "            'Bar15', 'Bar16', 'Bar19','Bar20','Bar21', 'Bar22','Bar23','Bar24']\n",
    "\n",
    "TLS_barcodes = ['Bar1', 'Bar2', 'Bar4', 'Bar5', 'Bar7', 'Bar10', 'Bar11', 'Bar13', 'Bar16', 'Bar19', 'Bar22']\n",
    "TLSCL_barcodes = ['Bar3', 'Bar6', 'Bar9', 'Bar12', 'Bar14', 'Bar15', 'Bar20', 'Bar21', 'Bar23', 'Bar24']\n",
    "\n",
    "colors = ['#e6194b', '#3cb44b', '#ffe119', '#4363d8', '#f58231', '#911eb4', '#46f0f0', '#f032e6', '#bcf60c', '#fabebe', \n",
    "          '#008080', '#e6beff', '#9a6324', '#fffac8', '#800000', '#aaffc3', '#808000', '#ffd8b1', '#000075', '#808080', \n",
    "          '#ffffff', '#000000']"
   ]
  },
  {
   "cell_type": "markdown",
   "id": "a301d8c6",
   "metadata": {},
   "source": [
    "### Helpful Functions"
   ]
  },
  {
   "cell_type": "code",
   "execution_count": 4,
   "id": "71a7d615",
   "metadata": {},
   "outputs": [],
   "source": [
    "def addTLSCL(BC):\n",
    "    test = multiSeq_BC.set_index('ID').loc[BC]['TLS ID']\n",
    "    if test.startswith('TLSCL'):\n",
    "        return 'TLSCL'\n",
    "    elif test == 'Doublet':\n",
    "        return 'Doublet'\n",
    "    elif test == 'Negative':\n",
    "        return 'Negative'\n",
    "    else:\n",
    "        return 'TLS'"
   ]
  },
  {
   "cell_type": "code",
   "execution_count": 5,
   "id": "d0c2ae99",
   "metadata": {},
   "outputs": [],
   "source": [
    "def maxDepth(node):\n",
    "    '''\n",
    "    Input:\n",
    "        - a node in an ete tree\n",
    "    returns:\n",
    "        - The max depth of any branch in that node\n",
    "    '''\n",
    "    if node.is_leaf():\n",
    "        return 0\n",
    "    children_depths = []\n",
    "    \n",
    "    for child in node.children:\n",
    "        test = maxDepth(child)\n",
    "        \n",
    "        children_depths.append(test)\n",
    "        \n",
    "    return max(children_depths) + 1"
   ]
  },
  {
   "cell_type": "code",
   "execution_count": 6,
   "id": "5cdd5723",
   "metadata": {},
   "outputs": [],
   "source": [
    "def countNMP_Somite_Neural(node, cell_state_table):\n",
    "    '''\n",
    "    Input:\n",
    "        - a node in an ete tree\n",
    "        - a table of cell states for each cellBC\n",
    "    return:\n",
    "        - A tuple of the number of NMP, somitic, and neural cells that are leaves of the node\n",
    "    '''\n",
    "    leaves = [leaf.name for leaf in node.get_leaves()]\n",
    "\n",
    "    cell_types = cell_state_table[cell_state_table['cellBC'].isin(leaves)]['cell_state'].to_list()\n",
    "\n",
    "    # Group the Neural and Somite cell states into 1 category and remove PGCLC, Endoderm, Unknown, Epithelial\n",
    "    somitic_count = 0\n",
    "    NMP_count = 0\n",
    "    neural_count = 0\n",
    "    for state in cell_types:\n",
    "        if state in ['pPSM', 'aPSM', 'Somite', 'Somite0', 'Somite1', 'Somite-1', 'SomiteSclero', 'SomiteDermo']:\n",
    "            somitic_count += 1\n",
    "        elif state in ['NeuralTube1', 'NeuralTube2']:\n",
    "            neural_count += 1\n",
    "        elif state in ['NMPs']:\n",
    "            NMP_count += 1\n",
    "\n",
    "    return (NMP_count, somitic_count, neural_count)"
   ]
  },
  {
   "cell_type": "code",
   "execution_count": 7,
   "id": "32eacfe7",
   "metadata": {},
   "outputs": [],
   "source": [
    "def aitchisonDist (x, y):\n",
    "    '''\n",
    "    Input:\n",
    "        x - a list or array of composition values in sample1\n",
    "        y - a list or array of composition values in sample2\n",
    "        \n",
    "        Assumes that all 0 values have been removed and that the composition values in the list are connected by index\n",
    "    return:\n",
    "        a distance between the 2 vectors\n",
    "    '''\n",
    "    meanX = sum(x) / len(x)\n",
    "    meanY = sum(y) / len(y)\n",
    "    \n",
    "    distSum = 0\n",
    "    \n",
    "    for index, value in enumerate(x):\n",
    "        tempX = np.log(x[index] / meanX)\n",
    "        tempY = np.log(y[index] / meanY)\n",
    "        \n",
    "        distSum += (tempX - tempY) ** 2\n",
    "        \n",
    "    return np.sqrt(distSum)"
   ]
  },
  {
   "cell_type": "markdown",
   "id": "966f6024",
   "metadata": {},
   "source": [
    "# Create a node table across all experiments\n",
    "- Nodes will be filtered to remove any node that contains an Endoderm, Endothelial, PGCLC, or Unknown cell type\n",
    "- Nodes will be filtered based off size (removing nodes with less than 4 cells)\n",
    "- All somitic cell types will be grouped into Somite\n",
    "- All neural cell types will be grouped into Neural"
   ]
  },
  {
   "cell_type": "code",
   "execution_count": 8,
   "id": "91afe1cf",
   "metadata": {},
   "outputs": [],
   "source": [
    "node_count = 0\n",
    "\n",
    "for barcode in TLSCL_barcodes:\n",
    "    treeFile = \"/Genomics/chanlab/blaw/TLS/data/AM-DNA-258/lineage/3_lineage_reconstruction/{}/{}_newick_noMutationlessEdges_Labeled.nwk\".format(barcode, barcode)\n",
    "    t = Tree(treeFile, format = 1)\n",
    "    \n",
    "    for node in t.traverse():\n",
    "        if not node.is_leaf():\n",
    "            node_count += 1"
   ]
  },
  {
   "cell_type": "code",
   "execution_count": 10,
   "id": "3088956d",
   "metadata": {},
   "outputs": [],
   "source": [
    "node_columns = ['Barcode', 'Node', 'Node Size', 'Clone', 'Clone Size', 'Max Clone Depth', 'Dist to Clone', 'Percent NMP', \n",
    "                'Percent Somitic', 'Percent Neural']\n",
    "node_info = pd.DataFrame(columns = node_columns)\n",
    "\n",
    "# Store the node information of nodes to filter\n",
    "bad_nodes = []\n",
    "small_nodes = []\n",
    "\n",
    "for barcode in barcodes:\n",
    "    treeFile = \"/Genomics/chanlab/blaw/TLS/data/AM-DNA-258/lineage/3_lineage_reconstruction/{}/{}_newick_noMutationlessEdges_Labeled.nwk\".format(barcode, barcode)\n",
    "    t = Tree(treeFile, format = 1)\n",
    "    \n",
    "    # Add all nodes in the tree to the node_info dataframe\n",
    "    node_names = []\n",
    "    for node in t.traverse():\n",
    "        if node.name != 'node0' and not node.is_leaf():\n",
    "            node_names.append('{}_{}'.format(barcode, node.name))\n",
    "            \n",
    "    temp_node_info = pd.DataFrame(index = node_names, columns = node_columns)\n",
    "    node_info = pd.concat((node_info, temp_node_info))\n",
    "    \n",
    "    # fill in node information, don't keep roots\n",
    "    for clone in t.children:\n",
    "        clone_max_depth = maxDepth(clone)\n",
    "\n",
    "        for node in clone.traverse():\n",
    "            if not node.is_leaf():\n",
    "                leaves = [leaf.name for leaf in node.get_leaves()]\n",
    "                cell_types = cell_state_table[cell_state_table['cellBC'].isin(leaves)]['cell_state'].to_list()\n",
    "                \n",
    "                # Record nodes that need to be removed\n",
    "                if 'Endoderm' in cell_types or 'PCGLC' in cell_types or 'Unknown' in cell_types or 'Endothelial' in cell_types:\n",
    "                    bad_nodes.append('{}_{}'.format(barcode, node.name))\n",
    "                elif len(leaves) < 4:\n",
    "                    small_nodes.append('{}_{}'.format(barcode, node.name))\n",
    "                \n",
    "                NMP_count, somitic_count, neural_count = countNMP_Somite_Neural(node, cell_state_table)\n",
    "                \n",
    "                total = sum(somitic_count + NMP_count + neural_count)\n",
    "                if total > 0:\n",
    "                    NMP_frac = NMP_count / total\n",
    "                    somitic_frac = somitic_count / total\n",
    "                    neural_frac = neural_count / total\n",
    "                else:\n",
    "                    NMP_frac = 0\n",
    "                    somitic_frac = 0\n",
    "                    neural_frac = 0\n",
    "                \n",
    "                # Record node information to the large table\n",
    "                node_info.loc['{}_{}'.format(barcode, node.name), 'Barcode'] = barcode\n",
    "                node_info.loc['{}_{}'.format(barcode, node.name), 'Node'] = node.name\n",
    "                node_info.loc['{}_{}'.format(barcode, node.name), 'Node Size'] = len(node.get_leaves())\n",
    "                node_info.loc['{}_{}'.format(barcode, node.name), 'Clone'] = clone.name\n",
    "                node_info.loc['{}_{}'.format(barcode, node.name), 'Clone Size'] = len(clone.get_leaves())\n",
    "                node_info.loc['{}_{}'.format(barcode, node.name), 'Max Clone Depth'] = clone_max_depth\n",
    "                node_info.loc['{}_{}'.format(barcode, node.name), 'Dist to Clone'] = t.get_distance(clone, node)\n",
    "                node_info.loc['{}_{}'.format(barcode, node.name), 'Percent NMP'] = NMP_frac\n",
    "                node_info.loc['{}_{}'.format(barcode, node.name), 'Percent Somitic'] = somitic_frac\n",
    "                node_info.loc['{}_{}'.format(barcode, node.name), 'Percent Neural'] = neural_frac\n",
    "    \n",
    "node_info.drop(index = bad_nodes, inplace = True)\n",
    "node_info.drop(index = small_nodes, inplace = True)"
   ]
  },
  {
   "cell_type": "code",
   "execution_count": 11,
   "id": "ad0b2af1",
   "metadata": {},
   "outputs": [],
   "source": [
    "# Calculate the normalized Depth of each node\n",
    "node_info['Normalized Dist'] = node_info['Dist to Clone'] / node_info['Max Clone Depth']\n",
    "\n",
    "# Add TLSCL metadata\n",
    "node_info['TLSCL'] = node_info['Barcode'].map(addTLSCL)"
   ]
  },
  {
   "cell_type": "code",
   "execution_count": 12,
   "id": "3f2e55e8",
   "metadata": {},
   "outputs": [],
   "source": [
    "# Classify nodes by progenitor type and % extant NMPs\n",
    "\n",
    "node_info['Progenitor Type'] = '-'\n",
    "node_info['Progenitor Pool'] = '-'\n",
    "\n",
    "for node in node_info.index.values:\n",
    "    # A node is bipotent if it produces both neural and somitic cells\n",
    "    # Bipotent and transient bipotent (bipotent without NMPs) are both labeled as bipotent\n",
    "    if (node_info.loc[node, 'Percent Neural'] > 0) and (node_info.loc[node, 'Percent Somitic'] > 0):\n",
    "        node_info.loc[node, 'Progenitor Type'] = 'Bipotent'\n",
    "    \n",
    "    # A node is committed towards the somitic lineage if it produces somites but not neural cells\n",
    "    elif (node_info.loc[node, 'Percent Somitic'] > 0) and (node_info.loc[node, 'Percent Neural'] == 0):\n",
    "        node_info.loc[node, 'Progenitor Type'] = 'Somitic Committed'\n",
    "    \n",
    "    # A node is committed towards the neural lineage if it produces neural but not somitic cells\n",
    "    elif (node_info.loc[node, 'Percent Somitic'] == 0) and (node_info.loc[node, 'Percent Neural'] > 0):\n",
    "        node_info.loc[node, 'Progenitor Type'] = 'Neural Committed'\n",
    "    \n",
    "    # A node is proliferating if it does not produce somitic or neural cells (exclusively produces NMPs)\n",
    "    elif (node_info.loc[node, 'Percent Somitic'] == 0) and (node_info.loc[node, 'Percent Neural'] == 0):\n",
    "        node_info.loc[node, 'Progenitor Type'] = 'Proliferating'\n",
    "        \n",
    "\n",
    "    # A node is proliferating if it produces exclusively NMPs\n",
    "    if node_info.loc[node, 'Percent NMP'] == 1:\n",
    "        node_info.loc[node, 'Progenitor Pool'] = 'Proliferating'\n",
    "    \n",
    "    # A node is differentiating if it produces some NMPS\n",
    "    elif node_info.loc[node, 'Percent NMP'] > 0:\n",
    "        node_info.loc[node, 'Progenitor Pool'] = 'Differentiating'\n",
    "    \n",
    "    # A node is exhausted if it produces 0 NMPs\n",
    "    elif node_info.loc[node, 'Percent NMP'] == 0:\n",
    "        node_info.loc[node, 'Progenitor Pool'] = 'Exhausted'"
   ]
  },
  {
   "cell_type": "code",
   "execution_count": 11,
   "id": "14f44bef",
   "metadata": {},
   "outputs": [],
   "source": [
    "# Save the node table for nodes >= 4\n",
    "node_info.to_csv('/Genomics/chanlab/blaw/TLS/data/AM-DNA-258/progenitor_analysis/AM-DNA-258_node_information_filtered.txt', sep = '\\t')"
   ]
  },
  {
   "cell_type": "code",
   "execution_count": 9,
   "id": "bfdcceb7",
   "metadata": {},
   "outputs": [],
   "source": [
    "# Open the filtered node table\n",
    "node_info = pd.read_csv('/Genomics/chanlab/blaw/TLS/data/AM-DNA-258/progenitor_analysis/AM-DNA-258_node_information_filtered.txt', index_col = 0, sep = '\\t')"
   ]
  },
  {
   "cell_type": "code",
   "execution_count": 13,
   "id": "ac57949f",
   "metadata": {},
   "outputs": [],
   "source": [
    "# Open the previously saved node table that is unfilted by size (still removes endoderm and other unwanted cell types)\n",
    "node_info_old = pd.read_csv('/Genomics/chanlab/blaw/TLS/data/AM-DNA-258/progenitor_analysis/AM-DNA-258_node_information_unfiltered.txt', index_col = 0, sep = '\\t')"
   ]
  },
  {
   "cell_type": "markdown",
   "id": "3d3e24ff",
   "metadata": {},
   "source": [
    "# QC before and after pruning"
   ]
  },
  {
   "cell_type": "code",
   "execution_count": 14,
   "id": "671d8302",
   "metadata": {},
   "outputs": [],
   "source": [
    "count = 0\n",
    "for barcode in node_info[node_info['TLSCL'] == 'TLS']['Barcode'].unique():\n",
    "    temp = node_info[(node_info['Barcode'] == barcode) & (node_info['TLSCL'] == 'TLS')]\n",
    "    count += len(temp['Clone'].unique())"
   ]
  },
  {
   "cell_type": "code",
   "execution_count": 16,
   "id": "923bb6bd",
   "metadata": {},
   "outputs": [
    {
     "name": "stdout",
     "output_type": "stream",
     "text": [
      "TLS Clones after pruning: 115\n"
     ]
    }
   ],
   "source": [
    "print('TLS Clones after pruning:', count)"
   ]
  },
  {
   "cell_type": "code",
   "execution_count": 17,
   "id": "6b6fa91c",
   "metadata": {},
   "outputs": [],
   "source": [
    "count = 0\n",
    "for barcode in node_info_old[node_info_old['TLSCL'] == 'TLS']['Barcode'].unique():\n",
    "    temp = node_info_old[(node_info_old['Barcode'] == barcode) & (node_info_old['TLSCL'] == 'TLS')]\n",
    "    count += len(temp['Clone'].unique())"
   ]
  },
  {
   "cell_type": "code",
   "execution_count": 18,
   "id": "599e8fb2",
   "metadata": {},
   "outputs": [
    {
     "name": "stdout",
     "output_type": "stream",
     "text": [
      "TLS Clones before pruning: 143\n"
     ]
    }
   ],
   "source": [
    "print('TLS Clones before pruning:', count)"
   ]
  },
  {
   "cell_type": "code",
   "execution_count": 19,
   "id": "0c815793",
   "metadata": {},
   "outputs": [],
   "source": [
    "new_progenitor_types = pd.DataFrame(columns = barcodes, index = ['Bipotent', 'Neural Committed', 'Somitic Committed', 'Proliferating'])\n",
    "old_progenitor_types = pd.DataFrame(columns = barcodes, index = ['Bipotent', 'Neural Committed', 'Somitic Committed', 'Proliferating'])"
   ]
  },
  {
   "cell_type": "code",
   "execution_count": 20,
   "id": "5011de12",
   "metadata": {},
   "outputs": [],
   "source": [
    "# Record info from the filtered node_info table\n",
    "for barcode in barcodes:\n",
    "    temp = node_info[node_info['Barcode'] == barcode].copy()\n",
    "    \n",
    "    new_progenitor_types.loc['Bipotent'][barcode] = len(temp[temp['Progenitor Type'] == 'Bipotent'])\n",
    "    new_progenitor_types.loc['Neural Committed'][barcode] = len(temp[temp['Progenitor Type'] == 'Neural Committed'])\n",
    "    new_progenitor_types.loc['Somitic Committed'][barcode] = len(temp[temp['Progenitor Type'] == 'Somitic Committed'])\n",
    "    new_progenitor_types.loc['Proliferating'][barcode] = len(temp[temp['Progenitor Type'] == 'Proliferating'])"
   ]
  },
  {
   "cell_type": "code",
   "execution_count": 21,
   "id": "83410555",
   "metadata": {},
   "outputs": [],
   "source": [
    "# Record info from the unfiltered node_info table\n",
    "for barcode in barcodes:\n",
    "    temp = node_info_old[node_info_old['Barcode'] == barcode].copy()\n",
    "    \n",
    "    old_progenitor_types.loc['Bipotent'][barcode] = len(temp[temp['Progenitor Type'] == 'Bipotent'])\n",
    "    old_progenitor_types.loc['Neural Committed'][barcode] = len(temp[temp['Progenitor Type'] == 'Neural Committed'])\n",
    "    old_progenitor_types.loc['Somitic Committed'][barcode] = len(temp[temp['Progenitor Type'] == 'Somitic Committed'])\n",
    "    old_progenitor_types.loc['Proliferating'][barcode] = len(temp[temp['Progenitor Type'] == 'Proliferating'])"
   ]
  },
  {
   "cell_type": "code",
   "execution_count": 22,
   "id": "70b62fcc",
   "metadata": {},
   "outputs": [],
   "source": [
    "new_progenitor_frac = new_progenitor_types.div(new_progenitor_types.sum(axis = 0)).copy()\n",
    "old_progenitor_frac = old_progenitor_types.div(old_progenitor_types.sum(axis = 0)).copy()"
   ]
  },
  {
   "cell_type": "code",
   "execution_count": 24,
   "id": "195eccf7",
   "metadata": {},
   "outputs": [],
   "source": [
    "fig, ax = plt.subplots(2, 2, figsize = (15, 10))\n",
    "\n",
    "progenitor_colors = {'Bipotent': 'b',\n",
    "                    'Somitic Committed': 'r',\n",
    "                    'Neural Committed': 'g',\n",
    "                    'Proliferating': 'skyblue'}\n",
    "\n",
    "ax1 = ax[0, 0]\n",
    "old_progenitor_frac[TLS_barcodes].T.plot(kind='bar', use_index = True, stacked=True, color = progenitor_colors, grid = False, ax = ax1)\n",
    "ax1.set_title('Old Progenitor Fractions')\n",
    "ax1.set_ylabel('Fraction of Nodes')\n",
    "\n",
    "ax2 = ax[0, 1]\n",
    "new_progenitor_frac[TLS_barcodes].T.plot(kind='bar', use_index = True, stacked=True, color = progenitor_colors, grid = False, ax = ax2)\n",
    "ax2.set_title('New Progenitor Fractions')\n",
    "ax2.set_ylabel('Fraction of Nodes')\n",
    "\n",
    "ax3 = ax[1, 0]\n",
    "old_progenitor_types[TLS_barcodes].T.plot(kind='bar', use_index = True, stacked=True, color = progenitor_colors, grid = False, ax = ax3)\n",
    "ax3.set_title('Old Progenitor Counts')\n",
    "ax3.set_ylabel('n of Nodes')\n",
    "\n",
    "ax4 = ax[1, 1]\n",
    "new_progenitor_types[TLS_barcodes].T.plot(kind='bar', use_index = True, stacked=True, color = progenitor_colors, grid = False, ax = ax4)\n",
    "ax4.set_title('New Progenitor Counts')\n",
    "ax4.set_ylabel('n of Nodes')\n",
    "\n",
    "plt.legend(loc='center left', bbox_to_anchor=(1.0, 0.5))\n",
    "plt.tight_layout()\n",
    "plt.savefig('/Genomics/chanlab/blaw/TLS/data/AM-DNA-258/progenitor_analysis/Pruning_Progenitor_Fractions.pdf', dpi = 300)\n",
    "#plt.show()\n",
    "plt.close()"
   ]
  },
  {
   "cell_type": "code",
   "execution_count": 26,
   "id": "2d329677",
   "metadata": {},
   "outputs": [],
   "source": [
    "# TLS nodes after pruning\n",
    "fig, ax = plt.subplots(1, 4, figsize = (20, 5))\n",
    "\n",
    "count = 0\n",
    "for progenitor in ['Bipotent', 'Neural Committed', 'Somitic Committed', 'Proliferating']:\n",
    "    temp_ax = ax[count]\n",
    "    count += 1\n",
    "    \n",
    "    x = np.arange(len(node_info[(node_info['TLSCL'] == 'TLS') & (node_info['Progenitor Type'] == progenitor)]))\n",
    "    temp_ax.scatter(x = x, y = sorted(node_info[(node_info['TLSCL'] == 'TLS') & (node_info['Progenitor Type'] == progenitor)]['Node Size'], reverse = True))\n",
    "    temp_ax.set_title(progenitor + ' After Pruning')\n",
    "    temp_ax.set_xlabel('Node Rank Order')\n",
    "    temp_ax.set_ylabel('n of leaves per node')\n",
    "    temp_ax.set_ylim(0, 80)\n",
    "    \n",
    "    y = [4 for i in x]\n",
    "    temp_ax.plot(x, y, 'r')\n",
    "\n",
    "plt.savefig('/Genomics/chanlab/blaw/TLS/data/AM-DNA-258/progenitor_analysis/Nodes_by_Size_After_Pruning.pdf', dpi = 300)\n",
    "#plt.show()\n",
    "plt.close()"
   ]
  },
  {
   "cell_type": "code",
   "execution_count": 28,
   "id": "fca64b29",
   "metadata": {},
   "outputs": [],
   "source": [
    "# TLS nodes before pruning\n",
    "fig, ax = plt.subplots(1, 4, figsize = (20, 5))\n",
    "\n",
    "count = 0\n",
    "for progenitor in ['Bipotent', 'Neural Committed', 'Somitic Committed', 'Proliferating']:\n",
    "    temp_ax = ax[count]\n",
    "    count += 1\n",
    "    \n",
    "    x = np.arange(len(node_info_old[(node_info_old['TLSCL'] == 'TLS') & (node_info_old['Progenitor Type'] == progenitor)]))\n",
    "    temp_ax.scatter(x = x, y = sorted(node_info_old[(node_info_old['TLSCL'] == 'TLS') & (node_info_old['Progenitor Type'] == progenitor)]['Node Size'], reverse = True))\n",
    "    temp_ax.set_title(progenitor + ' Before Pruning')\n",
    "    temp_ax.set_xlabel('Node Rank Order')\n",
    "    temp_ax.set_ylabel('n of leaves per node')\n",
    "    temp_ax.set_ylim(0, 80)\n",
    "    \n",
    "    y = [4 for i in x]\n",
    "    temp_ax.plot(x, y, 'r')\n",
    "\n",
    "plt.savefig('/Genomics/chanlab/blaw/TLS/data/AM-DNA-258/progenitor_analysis/Nodes_by_Size_Before_Pruning.pdf', dpi = 300)\n",
    "#plt.show()\n",
    "plt.close()"
   ]
  },
  {
   "cell_type": "code",
   "execution_count": 29,
   "id": "f951c686",
   "metadata": {},
   "outputs": [],
   "source": [
    "composition = pd.DataFrame(columns = barcodes, index = colorDict.keys())\n",
    "composition_unpruned = pd.DataFrame(columns = barcodes, index = colorDict.keys())\n",
    "for i in composition.index:\n",
    "    for c in composition.columns:\n",
    "        composition.loc[i, c] = 0\n",
    "        composition_unpruned.loc[i, c] = 0"
   ]
  },
  {
   "cell_type": "code",
   "execution_count": 30,
   "id": "5bf0c19a",
   "metadata": {},
   "outputs": [],
   "source": [
    "# Record the compositions in each structure after pruning\n",
    "for barcode in barcodes:\n",
    "    treeFile = \"/Genomics/chanlab/blaw/TLS/data/AM-DNA-258/lineage/3_lineage_reconstruction/{}/{}_newick_noMutationlessEdges_Labeled.nwk\".format(barcode, barcode)\n",
    "    t = Tree(treeFile, format = 1)\n",
    "    \n",
    "    cellBC = set()\n",
    "    \n",
    "    for node in t.traverse():\n",
    "        if barcode + '_' + node.name in node_info.index.values:\n",
    "            for cell in node.get_leaves():\n",
    "                cellBC.add(cell.name)\n",
    "                \n",
    "    for cell in cellBC:\n",
    "        composition.loc[cell_state_table[cell_state_table['cellBC'] == cell]['cell_state'].to_list()[0]][barcode] += 1"
   ]
  },
  {
   "cell_type": "code",
   "execution_count": 31,
   "id": "48647a13",
   "metadata": {},
   "outputs": [],
   "source": [
    "# Record the compositions in each structure before pruning\n",
    "for barcode in barcodes:\n",
    "    treeFile = \"/Genomics/chanlab/blaw/TLS/data/AM-DNA-258/lineage/3_lineage_reconstruction/{}/{}_newick_noMutationlessEdges_Labeled.nwk\".format(barcode, barcode)\n",
    "    t = Tree(treeFile, format = 1)\n",
    "    \n",
    "    cellBC = set()\n",
    "    \n",
    "    for node in t.traverse():\n",
    "        if barcode + '_' + node.name in node_info_old.index.values:\n",
    "            for cell in node.get_leaves():\n",
    "                cellBC.add(cell.name)\n",
    "                \n",
    "    for cell in cellBC:\n",
    "        composition_unpruned.loc[cell_state_table[cell_state_table['cellBC'] == cell]['cell_state'].to_list()[0]][barcode] += 1"
   ]
  },
  {
   "cell_type": "code",
   "execution_count": 32,
   "id": "eb25df70",
   "metadata": {},
   "outputs": [],
   "source": [
    "composition_frac = composition.div(composition.sum(axis = 0)).copy()\n",
    "composition_unpruned_frac = composition_unpruned.div(composition_unpruned.sum(axis = 0)).copy()"
   ]
  },
  {
   "cell_type": "code",
   "execution_count": 34,
   "id": "722ea626",
   "metadata": {},
   "outputs": [],
   "source": [
    "# Composition of structures after pruning\n",
    "composition_frac[TLS_barcodes].T.plot(kind='bar', use_index = True, stacked=True, color = colorDict, grid = False)\n",
    "plt.title('Pruned Compositions')\n",
    "plt.ylabel('Fraction of Cells')\n",
    "\n",
    "plt.legend(loc='center left', bbox_to_anchor=(1.0, 0.5))\n",
    "plt.savefig('/Genomics/chanlab/blaw/TLS/data/AM-DNA-258/progenitor_analysis/TLS_NMP_Node_Pruned_Compositions.pdf', dpi = 300)\n",
    "#plt.show()\n",
    "plt.close()"
   ]
  },
  {
   "cell_type": "code",
   "execution_count": 36,
   "id": "5b4cda44",
   "metadata": {},
   "outputs": [],
   "source": [
    "# Composition of structures before pruning\n",
    "composition_unpruned_frac[TLS_barcodes].T.plot(kind='bar', use_index = True, stacked=True, color = colorDict, grid = False)\n",
    "plt.title('Unpruned Compositions')\n",
    "plt.ylabel('Fraction of Cells')\n",
    "\n",
    "plt.legend(loc='center left', bbox_to_anchor=(1.0, 0.5))\n",
    "plt.savefig('/Genomics/chanlab/blaw/TLS/data/AM-DNA-258/progenitor_analysis/TLS_NMP_Node_Compositions.pdf', dpi = 300)\n",
    "#plt.show()\n",
    "plt.close()"
   ]
  },
  {
   "cell_type": "markdown",
   "id": "81b10b96",
   "metadata": {},
   "source": [
    "# All downstream analysis was done with the filtered node table"
   ]
  },
  {
   "cell_type": "code",
   "execution_count": 41,
   "id": "0d389b28",
   "metadata": {},
   "outputs": [],
   "source": [
    "TLS_node_info = node_info[node_info['TLSCL'] == 'TLS'].copy()\n",
    "TLSCL_node_info = node_info[node_info['TLSCL'] == 'TLSCL'].copy()"
   ]
  },
  {
   "cell_type": "markdown",
   "id": "88fac887",
   "metadata": {},
   "source": [
    "### Plots showing the distributions of normalized distances for each progenitor type"
   ]
  },
  {
   "cell_type": "code",
   "execution_count": 42,
   "id": "c7cb4c3d",
   "metadata": {},
   "outputs": [],
   "source": [
    "# Distribution of normalized depths of each progenitor type in TLS\n",
    "fig, ax = plt.subplots(1, 4, figsize = (10, 2))\n",
    "\n",
    "count = 0\n",
    "for progenitor in np.unique(TLS_node_info['Progenitor Type']):\n",
    "    test_ax = ax[count]\n",
    "    count += 1\n",
    "\n",
    "    test_ax.hist(TLS_node_info[TLS_node_info['Progenitor Type'] == progenitor]['Normalized Dist'])\n",
    "    test_ax.set_title(progenitor)\n",
    "    test_ax.set_xlim(0, 1)\n",
    "plt.tight_layout()    \n",
    "#plt.show()\n",
    "plt.close()"
   ]
  },
  {
   "cell_type": "code",
   "execution_count": 43,
   "id": "19f9cc91",
   "metadata": {},
   "outputs": [],
   "source": [
    "# Distribution of normalized depths in each progenitor type in TLSCL\n",
    "fig, ax = plt.subplots(1, 4, figsize = (10, 2))\n",
    "\n",
    "count = 0\n",
    "for progenitor in np.unique(TLSCL_node_info['Progenitor Type']):\n",
    "    test_ax = ax[count]\n",
    "    count += 1\n",
    "\n",
    "    test_ax.hist(TLSCL_node_info[TLSCL_node_info['Progenitor Type'] == progenitor]['Normalized Dist'])\n",
    "    test_ax.set_title(progenitor)\n",
    "    test_ax.set_xlim(0, 1)\n",
    "plt.tight_layout()    \n",
    "#plt.show()\n",
    "plt.close()"
   ]
  },
  {
   "cell_type": "code",
   "execution_count": 44,
   "id": "836d1082",
   "metadata": {},
   "outputs": [],
   "source": [
    "node_info['Normalized Dist'] = node_info['Normalized Dist'].astype('float')\n",
    "TLS_node_info['Normalized Dist'] = TLS_node_info['Normalized Dist'].astype('float')\n",
    "TLSCL_node_info['Normalized Dist'] = TLSCL_node_info['Normalized Dist'].astype('float')"
   ]
  },
  {
   "cell_type": "code",
   "execution_count": 45,
   "id": "32483446",
   "metadata": {},
   "outputs": [],
   "source": [
    "# TLS distributions of progenitor type depths\n",
    "fig, ax = plt.subplots(figsize = (10, 5))\n",
    "sns.violinplot(ax = ax, data = node_info[node_info['TLSCL'] == 'TLS'], x = 'Progenitor Type', y = 'Normalized Dist', \n",
    "               scale = 'area', cut = 0, order = ['Bipotent', 'Neural Committed', 'Somitic Committed'])\n",
    "plt.tight_layout()\n",
    "plt.title('TLS Nodes')\n",
    "plt.savefig('/Genomics/chanlab/blaw/TLS/data/AM-DNA-258/progenitor_analysis/TLS_Progenitor_Type_Normalized_Dist.pdf', dpi = 300)\n",
    "#plt.show()\n",
    "plt.close()"
   ]
  },
  {
   "cell_type": "markdown",
   "id": "e4b428b0",
   "metadata": {},
   "source": [
    "### Triangle plots of % Neural vs % Somitic"
   ]
  },
  {
   "cell_type": "code",
   "execution_count": 32,
   "id": "603f2e6b",
   "metadata": {},
   "outputs": [],
   "source": [
    "progenitor_type = [('Bipotent', '.y'), ('Neural Committed', '.g'), ('Somitic Committed', '.r'), ('Proliferating', '.b')]"
   ]
  },
  {
   "cell_type": "code",
   "execution_count": 33,
   "id": "519eb512",
   "metadata": {},
   "outputs": [],
   "source": [
    "# Plot % neural vs % somitic for each node in TLS and TLSCL\n",
    "fig, ax = plt.subplots(1, 2, figsize = (15, 5))\n",
    "\n",
    "ax1 = ax[0]\n",
    "ax1.set_xlabel('Percent Neural')\n",
    "ax1.set_ylabel('Percent Somitic')\n",
    "ax1.set_title('TLS Nodes')\n",
    "for progenitor, color in progenitor_type:\n",
    "    ax1.plot(TLS_node_info[TLS_node_info['Progenitor Type'] == progenitor]['Percent Neural'],\n",
    "             TLS_node_info[TLS_node_info['Progenitor Type'] == progenitor]['Percent Somitic'], \n",
    "             color, label = progenitor, alpha = 0.2)\n",
    "    \n",
    "ax2 = ax[1]\n",
    "ax2.set_xlabel('Percent Neural')\n",
    "ax2.set_ylabel('Percent Somitic')\n",
    "ax2.set_title('TLSCL Nodes')\n",
    "for progenitor, color in progenitor_type:\n",
    "    ax2.plot(TLSCL_node_info[TLSCL_node_info['Progenitor Type'] == progenitor]['Percent Neural'],\n",
    "             TLSCL_node_info[TLSCL_node_info['Progenitor Type'] == progenitor]['Percent Somitic'], \n",
    "             color, label = progenitor, alpha = 0.2)\n",
    "\n",
    "plt.legend()\n",
    "plt.xlim(-0.05, 1.05)\n",
    "plt.ylim(-0.05, 1.05)\n",
    "plt.savefig('/Genomics/chanlab/blaw/TLS/data/AM-DNA-258/progenitor_analysis/TLS_TLSCL_Triangle_Plots.pdf', dpi = 300)\n",
    "#plt.show()\n",
    "plt.close()"
   ]
  },
  {
   "cell_type": "code",
   "execution_count": 34,
   "id": "6560c8c5",
   "metadata": {},
   "outputs": [],
   "source": [
    "# plot each TLS barcode as a different plot\n",
    "fig, ax = plt.subplots(3, 4, figsize = (16, 14))\n",
    "count_1 = 0\n",
    "count_2 = 0\n",
    "for barcode in np.unique(TLS_node_info[TLS_node_info['Barcode'] != 'Bar8']['Barcode']):\n",
    "    temp_ax = ax[count_1, count_2]\n",
    "    count_2 += 1\n",
    "    if count_2 > 3:\n",
    "        count_1 += 1\n",
    "        count_2 = 0\n",
    "    \n",
    "    for progenitor, color in progenitor_type:\n",
    "        temp_ax.plot(TLS_node_info[(TLS_node_info['Barcode'] == barcode) & (TLS_node_info['Progenitor Type'] == progenitor)]['Percent Neural'],\n",
    "                     TLS_node_info[(TLS_node_info['Barcode'] == barcode) & (TLS_node_info['Progenitor Type'] == progenitor)]['Percent Somitic'], \n",
    "                     color, label = progenitor, alpha = 0.5)\n",
    "    \n",
    "    temp_ax.set_title(barcode)\n",
    "    temp_ax.set_xlim(-0.05, 1.05)\n",
    "    temp_ax.set_ylim(-0.05, 1.05)\n",
    "    temp_ax.set_xlabel('Percent Neural')\n",
    "    temp_ax.set_ylabel('Percent Somitic')\n",
    "plt.tight_layout()\n",
    "plt.savefig('/Genomics/chanlab/blaw/TLS/data/AM-DNA-258/progenitor_analysis/TLS_Triangle_Plots.pdf', dpi = 300)\n",
    "#plt.show()\n",
    "plt.close()"
   ]
  },
  {
   "cell_type": "code",
   "execution_count": 35,
   "id": "98c03965",
   "metadata": {},
   "outputs": [],
   "source": [
    "# plot each TLSCL barcode as a different plot\n",
    "fig, ax = plt.subplots(3, 4, figsize = (16, 14))\n",
    "count_1 = 0\n",
    "count_2 = 0\n",
    "for barcode in np.unique(TLSCL_node_info[TLSCL_node_info['Barcode'] != 'Bar18']['Barcode']):\n",
    "    temp_ax = ax[count_1, count_2]\n",
    "    count_2 += 1\n",
    "    if count_2 > 3:\n",
    "        count_1 += 1\n",
    "        count_2 = 0\n",
    "    \n",
    "    for progenitor, color in progenitor_type:\n",
    "        temp_ax.plot(TLSCL_node_info[(TLSCL_node_info['Barcode'] == barcode) & (TLSCL_node_info['Progenitor Type'] == progenitor)]['Percent Neural'],\n",
    "                     TLSCL_node_info[(TLSCL_node_info['Barcode'] == barcode) & (TLSCL_node_info['Progenitor Type'] == progenitor)]['Percent Somitic'], \n",
    "                     color, label = progenitor, alpha = 0.5)\n",
    "    \n",
    "    temp_ax.set_title(barcode)\n",
    "    temp_ax.set_xlim(-0.05, 1.05)\n",
    "    temp_ax.set_ylim(-0.05, 1.05)\n",
    "    temp_ax.set_xlabel('Percent Neural')\n",
    "    temp_ax.set_ylabel('Percent Somitic')\n",
    "plt.tight_layout()\n",
    "plt.savefig('/Genomics/chanlab/blaw/TLS/data/AM-DNA-258/progenitor_analysis/TLSCL_Triangle_Plots.pdf', dpi = 300)\n",
    "#plt.show()\n",
    "plt.close()"
   ]
  },
  {
   "cell_type": "markdown",
   "id": "5b4788ce",
   "metadata": {},
   "source": [
    "# Histograms of node compositions"
   ]
  },
  {
   "cell_type": "code",
   "execution_count": 36,
   "id": "864842df",
   "metadata": {},
   "outputs": [],
   "source": [
    "# Distribution of percent neural in each progenitor type\n",
    "fig, ax = plt.subplots(figsize = (10, 5))\n",
    "sns.violinplot(ax = ax, data = node_info, x = 'Progenitor Type', y = 'Percent Neural', scale = 'count', cut = 0,\n",
    "               split = True, hue = 'TLSCL',\n",
    "              order = ['Bipotent', 'Neural Committed', 'Somitic Committed', 'Proliferating'])\n",
    "plt.title('Percent Neural of each Progenitor Type')\n",
    "plt.tight_layout()\n",
    "#plt.show()\n",
    "plt.close()"
   ]
  },
  {
   "cell_type": "code",
   "execution_count": 37,
   "id": "9fc0aff0",
   "metadata": {},
   "outputs": [],
   "source": [
    "# Distribution of percent somitic in each progenitor type\n",
    "fig, ax = plt.subplots(figsize = (10, 5))\n",
    "sns.violinplot(ax = ax, data = node_info, x = 'Progenitor Type', y = 'Percent Somitic', scale = 'count', cut = 0,\n",
    "               split = True, hue = 'TLSCL',\n",
    "              order = ['Bipotent', 'Neural Committed', 'Somitic Committed', 'Proliferating'])\n",
    "plt.title('Percent Somitic for each Progenitor Type')\n",
    "plt.tight_layout()\n",
    "#plt.show()\n",
    "plt.close()"
   ]
  },
  {
   "cell_type": "code",
   "execution_count": 38,
   "id": "16949b8e",
   "metadata": {},
   "outputs": [],
   "source": [
    "# 2D heatmap of % neural vs % somitic per node\n",
    "fig, ax = plt.subplots(2, 2, figsize = (8, 8))\n",
    "\n",
    "ax1 = ax[0, 0]\n",
    "heatmap, xedges, yedges = np.histogram2d(TLS_node_info[TLS_node_info['Progenitor Type'] == 'Bipotent']['Percent Neural'], \n",
    "                                         TLS_node_info[TLS_node_info['Progenitor Type'] == 'Bipotent']['Percent Somitic'], \n",
    "                                         bins = 15)\n",
    "extent = [xedges[0], xedges[-1], yedges[0], yedges[-1]]\n",
    "ax1.imshow(heatmap.T, extent=extent, origin='lower', cmap = 'viridis', aspect = 'auto')\n",
    "ax1.set_title('TLS - Bipotent Nodes')\n",
    "ax1.set_xlabel('Percent Neural')\n",
    "ax1.set_ylabel('Percent Somitic')\n",
    "\n",
    "ax2 = ax[0, 1]\n",
    "heatmap, xedges, yedges = np.histogram2d(TLSCL_node_info[TLSCL_node_info['Progenitor Type'] == 'Bipotent']['Percent Neural'], \n",
    "                                         TLSCL_node_info[TLSCL_node_info['Progenitor Type'] == 'Bipotent']['Percent Somitic'], \n",
    "                                         bins = 15)\n",
    "extent = [xedges[0], xedges[-1], yedges[0], yedges[-1]]\n",
    "ax2.imshow(heatmap.T, extent=extent, origin='lower', cmap = 'viridis', aspect = 'auto')\n",
    "ax2.set_title('TLS - Bipotent Nodes')\n",
    "ax2.set_xlabel('Percent Neural')\n",
    "ax2.set_ylabel('Percent Somitic')\n",
    "\n",
    "ax3 = ax[1, 0]\n",
    "heatmap, xedges, yedges = np.histogram2d(TLS_node_info['Percent Neural'], \n",
    "                                         TLS_node_info['Percent Somitic'], \n",
    "                                         bins = 15)\n",
    "extent = [xedges[0], xedges[-1], yedges[0], yedges[-1]]\n",
    "ax3.imshow(heatmap.T, extent=extent, origin='lower', cmap = 'viridis', aspect = 'auto')\n",
    "ax3.set_title('TLS - Bipotent Nodes')\n",
    "ax3.set_xlabel('Percent Neural')\n",
    "ax3.set_ylabel('Percent Somitic')\n",
    "\n",
    "ax4 = ax[1, 1]\n",
    "heatmap, xedges, yedges = np.histogram2d(TLSCL_node_info['Percent Neural'], \n",
    "                                         TLSCL_node_info['Percent Somitic'], \n",
    "                                         bins = 15)\n",
    "extent = [xedges[0], xedges[-1], yedges[0], yedges[-1]]\n",
    "ax4.imshow(heatmap.T, extent=extent, origin='lower', cmap = 'viridis', aspect = 'auto')\n",
    "ax4.set_title('TLS - Bipotent Nodes')\n",
    "ax4.set_xlabel('Percent Neural')\n",
    "ax4.set_ylabel('Percent Somitic')\n",
    "\n",
    "plt.grid(False)\n",
    "plt.tight_layout()\n",
    "plt.savefig('/Genomics/chanlab/blaw/TLS/data/AM-DNA-258/progenitor_analysis/TLS_TLSCL_Triangle_Heatmaps.pdf', dpi = 300)\n",
    "#plt.show()\n",
    "plt.close()"
   ]
  },
  {
   "cell_type": "markdown",
   "id": "b2f1004d",
   "metadata": {},
   "source": [
    "### Create a table of the frequencies of each node type per structure\n",
    "- Make 2 tables, one with the progenitor type classifications, and one with the progenitor pool classifications\n",
    "- The categories of table 1 is Bipotent, Neural Committed, Somitic Committed, Transient NMP, Proliferating\n",
    "- The categories of table 2 is Proliferating, Differentiating, and Exhausted"
   ]
  },
  {
   "cell_type": "code",
   "execution_count": 39,
   "id": "7227123d",
   "metadata": {},
   "outputs": [],
   "source": [
    "node_type_counts = pd.DataFrame(index = ['Bipotent', 'Neural Committed', 'Somitic Committed', 'Proliferating'], columns = np.unique(node_info['Barcode']))\n",
    "node_pool_counts = pd.DataFrame(index = ['Proliferating', 'Differentiating', 'Exhausted'], columns = np.unique(node_info['Barcode']))"
   ]
  },
  {
   "cell_type": "code",
   "execution_count": 40,
   "id": "7dee1a94",
   "metadata": {},
   "outputs": [],
   "source": [
    "# Count the occurance of each progenitor type in each structure\n",
    "for barcode in node_type_counts.columns.values:\n",
    "    for progenitor in node_type_counts.index.values:\n",
    "        node_type_counts.loc[progenitor, barcode] = len(node_info[(node_info['Barcode'] == barcode) & (node_info['Progenitor Type'] == progenitor)])\n",
    "        \n",
    "# Count the occurance of each differentiation type in each structure\n",
    "for barcode in node_pool_counts.columns.values:\n",
    "    for progenitor in node_pool_counts.index.values:\n",
    "        node_pool_counts.loc[progenitor, barcode] = len(node_info[(node_info['Barcode'] == barcode) & (node_info['Progenitor Pool'] == progenitor)])"
   ]
  },
  {
   "cell_type": "code",
   "execution_count": 41,
   "id": "4b72d584",
   "metadata": {},
   "outputs": [],
   "source": [
    "node_type_frac = node_type_counts.div(node_type_counts.sum(axis = 0)).copy()\n",
    "node_pool_frac = node_pool_counts.div(node_pool_counts.sum(axis = 0)).copy()"
   ]
  },
  {
   "cell_type": "code",
   "execution_count": 42,
   "id": "781366c3",
   "metadata": {},
   "outputs": [],
   "source": [
    "# Save the counts tables\n",
    "node_type_counts.to_csv('/Genomics/chanlab/blaw/TLS/data/AM-DNA-258/progenitor_analysis/AM-DNA-258_node_type_counts.txt', sep = '\\t')\n",
    "node_pool_counts.to_csv('/Genomics/chanlab/blaw/TLS/data/AM-DNA-258/progenitor_analysis/AM-DNA-258_node_pool_counts.txt', sep = '\\t')"
   ]
  },
  {
   "cell_type": "code",
   "execution_count": 43,
   "id": "5872bedd",
   "metadata": {},
   "outputs": [],
   "source": [
    "# Save the fractions tables\n",
    "node_type_frac.to_csv('/Genomics/chanlab/blaw/TLS/data/AM-DNA-258/progenitor_analysis/AM-DNA-258_node_type_frac.txt', sep = '\\t')\n",
    "node_pool_frac.to_csv('/Genomics/chanlab/blaw/TLS/data/AM-DNA-258/progenitor_analysis/AM-DNA-258_node_pool_frac.txt', sep = '\\t')"
   ]
  },
  {
   "cell_type": "code",
   "execution_count": 44,
   "id": "1724d537",
   "metadata": {},
   "outputs": [],
   "source": [
    "# Reopen the counts and fractions tables\n",
    "node_type_counts = pd.read_csv('/Genomics/chanlab/blaw/TLS/data/AM-DNA-258/progenitor_analysis/AM-DNA-258_node_type_counts.txt', index_col = 0, sep = '\\t')\n",
    "node_pool_counts = pd.read_csv('/Genomics/chanlab/blaw/TLS/data/AM-DNA-258/progenitor_analysis/AM-DNA-258_node_pool_counts.txt', index_col = 0, sep = '\\t')\n",
    "\n",
    "node_type_frac = pd.read_csv('/Genomics/chanlab/blaw/TLS/data/AM-DNA-258/progenitor_analysis/AM-DNA-258_node_type_frac.txt', index_col = 0, sep = '\\t')\n",
    "node_pool_frac = pd.read_csv('/Genomics/chanlab/blaw/TLS/data/AM-DNA-258/progenitor_analysis/AM-DNA-258_node_pool_frac.txt', index_col = 0, sep = '\\t')"
   ]
  },
  {
   "cell_type": "markdown",
   "id": "b9d11583",
   "metadata": {},
   "source": [
    "### Create a table of all the paths taken by nodes\n",
    "- each row will the conversion from a node to its child in a tree with the following information recorded (Barcode, parent node, child node, clone, clonesize, parent dist to clone, max clone depth, parent type, parent pool, child type, child pool, % NMP parent, % neural parent, % somitic parent, % NMP child, % neural child, % somitic child"
   ]
  },
  {
   "cell_type": "code",
   "execution_count": 45,
   "id": "8f7d55f6",
   "metadata": {},
   "outputs": [],
   "source": [
    "columns_of_interest = ['Barcode', 'Parent Node', 'Child Node', 'Clone', 'Clone Size', 'Max Clone Depth', \n",
    "                       'Parent Dist to Clone', 'Parent % NMP', 'Parent % Somitic', 'Parent % Neural',\n",
    "                       'Child % NMP', 'Child % Somitic', 'Child % Neural', 'Parent Type', 'Parent Pool',\n",
    "                       'Child Type', 'Child Pool', 'Type Path', 'Pool Path']\n",
    "path_info = pd.DataFrame(columns = columns_of_interest)\n",
    "\n",
    "count = 0\n",
    "for barcode in barcodes:\n",
    "    treeFile = \"/Genomics/chanlab/blaw/TLS/data/AM-DNA-258/lineage/3_lineage_reconstruction/{}/{}_newick_noMutationlessEdges_Labeled.nwk\".format(barcode, barcode)\n",
    "    t = Tree(treeFile, format = 1)\n",
    "    \n",
    "    # identify all the node paths in the tree\n",
    "    NMP_nodes = node_info[node_info['Barcode'] == barcode]['Node'].tolist()\n",
    "    node_names = []\n",
    "    for node in t.traverse():\n",
    "        if node.name in NMP_nodes:\n",
    "            for child in node.children:\n",
    "                if child.name in NMP_nodes:\n",
    "                    node_names.append('{}_{}_{}'.format(barcode, node.name, child.name))\n",
    "            \n",
    "    # Add these nodes to the table\n",
    "    temp_path_info = pd.DataFrame(index = node_names, columns = columns_of_interest)\n",
    "    path_info = pd.concat((path_info, temp_path_info))\n",
    "\n",
    "    # fill in node information\n",
    "    for clone in t.children:\n",
    "        clone_max_depth = maxDepth(clone)\n",
    "\n",
    "        for node in clone.traverse():\n",
    "            if node.name in NMP_nodes:\n",
    "                for child in node.children:\n",
    "                    if child.name in NMP_nodes:\n",
    "                        NMP_count_p, somitic_count_p, neural_count_p = countNMP_Somite_Neural(node, cell_state_table)\n",
    "                        NMP_count_c, somitic_count_c, neural_count_c = countNMP_Somite_Neural(child, cell_state_table)\n",
    "\n",
    "                        total_p = sum(somitic_count_p + NMP_count_p + neural_count_p)\n",
    "                        total_c = sum(somitic_count_c + NMP_count_c + neural_count_c)\n",
    "                        \n",
    "                        index = '{}_{}_{}'.format(barcode, node.name, child.name)\n",
    "\n",
    "                        # Record node information to the large table\n",
    "                        path_info.loc[index]['Barcode'] = barcode\n",
    "                        path_info.loc[index]['Parent Node'] = node.name\n",
    "                        path_info.loc[index]['Child Node'] = child.name\n",
    "                        path_info.loc[index]['Clone'] = clone.name\n",
    "                        path_info.loc[index]['Clone Size'] = len(clone.get_leaves())\n",
    "                        path_info.loc[index]['Max Clone Depth'] = clone_max_depth\n",
    "                        path_info.loc[index]['Parent Dist to Clone'] = t.get_distance(clone, node)\n",
    "                        if total_p == 0:\n",
    "                            path_info.loc[index]['Parent % NMP'] = 0\n",
    "                            path_info.loc[index]['Parent % Somitic'] = 0\n",
    "                            path_info.loc[index]['Parent % Neural'] = 0\n",
    "                        else:\n",
    "                            path_info.loc[index]['Parent % NMP'] = NMP_count_p / total_p\n",
    "                            path_info.loc[index]['Parent % Somitic'] = somitic_count_p / total_p\n",
    "                            path_info.loc[index]['Parent % Neural'] = neural_count_p / total_p\n",
    "                        if total_c == 0:\n",
    "                            path_info.loc[index]['Child % NMP'] = 0\n",
    "                            path_info.loc[index]['Child % Somitic'] = 0\n",
    "                            path_info.loc[index]['Child % Neural'] = 0\n",
    "                        else:\n",
    "                            path_info.loc[index]['Child % NMP'] = NMP_count_c / total_c\n",
    "                            path_info.loc[index]['Child % Somitic'] = somitic_count_c / total_c\n",
    "                            path_info.loc[index]['Child % Neural'] = neural_count_c / total_c\n",
    "                            \n",
    "                        # Classify parent node progenitor type\n",
    "                        path_info.loc[index, 'Parent Type'] = node_info.loc['{}_{}'.format(barcode, node.name)]['Progenitor Type']\n",
    "                            \n",
    "                        # Classify parent node progenitor type\n",
    "                        path_info.loc[index, 'Child Type'] = node_info.loc['{}_{}'.format(barcode, child.name)]['Progenitor Type']\n",
    "                        \n",
    "                        # Classify parent node pool type\n",
    "                        path_info.loc[index, 'Parent Pool'] = node_info.loc['{}_{}'.format(barcode, node.name)]['Progenitor Pool']\n",
    "                        \n",
    "                        # Classify parent node pool type\n",
    "                        path_info.loc[index, 'Child Pool'] = node_info.loc['{}_{}'.format(barcode, child.name)]['Progenitor Pool']\n",
    "\n",
    "                        path_info.loc[index, 'Type Path'] = path_info.loc[index, 'Parent Type'] + '_' + path_info.loc[index, 'Child Type']\n",
    "                        path_info.loc[index, 'Pool Path'] = path_info.loc[index, 'Parent Pool'] + '_' + path_info.loc[index, 'Child Pool']\n",
    "\n",
    "# Calculate the normalized Depth\n",
    "path_info['Parent Normalized Dist'] = path_info['Parent Dist to Clone'] / path_info['Max Clone Depth']\n",
    "\n",
    "# Add TLSCL metadata\n",
    "path_info['TLSCL'] = path_info['Barcode'].map(addTLSCL)"
   ]
  },
  {
   "cell_type": "code",
   "execution_count": 46,
   "id": "119ec434",
   "metadata": {},
   "outputs": [],
   "source": [
    "# Path info of all nodes in the filtered node_info table\n",
    "path_info.to_csv('/Genomics/chanlab/blaw/TLS/data/AM-DNA-258/progenitor_analysis/AM-DNA-258_path_information_filtered.txt', sep = '\\t')"
   ]
  },
  {
   "cell_type": "code",
   "execution_count": 47,
   "id": "c727165c",
   "metadata": {},
   "outputs": [],
   "source": [
    "# Open the filtered path info\n",
    "path_info = pd.read_csv('/Genomics/chanlab/blaw/TLS/data/AM-DNA-258/progenitor_analysis/AM-DNA-258_path_information_filtered.txt', index_col = 0, sep = '\\t')"
   ]
  },
  {
   "cell_type": "code",
   "execution_count": 48,
   "id": "fe1c13e4",
   "metadata": {},
   "outputs": [],
   "source": [
    "path_info['Parent Normalized Dist'] = path_info['Parent Normalized Dist'].astype('float')"
   ]
  },
  {
   "cell_type": "code",
   "execution_count": 49,
   "id": "60e0e276",
   "metadata": {},
   "outputs": [],
   "source": [
    "path_info['Parent % Somitic'] = path_info['Parent % Somitic'].astype('float')\n",
    "path_info['Child % Somitic'] = path_info['Child % Somitic'].astype('float')\n",
    "path_info['Parent % NMP'] = path_info['Parent % NMP'].astype('float')\n",
    "path_info['Child % NMP'] = path_info['Child % NMP'].astype('float')"
   ]
  },
  {
   "cell_type": "code",
   "execution_count": 50,
   "id": "92203d37",
   "metadata": {},
   "outputs": [],
   "source": [
    "fig, ax = plt.subplots(figsize = (20, 10))\n",
    "sns.violinplot(ax = ax, data = path_info, split = True, hue = 'TLSCL', x = 'Type Path', y = 'Parent Normalized Dist', \n",
    "               inner = 'quartile', scale = 'count', cut = 0)\n",
    "plt.tight_layout()\n",
    "plt.title('Path Types')\n",
    "plt.xticks(rotation = '90')\n",
    "plt.tight_layout()\n",
    "\n",
    "#plt.show()\n",
    "plt.close()"
   ]
  },
  {
   "cell_type": "markdown",
   "id": "4476e2a3",
   "metadata": {},
   "source": [
    "### Create a table of the counts of each path transition vs the structure"
   ]
  },
  {
   "cell_type": "code",
   "execution_count": 51,
   "id": "c441ee98",
   "metadata": {},
   "outputs": [],
   "source": [
    "path_type_counts = pd.DataFrame(index = np.unique(path_info['Type Path']), columns = np.unique(path_info['Barcode']))\n",
    "path_pool_counts = pd.DataFrame(index = np.unique(path_info['Pool Path']), columns = np.unique(path_info['Barcode']))"
   ]
  },
  {
   "cell_type": "code",
   "execution_count": 52,
   "id": "46ba76a8",
   "metadata": {},
   "outputs": [],
   "source": [
    "for barcode in path_type_counts.columns.values:\n",
    "    for path in path_type_counts.index.values:\n",
    "        path_type_counts.loc[path, barcode] = len(path_info[(path_info['Barcode'] == barcode) & (path_info['Type Path'] == path)])\n",
    "        \n",
    "for barcode in path_pool_counts.columns.values:\n",
    "    for path in path_pool_counts.index.values:\n",
    "        path_pool_counts.loc[path, barcode] = len(path_info[(path_info['Barcode'] == barcode) & (path_info['Pool Path'] == path)])"
   ]
  },
  {
   "cell_type": "code",
   "execution_count": 53,
   "id": "dfa08384",
   "metadata": {},
   "outputs": [],
   "source": [
    "path_type_frac = path_type_counts.div(path_type_counts.sum(axis = 0)).copy()\n",
    "path_pool_frac = path_pool_counts.div(path_pool_counts.sum(axis = 0)).copy()"
   ]
  },
  {
   "cell_type": "code",
   "execution_count": 54,
   "id": "c17935b7",
   "metadata": {},
   "outputs": [],
   "source": [
    "path_type_counts.to_csv('/Genomics/chanlab/blaw/TLS/data/AM-DNA-258/progenitor_analysis/AM-DNA-258_path_type_counts.txt', sep = '\\t')\n",
    "path_pool_counts.to_csv('/Genomics/chanlab/blaw/TLS/data/AM-DNA-258/progenitor_analysis/AM-DNA-258_path_pool_counts.txt', sep = '\\t')"
   ]
  },
  {
   "cell_type": "code",
   "execution_count": 55,
   "id": "68b17058",
   "metadata": {},
   "outputs": [],
   "source": [
    "path_type_frac.to_csv('/Genomics/chanlab/blaw/TLS/data/AM-DNA-258/progenitor_analysis/AM-DNA-258_path_type_frac.txt', sep = '\\t')\n",
    "path_pool_frac.to_csv('/Genomics/chanlab/blaw/TLS/data/AM-DNA-258/progenitor_analysis/AM-DNA-258_path_pool_frac.txt', sep = '\\t')"
   ]
  },
  {
   "cell_type": "code",
   "execution_count": 56,
   "id": "6971fd09",
   "metadata": {},
   "outputs": [],
   "source": [
    "path_type_counts = pd.read_csv('/Genomics/chanlab/blaw/TLS/data/AM-DNA-258/progenitor_analysis/AM-DNA-258_path_type_counts.txt', index_col = 0, sep = '\\t')\n",
    "path_pool_counts = pd.read_csv('/Genomics/chanlab/blaw/TLS/data/AM-DNA-258/progenitor_analysis/AM-DNA-258_path_pool_counts.txt', index_col = 0, sep = '\\t')\n",
    "path_type_frac = pd.read_csv('/Genomics/chanlab/blaw/TLS/data/AM-DNA-258/progenitor_analysis/AM-DNA-258_path_type_frac.txt', index_col = 0, sep = '\\t')\n",
    "path_pool_frac = pd.read_csv('/Genomics/chanlab/blaw/TLS/data/AM-DNA-258/progenitor_analysis/AM-DNA-258_path_pool_frac.txt', index_col = 0, sep = '\\t')"
   ]
  },
  {
   "cell_type": "markdown",
   "id": "e4215f18",
   "metadata": {},
   "source": [
    "### Calculate distances between nodes, paths, and composition for each structure\n",
    "For each pairwise structure comparision, calculate the aitchison's distance between the following:\n",
    "- composition frequencies\n",
    "- Node Type frequencies\n",
    "- Node pool frequencies\n",
    "- path type frequencies\n",
    "- path pool frequencies\n",
    "\n",
    "Save as a table with indexes of each structure and columns of each compairison_structure"
   ]
  },
  {
   "cell_type": "code",
   "execution_count": 57,
   "id": "63147e9e",
   "metadata": {},
   "outputs": [],
   "source": [
    "# Make a DataFrame to hold all the structure comparisons\n",
    "comparisons = []\n",
    "for structure in barcodes:\n",
    "    for comparison in ['Composition', 'Node_Type', 'Node_Pool', 'Path_Type', 'Path_Pool']:\n",
    "        comparisons.append(structure + '_' + comparison)\n",
    "\n",
    "structure_comparisons = pd.DataFrame(index = barcodes, columns = comparisons)"
   ]
  },
  {
   "cell_type": "code",
   "execution_count": 58,
   "id": "417e951d",
   "metadata": {},
   "outputs": [],
   "source": [
    "# Read in the cell state compositions of each structure\n",
    "structure_composition = pd.read_csv('/Genomics/chanlab/blaw/TLS/data/AM-DNA-097/scRNA/structure_compositions.txt',index_col = 0, sep = '\\t')\n",
    "\n",
    "# Create a new table of the compositions with the somite and neural subclusters merged together\n",
    "composition = pd.DataFrame(columns = barcodes, index = ['Somite', 'Neural', 'NMP', 'Other'])\n",
    "type_merging = {'Somite': ['pPSM', 'Somite', 'aPSM', 'Somite-1', 'Somite0', 'SomiteSclero', 'SomiteDermo'],\n",
    "               'Neural': ['NeuralTube1', 'NeuralTube2'],\n",
    "               'NMP': ['NMPs'],\n",
    "               'Other': ['Endoderm', 'PCGLC', 'Unknown', 'Endothelial']}\n",
    "\n",
    "for barcode in barcodes:\n",
    "    for cell_type in ['Somite', 'Neural', 'NMP', 'Other']:\n",
    "        composition.loc[cell_type, barcode] = structure_composition.loc[barcode, type_merging[cell_type]].sum()"
   ]
  },
  {
   "cell_type": "code",
   "execution_count": 59,
   "id": "b0663344",
   "metadata": {},
   "outputs": [],
   "source": [
    "# Populate the comparisons table\n",
    "# Add a 0.01 pseudocount value to each value because Aithison's Distance cannot handle values of 0\n",
    "for barcode_1 in barcodes:\n",
    "    for barcode_2 in barcodes:\n",
    "        structure_comparisons.loc[barcode_1, barcode_2 + '_Composition'] = aitchisonDist(composition[barcode_1].values + 0.0001, composition[barcode_2].values + 0.0001)\n",
    "    \n",
    "        structure_comparisons.loc[barcode_1, barcode_2 + '_Node_Type'] = aitchisonDist(node_type_counts[barcode_1].values + 0.0001, node_type_counts[barcode_2].values + 0.0001)\n",
    "        \n",
    "        structure_comparisons.loc[barcode_1, barcode_2 + '_Node_Pool'] = aitchisonDist(node_pool_counts[barcode_1].values + 0.0001, node_pool_counts[barcode_2].values + 0.0001)\n",
    "        \n",
    "        structure_comparisons.loc[barcode_1, barcode_2 + '_Path_Type'] = aitchisonDist(path_type_counts[barcode_1].values + 0.0001, path_type_counts[barcode_2].values + 0.0001)\n",
    "        \n",
    "        structure_comparisons.loc[barcode_1, barcode_2 + '_Path_Pool'] = aitchisonDist(path_pool_counts[barcode_1].values + 0.0001, path_pool_counts[barcode_2].values + 0.0001)"
   ]
  },
  {
   "cell_type": "code",
   "execution_count": 60,
   "id": "00667d08",
   "metadata": {},
   "outputs": [],
   "source": [
    "# Save the comparisons table\n",
    "structure_comparisons.to_csv('/Genomics/chanlab/blaw/TLS/data/AM-DNA-258/progenitor_analysis/structure_comparisons.txt', sep = '\\t')"
   ]
  },
  {
   "cell_type": "code",
   "execution_count": 61,
   "id": "08c277b5",
   "metadata": {},
   "outputs": [],
   "source": [
    "# Read in the table\n",
    "structure_comparisons = pd.read_csv('/Genomics/chanlab/blaw/TLS/data/AM-DNA-258/progenitor_analysis/structure_comparisons.txt', index_col = 0, sep = '\\t')"
   ]
  },
  {
   "cell_type": "code",
   "execution_count": 62,
   "id": "a4f40abb",
   "metadata": {},
   "outputs": [],
   "source": [
    "# Make lists of the TLS distances for plotting\n",
    "TLS_composition_Dists = []\n",
    "TLS_node_type_Dists = []\n",
    "TLS_node_pool_Dists = []\n",
    "TLS_path_type_Dists = []\n",
    "TLS_path_pool_Dists = []\n",
    "\n",
    "for barcode_1, barcode_2 in list(itertools.combinations(TLS_barcodes, 2)):\n",
    "    TLS_composition_Dists.append(structure_comparisons.loc[barcode_1, barcode_2 + '_Composition'])\n",
    "    TLS_node_type_Dists.append(structure_comparisons.loc[barcode_1, barcode_2 + '_Node_Type'])\n",
    "    TLS_node_pool_Dists.append(structure_comparisons.loc[barcode_1, barcode_2 + '_Node_Pool'])\n",
    "    TLS_path_type_Dists.append(structure_comparisons.loc[barcode_1, barcode_2 + '_Path_Type'])\n",
    "    TLS_path_pool_Dists.append(structure_comparisons.loc[barcode_1, barcode_2 + '_Path_Pool'])"
   ]
  },
  {
   "cell_type": "code",
   "execution_count": 63,
   "id": "4a4b5bf1",
   "metadata": {},
   "outputs": [],
   "source": [
    "# Make lists of the TLSCL distances for plotting\n",
    "TLSCL_composition_Dists = []\n",
    "TLSCL_node_type_Dists = []\n",
    "TLSCL_node_pool_Dists = []\n",
    "TLSCL_path_type_Dists = []\n",
    "TLSCL_path_pool_Dists = []\n",
    "\n",
    "for barcode_1, barcode_2 in list(itertools.combinations(TLSCL_barcodes, 2)):\n",
    "    TLSCL_composition_Dists.append(structure_comparisons.loc[barcode_1, barcode_2 + '_Composition'])\n",
    "    TLSCL_node_type_Dists.append(structure_comparisons.loc[barcode_1, barcode_2 + '_Node_Type'])\n",
    "    TLSCL_node_pool_Dists.append(structure_comparisons.loc[barcode_1, barcode_2 + '_Node_Pool'])\n",
    "    TLSCL_path_type_Dists.append(structure_comparisons.loc[barcode_1, barcode_2 + '_Path_Type'])\n",
    "    TLSCL_path_pool_Dists.append(structure_comparisons.loc[barcode_1, barcode_2 + '_Path_Pool'])"
   ]
  },
  {
   "cell_type": "code",
   "execution_count": 64,
   "id": "00292fba",
   "metadata": {},
   "outputs": [],
   "source": [
    "# Line plots showing distances for each structure pair\n",
    "fig, ax = plt.subplots(1, 2, figsize = (15, 5))\n",
    "\n",
    "ax1 = ax[0]\n",
    "ax1.set_title('TLS Distances')\n",
    "ax1.set_ylabel('Aitchisons Distance')\n",
    "for i,value in enumerate(TLS_composition_Dists):\n",
    "    temp = [TLS_composition_Dists[i], TLS_node_type_Dists[i], TLS_node_pool_Dists[i], TLS_path_type_Dists[i], TLS_path_pool_Dists[i]]\n",
    "    ax1.plot(['Composition', 'Node Type', 'Node Pool', 'Path Type', 'Path Pool'], temp)  \n",
    "    \n",
    "ax2 = ax[1]\n",
    "ax2.set_title('TLS Distances')\n",
    "ax2.set_ylabel('Aitchisons Distance')\n",
    "for i,value in enumerate(TLSCL_composition_Dists):\n",
    "    temp = [TLSCL_composition_Dists[i], TLSCL_node_type_Dists[i], TLSCL_node_pool_Dists[i], TLSCL_path_type_Dists[i], TLSCL_path_pool_Dists[i]]\n",
    "    ax2.plot(['Composition', 'Node Type', 'Node Pool', 'Path Type', 'Path Pool'], temp)  \n",
    "\n",
    "#plt.ylim(0, 15)\n",
    "plt.tight_layout()\n",
    "#plt.show()\n",
    "plt.close()"
   ]
  },
  {
   "cell_type": "code",
   "execution_count": 65,
   "id": "7eb48ee9",
   "metadata": {},
   "outputs": [],
   "source": [
    "# Boxplot of distances\n",
    "fig, ax = plt.subplots(1, 2, figsize = (15, 5))\n",
    "\n",
    "ax1 = ax[0]\n",
    "ax1.set_title('TLS Distances')\n",
    "ax1.set_ylabel('Aitchisons Distance')\n",
    "ax1.boxplot([TLS_composition_Dists, TLS_node_type_Dists, TLS_node_pool_Dists],\n",
    "           labels = ['Composition', 'Node Type', 'Node Pool'])\n",
    "    \n",
    "ax2 = ax[1]\n",
    "ax2.set_title('TLSCL Distances')\n",
    "ax2.set_ylabel('Aitchisons Distance')\n",
    "ax2.boxplot([TLSCL_composition_Dists, TLSCL_node_type_Dists, TLSCL_node_pool_Dists],\n",
    "           labels = ['Composition', 'Node Type', 'Node Pool'])\n",
    "\n",
    "#plt.ylim(0, 15)\n",
    "plt.tight_layout()\n",
    "plt.savefig('/Genomics/chanlab/blaw/TLS/data/AM-DNA-258/progenitor_analysis/TLS_TLSCL_Composition_Distances.pdf', dpi = 300)\n",
    "#plt.show()\n",
    "plt.close()"
   ]
  },
  {
   "cell_type": "markdown",
   "id": "a8aa9c0a",
   "metadata": {},
   "source": [
    "### Plots of the Distribution of node types per structure\n",
    "- These will be made with both the progenitor type distributions, and the differentiating NMP classifications"
   ]
  },
  {
   "cell_type": "code",
   "execution_count": 66,
   "id": "7886156a",
   "metadata": {},
   "outputs": [],
   "source": [
    "structure_pool_fracs = {}\n",
    "structure_progenitor_fracs = {}\n",
    "\n",
    "for barcode in np.unique(node_info['Barcode']):\n",
    "    total = len(node_info[node_info['Barcode'] == barcode])\n",
    "    prolif = len(node_info[(node_info['Barcode'] == barcode) & (node_info['Progenitor Pool'].isin(['Proliferating']))])\n",
    "    differentiating = len(node_info[(node_info['Barcode'] == barcode) & (node_info['Progenitor Pool'].isin(['Differentiating']))])\n",
    "    exhausted = len(node_info[(node_info['Barcode'] == barcode) & (node_info['Progenitor Pool'].isin(['Exhausted']))])\n",
    "\n",
    "    structure_pool_fracs[barcode] = [prolif / (total-1), differentiating / (total-1), exhausted / (total-1)]\n",
    "    \n",
    "    bipotent = len(node_info[(node_info['Barcode'] == barcode) & (node_info['Progenitor Type'].isin(['Bipotent', 'Transient NMP']))])\n",
    "    prolif = len(node_info[(node_info['Barcode'] == barcode) & (node_info['Progenitor Type'].isin(['Proliferating']))])\n",
    "    neural = len(node_info[(node_info['Barcode'] == barcode) & (node_info['Progenitor Type'].isin(['Neural Committed']))])\n",
    "    somitic = len(node_info[(node_info['Barcode'] == barcode) & (node_info['Progenitor Type'].isin(['Somitic Committed']))])\n",
    "\n",
    "    structure_progenitor_fracs[barcode] = [prolif / (total-1), bipotent / (total-1), neural / (total - 1), somitic / (total-1)]"
   ]
  },
  {
   "cell_type": "code",
   "execution_count": 67,
   "id": "71fe8894",
   "metadata": {},
   "outputs": [],
   "source": [
    "colors = ['#e6194b', '#3cb44b', '#ffe119', '#4363d8', '#f58231', '#911eb4', '#46f0f0', '#f032e6', '#bcf60c', '#fabebe',\n",
    "          '#008080', '#e6beff', '#9a6324', '#fffac8', '#800000', '#aaffc3', '#808000', '#ffd8b1', '#000075', '#808080',\n",
    "          '#ffffff', '#000000']"
   ]
  },
  {
   "cell_type": "code",
   "execution_count": 68,
   "id": "bfae76cb",
   "metadata": {},
   "outputs": [],
   "source": [
    "fig, ax = plt.subplots(2, 1, figsize = (10, 10))\n",
    "\n",
    "prolif = []\n",
    "differentiating = []\n",
    "exhausted = []\n",
    "barcodes = []\n",
    "for barcode in np.unique(node_info[node_info['TLSCL'] == 'TLS']['Barcode']):\n",
    "    prolif.append(structure_pool_fracs[barcode][0])\n",
    "    differentiating.append(structure_pool_fracs[barcode][1])\n",
    "    exhausted.append(structure_pool_fracs[barcode][2])\n",
    "    barcodes.append(barcode)\n",
    "    \n",
    "test = pd.DataFrame({'Proliferating': prolif,\n",
    "                   'Differentiating':differentiating,\n",
    "                   'Exhausted': exhausted,\n",
    "                    'Barcode': barcodes})\n",
    "\n",
    "ax1 = ax[0]\n",
    "count = 0\n",
    "for barcode in barcodes:\n",
    "    ax1.plot(['Proliferating', 'Differentiating', 'Exhausted'], structure_pool_fracs[barcode], color = colors[count])\n",
    "    count += 1\n",
    "ax1.set_title('TLS NMP Differentiation')\n",
    "ax1.set_ylabel('Fraction of Nodes per Structure')\n",
    "ax1.set_ylim(0, 1)\n",
    "    \n",
    "ax2 = ax[1]\n",
    "sns.boxplot(ax = ax2, data = test)\n",
    "count = 0\n",
    "for barcode in barcodes:\n",
    "    sns.stripplot(data = test[test['Barcode'] == barcode], color = colors[count])\n",
    "    count += 1\n",
    "ax2.set_ylabel('Fraction of Nodes Per Structure')\n",
    "ax2.set_ylim(0, 1)\n",
    "\n",
    "plt.tight_layout()\n",
    "plt.savefig('/Genomics/chanlab/blaw/TLS/data/AM-DNA-258/progenitor_analysis/TLS_NMP_Differentiation.pdf', dpi = 300)\n",
    "#plt.show()\n",
    "plt.close()"
   ]
  },
  {
   "cell_type": "code",
   "execution_count": 69,
   "id": "886bbd62",
   "metadata": {},
   "outputs": [],
   "source": [
    "fig, ax = plt.subplots(2, 1, figsize = (10, 10))\n",
    "\n",
    "bipotent = []\n",
    "prolif = []\n",
    "neural = []\n",
    "somitic = []\n",
    "barcodes = []\n",
    "for barcode in np.unique(node_info[node_info['TLSCL'] == 'TLS']['Barcode']):\n",
    "    bipotent.append(structure_progenitor_fracs[barcode][1])\n",
    "    prolif.append(structure_progenitor_fracs[barcode][0])\n",
    "    neural.append(structure_progenitor_fracs[barcode][2])\n",
    "    somitic.append(structure_progenitor_fracs[barcode][3])\n",
    "    barcodes.append(barcode)\n",
    "    \n",
    "test = pd.DataFrame({'Proliferating': prolif,\n",
    "                     'Bipotent': bipotent,\n",
    "                     'Neural Committed': neural,\n",
    "                     'Somitic Committed': somitic,\n",
    "                    'Barcode': barcodes})\n",
    "\n",
    "ax1 = ax[0]\n",
    "count = 0\n",
    "for barcode in barcodes:\n",
    "    ax1.plot(['Proliferating', 'Bipotent', 'Neural Committed', 'Somitic Committed'], structure_progenitor_fracs[barcode], color = colors[count])\n",
    "    count += 1\n",
    "ax1.set_title('TLS Progenitor Nodes')\n",
    "ax1.set_ylabel('Fraction of Nodes per Structure')\n",
    "ax1.set_ylim(0, 1)\n",
    "    \n",
    "ax2 = ax[1]\n",
    "sns.boxplot(ax = ax2, data = test)\n",
    "count = 0\n",
    "for barcode in barcodes:\n",
    "    sns.stripplot(data = test[test['Barcode'] == barcode], color = colors[count])\n",
    "    count += 1\n",
    "ax2.set_ylabel('Fraction of Nodes Per Structure')\n",
    "ax2.set_ylim(0, 1)\n",
    "\n",
    "plt.tight_layout()\n",
    "plt.savefig('/Genomics/chanlab/blaw/TLS/data/AM-DNA-258/progenitor_analysis/TLS_Progenitor_Nodes.pdf', dpi = 300)\n",
    "#plt.show()\n",
    "plt.close()"
   ]
  },
  {
   "cell_type": "code",
   "execution_count": 70,
   "id": "280c4697",
   "metadata": {},
   "outputs": [],
   "source": [
    "fig, ax = plt.subplots(2, 1, figsize = (10, 10))\n",
    "\n",
    "prolif = []\n",
    "differentiating = []\n",
    "exhausted = []\n",
    "barcodes = []\n",
    "for barcode in np.unique(node_info[node_info['TLSCL'] == 'TLSCL']['Barcode']):\n",
    "    prolif.append(structure_pool_fracs[barcode][0])\n",
    "    differentiating.append(structure_pool_fracs[barcode][1])\n",
    "    exhausted.append(structure_pool_fracs[barcode][2])\n",
    "    barcodes.append(barcode)\n",
    "    \n",
    "test = pd.DataFrame({'Proliferating': prolif,\n",
    "                   'Differentiating':differentiating,\n",
    "                   'Exhausted': exhausted,\n",
    "                    'Barcode': barcodes})\n",
    "\n",
    "ax1 = ax[0]\n",
    "count = 0\n",
    "for barcode in barcodes:\n",
    "    ax1.plot(['Proliferating', 'Differentiating', 'Exhausted'], structure_pool_fracs[barcode], color = colors[count])\n",
    "    count += 1\n",
    "ax1.set_title('TLSCL NMP Differentiation')\n",
    "ax1.set_ylabel('Fraction of Nodes per Structure')\n",
    "ax1.set_ylim(0, 1)\n",
    "    \n",
    "ax2 = ax[1]\n",
    "sns.boxplot(ax = ax2, data = test)\n",
    "count = 0\n",
    "for barcode in barcodes:\n",
    "    sns.stripplot(data = test[test['Barcode'] == barcode], color = colors[count])\n",
    "    count += 1\n",
    "ax2.set_ylabel('Fraction of Nodes Per Structure')\n",
    "ax2.set_ylim(0, 1)\n",
    "\n",
    "plt.tight_layout()\n",
    "plt.savefig('/Genomics/chanlab/blaw/TLS/data/AM-DNA-258/progenitor_analysis/TLSCL_NMP_Differentiation.pdf', dpi = 300)\n",
    "#plt.show()\n",
    "plt.close()"
   ]
  },
  {
   "cell_type": "code",
   "execution_count": 71,
   "id": "8596abbe",
   "metadata": {},
   "outputs": [],
   "source": [
    "fig, ax = plt.subplots(2, 1, figsize = (10, 10))\n",
    "\n",
    "bipotent = []\n",
    "prolif = []\n",
    "neural = []\n",
    "somitic = []\n",
    "barcodes = []\n",
    "for barcode in np.unique(node_info[node_info['TLSCL'] == 'TLSCL']['Barcode']):\n",
    "    bipotent.append(structure_progenitor_fracs[barcode][1])\n",
    "    prolif.append(structure_progenitor_fracs[barcode][0])\n",
    "    neural.append(structure_progenitor_fracs[barcode][2])\n",
    "    somitic.append(structure_progenitor_fracs[barcode][3])\n",
    "    barcodes.append(barcode)\n",
    "    \n",
    "test = pd.DataFrame({'Proliferating': prolif,\n",
    "                     'Bipotent': bipotent,\n",
    "                     'Neural Committed': neural,\n",
    "                     'Somitic Committed': somitic,\n",
    "                    'Barcode': barcodes})\n",
    "\n",
    "ax1 = ax[0]\n",
    "count = 0\n",
    "for barcode in barcodes:\n",
    "    ax1.plot(['Proliferating', 'Bipotent', 'Neural Committed', 'Somitic Committed'], structure_progenitor_fracs[barcode], color = colors[count])\n",
    "    count += 1\n",
    "ax1.set_title('TLSCL Progenitor Nodes')\n",
    "ax1.set_ylabel('Fraction of Nodes per Structure')\n",
    "ax1.set_ylim(0, 1)\n",
    "    \n",
    "ax2 = ax[1]\n",
    "sns.boxplot(ax = ax2, data = test)\n",
    "count = 0\n",
    "for barcode in barcodes:\n",
    "    sns.stripplot(data = test[test['Barcode'] == barcode], color = colors[count])\n",
    "    count += 1\n",
    "ax2.set_ylabel('Fraction of Nodes Per Structure')\n",
    "ax2.set_ylim(0, 1)\n",
    "\n",
    "plt.tight_layout()\n",
    "plt.savefig('/Genomics/chanlab/blaw/TLS/data/AM-DNA-258/progenitor_analysis/TLSCL_Progenitor_Nodes.pdf', dpi = 300)\n",
    "#plt.show()\n",
    "plt.close()"
   ]
  },
  {
   "cell_type": "markdown",
   "id": "8fa5d90f",
   "metadata": {},
   "source": [
    "### All nodes ordered by percent NMP"
   ]
  },
  {
   "cell_type": "code",
   "execution_count": 72,
   "id": "6c6624de",
   "metadata": {},
   "outputs": [],
   "source": [
    "TLS_NMP_percents = []\n",
    "TLSCL_NMP_percents = []\n",
    "for row in node_info[node_info['Clone'] != 'Root'].iterrows():\n",
    "    if row[1]['TLSCL'] == 'TLS':\n",
    "        TLS_NMP_percents.append(row[1]['Percent NMP'])\n",
    "    else:\n",
    "        TLSCL_NMP_percents.append(row[1]['Percent NMP'])"
   ]
  },
  {
   "cell_type": "code",
   "execution_count": 73,
   "id": "3374e21a",
   "metadata": {},
   "outputs": [],
   "source": [
    "# Plot each individual structure as a seperate page of pdf\n",
    "pdf = PdfPages('/Genomics/chanlab/blaw/TLS/data/AM-DNA-258/progenitor_analysis/Individual_Structures_Percent_NMP_Rank_Order_Seperate.pdf')\n",
    "\n",
    "for barcode in np.unique(node_info['Barcode']):\n",
    "    barcode_percents = []\n",
    "    for row in node_info[(node_info['Barcode'] == barcode) & (node_info['Clone'] != 'Root')].iterrows():\n",
    "            barcode_percents.append(row[1]['Percent NMP'])\n",
    "\n",
    "    x = np.arange(len(barcode_percents)) / len(barcode_percents)\n",
    "    \n",
    "    fig = plt.figure()\n",
    "    plt.scatter(x = x, y = sorted(barcode_percents, reverse = True))\n",
    "    plt.title('{} Percent NMP Rank Order'.format(barcode))\n",
    "    plt.xlabel('Node Rank Order')\n",
    "    plt.ylabel('Fraction of Extant NMPs')\n",
    "    #plt.savefig('/Genomics/chanlab/blaw/TLS/data/AM-DNA-258/progenitor_analysis/TLS_Percent_NMP_Rank_Order.pdf', dpi = 300)\n",
    "    #plt.show()\n",
    "    pdf.savefig(fig)\n",
    "    plt.close()\n",
    "pdf.close()"
   ]
  },
  {
   "cell_type": "code",
   "execution_count": 74,
   "id": "92c8a69f",
   "metadata": {},
   "outputs": [],
   "source": [
    "# Plot each individual structure in a 5x5 box\n",
    "fig, ax = plt.subplots(5, 5, figsize = (30, 30))\n",
    "\n",
    "x_count = 0\n",
    "y_count = 0\n",
    "for barcode in TLS_barcodes + TLSCL_barcodes:\n",
    "    barcode_percents = []\n",
    "    for row in node_info[(node_info['Barcode'] == barcode) & (node_info['Clone'] != 'Root')].iterrows():\n",
    "            barcode_percents.append(row[1]['Percent NMP'])\n",
    "\n",
    "    x = np.arange(len(barcode_percents)) / len(barcode_percents)\n",
    "    \n",
    "    temp_ax = ax[y_count, x_count]\n",
    "    temp_ax.scatter(x = x, y = sorted(barcode_percents, reverse = True))\n",
    "    temp_ax.set_title('{} Percent NMP Rank Order'.format(barcode))\n",
    "    temp_ax.set_xlabel('Node Rank Order')\n",
    "    temp_ax.set_ylabel('Fraction of Extant NMPs')\n",
    "    \n",
    "    x_count += 1\n",
    "    if x_count > 4:\n",
    "        y_count += 1\n",
    "        x_count = 0\n",
    "\n",
    "        \n",
    "plt.tight_layout()\n",
    "plt.savefig('/Genomics/chanlab/blaw/TLS/data/AM-DNA-258/progenitor_analysis/Individual_Structures_Percent_NMP_Rank_Order.pdf', dpi = 900)\n",
    "#plt.show()\n",
    "plt.close()\n"
   ]
  },
  {
   "cell_type": "code",
   "execution_count": 75,
   "id": "24e19868",
   "metadata": {},
   "outputs": [],
   "source": [
    "node_pool_frac[TLS_barcodes + TLSCL_barcodes].T.plot(kind='bar', use_index = True, stacked=True, color = colors, grid = False)\n",
    "plt.legend(loc='center left', bbox_to_anchor=(1.0, 0.5))\n",
    "plt.title('NMP Differentiation Proportions')\n",
    "plt.ylabel('Fraction of Nodes')\n",
    "plt.tight_layout()\n",
    "plt.savefig('/Genomics/chanlab/blaw/TLS/data/AM-DNA-258/progenitor_analysis/NMP_Differentiation_Stacked_Bar.pdf', dpi = 300)\n",
    "#plt.show()\n",
    "plt.close()"
   ]
  },
  {
   "cell_type": "code",
   "execution_count": 76,
   "id": "77ff4a01",
   "metadata": {},
   "outputs": [],
   "source": [
    "node_type_frac[TLS_barcodes + TLSCL_barcodes].T.plot(kind='bar', use_index = True, stacked=True, color = colors, grid = False)\n",
    "plt.legend(loc='center left', bbox_to_anchor=(1.0, 0.5))\n",
    "plt.title('Progenitor Type Proportions')\n",
    "plt.ylabel('Fraction of Nodes')\n",
    "plt.tight_layout()\n",
    "plt.savefig('/Genomics/chanlab/blaw/TLS/data/AM-DNA-258/progenitor_analysis/Progenitor_Type_Stacked_Bar.pdf', dpi = 300)\n",
    "#plt.show()\n",
    "plt.close()"
   ]
  },
  {
   "cell_type": "code",
   "execution_count": 77,
   "id": "84af1692",
   "metadata": {},
   "outputs": [],
   "source": [
    "fig, ax = plt.subplots(1, 2, figsize = (15, 5))\n",
    "\n",
    "ax1 = ax[0]\n",
    "ax1.set_title('TLS - Percent NMP Rank Order')\n",
    "ax1.set_ylabel('Cumulative Density')\n",
    "ax1.set_xlabel('Fraction of Extant NMPs')\n",
    "for barcode in np.unique(node_info[node_info['TLSCL'] == 'TLS']['Barcode']):\n",
    "    barcode_percents = []\n",
    "    for row in node_info[(node_info['Barcode'] == barcode) & (node_info['Clone'] != 'Root')].iterrows():\n",
    "            barcode_percents.append(row[1]['Percent NMP'])\n",
    "\n",
    "    x = range(len(barcode_percents))\n",
    "    sns.ecdfplot(barcode_percents, label = barcode, ax = ax1)\n",
    "\n",
    "ax2 = ax[1]\n",
    "ax2.set_title('TLS - Percent NMP Rank Order')\n",
    "ax2.set_ylabel('Cumulative Density')\n",
    "ax2.set_xlabel('Fraction of Extant NMPs')\n",
    "for barcode in np.unique(node_info[node_info['TLSCL'] == 'TLSCL']['Barcode']):\n",
    "    barcode_percents = []\n",
    "    for row in node_info[(node_info['Barcode'] == barcode) & (node_info['Clone'] != 'Root')].iterrows():\n",
    "            barcode_percents.append(row[1]['Percent NMP'])\n",
    "\n",
    "    x = range(len(barcode_percents))\n",
    "\n",
    "    sns.ecdfplot(barcode_percents, label = barcode, ax = ax2)\n",
    "\n",
    "plt.savefig('/Genomics/chanlab/blaw/TLS/data/AM-DNA-258/progenitor_analysis/TLS_TLSCL_Percent_NMP_cdf.pdf', dpi = 300)\n",
    "#plt.show()\n",
    "plt.close()"
   ]
  },
  {
   "cell_type": "code",
   "execution_count": 78,
   "id": "7f18ae42",
   "metadata": {},
   "outputs": [],
   "source": [
    "fig, ax = plt.subplots(1, 2, figsize = (15, 5))\n",
    "\n",
    "ax1 = ax[0]\n",
    "x = range(len(TLS_NMP_percents))\n",
    "ax1.scatter(x = x, y = sorted(TLS_NMP_percents, reverse = True))\n",
    "ax1.set_title('TLS - Percent NMP Rank Order')\n",
    "ax1.set_xlabel('Node Rank Order')\n",
    "ax1.set_ylabel('Fraction of Extant NMPs')\n",
    "\n",
    "ax2 = ax[1]\n",
    "x = range(len(TLSCL_NMP_percents))\n",
    "ax2.scatter(x = x, y = sorted(TLSCL_NMP_percents, reverse = True))\n",
    "ax2.set_title('TLS - Percent NMP Rank Order')\n",
    "ax2.set_xlabel('Node Rank Order')\n",
    "ax2.set_ylabel('Fraction of Extant NMPs')\n",
    "\n",
    "plt.savefig('/Genomics/chanlab/blaw/TLS/data/AM-DNA-258/progenitor_analysis/TLS_TLSCL_Percent_NMP_Rank_Order.pdf', dpi = 300)\n",
    "#plt.show()\n",
    "plt.close()"
   ]
  },
  {
   "cell_type": "code",
   "execution_count": 79,
   "id": "f7411cfb",
   "metadata": {},
   "outputs": [],
   "source": [
    "from scipy.interpolate import make_interp_spline\n",
    "\n",
    "x = np.arange(len(TLSCL_NMP_percents)) / len(TLSCL_NMP_percents)\n",
    "y = sorted(TLSCL_NMP_percents, reverse = True)\n",
    "\n",
    "xnew = np.linspace(x.min(), x.max(), 300)\n",
    "gfg = make_interp_spline(x, y, k=3)\n",
    "ynew = gfg(xnew)\n",
    "\n",
    "plt.plot(xnew, ynew, color = 'darkred')\n",
    "\n",
    "\n",
    "x2 = np.arange(len(TLS_NMP_percents)) / len(TLS_NMP_percents)\n",
    "y2 = sorted(TLS_NMP_percents, reverse = True)\n",
    "\n",
    "xnew2 = np.linspace(x2.min(), x2.max(), 300)\n",
    "gfg2 = make_interp_spline(x2, y2, k=11)\n",
    "ynew2 = gfg2(xnew2)\n",
    "\n",
    "plt.plot(xnew2, ynew2, color = 'red')\n",
    "plt.legend(labels=['TLSCL', 'TLS'])\n",
    "plt.xlabel('Node Rank Order')\n",
    "plt.ylabel('Fraction of Extant NMPs')\n",
    "plt.savefig('/Genomics/chanlab/blaw/TLS/data/AM-DNA-258/progenitor_analysis/TLS_TLSCL_Percent_NMP_Rank_Order_Combined.pdf', dpi = 300)\n",
    "#plt.show()\n",
    "plt.close()  "
   ]
  },
  {
   "cell_type": "code",
   "execution_count": 80,
   "id": "c3536009",
   "metadata": {},
   "outputs": [],
   "source": [
    "TLS_bipotent_fracs = []\n",
    "for barcode in np.unique(node_info[node_info['TLSCL'] == 'TLS']['Barcode']):\n",
    "    TLS_bipotent_fracs.append(len(node_info[(node_info['Barcode'] == barcode) & (node_info['Progenitor Type'].isin(['Bipotent', 'Transient NMP']))]) / \n",
    "                              len(node_info[node_info['Barcode'] == barcode]))"
   ]
  },
  {
   "cell_type": "code",
   "execution_count": 81,
   "id": "7568f8de",
   "metadata": {},
   "outputs": [],
   "source": [
    "TLSCL_bipotent_fracs = []\n",
    "for barcode in np.unique(node_info[node_info['TLSCL'] == 'TLSCL']['Barcode']):\n",
    "    TLSCL_bipotent_fracs.append(len(node_info[(node_info['Barcode'] == barcode) & (node_info['Progenitor Type'].isin(['Bipotent', 'Transient NMP']))]) / \n",
    "                              len(node_info[node_info['Barcode'] == barcode]))"
   ]
  },
  {
   "cell_type": "code",
   "execution_count": 83,
   "id": "76a65e8b",
   "metadata": {},
   "outputs": [],
   "source": [
    "plt.boxplot([TLS_bipotent_fracs, TLSCL_bipotent_fracs],\n",
    "            labels = ['TLS', 'TLSCL'])\n",
    "plt.ylabel('Fraction of Bipotent Nodes')\n",
    "plt.tight_layout()\n",
    "plt.savefig('/Genomics/chanlab/blaw/TLS/data/AM-DNA-258/progenitor_analysis/TLS_TLSCL_Fraction_Bipotent_Nodes.pdf', dpi = 300)\n",
    "#plt.show()\n",
    "plt.close()"
   ]
  },
  {
   "cell_type": "code",
   "execution_count": 84,
   "id": "6b8119e8",
   "metadata": {},
   "outputs": [
    {
     "name": "stdout",
     "output_type": "stream",
     "text": [
      "TLS Bipotent Count: 414\n",
      "TLS Bipotent Fraction: 0.6225563909774436\n",
      "TLS Proliferating Count: 3\n",
      "TLS Proliferating Fraction: 0.004511278195488722\n",
      "TLS Neural Committed Count: 164\n",
      "TLS Neural Committed Fraction: 0.24661654135338346\n",
      "TLS Somitic Committed Count: 84\n",
      "TLS Somitic Committed Fraction: 0.12631578947368421\n",
      "TLS Differentiating Count: 390\n",
      "TLS Differentiating Fraction: 0.5864661654135338\n",
      "TLS Exhausted Count: 272\n",
      "TLS Exhausted Fraction: 0.40902255639097745\n",
      "TLS % NMP in Exhausted: 0.0\n",
      "TLS % Neural in Exhausted: 0.6611238831959386\n",
      "TLS % Somitic in Exhausted: 0.3388761168040614\n",
      "TLS % NMP in Differentiating: 0.2735954268248025\n",
      "TLS % Neural in Differentiating: 0.4379190725724731\n",
      "TLS % Somitic in Differentiating: 0.2884855006027243\n",
      "TLS - % Neural mean / (% Neural + % Somitic): 0.6028583639806655\n",
      "TLS - % Somitic mean / (% Neural + % Somitic): 0.3971416360193346\n"
     ]
    }
   ],
   "source": [
    "# Calculate and print out counts of each progenitor type for TLS\n",
    "test = node_info[(node_info['TLSCL'] == 'TLS')]\n",
    "\n",
    "print('TLS Bipotent Count: ' + str(len(test[test['Progenitor Type'].isin(['Bipotent', 'Transient NMP'])])))\n",
    "print('TLS Bipotent Fraction: ' + str(len(test[test['Progenitor Type'].isin(['Bipotent', 'Transient NMP'])]) / len(test)))\n",
    "\n",
    "print('TLS Proliferating Count: ' + str(len(test[test['Progenitor Type'].isin(['Proliferating'])])))\n",
    "print('TLS Proliferating Fraction: ' + str(len(test[test['Progenitor Type'].isin(['Proliferating'])]) / len(test)))\n",
    "\n",
    "print('TLS Neural Committed Count: ' + str(len(test[test['Progenitor Type'].isin(['Neural Committed'])])))\n",
    "print('TLS Neural Committed Fraction: ' + str(len(test[test['Progenitor Type'].isin(['Neural Committed'])]) / len(test)))\n",
    "\n",
    "print('TLS Somitic Committed Count: ' + str(len(test[test['Progenitor Type'].isin(['Somitic Committed'])])))\n",
    "print('TLS Somitic Committed Fraction: ' + str(len(test[test['Progenitor Type'].isin(['Somitic Committed'])]) / len(test)))\n",
    "\n",
    "print('TLS Differentiating Count: ' + str(len(test[test['Progenitor Pool'].isin(['Differentiating'])])))\n",
    "print('TLS Differentiating Fraction: ' + str(len(test[test['Progenitor Pool'].isin(['Differentiating'])]) / len(test)))\n",
    "\n",
    "print('TLS Exhausted Count: ' + str(len(test[test['Progenitor Pool'].isin(['Exhausted'])])))\n",
    "print('TLS Exhausted Fraction: ' + str(len(test[test['Progenitor Pool'].isin(['Exhausted'])]) / len(test)))\n",
    "\n",
    "differentiating_test = test[test['Progenitor Pool'] == 'Differentiating']\n",
    "exhausted_test = test[test['Progenitor Pool'] == 'Exhausted']\n",
    "\n",
    "print('TLS % NMP in Exhausted: ' + str(exhausted_test['Percent NMP'].mean()))\n",
    "print('TLS % Neural in Exhausted: ' + str(exhausted_test['Percent Neural'].mean()))\n",
    "print('TLS % Somitic in Exhausted: ' + str(exhausted_test['Percent Somitic'].mean()))\n",
    "print('TLS % NMP in Differentiating: ' + str(differentiating_test['Percent NMP'].mean()))\n",
    "print('TLS % Neural in Differentiating: ' + str(differentiating_test['Percent Neural'].mean()))\n",
    "print('TLS % Somitic in Differentiating: ' + str(differentiating_test['Percent Somitic'].mean()))\n",
    "print('TLS - % Neural mean / (% Neural + % Somitic): ' + str(differentiating_test['Percent Neural'].mean() / (differentiating_test['Percent Neural'].mean() + differentiating_test['Percent Somitic'].mean())))\n",
    "print('TLS - % Somitic mean / (% Neural + % Somitic): ' + str(differentiating_test['Percent Somitic'].mean() /(differentiating_test['Percent Neural'].mean() + differentiating_test['Percent Somitic'].mean())))"
   ]
  },
  {
   "cell_type": "code",
   "execution_count": 85,
   "id": "1e9c6e07",
   "metadata": {},
   "outputs": [
    {
     "name": "stdout",
     "output_type": "stream",
     "text": [
      "TLSCL Bipotent Count: 304\n",
      "TLSCL Bipotent Fraction: 0.32653061224489793\n",
      "TLSCL Proliferating Count: 48\n",
      "TLSCL Proliferating Fraction: 0.05155746509129968\n",
      "TLSCL Neural Committed Count: 150\n",
      "TLSCL Neural Committed Fraction: 0.1611170784103115\n",
      "TLSCL Somitic Committed Count: 429\n",
      "TLSCL Somitic Committed Fraction: 0.4607948442534909\n",
      "TLSCL Differentiating Count: 755\n",
      "TLSCL Differentiating Fraction: 0.8109559613319012\n",
      "TLSCL Exhausted Count: 128\n",
      "TLSCL Exhausted Fraction: 0.13748657357679914\n",
      "TLSCL % NMP in Exhausted: 0.0\n",
      "TLSCL % Neural in Exhausted: 0.09973958333333333\n",
      "TLSCL % Somitic in Exhausted: 0.9002604166666667\n",
      "TLSCL % NMP in Differentiating: 0.5126702513739471\n",
      "TLSCL % Neural in Differentiating: 0.15636342599226358\n",
      "TLSCL % Somitic in Differentiating: 0.3309663226337894\n",
      "TLSCL - % Neural mean / (% Neural + % Somitic): 0.32085754344590056\n",
      "TLSCL - % Somitic mean / (% Neural + % Somitic): 0.6791424565540995\n"
     ]
    }
   ],
   "source": [
    "# Calculate and print out counts of each progenitor type for TLS\n",
    "test = node_info[(node_info['TLSCL'] == 'TLSCL')]\n",
    "\n",
    "print('TLSCL Bipotent Count: ' + str(len(test[test['Progenitor Type'].isin(['Bipotent', 'Transient NMP'])])))\n",
    "print('TLSCL Bipotent Fraction: ' + str(len(test[test['Progenitor Type'].isin(['Bipotent', 'Transient NMP'])]) / len(test)))\n",
    "\n",
    "print('TLSCL Proliferating Count: ' + str(len(test[test['Progenitor Type'].isin(['Proliferating'])])))\n",
    "print('TLSCL Proliferating Fraction: ' + str(len(test[test['Progenitor Type'].isin(['Proliferating'])]) / len(test)))\n",
    "\n",
    "print('TLSCL Neural Committed Count: ' + str(len(test[test['Progenitor Type'].isin(['Neural Committed'])])))\n",
    "print('TLSCL Neural Committed Fraction: ' + str(len(test[test['Progenitor Type'].isin(['Neural Committed'])]) / len(test)))\n",
    "\n",
    "print('TLSCL Somitic Committed Count: ' + str(len(test[test['Progenitor Type'].isin(['Somitic Committed'])])))\n",
    "print('TLSCL Somitic Committed Fraction: ' + str(len(test[test['Progenitor Type'].isin(['Somitic Committed'])]) / len(test)))\n",
    "\n",
    "print('TLSCL Differentiating Count: ' + str(len(test[test['Progenitor Pool'].isin(['Differentiating'])])))\n",
    "print('TLSCL Differentiating Fraction: ' + str(len(test[test['Progenitor Pool'].isin(['Differentiating'])]) / len(test)))\n",
    "\n",
    "print('TLSCL Exhausted Count: ' + str(len(test[test['Progenitor Pool'].isin(['Exhausted'])])))\n",
    "print('TLSCL Exhausted Fraction: ' + str(len(test[test['Progenitor Pool'].isin(['Exhausted'])]) / len(test)))\n",
    "\n",
    "differentiating_test = test[test['Progenitor Pool'] == 'Differentiating']\n",
    "exhausted_test = test[test['Progenitor Pool'] == 'Exhausted']\n",
    "\n",
    "print('TLSCL % NMP in Exhausted: ' + str(exhausted_test['Percent NMP'].mean()))\n",
    "print('TLSCL % Neural in Exhausted: ' + str(exhausted_test['Percent Neural'].mean()))\n",
    "print('TLSCL % Somitic in Exhausted: ' + str(exhausted_test['Percent Somitic'].mean()))\n",
    "print('TLSCL % NMP in Differentiating: ' + str(differentiating_test['Percent NMP'].mean()))\n",
    "print('TLSCL % Neural in Differentiating: ' + str(differentiating_test['Percent Neural'].mean()))\n",
    "print('TLSCL % Somitic in Differentiating: ' + str(differentiating_test['Percent Somitic'].mean()))\n",
    "print('TLSCL - % Neural mean / (% Neural + % Somitic): ' + str(differentiating_test['Percent Neural'].mean() / (differentiating_test['Percent Neural'].mean() + differentiating_test['Percent Somitic'].mean())))\n",
    "print('TLSCL - % Somitic mean / (% Neural + % Somitic): ' + str(differentiating_test['Percent Somitic'].mean() /(differentiating_test['Percent Neural'].mean() + differentiating_test['Percent Somitic'].mean())))"
   ]
  },
  {
   "cell_type": "code",
   "execution_count": 86,
   "id": "45eb7c61",
   "metadata": {},
   "outputs": [],
   "source": [
    "test = node_info[(node_info['TLSCL'] == 'TLS')]\n",
    "differentiating_test = test[test['Progenitor Pool'] == 'Differentiating']\n",
    "exhausted_test = test[test['Progenitor Pool'] == 'Exhausted']\n",
    "\n",
    "fig, ax = plt.subplots(1, 4, figsize = (20, 5))\n",
    "\n",
    "ax1 = ax[0]\n",
    "ratios = [exhausted_test['Percent Neural'].mean(),\n",
    "         exhausted_test['Percent Somitic'].mean()]\n",
    "ax1.pie(ratios, labels = ['% Neural', '% Somitic'])\n",
    "ax1.set_title('TLS Exhausted Extant Cells')\n",
    "\n",
    "ax2 = ax[1]\n",
    "ratios = [differentiating_test['Percent Neural'].mean() / (differentiating_test['Percent Neural'].mean() + differentiating_test['Percent Somitic'].mean()),\n",
    "         differentiating_test['Percent Somitic'].mean() / (differentiating_test['Percent Neural'].mean() + differentiating_test['Percent Somitic'].mean())]\n",
    "ax2.pie(ratios, labels = ['% Neural', '% Somitic'])\n",
    "ax2.set_title('TLS Differentiating Extant Cells')\n",
    "\n",
    "ax3 = ax[2]\n",
    "ratios = [differentiating_test[differentiating_test['Percent NMP'] > 0.5]['Percent Neural'].mean() / (differentiating_test[differentiating_test['Percent NMP'] > 0.5]['Percent Neural'].mean() + differentiating_test[differentiating_test['Percent NMP'] > 0.5]['Percent Somitic'].mean()),\n",
    "         differentiating_test[differentiating_test['Percent NMP'] > 0.5]['Percent Somitic'].mean() / (differentiating_test[differentiating_test['Percent NMP'] > 0.5]['Percent Neural'].mean() + differentiating_test[differentiating_test['Percent NMP'] > 0.5]['Percent Somitic'].mean())]\n",
    "ax3.pie(ratios, labels = ['% Neural', '% Somitic'])\n",
    "ax3.set_title('TLS Differentiating Extant Cells > 0.5 % NMP')\n",
    "\n",
    "ax4 = ax[3]\n",
    "ratios = [differentiating_test[differentiating_test['Percent NMP'] < 0.5]['Percent Neural'].mean() / (differentiating_test[differentiating_test['Percent NMP'] < 0.5]['Percent Neural'].mean() + differentiating_test[differentiating_test['Percent NMP'] < 0.5]['Percent Somitic'].mean()),\n",
    "         differentiating_test[differentiating_test['Percent NMP'] < 0.5]['Percent Somitic'].mean() / (differentiating_test[differentiating_test['Percent NMP'] < 0.5]['Percent Neural'].mean() + differentiating_test[differentiating_test['Percent NMP'] < 0.5]['Percent Somitic'].mean())]\n",
    "ax4.pie(ratios, labels = ['% Neural', '% Somitic'])\n",
    "ax4.set_title('TLS Differentiating Extant Cells < 0.5 % NMP')\n",
    "\n",
    "#plt.show()\n",
    "plt.close()"
   ]
  },
  {
   "cell_type": "code",
   "execution_count": 87,
   "id": "8f15f0af",
   "metadata": {},
   "outputs": [],
   "source": [
    "test = node_info[(node_info['TLSCL'] == 'TLSCL')]\n",
    "differentiating_test = test[test['Progenitor Pool'] == 'Differentiating']\n",
    "exhausted_test = test[test['Progenitor Pool'] == 'Exhausted']\n",
    "\n",
    "fig, ax = plt.subplots(1, 4, figsize = (20, 5))\n",
    "\n",
    "ax1 = ax[0]\n",
    "ratios = [exhausted_test['Percent Neural'].mean(),\n",
    "         exhausted_test['Percent Somitic'].mean()]\n",
    "ax1.pie(ratios, labels = ['% Neural', '% Somitic'])\n",
    "ax1.set_title('TLSCL Exhausted Extant Cells')\n",
    "\n",
    "ax2 = ax[1]\n",
    "ratios = [differentiating_test['Percent Neural'].mean() / (differentiating_test['Percent Neural'].mean() + differentiating_test['Percent Somitic'].mean()),\n",
    "         differentiating_test['Percent Somitic'].mean() / (differentiating_test['Percent Neural'].mean() + differentiating_test['Percent Somitic'].mean())]\n",
    "ax2.pie(ratios, labels = ['% Neural', '% Somitic'])\n",
    "ax2.set_title('TLSCL Differentiating Extant Cells')\n",
    "\n",
    "ax3 = ax[2]\n",
    "ratios = [differentiating_test[differentiating_test['Percent NMP'] > 0.5]['Percent Neural'].mean() / (differentiating_test[differentiating_test['Percent NMP'] > 0.5]['Percent Neural'].mean() + differentiating_test[differentiating_test['Percent NMP'] > 0.5]['Percent Somitic'].mean()),\n",
    "         differentiating_test[differentiating_test['Percent NMP'] > 0.5]['Percent Somitic'].mean() / (differentiating_test[differentiating_test['Percent NMP'] > 0.5]['Percent Neural'].mean() + differentiating_test[differentiating_test['Percent NMP'] > 0.5]['Percent Somitic'].mean())]\n",
    "ax3.pie(ratios, labels = ['% Neural', '% Somitic'])\n",
    "ax3.set_title('TLSCL Differentiating Extant Cells > 0.5 % NMP')\n",
    "\n",
    "ax4 = ax[3]\n",
    "ratios = [differentiating_test[differentiating_test['Percent NMP'] < 0.5]['Percent Neural'].mean() / (differentiating_test[differentiating_test['Percent NMP'] < 0.5]['Percent Neural'].mean() + differentiating_test[differentiating_test['Percent NMP'] < 0.5]['Percent Somitic'].mean()),\n",
    "         differentiating_test[differentiating_test['Percent NMP'] < 0.5]['Percent Somitic'].mean() / (differentiating_test[differentiating_test['Percent NMP'] < 0.5]['Percent Neural'].mean() + differentiating_test[differentiating_test['Percent NMP'] < 0.5]['Percent Somitic'].mean())]\n",
    "ax4.pie(ratios, labels = ['% Neural', '% Somitic'])\n",
    "ax4.set_title('TLSCL Differentiating Extant Cells < 0.5 % NMP')\n",
    "\n",
    "#plt.show()\n",
    "plt.close()"
   ]
  },
  {
   "cell_type": "markdown",
   "id": "88f80d3a",
   "metadata": {},
   "source": [
    "# Violin plots of progenitor type fractions"
   ]
  },
  {
   "cell_type": "code",
   "execution_count": 88,
   "id": "6122001e",
   "metadata": {},
   "outputs": [],
   "source": [
    "temp = node_type_frac.copy().T"
   ]
  },
  {
   "cell_type": "code",
   "execution_count": 89,
   "id": "18c3a3c7",
   "metadata": {},
   "outputs": [],
   "source": [
    "index_labels = []\n",
    "for barcode in temp.index.values:\n",
    "    for progenitor in ['Bipotent', 'Neural Committed', 'Somitic Committed', 'Proliferating']:\n",
    "        index_labels.append(barcode + '_' + progenitor)"
   ]
  },
  {
   "cell_type": "code",
   "execution_count": 90,
   "id": "adfa5c95",
   "metadata": {},
   "outputs": [],
   "source": [
    "temp2 = pd.DataFrame(index = index_labels, columns = ['Barcode', 'Value', 'Progenitor Type', 'TLSCL'])"
   ]
  },
  {
   "cell_type": "code",
   "execution_count": 91,
   "id": "96b337f7",
   "metadata": {},
   "outputs": [],
   "source": [
    "for barcode in temp.index.values:\n",
    "    for progenitor in ['Bipotent', 'Neural Committed', 'Somitic Committed', 'Proliferating']:\n",
    "        temp2.loc[barcode + '_' + progenitor]['Value'] = temp.loc[barcode][progenitor]\n",
    "        \n",
    "        temp2.loc[barcode + '_' + progenitor]['Barcode'] = barcode\n",
    "        temp2.loc[barcode + '_' + progenitor]['Progenitor Type'] = progenitor\n",
    "        \n",
    "temp2['TLSCL'] = temp2['Barcode'].map(addTLSCL)"
   ]
  },
  {
   "cell_type": "code",
   "execution_count": 92,
   "id": "ffb2523f",
   "metadata": {},
   "outputs": [],
   "source": [
    "temp['TLSCL'] = temp.index.map(addTLSCL)"
   ]
  },
  {
   "cell_type": "code",
   "execution_count": 93,
   "id": "5c00a974",
   "metadata": {},
   "outputs": [],
   "source": [
    "temp2['Value'] = temp2['Value'].astype('float')"
   ]
  },
  {
   "cell_type": "code",
   "execution_count": 94,
   "id": "9f55f6be",
   "metadata": {},
   "outputs": [],
   "source": [
    "fig, ax = plt.subplots(figsize = (10, 5))\n",
    "\n",
    "sns.violinplot(data=temp2, x = 'Progenitor Type', y = 'Value', scale = 'count', split = True, hue = 'TLSCL',\n",
    "              order = ['Proliferating', 'Bipotent', 'Neural Committed', 'Somitic Committed'])\n",
    "plt.ylabel('Fraction of Nodes')\n",
    "plt.ylim(0, 1)\n",
    "plt.savefig('/Genomics/chanlab/blaw/TLS/data/AM-DNA-258/progenitor_analysis/Progenitor_Type_Fractions.pdf', dpi = 300)\n",
    "#plt.show()\n",
    "plt.close()"
   ]
  },
  {
   "cell_type": "code",
   "execution_count": 95,
   "id": "5161687f",
   "metadata": {},
   "outputs": [],
   "source": [
    "fig, ax = plt.subplots(figsize = (10, 5))\n",
    "\n",
    "sns.violinplot(data=temp[temp['TLSCL'] == 'TLS'], scale = 'count',\n",
    "              order = ['Proliferating', 'Bipotent', 'Neural Committed', 'Somitic Committed'])\n",
    "plt.ylabel('Fraction of Nodes')\n",
    "plt.ylim(0, 1)\n",
    "plt.savefig('/Genomics/chanlab/blaw/TLS/data/AM-DNA-258/progenitor_analysis/TLS_Progenitor_Type_Fractions.pdf', dpi = 300)\n",
    "#plt.show()\n",
    "plt.close()"
   ]
  },
  {
   "cell_type": "code",
   "execution_count": 96,
   "id": "e3c3ef79",
   "metadata": {},
   "outputs": [],
   "source": [
    "fig, ax = plt.subplots(figsize = (10, 5))\n",
    "\n",
    "sns.violinplot(data=temp[temp['TLSCL'] == 'TLSCL'], scale = 'count',\n",
    "              order = ['Proliferating', 'Bipotent', 'Neural Committed', 'Somitic Committed'])\n",
    "plt.ylabel('Fraction of Nodes')\n",
    "plt.ylim(0, 1)\n",
    "plt.savefig('/Genomics/chanlab/blaw/TLS/data/AM-DNA-258/progenitor_analysis/TLSCL_Progenitor_Type_Fractions.pdf', dpi = 300)\n",
    "#plt.show()\n",
    "plt.close()"
   ]
  },
  {
   "cell_type": "markdown",
   "id": "4b4f8b67",
   "metadata": {},
   "source": [
    "# Violin plot of node pool fractions"
   ]
  },
  {
   "cell_type": "code",
   "execution_count": 97,
   "id": "f464ee6b",
   "metadata": {},
   "outputs": [],
   "source": [
    "pool_temp = node_pool_frac.copy().T"
   ]
  },
  {
   "cell_type": "code",
   "execution_count": 98,
   "id": "094d1427",
   "metadata": {},
   "outputs": [],
   "source": [
    "pool_index_labels = []\n",
    "for barcode in pool_temp.index.values:\n",
    "    for progenitor in ['Proliferating', 'Differentiating', 'Exhausted']:\n",
    "        pool_index_labels.append(barcode + '_' + progenitor)"
   ]
  },
  {
   "cell_type": "code",
   "execution_count": 99,
   "id": "9eeb570e",
   "metadata": {},
   "outputs": [],
   "source": [
    "pool_temp2 = pd.DataFrame(index = pool_index_labels, columns = ['Barcode', 'Value', 'Progenitor Type', 'TLSCL'])"
   ]
  },
  {
   "cell_type": "code",
   "execution_count": 100,
   "id": "dec448a7",
   "metadata": {},
   "outputs": [],
   "source": [
    "for barcode in temp.index.values:\n",
    "    for progenitor in ['Proliferating', 'Differentiating', 'Exhausted']:\n",
    "        pool_temp2.loc[barcode + '_' + progenitor]['Value'] = pool_temp.loc[barcode][progenitor]\n",
    "        \n",
    "        pool_temp2.loc[barcode + '_' + progenitor]['Barcode'] = barcode\n",
    "        pool_temp2.loc[barcode + '_' + progenitor]['Progenitor Type'] = progenitor\n",
    "        \n",
    "pool_temp2['TLSCL'] = pool_temp2['Barcode'].map(addTLSCL)"
   ]
  },
  {
   "cell_type": "code",
   "execution_count": 101,
   "id": "ad615f1e",
   "metadata": {},
   "outputs": [],
   "source": [
    "pool_temp2['Value'] = pool_temp2['Value'].astype('float')"
   ]
  },
  {
   "cell_type": "code",
   "execution_count": 102,
   "id": "9ac5ca6b",
   "metadata": {},
   "outputs": [],
   "source": [
    "pool_temp['TLSCL'] = pool_temp.index.map(addTLSCL)"
   ]
  },
  {
   "cell_type": "code",
   "execution_count": 103,
   "id": "fe9b3adc",
   "metadata": {},
   "outputs": [],
   "source": [
    "fig, ax = plt.subplots(figsize = (10, 5))\n",
    "\n",
    "sns.violinplot(data=pool_temp2, x = 'Progenitor Type', y = 'Value', scale = 'count', split = True, hue = 'TLSCL',\n",
    "              order = ['Proliferating', 'Differentiating', 'Exhausted'])\n",
    "plt.ylabel('Fraction of Nodes')\n",
    "plt.ylim(0, 1)\n",
    "plt.savefig('/Genomics/chanlab/blaw/TLS/data/AM-DNA-258/progenitor_analysis/Differentiation_Type_Fractions.pdf', dpi = 300)\n",
    "#plt.show()\n",
    "plt.close()"
   ]
  },
  {
   "cell_type": "code",
   "execution_count": 104,
   "id": "e27dda54",
   "metadata": {},
   "outputs": [],
   "source": [
    "fig, ax = plt.subplots(figsize = (10, 5))\n",
    "\n",
    "sns.violinplot(data=pool_temp[pool_temp['TLSCL'] == 'TLS'], scale = 'count',\n",
    "              order = ['Proliferating', 'Differentiating', 'Exhausted'])\n",
    "plt.ylabel('Fraction of Nodes')\n",
    "plt.ylim(0, 1)\n",
    "plt.savefig('/Genomics/chanlab/blaw/TLS/data/AM-DNA-258/progenitor_analysis/TLS_Differentiation_Type_Fractions.pdf', dpi = 300)\n",
    "#plt.show()\n",
    "plt.close()"
   ]
  },
  {
   "cell_type": "code",
   "execution_count": 105,
   "id": "93ffa8e3",
   "metadata": {},
   "outputs": [],
   "source": [
    "fig, ax = plt.subplots(figsize = (10, 5))\n",
    "\n",
    "sns.violinplot(data=pool_temp[pool_temp['TLSCL'] == 'TLSCL'], scale = 'count',\n",
    "              order = ['Proliferating', 'Differentiating', 'Exhausted'])\n",
    "plt.ylabel('Fraction of Nodes')\n",
    "plt.ylim(0, 1)\n",
    "plt.savefig('/Genomics/chanlab/blaw/TLS/data/AM-DNA-258/progenitor_analysis/TLSCL_Differentiation_Type_Fractions.pdf', dpi = 300)\n",
    "#plt.show()\n",
    "plt.close()"
   ]
  }
 ],
 "metadata": {
  "kernelspec": {
   "display_name": "Python 3 (ipykernel)",
   "language": "python",
   "name": "python3"
  },
  "language_info": {
   "codemirror_mode": {
    "name": "ipython",
    "version": 3
   },
   "file_extension": ".py",
   "mimetype": "text/x-python",
   "name": "python",
   "nbconvert_exporter": "python",
   "pygments_lexer": "ipython3",
   "version": "3.9.11"
  }
 },
 "nbformat": 4,
 "nbformat_minor": 5
}
