{
 "cells": [
  {
   "cell_type": "code",
   "execution_count": 1,
   "id": "58fcca77",
   "metadata": {},
   "outputs": [],
   "source": [
    "%matplotlib inline\n",
    "\n",
    "import sys\n",
    "import numpy as np\n",
    "import pandas as pd\n",
    "import scipy as sp\n",
    "import scanpy as sc\n",
    "import cassiopeia as cas\n",
    "import seaborn as sns\n",
    "import collections\n",
    "import scipy.sparse as sp_sparse\n",
    "import scipy.io\n",
    "import tables\n",
    "import csv\n",
    "import statistics as stats\n",
    "\n",
    "from matplotlib.pyplot import rc_context\n",
    "from matplotlib import pyplot as plt\n",
    "from matplotlib.backends.backend_pdf import PdfPages\n",
    "import pickle\n",
    "from pylab import *\n",
    "from ete3 import Tree\n",
    "from typing import Tuple\n",
    "\n",
    "import statistics as stats"
   ]
  },
  {
   "cell_type": "code",
   "execution_count": 2,
   "id": "08b10c14",
   "metadata": {},
   "outputs": [],
   "source": [
    "clusterColorsFile = \"/Genomics/chanlab/mchan/Adriano/TLS/TLS_TLSCL/20211102_clusterColorsTLSCL.p\"\n",
    "with open(clusterColorsFile,'rb') as fp:\n",
    "    colorDict = pickle.load(fp)"
   ]
  },
  {
   "cell_type": "code",
   "execution_count": 3,
   "id": "a9cfc908",
   "metadata": {},
   "outputs": [],
   "source": [
    "barcodes = [\"Bar1\", 'Bar2', 'Bar3', 'Bar4', 'Bar5', 'Bar6','Bar7','Bar8','Bar9','Bar10','Bar11', 'Bar12', 'Bar13','Bar14',\n",
    "            'Bar15', 'Bar16', 'Bar18', 'Bar19','Bar20','Bar21', 'Bar22','Bar23','Bar24']\n",
    "\n",
    "TLS_barcodes = ['Bar1', 'Bar2', 'Bar4', 'Bar5', 'Bar7', 'Bar10', 'Bar11', 'Bar13', 'Bar16', 'Bar19', 'Bar22']\n",
    "TLSCL_barcodes = ['Bar3', 'Bar6', 'Bar9', 'Bar12', 'Bar14', 'Bar15', 'Bar20', 'Bar21', 'Bar23', 'Bar24']"
   ]
  },
  {
   "cell_type": "code",
   "execution_count": 4,
   "id": "90ca8dcb",
   "metadata": {},
   "outputs": [],
   "source": [
    "# Label internal nodes\n",
    "def nameInteriorNodes(nwkFile,outnwkFile):\n",
    "\n",
    "    t = Tree(nwkFile,format=1)\n",
    "    labelID = 0\n",
    "\n",
    "    for node in t.traverse():\n",
    "        if node.is_leaf() == False:\n",
    "            node.name = \"node{}\".format(labelID)\n",
    "            labelID = labelID + 1\n",
    "\n",
    "    t.write(format=8,outfile=outnwkFile)"
   ]
  },
  {
   "cell_type": "code",
   "execution_count": 5,
   "id": "f203f2ae",
   "metadata": {},
   "outputs": [],
   "source": [
    "def add_node0(nwkFile, outnwkFile):\n",
    "    infile = open(nwkFile, 'r')\n",
    "    outfile = open(outnwkFile, 'w')\n",
    "    \n",
    "    outfile.write(infile.readline()[:-1])\n",
    "    outfile.write('node0;')\n",
    "          \n",
    "    infile.close()\n",
    "    outfile.close()"
   ]
  },
  {
   "cell_type": "code",
   "execution_count": 6,
   "id": "e9193f4e",
   "metadata": {},
   "outputs": [],
   "source": [
    "def nodeClusterProfile(node, data, colName, df):\n",
    "    if node.is_leaf():\n",
    "        clusterID = data.loc[node.name,colName]\n",
    "        df.loc[node.name,clusterID] = 1\n",
    "        return 1\n",
    "    else:\n",
    "        daughters = node.children\n",
    "        nodeNames = []\n",
    "        for d in daughters:\n",
    "            nodeClusterProfile(d,data,colName,df)\n",
    "            nodeNames.append(d.name)\n",
    "        df.loc[node.name,:] = df.loc[nodeNames,:].sum()\n",
    "        return 1"
   ]
  },
  {
   "cell_type": "code",
   "execution_count": 7,
   "id": "22ca2497",
   "metadata": {},
   "outputs": [],
   "source": [
    "def makeNodeMetaTable(nwkFile, metaFile, colName, outMetaFile):\n",
    "\n",
    "    t = Tree(nwkFile,format=1)\n",
    "    \n",
    "    # get node names from tree;\n",
    "    nodeNameList = []\n",
    "    for node in t.traverse():\n",
    "        nodeNameList.append(node.name)\n",
    "\n",
    "    data = pd.read_csv(metaFile, sep='\\t')\n",
    "    data.set_index(\"cellBC\", inplace=True)\n",
    "\n",
    "    # best to initialize data frame with rows and columns when possible\n",
    "    # (try not to grow dataframes)\n",
    "    #clusterNames = data[colName].unique()\n",
    "    clusterNames = [\"['Somite']\", \"['Somite-1']\", \"['SomiteSclero']\", \"['NeuralTube1']\", \"['Somite0']\", \"['NeuralTube2']\", \n",
    "                    \"['NMPs']\", \"['SomiteDermo']\", \"['Unknown']\", \"['Endothelial']\", \"['pPSM']\", \"['aPSM']\", \"['PCGLC']\",\n",
    "                    \"['Endoderm']\"]\n",
    "\n",
    "    df_meta = pd.DataFrame(columns = clusterNames, index = nodeNameList)\n",
    "    df_meta.fillna(0, inplace = True)\n",
    "    df_meta.index.name = \"cellBC\"\n",
    "\n",
    "    nodeClusterProfile(t.get_tree_root(), data, colName, df_meta)\n",
    "    df_meta.to_csv(outMetaFile, sep=\"\\t\")"
   ]
  },
  {
   "cell_type": "code",
   "execution_count": 8,
   "id": "081507b9",
   "metadata": {},
   "outputs": [],
   "source": [
    "def maxDepth(node):\n",
    "    '''\n",
    "    Input:\n",
    "        - a node in an ete tree\n",
    "    returns:\n",
    "        - The max depth of any branch in that node\n",
    "    '''\n",
    "    if node.is_leaf():\n",
    "        return 0\n",
    "    children_depths = []\n",
    "    \n",
    "    for child in node.children:\n",
    "        test = maxDepth(child)\n",
    "        \n",
    "        children_depths.append(test)\n",
    "        \n",
    "    return max(children_depths) + 1"
   ]
  },
  {
   "cell_type": "code",
   "execution_count": 18,
   "id": "b71b4aff",
   "metadata": {},
   "outputs": [],
   "source": [
    "# Labels the nodes\n",
    "for barcode in barcodes:\n",
    "    if barcode != 'Bar3':\n",
    "        nameInteriorNodes('/Genomics/chanlab/blaw/TLS/data/AM-DNA-258/lineage/3_lineage_reconstruction/{}/{}_ilp_newick_noMutationlessEdges.txt'.format(barcode, barcode),\n",
    "                          '/Genomics/chanlab/blaw/TLS/data/AM-DNA-258/lineage/3_lineage_reconstruction/{}/{}_node0_missing.txt'.format(barcode, barcode))\n",
    "    else:\n",
    "        nameInteriorNodes('/Genomics/chanlab/blaw/TLS/data/AM-DNA-258/lineage/3_lineage_reconstruction/{}/{}_hybrid_newick_noMutationlessEdges.txt'.format(barcode, barcode),\n",
    "                          '/Genomics/chanlab/blaw/TLS/data/AM-DNA-258/lineage/3_lineage_reconstruction/{}/{}_node0_missing.txt'.format(barcode, barcode))"
   ]
  },
  {
   "cell_type": "code",
   "execution_count": 19,
   "id": "4491fcbc",
   "metadata": {},
   "outputs": [],
   "source": [
    "# Add the node0 label\n",
    "for barcode in barcodes:\n",
    "    add_node0('/Genomics/chanlab/blaw/TLS/data/AM-DNA-258/lineage/3_lineage_reconstruction/{}/{}_node0_missing.txt'.format(barcode, barcode),\n",
    "              '/Genomics/chanlab/blaw/TLS/data/AM-DNA-258/lineage/3_lineage_reconstruction/{}/{}_newick_noMutationlessEdges_Labeled.nwk'.format(barcode, barcode))"
   ]
  },
  {
   "cell_type": "code",
   "execution_count": 21,
   "id": "9985da88",
   "metadata": {},
   "outputs": [],
   "source": [
    "# Make a cluster metadata table\n",
    "for barcode in barcodes:\n",
    "    test = makeNodeMetaTable('/Genomics/chanlab/blaw/TLS/data/AM-DNA-258/lineage/3_lineage_reconstruction/{}/{}_newick_noMutationlessEdges_Labeled.nwk'.format(barcode, barcode),\n",
    "                      '/Genomics/chanlab/blaw/TLS/data/AM-DNA-258/lineage/3_lineage_reconstruction/{}/{}_metadata.txt'.format(barcode, barcode),\n",
    "                      'cell_state',\n",
    "                      '/Genomics/chanlab/blaw/TLS/data/AM-DNA-258/lineage/3_lineage_reconstruction/{}/{}_clusterTable.txt'.format(barcode, barcode))"
   ]
  },
  {
   "cell_type": "markdown",
   "id": "e615065e",
   "metadata": {},
   "source": [
    "### Record important stats for each structure"
   ]
  },
  {
   "cell_type": "code",
   "execution_count": 9,
   "id": "cb7993c8",
   "metadata": {},
   "outputs": [],
   "source": [
    "stats = ['n_of_cells', 'n_of_nodes', 'n_of_clones', 'median_clone_size', 'mean_clone_size', 'max_clone_size', 'mean_clone_depth', \n",
    "         'max_clone_depth', 'n_unique_indels', 'n_unique_alleles', 'n_unique_lineage_BC']\n",
    "\n",
    "structure_stats = pd.DataFrame(index = barcodes, columns = stats)"
   ]
  },
  {
   "cell_type": "code",
   "execution_count": 10,
   "id": "7ed3be46",
   "metadata": {},
   "outputs": [],
   "source": [
    "for barcode in barcodes:\n",
    "    treeFile = \"/Genomics/chanlab/blaw/TLS/data/AM-DNA-258/lineage/3_lineage_reconstruction/{}/{}_newick_noMutationlessEdges_Labeled.nwk\".format(barcode, barcode)\n",
    "    t = Tree(treeFile, format = 1)\n",
    "    lineage_table = pd.read_csv(\"/Genomics/chanlab/blaw/TLS/data/AM-DNA-258/lineage/3_lineage_reconstruction/{}/{}_lineage_table.txt\".format(barcode, barcode), sep = '\\t')\n",
    "    allele_table = pd.read_csv(\"/Genomics/chanlab/blaw/TLS/data/AM-DNA-258/lineage/3_lineage_reconstruction/allele_table_filtered.txt\", sep='\\t')\n",
    "\n",
    "    # Load the cassiopeia Tree\n",
    "    tree_meta = pd.read_csv(\"/Genomics/chanlab/blaw/TLS/data/AM-DNA-258/lineage/3_lineage_reconstruction/{}/{}_metadata.txt\".format(barcode, barcode), sep='\\t')\n",
    "    character_matrix = pd.read_csv(\"/Genomics/chanlab/blaw/TLS/data/AM-DNA-258/lineage/3_lineage_reconstruction/{}/{}_character_matrix.txt\".format(barcode, barcode), sep='\\t', index_col = 0)\n",
    "\n",
    "    prior_file = \"/Genomics/chanlab/blaw/TLS/data/AM-DNA-258/lineage/3_lineage_reconstruction/{}/{}_priors.pickle\".format(barcode, barcode)\n",
    "    with open(prior_file, 'rb') as f:\n",
    "        priors = pickle.load(f)\n",
    "\n",
    "    test_tree = cas.data.CassiopeiaTree(character_matrix=character_matrix, priors=priors, tree = t)\n",
    "\n",
    "    missing_proportion = (character_matrix == -1).sum(axis=0) / character_matrix.shape[0]\n",
    "    uncut_proportion = (character_matrix == 0).sum(axis=0) / character_matrix.shape[0]\n",
    "    n_unique_states = character_matrix.apply(lambda x: len(np.unique(x[(x != 0) & (x != -1)])), axis=0)\n",
    "\n",
    "    character_meta = pd.DataFrame([missing_proportion, uncut_proportion, n_unique_states], index = ['missing_prop', 'uncut_prop', 'n_unique_states']).T\n",
    "    test_tree.cell_meta = tree_meta\n",
    "    test_tree.character_meta = character_meta\n",
    "    test_tree.parameters['stochastic_missing_probability'] = 0.1\n",
    "    \n",
    "    n_of_cells = test_tree.n_cell\n",
    "    \n",
    "    n_of_nodes = 0\n",
    "    for node in t.traverse():\n",
    "        if not node.is_leaf() and node.name != 'node0':\n",
    "            n_of_nodes += 1\n",
    "            \n",
    "    n_of_clones = len(t.children)\n",
    "    \n",
    "    # Calculate the depth and size for each clone in the tree (children of the root node)\n",
    "    clone_sizes = []\n",
    "    clone_max_depths = []\n",
    "\n",
    "    for clone in t.children:\n",
    "        clone_sizes.append(len(clone))\n",
    "        clone_max_depths.append(maxDepth(clone))\n",
    "\n",
    "    median_clone_size = np.median(clone_sizes)\n",
    "    mean_clone_size = np.mean(clone_sizes)\n",
    "    max_clone_size = max(clone_sizes)\n",
    "    mean_clone_depth = np.mean(clone_max_depths)\n",
    "    max_clone_depth = max(clone_max_depths)\n",
    "    \n",
    "    # Calculate the number of unique alleles and unique indels\n",
    "    cellBC = [leaf.name for leaf in t.get_leaves()]\n",
    "    temp_allele_table = allele_table[allele_table['cellBC'].isin(cellBC)]\n",
    "\n",
    "    unique_indels = set()\n",
    "    for indel in temp_allele_table['r1']:\n",
    "        unique_indels.add(indel)\n",
    "    for indel in temp_allele_table['r2']:\n",
    "        unique_indels.add(indel)\n",
    "    for indel in temp_allele_table['r3']:\n",
    "        unique_indels.add(indel)\n",
    "\n",
    "    n_of_unique_alleles = len(np.unique(temp_allele_table['allele']))\n",
    "    n_of_unique_indels = len(unique_indels)\n",
    "    \n",
    "    indel_sites = lineage_table.columns[1:]\n",
    "    lineage_table.fillna('[Null]', inplace = True)\n",
    "    lineage_table['lineageBC'] = lineage_table[indel_sites].apply(\"\".join, axis=1)\n",
    "    \n",
    "    # Calculate the number of unique lineage barcodes\n",
    "    unique_lineage_BC = set()\n",
    "\n",
    "    for row in lineage_table.iterrows():\n",
    "        unique_lineage_BC.add(row[1]['lineageBC'])\n",
    "\n",
    "    n_of_unique_lineage_BC = len(unique_lineage_BC)\n",
    "    \n",
    "    # Save all metrics to the table\n",
    "    structure_stats.loc[barcode]['n_of_cells'] = n_of_cells\n",
    "    structure_stats.loc[barcode]['n_of_nodes'] = n_of_nodes\n",
    "    structure_stats.loc[barcode]['n_of_clones'] = n_of_clones\n",
    "    structure_stats.loc[barcode]['median_clone_size'] = median_clone_size\n",
    "    structure_stats.loc[barcode]['mean_clone_size'] = mean_clone_size\n",
    "    structure_stats.loc[barcode]['max_clone_size'] = max_clone_size\n",
    "    structure_stats.loc[barcode]['mean_clone_depth'] = mean_clone_depth\n",
    "    structure_stats.loc[barcode]['max_clone_depth'] = max_clone_depth\n",
    "    structure_stats.loc[barcode]['n_unique_indels'] = n_of_unique_indels\n",
    "    structure_stats.loc[barcode]['n_unique_alleles'] = n_of_unique_alleles\n",
    "    structure_stats.loc[barcode]['n_unique_lineage_BC'] = n_of_unique_lineage_BC"
   ]
  },
  {
   "cell_type": "code",
   "execution_count": 11,
   "id": "131451ea",
   "metadata": {},
   "outputs": [],
   "source": [
    "structure_stats.to_csv('/Genomics/chanlab/blaw/TLS/data/AM-DNA-258/lineage/lineage_stats/structure_stats.txt', sep = '\\t')"
   ]
  },
  {
   "cell_type": "markdown",
   "id": "24d7fe61",
   "metadata": {},
   "source": [
    "### Plot the cell states for each barcode (split by TLSCL and TLS)"
   ]
  },
  {
   "cell_type": "code",
   "execution_count": 12,
   "id": "5bba54e2",
   "metadata": {},
   "outputs": [],
   "source": [
    "df_cell_compositions = pd.DataFrame(index = barcodes, columns = colorDict.keys())"
   ]
  },
  {
   "cell_type": "code",
   "execution_count": 13,
   "id": "d26c0e6f",
   "metadata": {},
   "outputs": [],
   "source": [
    "for barcode in barcodes:\n",
    "    clusterFile = \"/Genomics/chanlab/blaw/TLS/data/AM-DNA-258/lineage/3_lineage_reconstruction/{}/{}_clusterTable.txt\".format(barcode, barcode)\n",
    "    clusterTable = pd.read_csv(clusterFile, index_col = 0, sep = '\\t')\n",
    "    \n",
    "    for cellType in colorDict.keys():\n",
    "        df_cell_compositions.loc[barcode][cellType] = clusterTable.loc['node0'][\"['\" + cellType + \"']\"]"
   ]
  },
  {
   "cell_type": "code",
   "execution_count": 14,
   "id": "f3ce442b",
   "metadata": {},
   "outputs": [],
   "source": [
    "df_cell_compositions['Total'] = df_cell_compositions.sum(axis = 1)"
   ]
  },
  {
   "cell_type": "code",
   "execution_count": 15,
   "id": "3d71a398",
   "metadata": {},
   "outputs": [],
   "source": [
    "df_cell_compositionsF = df_cell_compositions.div(df_cell_compositions[\"Total\"], axis = 0)\n"
   ]
  },
  {
   "cell_type": "code",
   "execution_count": 16,
   "id": "c25c1df2",
   "metadata": {},
   "outputs": [],
   "source": [
    "colors = []\n",
    "for color in df_cell_compositionsF.drop(columns = 'Total').columns:\n",
    "    colors.append(colorDict[color])"
   ]
  },
  {
   "cell_type": "code",
   "execution_count": 17,
   "id": "7630b026",
   "metadata": {},
   "outputs": [],
   "source": [
    "# Plot the compositions of the multiseq replicates\n",
    "df_cell_compositionsF.drop(columns = 'Total').plot(kind='bar', use_index = True, stacked=True, color = colors, grid = False)\n",
    "plt.legend(loc='center left', bbox_to_anchor=(1.0, 0.5))\n",
    "plt.title('MultiSeq Cell State Proportions')\n",
    "plt.ylabel('% cells/cluster')\n",
    "plt.tight_layout()\n",
    "plt.savefig('/Genomics/chanlab/blaw/TLS/data/AM-DNA-258/lineage/lineage_stats/MultiSeq_Cell_Composition.pdf', dpi = 300)\n",
    "#plt.show()\n",
    "plt.close()"
   ]
  },
  {
   "cell_type": "code",
   "execution_count": 18,
   "id": "b53cb1cb",
   "metadata": {},
   "outputs": [],
   "source": [
    "TLSList = [\"Bar4\",\"Bar16\",\"Bar10\",\"Bar7\", \"Bar1\",\"Bar13\",\"Bar5\",\"Bar11\", \"Bar2\",\"Bar19\",\"Bar8\",\"Bar22\"]\n",
    "\n",
    "TLSCLList = [\"Bar3\", \"Bar6\",\"Bar12\",\"Bar21\",\"Bar24\", \"Bar14\",\"Bar23\",\"Bar15\",\"Bar9\", \"Bar20\"]"
   ]
  },
  {
   "cell_type": "code",
   "execution_count": 19,
   "id": "99ce73d9",
   "metadata": {},
   "outputs": [],
   "source": [
    "# Plot the compositions of the TLs replicates\n",
    "df_cell_compositionsF.loc[TLSList].drop(columns = 'Total').plot(kind='bar', use_index = True, stacked=True, color = colors, grid = False)\n",
    "plt.legend(loc='center left', bbox_to_anchor=(1.0, 0.5))\n",
    "plt.title('MultiSeq TLS - Cell State Proportions')\n",
    "plt.ylabel('% cells/cluster')\n",
    "plt.tight_layout()\n",
    "plt.savefig('/Genomics/chanlab/blaw/TLS/data/AM-DNA-258/lineage/lineage_stats/MultiSeq_TLS_Cell_Composition.pdf', dpi = 300)\n",
    "#plt.show()\n",
    "plt.close()"
   ]
  },
  {
   "cell_type": "code",
   "execution_count": 20,
   "id": "0fc7b1c0",
   "metadata": {},
   "outputs": [],
   "source": [
    "# Plot the compositions of TLSCL replicates\n",
    "df_cell_compositionsF.loc[TLSCLList].drop(columns = 'Total').plot(kind='bar', use_index = True, stacked=True, color = colors, grid = False)\n",
    "plt.legend(loc='center left', bbox_to_anchor=(1.0, 0.5))\n",
    "plt.title('MultiSeq TLSCL - Cell State Proportions')\n",
    "plt.ylabel('% cells/cluster')\n",
    "plt.tight_layout()\n",
    "plt.savefig('/Genomics/chanlab/blaw/TLS/data/AM-DNA-258/lineage/lineage_stats/MultiSeq_TLSCL_Cell_Composition.pdf', dpi = 300)\n",
    "#plt.show()\n",
    "plt.close()"
   ]
  },
  {
   "cell_type": "code",
   "execution_count": 22,
   "id": "d46cfdf9",
   "metadata": {},
   "outputs": [],
   "source": [
    "# Plot the compositions of clones per structure\n",
    "for barcode in barcodes:\n",
    "    clusterFile = \"/Genomics/chanlab/blaw/TLS/data/AM-DNA-258/lineage/3_lineage_reconstruction/{}/{}_clusterTable.txt\".format(barcode, barcode)\n",
    "    clusterTable = pd.read_csv(clusterFile, index_col = 0, sep = '\\t')\n",
    "    columns =  [i[2:-2] for i in clusterTable.columns]\n",
    "    clusterTable.columns = columns\n",
    "    clusterTable['Total'] = clusterTable.sum(axis = 1)\n",
    "    \n",
    "    t = '/Genomics/chanlab/blaw/TLS/data/AM-DNA-258/lineage/3_lineage_reconstruction/{}/{}_newick_noMutationlessEdges_Labeled.nwk'.format(barcode, barcode)\n",
    "    tree = Tree(t, format=1)\n",
    "    \n",
    "    clones = []\n",
    "    for clone in tree.children:\n",
    "        clones.append(clone.name)\n",
    "        \n",
    "    cloneTable = clusterTable.loc[clones]\n",
    "    cloneTable.sort_values('Total', ascending = False, inplace = True)\n",
    "\n",
    "    colors = []\n",
    "    for color in clusterTable.drop(columns = 'Total').columns:\n",
    "        colors.append(colorDict[color])\n",
    "        \n",
    "    cloneTable.drop(columns = 'Total').plot(kind='bar', use_index = True, stacked=True, color = colors, grid = False, figsize = (5, 5))\n",
    "    plt.legend(loc='center left', bbox_to_anchor=(1.0, 0.5))\n",
    "    plt.title('{} - Cell State Proportions per node'.format(barcode))\n",
    "    plt.ylabel('cells per node')\n",
    "    plt.tight_layout()\n",
    "    plt.savefig('/Genomics/chanlab/blaw/TLS/data/AM-DNA-258/composition/structure_clones/{}_Node_Cell_Composition.pdf'.format(barcode), dpi = 300)\n",
    "    #plt.show()\n",
    "    plt.close()"
   ]
  }
 ],
 "metadata": {
  "kernelspec": {
   "display_name": "Python 3 (ipykernel)",
   "language": "python",
   "name": "python3"
  },
  "language_info": {
   "codemirror_mode": {
    "name": "ipython",
    "version": 3
   },
   "file_extension": ".py",
   "mimetype": "text/x-python",
   "name": "python",
   "nbconvert_exporter": "python",
   "pygments_lexer": "ipython3",
   "version": "3.9.11"
  }
 },
 "nbformat": 4,
 "nbformat_minor": 5
}
