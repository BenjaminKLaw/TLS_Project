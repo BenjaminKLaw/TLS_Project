{
 "cells": [
  {
   "cell_type": "code",
   "execution_count": 52,
   "id": "42add17b",
   "metadata": {},
   "outputs": [],
   "source": [
    "import pandas as pd\n",
    "import numpy as np\n",
    "import scanpy as sc\n",
    "import pickle\n",
    "import scipy\n",
    "import itertools\n",
    "\n",
    "import matplotlib as mpl\n",
    "import matplotlib.pyplot as plt\n",
    "from matplotlib.pyplot import rc_context\n",
    "import seaborn as sns\n",
    "from ete3 import Tree\n",
    "from copy import copy\n",
    "from sklearn.decomposition import PCA\n",
    "from sklearn.preprocessing import StandardScaler"
   ]
  },
  {
   "cell_type": "code",
   "execution_count": 2,
   "id": "45db8b51",
   "metadata": {},
   "outputs": [],
   "source": [
    "# Multiseq (AM-DNA-258) scanpy object\n",
    "multiSeq = sc.read_h5ad('/Genomics/chanlab/blaw/TLS/raw_data/scRNA/TLSCL/TLS_TLSCL.h5ad')\n",
    "multiSeq_BC = pd.read_csv('/Genomics/chanlab/blaw/TLS/metadata/multiseq_barcodes.txt', sep = '\\t')"
   ]
  },
  {
   "cell_type": "code",
   "execution_count": 3,
   "id": "86493989",
   "metadata": {},
   "outputs": [],
   "source": [
    "clusterColorsFile = \"/Genomics/chanlab/mchan/Adriano/TLS/TLS_TLSCL/20211102_clusterColorsTLSCL.p\"\n",
    "with open(clusterColorsFile,'rb') as fp:\n",
    "    colorDict = pickle.load(fp)"
   ]
  },
  {
   "cell_type": "markdown",
   "id": "c2152821",
   "metadata": {},
   "source": [
    "### Label the multiseq dataframe by the TLS barcode"
   ]
  },
  {
   "cell_type": "code",
   "execution_count": 4,
   "id": "7040216b",
   "metadata": {},
   "outputs": [],
   "source": [
    "def addTLSCL(BC):\n",
    "    test = multiSeq_BC.set_index('Sequence').loc[BC]['TLS ID']\n",
    "    if test.startswith('TLSCL'):\n",
    "        return 'TLSCL'\n",
    "    elif test == 'Doublet':\n",
    "        return 'Doublet'\n",
    "    elif test == 'Negative':\n",
    "        return 'Negative'\n",
    "    else:\n",
    "        return 'TLS'"
   ]
  },
  {
   "cell_type": "code",
   "execution_count": 5,
   "id": "9402d2b4",
   "metadata": {},
   "outputs": [],
   "source": [
    "def addBC(BC):\n",
    "    return multiSeq_BC.set_index('Sequence').loc[BC]['ID']"
   ]
  },
  {
   "cell_type": "code",
   "execution_count": 6,
   "id": "4242fcd8",
   "metadata": {},
   "outputs": [],
   "source": [
    "df2 = pd.DataFrame({\"ID\":['Doublet', 'Negative'],\n",
    "                    \"TLS ID\":['Doublet', 'Negative'], \n",
    "                    \"Sequence\":['Doublet', 'Negative']})"
   ]
  },
  {
   "cell_type": "code",
   "execution_count": 7,
   "id": "e03cbf46",
   "metadata": {},
   "outputs": [],
   "source": [
    "multiSeq_BC = pd.concat([multiSeq_BC, df2])"
   ]
  },
  {
   "cell_type": "code",
   "execution_count": 8,
   "id": "230e9e94",
   "metadata": {},
   "outputs": [],
   "source": [
    "multiSeq.obs['Condition'] = multiSeq.obs['MultiSeqBCseq'].map(addTLSCL)\n",
    "multiSeq.obs['multiSeqBC'] = multiSeq.obs['MultiSeqBCseq'].map(addBC)"
   ]
  },
  {
   "cell_type": "markdown",
   "id": "33720b5f",
   "metadata": {},
   "source": [
    "# Create a table of the compositions for all structures"
   ]
  },
  {
   "cell_type": "code",
   "execution_count": 13,
   "id": "c0c3d6c8",
   "metadata": {},
   "outputs": [],
   "source": [
    "structure_composition = pd.DataFrame(columns = colorDict.keys(), \n",
    "                                     index = np.unique(multiSeq.obs['multiSeqBC']))"
   ]
  },
  {
   "cell_type": "code",
   "execution_count": 14,
   "id": "bdc6ae1f",
   "metadata": {},
   "outputs": [],
   "source": [
    "for cell_state in colorDict.keys():\n",
    "    for index in np.unique(multiSeq.obs['multiSeqBC']):\n",
    "        structure_composition.loc[index][cell_state] = len(multiSeq.obs[(multiSeq.obs['multiSeqBC'] == index) & (multiSeq.obs['cell_state'] == cell_state)]['cell_state'])"
   ]
  },
  {
   "cell_type": "code",
   "execution_count": 19,
   "id": "1c16faa9",
   "metadata": {},
   "outputs": [],
   "source": [
    "structure_composition.to_csv('/Genomics/chanlab/blaw/TLS/data/AM-DNA-258/composition/structure_compositions.txt', sep = '\\t')"
   ]
  },
  {
   "cell_type": "code",
   "execution_count": 35,
   "id": "815bd0f6",
   "metadata": {},
   "outputs": [],
   "source": [
    "composition = pd.read_csv('/Genomics/chanlab/blaw/TLS/data/AM-DNA-258/composition/structure_compositions.txt', index_col = 0, sep = '\\t')\n",
    "composition.drop(index = ['Bar8', 'Bar18', 'Doublet', 'Negative'], inplace = True)"
   ]
  },
  {
   "cell_type": "markdown",
   "id": "fabf4ff3",
   "metadata": {},
   "source": [
    "# PCA of structure compositions"
   ]
  },
  {
   "cell_type": "code",
   "execution_count": 36,
   "id": "a8e9bdc8",
   "metadata": {},
   "outputs": [],
   "source": [
    "df = composition.T.copy()\n",
    "\n",
    "# Normalize the barcodes to sum to 1\n",
    "df_norm = df.div(df.sum(axis=0), axis=1)\n",
    "\n",
    "# mean center the cell types\n",
    "df_mean_center = df_norm.sub(df_norm.mean(axis = 1), axis = 0)"
   ]
  },
  {
   "cell_type": "code",
   "execution_count": 37,
   "id": "6d577295",
   "metadata": {},
   "outputs": [
    {
     "data": {
      "text/plain": [
       "PCA()"
      ]
     },
     "execution_count": 37,
     "metadata": {},
     "output_type": "execute_result"
    }
   ],
   "source": [
    "pca = PCA()\n",
    "pca.fit(df_mean_center)"
   ]
  },
  {
   "cell_type": "code",
   "execution_count": 38,
   "id": "59bde095",
   "metadata": {},
   "outputs": [
    {
     "name": "stdout",
     "output_type": "stream",
     "text": [
      "PC1 variance: 69.44321278341461\n"
     ]
    }
   ],
   "source": [
    "print('PC1 variance: {}'.format(pca.explained_variance_ratio_[0] * 100))"
   ]
  },
  {
   "cell_type": "code",
   "execution_count": 39,
   "id": "30d38285",
   "metadata": {},
   "outputs": [
    {
     "name": "stdout",
     "output_type": "stream",
     "text": [
      "PC1 variance: 19.92586851424953\n"
     ]
    }
   ],
   "source": [
    "print('PC1 variance: {}'.format(pca.explained_variance_ratio_[1] * 100))"
   ]
  },
  {
   "cell_type": "code",
   "execution_count": 41,
   "id": "450da928",
   "metadata": {},
   "outputs": [],
   "source": [
    "TLS_barcodes = ['Bar1', 'Bar2', 'Bar4', 'Bar5', 'Bar7', 'Bar10', 'Bar11', 'Bar13', 'Bar16', 'Bar19', 'Bar22']\n",
    "TLSCL_barcodes = ['Bar3', 'Bar6', 'Bar9', 'Bar12', 'Bar14', 'Bar15', 'Bar20', 'Bar21', 'Bar23', 'Bar24']\n",
    "labels = df_mean_center.columns"
   ]
  },
  {
   "cell_type": "code",
   "execution_count": 42,
   "id": "6bac605e",
   "metadata": {},
   "outputs": [
    {
     "data": {
      "image/png": "[encoded data removed]",
      "text/plain": [
       "<Figure size 432x288 with 1 Axes>"
      ]
     },
     "metadata": {
      "needs_background": "light"
     },
     "output_type": "display_data"
    }
   ],
   "source": [
    "TLS_components1 = []\n",
    "TLS_components2 = []\n",
    "\n",
    "TLSCL_components1 = []\n",
    "TLSCL_components2 = []\n",
    "\n",
    "for i, label in enumerate(labels):\n",
    "    if label in TLS_barcodes:\n",
    "        TLS_components1.append(pca.components_[0][i])\n",
    "        TLS_components2.append(pca.components_[1][i])\n",
    "    else:\n",
    "        TLSCL_components1.append(pca.components_[0][i])\n",
    "        TLSCL_components2.append(pca.components_[1][i])\n",
    "\n",
    "plt.plot(TLS_components1, TLS_components2, '.r', label = 'TLS')\n",
    "plt.plot(TLSCL_components1, TLSCL_components2, '.b', label = 'TLSCL')\n",
    "    \n",
    "plt.legend()\n",
    "plt.xlabel('PC1 (69.4%)')\n",
    "plt.ylabel('PC2 (19.9%)')\n",
    "plt.title('Structure Cell Composition PCA')\n",
    "plt.savefig('/Genomics/chanlab/blaw/TLS/data/AM-DNA-258/composition/TLS_TLSCL_Full_Composition_PCA.pdf', dpi = 300)\n",
    "plt.show()\n",
    "plt.close()\n"
   ]
  },
  {
   "cell_type": "markdown",
   "id": "3286305e",
   "metadata": {},
   "source": [
    "### Heatmap of structure cell state compositions"
   ]
  },
  {
   "cell_type": "code",
   "execution_count": 43,
   "id": "07a4550f",
   "metadata": {},
   "outputs": [],
   "source": [
    "# calculate zscore based off mean and std of each cell type\n",
    "df_zscore = composition.copy()\n",
    "\n",
    "for cell_state in composition.columns:\n",
    "    mean = composition[cell_state].mean()\n",
    "    std = composition[cell_state].std()\n",
    "    \n",
    "    for barcode in df_zscore.index:\n",
    "        df_zscore.loc[barcode, cell_state] = (composition.loc[barcode][cell_state] - mean) / std"
   ]
  },
  {
   "cell_type": "code",
   "execution_count": 44,
   "id": "6d1c4254",
   "metadata": {},
   "outputs": [
    {
     "data": {
      "image/png": "[encoded data removed]",
      "text/plain": [
       "<Figure size 720x720 with 4 Axes>"
      ]
     },
     "metadata": {
      "needs_background": "light"
     },
     "output_type": "display_data"
    }
   ],
   "source": [
    "temp = df_zscore.copy()\n",
    "#temp.drop(index = ['Unknown'], inplace = True)\n",
    "g = sns.clustermap(temp, cmap = 'RdBu_r', vmin = -2, vmax = 2)\n",
    "plt.subplots_adjust(bottom = 0.3, right = 0.7)\n",
    "plt.savefig('/Genomics/chanlab/blaw/TLS/data/AM-DNA-258/composition/Structure_Composition_Zscores.pdf', dpi = 300)"
   ]
  },
  {
   "cell_type": "markdown",
   "id": "fd0be3bb",
   "metadata": {},
   "source": [
    "# Boxplot of neural, somite, and NMP"
   ]
  },
  {
   "cell_type": "code",
   "execution_count": 45,
   "id": "9ff24dcb",
   "metadata": {},
   "outputs": [],
   "source": [
    "TLS_n_counts = []\n",
    "TLS_s_counts = []\n",
    "TLS_NMP_counts = []\n",
    "\n",
    "TLSCL_n_counts = []\n",
    "TLSCL_s_counts = []\n",
    "TLSCL_NMP_counts = []\n",
    "\n",
    "composition_norm = df_norm.T.copy()\n",
    "\n",
    "for barcode in composition.index:\n",
    "    if barcode in TLS_barcodes:\n",
    "        TLS_n_counts.append(composition_norm.loc[barcode, 'NeuralTube1'] + composition_norm.loc[barcode, 'NeuralTube2'])\n",
    "        TLS_s_counts.append(composition_norm.loc[barcode, 'aPSM'] + composition_norm.loc[barcode, 'pPSM'] +\n",
    "                            composition_norm.loc[barcode, 'Somite-1'] + composition_norm.loc[barcode, 'Somite0'] +\n",
    "                            composition_norm.loc[barcode, 'Somite'] + composition_norm.loc[barcode, 'SomiteSclero'] + \n",
    "                            composition_norm.loc[barcode, 'SomiteDermo'])\n",
    "        TLS_NMP_counts.append(composition_norm.loc[barcode, 'NMPs'])\n",
    "    else:\n",
    "        TLSCL_n_counts.append(composition_norm.loc[barcode, 'NeuralTube1'] + composition_norm.loc[barcode, 'NeuralTube2'])\n",
    "        TLSCL_s_counts.append(composition_norm.loc[barcode, 'aPSM'] + composition_norm.loc[barcode, 'pPSM'] +\n",
    "                            composition_norm.loc[barcode, 'Somite-1'] + composition_norm.loc[barcode, 'Somite0'] +\n",
    "                            composition_norm.loc[barcode, 'Somite'] + composition_norm.loc[barcode, 'SomiteSclero'] + \n",
    "                            composition_norm.loc[barcode, 'SomiteDermo'])\n",
    "        TLSCL_NMP_counts.append(composition_norm.loc[barcode, 'NMPs'])"
   ]
  },
  {
   "cell_type": "code",
   "execution_count": 46,
   "id": "47ad2fe0",
   "metadata": {},
   "outputs": [
    {
     "data": {
      "image/png": "[encoded data removed]",
      "text/plain": [
       "<Figure size 1080x360 with 2 Axes>"
      ]
     },
     "metadata": {
      "needs_background": "light"
     },
     "output_type": "display_data"
    }
   ],
   "source": [
    "test = pd.DataFrame({'TLS Neural': TLS_n_counts,\n",
    "                     'TLS Somitic': TLS_s_counts,\n",
    "                     'TLS NMP': TLS_NMP_counts})\n",
    "\n",
    "fig, ax = plt.subplots(1, 2, figsize = (15, 5))\n",
    "    \n",
    "ax1 = ax[0]\n",
    "sns.boxplot(ax = ax1, data = test)\n",
    "sns.stripplot(data = test, ax = ax1, color = 'black')\n",
    "ax1.set_ylabel('Fraction of Cells Per Structure')\n",
    "ax1.set_ylim(0, 1)\n",
    "\n",
    "test_CL = pd.DataFrame({'TLSCL Neural': TLSCL_n_counts,\n",
    "                     'TLSCL Somitic': TLSCL_s_counts,\n",
    "                     'TLSCL NMP': TLSCL_NMP_counts})\n",
    "\n",
    "ax2 = ax[1]\n",
    "sns.boxplot(ax = ax2, data = test_CL)\n",
    "sns.stripplot(data = test_CL, ax = ax2, color = 'black')\n",
    "ax2.set_ylabel('Fraction of Cells Per Structure')\n",
    "ax2.set_ylim(0, 1)\n",
    "plt.savefig('/Genomics/chanlab/blaw/TLS/data/AM-DNA-258/composition/TLS_TLSCL_Neural_Somite_NMP.pdf', dpi = 300)\n",
    "plt.show()\n",
    "plt.close()"
   ]
  },
  {
   "cell_type": "code",
   "execution_count": 47,
   "id": "dfb70d6d",
   "metadata": {},
   "outputs": [
    {
     "data": {
      "image/png": "[encoded data removed]",
      "text/plain": [
       "<Figure size 720x360 with 1 Axes>"
      ]
     },
     "metadata": {
      "needs_background": "light"
     },
     "output_type": "display_data"
    }
   ],
   "source": [
    "fig = plt.subplots(figsize = (10, 5))\n",
    "labels = ['TLS - Neural', 'TLSCL - Neural', 'TLS - Somite', 'TLSCL - Somite', 'TLS - NMP', 'TLSCL - NMP']\n",
    "data = [TLS_n_counts, TLSCL_n_counts, TLS_s_counts, TLSCL_s_counts, TLS_NMP_counts, TLSCL_NMP_counts]\n",
    "\n",
    "plt.boxplot(data,\n",
    "           labels = labels)\n",
    "\n",
    "plt.ylabel('Fraction of Structure')\n",
    "plt.show()\n",
    "plt.close()"
   ]
  },
  {
   "cell_type": "markdown",
   "id": "3d665357",
   "metadata": {},
   "source": [
    "# Calculate pairwise aitchison distance between TLS structures"
   ]
  },
  {
   "cell_type": "markdown",
   "id": "9ea674c4",
   "metadata": {},
   "source": [
    "Aitchison distance takes the euclidean distance after performing a centered log-ratio (clr) transformation\n",
    "- clr(X) = [ln (x1/g(X)), …, ln (Xj / g(Xj))]\n",
    "- g(x) is the geometric mean of all values in X\n"
   ]
  },
  {
   "cell_type": "markdown",
   "id": "278bdea0",
   "metadata": {},
   "source": [
    "So the distance between 2 composition vectors Xi, Xj is given by:\n",
    "- d(X, Y) = sqrt( sum from g=1 to D ( ln (Xg / g(X)) - ln (Yg / g(Y)) )^2)"
   ]
  },
  {
   "cell_type": "code",
   "execution_count": 57,
   "id": "7ea62296",
   "metadata": {},
   "outputs": [],
   "source": [
    "def aitchensonDist (x, y):\n",
    "    '''\n",
    "    Input:\n",
    "        x - a list or array of composition values in sample1\n",
    "        y - a list or array of composition values in sample2\n",
    "        \n",
    "        Assumes that all 0 values have been removed and that the composition values in the list are connected by index\n",
    "    return:\n",
    "        a distance between the 2 vectors\n",
    "    '''\n",
    "    meanX = sum(x) / len(x)\n",
    "    meanY = sum(y) / len(y)\n",
    "    \n",
    "    distSum = 0\n",
    "    \n",
    "    for index, value in enumerate(x):\n",
    "        tempX = np.log(x[index] / meanX)\n",
    "        tempY = np.log(y[index] / meanY)\n",
    "        \n",
    "        distSum += (tempX - tempY) ** 2\n",
    "        \n",
    "    return np.sqrt(distSum)"
   ]
  },
  {
   "cell_type": "code",
   "execution_count": 76,
   "id": "7d2be7da",
   "metadata": {},
   "outputs": [],
   "source": [
    "# add a 0.01 pseudocount\n",
    "structure_composition = structure_composition + 0.0001"
   ]
  },
  {
   "cell_type": "code",
   "execution_count": 77,
   "id": "b9571b12",
   "metadata": {},
   "outputs": [],
   "source": [
    "structure_dists = []\n",
    "\n",
    "for ref1, ref2 in list(itertools.combinations(TLS_barcodes, 2)):\n",
    "    x = structure_composition.loc[ref1]\n",
    "    y = structure_composition.loc[ref2]\n",
    "    structure_dists.append(aitchensonDist(x, y))"
   ]
  },
  {
   "cell_type": "code",
   "execution_count": 78,
   "id": "b7e48d7b",
   "metadata": {},
   "outputs": [],
   "source": [
    "# adding a pseudocount of 0.01 to each cell state so that we don't have to remove any\n",
    "test_clone_dists = []\n",
    "\n",
    "# cutoff to remove a clone based off the number of cells \n",
    "clone_cutoff = 2\n",
    "\n",
    "for barcode in TLS_barcodes:\n",
    "    test_tree_loc = '/Genomics/chanlab/blaw/TLS/data/AM-DNA-258/lineage/3_lineage_reconstruction/{}/{}_newick_noMutationlessEdges_Labeled.nwk'.format(barcode, barcode)\n",
    "    test_t = Tree(test_tree_loc, format=1)\n",
    "\n",
    "    # create a dataframe to hold the composition counts within one barcode\n",
    "    test_composition_df = pd.DataFrame(index = colorDict.keys(), columns = [i.name for i in test_t.children])\n",
    "\n",
    "    # List of clones to remove from distance comparisions:\n",
    "    bad_clones = []\n",
    "    \n",
    "    # fill the dataframe with the composition counts per clone\n",
    "    for clone in test_t.children:\n",
    "        leaves = ['TLS_TLSCL_' + i.name for i in clone.get_leaves()]\n",
    "        states = multiSeq.obs.loc[leaves]['cell_state'].value_counts().to_dict()\n",
    "        for state in colorDict.keys():\n",
    "            if state in states.keys():\n",
    "                test_composition_df.loc[state][clone.name] = states[state]\n",
    "            else:\n",
    "                test_composition_df.loc[state][clone.name] = 0\n",
    "                \n",
    "        # remove clones below the cutoff\n",
    "        if len(leaves) < clone_cutoff:\n",
    "            bad_clones.append(clone.name)\n",
    "    \n",
    "    # add a pseudocount of 0.0001\n",
    "    test_composition_df = test_composition_df + 0.0001\n",
    "    \n",
    "    for node1, node2 in list(itertools.combinations(test_composition_df.drop(columns = bad_clones).columns, 2)):\n",
    "        x = test_composition_df[node1]\n",
    "        y = test_composition_df[node2]\n",
    "        test_clone_dists.append(aitchensonDist(x, y))"
   ]
  },
  {
   "cell_type": "code",
   "execution_count": 79,
   "id": "35daef6f",
   "metadata": {},
   "outputs": [
    {
     "data": {
      "image/png": "[encoded data removed]",
      "text/plain": [
       "<Figure size 432x288 with 1 Axes>"
      ]
     },
     "metadata": {
      "needs_background": "light"
     },
     "output_type": "display_data"
    }
   ],
   "source": [
    "test = {'TLS Clones' : test_clone_dists, 'TLS Structures' : structure_dists}\n",
    "\n",
    "fig, ax = plt.subplots()\n",
    "ax.boxplot(test.values())\n",
    "ax.set_xticklabels(test.keys())\n",
    "#plt.errorbar(x, height, e, linestyle='None', marker='^')\n",
    "plt.ylabel('Aitchenson Distance')\n",
    "#plt.xlabel('TLS Clones')\n",
    "plt.savefig('/Genomics/chanlab/blaw/TLS/data/AM-DNA-258/composition/TLS_Aitchison_Dist.pdf', dpi = 300)\n",
    "plt.show()\n",
    "plt.close()"
   ]
  },
  {
   "cell_type": "code",
   "execution_count": 70,
   "id": "08c1b739",
   "metadata": {},
   "outputs": [
    {
     "data": {
      "image/png": "[encoded data removed]",
      "text/plain": [
       "<Figure size 432x288 with 1 Axes>"
      ]
     },
     "metadata": {
      "needs_background": "light"
     },
     "output_type": "display_data"
    }
   ],
   "source": [
    "test = {'TLSCL Clones' : test_clone_dists, 'TLSCL Structures' : structure_dists}\n",
    "\n",
    "fig, ax = plt.subplots()\n",
    "ax.boxplot(test.values())\n",
    "ax.set_xticklabels(test.keys())\n",
    "#plt.errorbar(x, height, e, linestyle='None', marker='^')\n",
    "plt.ylabel('Aitchenson Distance')\n",
    "#plt.xlabel('TLS Clones')\n",
    "plt.savefig('/Genomics/chanlab/blaw/TLS/data/AM-DNA-258/composition/TLSCL_Aitchison_Dist.pdf', dpi = 300)\n",
    "plt.show()\n",
    "plt.close()"
   ]
  }
 ],
 "metadata": {
  "kernelspec": {
   "display_name": "Python 3 (ipykernel)",
   "language": "python",
   "name": "python3"
  },
  "language_info": {
   "codemirror_mode": {
    "name": "ipython",
    "version": 3
   },
   "file_extension": ".py",
   "mimetype": "text/x-python",
   "name": "python",
   "nbconvert_exporter": "python",
   "pygments_lexer": "ipython3",
   "version": "3.9.11"
  }
 },
 "nbformat": 4,
 "nbformat_minor": 5
}
