{
 "cells": [
  {
   "cell_type": "code",
   "execution_count": 1,
   "id": "480176df",
   "metadata": {},
   "outputs": [],
   "source": [
    "import pandas as pd\n",
    "import numpy as np\n",
    "import scanpy as sc\n",
    "import pickle\n",
    "import scipy\n",
    "import itertools\n",
    "\n",
    "import matplotlib as mpl\n",
    "import matplotlib.pyplot as plt\n",
    "from matplotlib.pyplot import rc_context\n",
    "import seaborn as sns\n",
    "from ete3 import Tree\n",
    "from copy import copy\n",
    "from sklearn.decomposition import PCA\n",
    "from sklearn.preprocessing import StandardScaler"
   ]
  },
  {
   "cell_type": "code",
   "execution_count": 3,
   "id": "8c567a6a",
   "metadata": {},
   "outputs": [],
   "source": [
    "clusterColorsFile = \"/Genomics/chanlab/mchan/Adriano/TLS/TLS_TLSCL/20211102_clusterColorsTLSCL.p\"\n",
    "with open(clusterColorsFile,'rb') as fp:\n",
    "    colorDict = pickle.load(fp)\n",
    "    \n",
    "cell_state_table = pd.read_csv('/Genomics/chanlab/blaw/TLS/metadata/TLS_Explant_Total_cellBC_cellState.tsv', sep ='\\t')\n",
    "\n",
    "explant_multiseq = pd.read_csv('/Genomics/chanlab/blaw/TLS/metadata/AM-DNA-341_MultiSeqBC.tsv', sep = '\\t')\n",
    "out1_multiseq = pd.read_csv('/Genomics/chanlab/blaw/TLS/metadata/AM-DNA-342_MultiSeqBC.tsv', sep = '\\t')\n",
    "out2_multiseq = pd.read_csv('/Genomics/chanlab/blaw/TLS/metadata/AM-DNA-343_MultiSeqBC.tsv', sep = '\\t')\n",
    "\n",
    "total_multiseq = pd.concat([explant_multiseq, out1_multiseq, out2_multiseq])\n",
    "\n",
    "total_multiseq.to_csv('/Genomics/chanlab/blaw/TLS/metadata/TLS_Explant_Total_MultiSeqBC.tsv', sep = '\\t', index = False)\n",
    "\n",
    "barcodes = ['Bar1', 'Bar2', 'Bar3', 'Bar4', 'Bar5', 'Bar6']\n",
    "timepoints = ['120', '144']"
   ]
  },
  {
   "cell_type": "markdown",
   "id": "78b511b5",
   "metadata": {},
   "source": [
    "# Record the cell state counts per condition\n",
    "I will test all combinations of the following\n",
    "- Edited / Unedited\n",
    "- Each barcode (All 6)\n",
    "- Each timepoint (120, 144)\n",
    "\n",
    "This will make 24 comparisons"
   ]
  },
  {
   "cell_type": "code",
   "execution_count": 4,
   "id": "c6b7505b",
   "metadata": {},
   "outputs": [],
   "source": [
    "IDs = []\n",
    "for barcode in barcodes:\n",
    "    for time in ['120', '144']:\n",
    "        for i in ['Edited', 'Unedited']:\n",
    "            IDs.append('{}_{}_{}'.format(barcode, time, i))\n",
    "            \n",
    "structure_composition = pd.DataFrame(0, columns = colorDict.keys(), index = IDs)"
   ]
  },
  {
   "cell_type": "code",
   "execution_count": 7,
   "id": "f465af9f",
   "metadata": {},
   "outputs": [],
   "source": [
    "temp = cell_state_table.copy()\n",
    "temp.set_index('cellBC', inplace = True)\n",
    "\n",
    "for barcode in barcodes:\n",
    "    treeFile = '/Genomics/chanlab/blaw/TLS/data/explant/lineage/3_lineage_reconstruction/{}/120_144/hybrid/{}_120_144_hybrid_newick_noMutationlessEdges_Labeled.nwk'.format(barcode, barcode)\n",
    "    t = Tree(treeFile, format = 1)\n",
    "    leaves = [leaf.name for leaf in t.get_leaves()]\n",
    "    \n",
    "    total_120_cells = ['Tracer_Explant_' + i for i in explant_multiseq[explant_multiseq['final.calls.rescued'] == barcode]['cellBC']]\n",
    "    total_144_cells = ['Tracer_Outgrowth_1_' + i for i in out1_multiseq[out1_multiseq['final.calls.rescued'] == barcode]['cellBC']]\n",
    "    total_144_2_cells = ['Tracer_Outgrowth_2_' + i for i in out2_multiseq[out2_multiseq['final.calls.rescued'] == barcode]['cellBC']]\n",
    "    \n",
    "    edited_120_cells = []\n",
    "    edited_144_cells = []\n",
    "    edited_144_2_cells = []\n",
    "    \n",
    "    unedited_120_cells = []\n",
    "    unedited_144_cells = []\n",
    "    unedited_144_2_cells = []\n",
    "    temp_counts = {}\n",
    "    for cell_state in temp['cell_state'].unique():\n",
    "        temp_counts[cell_state] = 0\n",
    "    \n",
    "    for cell in total_120_cells:\n",
    "        if cell in leaves:\n",
    "            edited_120_cells.append(cell)\n",
    "        else:\n",
    "            unedited_120_cells.append(cell)\n",
    "            \n",
    "    for cell in total_144_cells:\n",
    "        if cell in leaves:\n",
    "            edited_144_cells.append(cell)\n",
    "        else:\n",
    "            unedited_144_cells.append(cell)\n",
    "            \n",
    "    for cell in total_144_2_cells:\n",
    "        if cell in leaves:\n",
    "            edited_144_2_cells.append(cell)\n",
    "        else:\n",
    "            unedited_144_2_cells.append(cell)\n",
    "            \n",
    "            \n",
    "    for cell in edited_120_cells:\n",
    "        cell_state = temp.loc[cell, 'cell_state']\n",
    "        structure_composition.loc['{}_{}_Edited'.format(barcode, '120'), cell_state] += 1\n",
    "        \n",
    "    for cell in unedited_120_cells:\n",
    "        cell_state = temp.loc[cell, 'cell_state']\n",
    "        structure_composition.loc['{}_{}_Unedited'.format(barcode, '120'), cell_state] += 1\n",
    "        \n",
    "    for cell in edited_144_cells:\n",
    "        cell_state = temp.loc[cell, 'cell_state']\n",
    "        structure_composition.loc['{}_{}_Edited'.format(barcode, '144'), cell_state] += 1\n",
    "        \n",
    "    for cell in unedited_144_cells:\n",
    "        cell_state = temp.loc[cell, 'cell_state']\n",
    "        structure_composition.loc['{}_{}_Unedited'.format(barcode, '144'), cell_state] += 1\n",
    "        \n",
    "    for cell in edited_144_2_cells:\n",
    "        cell_state = temp.loc[cell, 'cell_state']\n",
    "        structure_composition.loc['{}_{}_Edited'.format(barcode, '144'), cell_state] += 1\n",
    "        \n",
    "    for cell in unedited_144_2_cells:\n",
    "        cell_state = temp.loc[cell, 'cell_state']\n",
    "        structure_composition.loc['{}_{}_Unedited'.format(barcode, '144'), cell_state] += 1"
   ]
  },
  {
   "cell_type": "code",
   "execution_count": 8,
   "id": "32c66019",
   "metadata": {},
   "outputs": [],
   "source": [
    "cell_totals = {}\n",
    "\n",
    "for ID in structure_composition.index:\n",
    "    cell_totals[ID] = structure_composition.loc[ID].sum()"
   ]
  },
  {
   "cell_type": "code",
   "execution_count": 9,
   "id": "e51be289",
   "metadata": {},
   "outputs": [],
   "source": [
    "structure_composition['Sum'] = structure_composition.sum(axis = 1)\n",
    "structure_composition_frac = structure_composition.div(structure_composition[\"Sum\"], axis=0)"
   ]
  },
  {
   "cell_type": "code",
   "execution_count": 10,
   "id": "26d2839f",
   "metadata": {},
   "outputs": [],
   "source": [
    "structure_composition_frac.drop(columns = ['Sum'], inplace = True)"
   ]
  },
  {
   "cell_type": "code",
   "execution_count": 12,
   "id": "840bbc0c",
   "metadata": {},
   "outputs": [],
   "source": [
    "structure_composition_frac.to_csv('/Genomics/chanlab/blaw/TLS/data/explant/composition/structure_compositions_frac.txt', sep = '\\t')\n",
    "structure_composition.to_csv('/Genomics/chanlab/blaw/TLS/data/explant/composition/structure_compositions.txt', sep = '\\t')"
   ]
  },
  {
   "cell_type": "code",
   "execution_count": 15,
   "id": "c5030d72",
   "metadata": {},
   "outputs": [],
   "source": [
    "colors = []\n",
    "for color in structure_composition_frac.columns:\n",
    "    colors.append(colorDict[color])\n",
    "    \n",
    "structure_composition_frac.plot(kind='bar', use_index = True, stacked=True, color = colors, grid = False, figsize = (15, 10))\n",
    "plt.legend(loc='center left', bbox_to_anchor=(1.0, 0.5), prop={'size': 10})\n",
    "plt.title('cell_state_proportions')\n",
    "plt.ylabel('% cells/cluster')\n",
    "plt.savefig('/Genomics/chanlab/blaw/TLS/data/explant/composition/explant_compositions.pdf', dpi = 300)\n",
    "#plt.show()\n",
    "plt.close()"
   ]
  },
  {
   "cell_type": "code",
   "execution_count": 19,
   "id": "60ef5851",
   "metadata": {},
   "outputs": [],
   "source": [
    "labels = []\n",
    "for cell_state in colorDict.keys():\n",
    "    temp_edited = []\n",
    "    temp_unedited = []\n",
    "    for barcode in barcodes:\n",
    "        for time in ['120', '144']:\n",
    "            temp_edited.append(structure_composition_frac.loc['{}_{}_Edited'.format(barcode, time), cell_state])\n",
    "            temp_unedited.append(structure_composition_frac.loc['{}_{}_Unedited'.format(barcode, time), cell_state])\n",
    "            \n",
    "    plt.plot(temp_edited, temp_unedited, '.', color = colorDict[cell_state])\n",
    "    labels.append(cell_state)\n",
    "plt.legend(labels, bbox_to_anchor=(1, 1.05))\n",
    "plt.xlim(0, 1)\n",
    "plt.ylim(0, 1)\n",
    "plt.xlabel('edited')\n",
    "plt.ylabel('unedited')\n",
    "plt.savefig('/Genomics/chanlab/blaw/TLS/data/explant/composition/explant_edited_vs_unedited_composition.pdf', dpi = 300)\n",
    "#plt.show()\n",
    "plt.close()"
   ]
  }
 ],
 "metadata": {
  "kernelspec": {
   "display_name": "Python 3 (ipykernel)",
   "language": "python",
   "name": "python3"
  },
  "language_info": {
   "codemirror_mode": {
    "name": "ipython",
    "version": 3
   },
   "file_extension": ".py",
   "mimetype": "text/x-python",
   "name": "python",
   "nbconvert_exporter": "python",
   "pygments_lexer": "ipython3",
   "version": "3.9.11"
  }
 },
 "nbformat": 4,
 "nbformat_minor": 5
}
