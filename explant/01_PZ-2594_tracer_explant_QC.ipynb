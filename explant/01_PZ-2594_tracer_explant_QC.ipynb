{
 "cells": [
  {
   "cell_type": "code",
   "execution_count": 2,
   "id": "94eea550",
   "metadata": {},
   "outputs": [],
   "source": [
    "import sys\n",
    "import os\n",
    "import pandas as pd\n",
    "import numpy as np\n",
    "import cassiopeia as cas\n",
    "import matplotlib.pyplot as plt\n",
    "import seaborn as sns"
   ]
  },
  {
   "cell_type": "code",
   "execution_count": 3,
   "id": "dba44074",
   "metadata": {},
   "outputs": [],
   "source": [
    "name = 'PZ-2594_Tracer_Explant'\n",
    "output_dir = '/Genomics/chanlab/blaw/TLS/data/explant/lineage/1_preprocessing/PZ-2594_tracer_explant/'\n",
    "\n",
    "umi_table = pd.read_csv('/Genomics/chanlab/blaw/TLS/data/explant/lineage/1_preprocessing/PZ-2594_tracer_explant/umi_table_error_correct.txt', sep='\\t')\n",
    "\n",
    "allele_table = pd.read_csv('/Genomics/chanlab/blaw/TLS/data/explant/lineage/1_preprocessing/PZ-2594_tracer_explant/allele_table.txt', sep = '\\t')"
   ]
  },
  {
   "cell_type": "code",
   "execution_count": 6,
   "id": "3f4e28f3",
   "metadata": {},
   "outputs": [],
   "source": [
    "umis_per_cellBC = umi_table.groupby(\"cellBC\", sort=False).size().values\n",
    "umis_per_intBC = umi_table.groupby([\"cellBC\", \"intBC\"], sort=False).size().values\n",
    "reads_per_umi = umi_table.groupby(['cellBC', 'UMI'])['readCount'].sum()\n",
    "\n",
    "reads_per_umi_hist = np.histogram(reads_per_umi, bins = 100)\n",
    "umis_per_cellBC_hist = np.histogram(umis_per_cellBC, bins = 50)\n",
    "umis_per_intBC_hist = np.histogram(umis_per_intBC, bins = 50)"
   ]
  },
  {
   "cell_type": "code",
   "execution_count": 10,
   "id": "58d26951",
   "metadata": {},
   "outputs": [],
   "source": [
    "fig = plt.subplots(dpi=100)\n",
    "\n",
    "plt.bar(x = reads_per_umi_hist[1][:-1], height = reads_per_umi_hist[0])\n",
    "plt.title('PZ-2594_Tracer_Explant - Reads per UMI')\n",
    "plt.ylabel('UMI Count')\n",
    "plt.xlabel('Number of Reads')\n",
    "plt.yscale('log')\n",
    "plt.savefig(output_dir + 'QC/QC_reads_per_UMI.png')\n",
    "#plt.show()\n",
    "plt.close()"
   ]
  },
  {
   "cell_type": "code",
   "execution_count": 13,
   "id": "8f55f178",
   "metadata": {},
   "outputs": [],
   "source": [
    "fig = plt.subplots(dpi=100)\n",
    "x_values = range(0, len(umis_per_cellBC))\n",
    "\n",
    "plt.plot(x_values, np.flip(np.sort(umis_per_cellBC)), '-')\n",
    "plt.title('PZ-2594_Tracer_Explant - UMI per CellBC')\n",
    "plt.ylabel('Number of UMI')\n",
    "plt.xlabel('Rank Order')\n",
    "plt.xscale('log')\n",
    "plt.yscale('log')\n",
    "plt.savefig(output_dir + 'QC/QC_UMI_per_cellBC.png')\n",
    "#plt.show()\n",
    "plt.close()"
   ]
  },
  {
   "cell_type": "code",
   "execution_count": 15,
   "id": "e7044316",
   "metadata": {},
   "outputs": [],
   "source": [
    "fig = plt.subplots(dpi=100)\n",
    "\n",
    "plt.bar(x = umis_per_intBC_hist[1][:-1], height = umis_per_intBC_hist[0], width = 10)\n",
    "plt.title('PZ-2594_Tracer_Explant - UMI per intBC')\n",
    "plt.ylabel('intBC Count')\n",
    "plt.xlabel('Number of UMIs')\n",
    "plt.yscale('log')\n",
    "plt.savefig(output_dir + 'QC/QC_UMI_per_intBC.png')\n",
    "#plt.show()\n",
    "plt.close()"
   ]
  },
  {
   "cell_type": "code",
   "execution_count": 16,
   "id": "57352e45",
   "metadata": {},
   "outputs": [],
   "source": [
    "umis_per_intBC_df = pd.DataFrame({'count' : umi_table.groupby([ \"cellBC\", \"intBC\"] ).size()}).reset_index()"
   ]
  },
  {
   "cell_type": "code",
   "execution_count": 20,
   "id": "e629952f",
   "metadata": {
    "scrolled": false
   },
   "outputs": [],
   "source": [
    "fig, ax = plt.subplots(figsize = (10, 4), dpi=300)\n",
    "\n",
    "sns.violinplot(ax=ax, data = umis_per_intBC_df, x = 'intBC', y = 'count', scale = 'count', cut = 0, color = 'skyblue')\n",
    "\n",
    "plt.title('PZ-2594_Tracer_Explant - UMIs per intBC')\n",
    "ax.set_xticklabels(ax.get_xticklabels(), rotation = 90)\n",
    "ax.set_ylabel('UMIs per intBC')\n",
    "plt.savefig(output_dir + 'QC/QC_UMI_per_Target_Site.png', bbox_inches='tight')\n",
    "#plt.show()\n",
    "plt.close()"
   ]
  },
  {
   "cell_type": "markdown",
   "id": "4ce5b137",
   "metadata": {},
   "source": [
    "# Filter the umi and allele table by cellBC that are in the single cell object"
   ]
  },
  {
   "cell_type": "code",
   "execution_count": 21,
   "id": "b16763bf",
   "metadata": {},
   "outputs": [],
   "source": [
    "test = pd.read_csv('/Genomics/chanlab/blaw/TLS/metadata/AM-RNA-929_cellBC_cellState.tsv', sep = '\\t')\n",
    "\n",
    "testCellBC = []\n",
    "\n",
    "for cellBC in test['cellBC']:\n",
    "    testCellBC.append(cellBC[:-2])"
   ]
  },
  {
   "cell_type": "code",
   "execution_count": 22,
   "id": "e75b2105",
   "metadata": {},
   "outputs": [],
   "source": [
    "allele_table_filtered = allele_table[allele_table['cellBC'].isin(testCellBC)].copy()"
   ]
  },
  {
   "cell_type": "code",
   "execution_count": 23,
   "id": "356fa6b7",
   "metadata": {},
   "outputs": [
    {
     "data": {
      "text/plain": [
       "(11110,)"
      ]
     },
     "execution_count": 23,
     "metadata": {},
     "output_type": "execute_result"
    }
   ],
   "source": [
    "allele_table_filtered['cellBC'].unique().shape"
   ]
  },
  {
   "cell_type": "code",
   "execution_count": 24,
   "id": "cbfd4900",
   "metadata": {},
   "outputs": [],
   "source": [
    "allele_table_filtered.to_csv(output_dir + 'allele_table_filtered.txt', sep = '\\t')"
   ]
  },
  {
   "cell_type": "code",
   "execution_count": 25,
   "id": "9aae41f8",
   "metadata": {},
   "outputs": [],
   "source": [
    "umi_table_filtered = umi_table[umi_table['cellBC'].isin(testCellBC)].copy()"
   ]
  },
  {
   "cell_type": "code",
   "execution_count": 26,
   "id": "28e2baf5",
   "metadata": {},
   "outputs": [],
   "source": [
    "umis_per_cellBC_filtered = umi_table_filtered.groupby(\"cellBC\", sort=False).size().values\n",
    "umis_per_intBC_filtered = umi_table_filtered.groupby([\"cellBC\", \"intBC\"], sort=False).size().values\n",
    "reads_per_umi_filtered = umi_table_filtered.groupby(['cellBC', 'UMI'])['readCount'].sum()\n",
    "\n",
    "reads_per_umi_hist_filtered = np.histogram(reads_per_umi_filtered, bins = 100)\n",
    "umis_per_cellBC_hist_filtered = np.histogram(umis_per_cellBC_filtered, bins = 50)\n",
    "umis_per_intBC_hist_filtered = np.histogram(umis_per_intBC_filtered, bins = 50)"
   ]
  },
  {
   "cell_type": "code",
   "execution_count": 29,
   "id": "fa775732",
   "metadata": {},
   "outputs": [],
   "source": [
    "fig = plt.subplots(dpi=100)\n",
    "\n",
    "plt.bar(x = reads_per_umi_hist_filtered[1][:-1], height = reads_per_umi_hist_filtered[0])\n",
    "plt.title('PZ-2594_Tracer_Explant - Filtered - Reads per UMI')\n",
    "plt.ylabel('UMI Count')\n",
    "plt.xlabel('Number of Reads')\n",
    "plt.yscale('log')\n",
    "plt.savefig(output_dir + '/QC_reads_per_UMI_filtered.png')\n",
    "#plt.show()\n",
    "plt.close()"
   ]
  },
  {
   "cell_type": "code",
   "execution_count": 31,
   "id": "b14f15bd",
   "metadata": {},
   "outputs": [],
   "source": [
    "fig = plt.subplots(dpi=100)\n",
    "x_values = range(0, len(umis_per_cellBC_filtered))\n",
    "\n",
    "plt.plot(x_values, np.flip(np.sort(umis_per_cellBC_filtered)), '-')\n",
    "plt.title('PZ-2594_Tracer_Explant - Filtered - UMI per CellBC')\n",
    "plt.ylabel('Number of UMI')\n",
    "plt.xlabel('Rank Order')\n",
    "plt.xscale('log')\n",
    "plt.yscale('log')\n",
    "plt.savefig(output_dir + '/QC_UMI_per_cellBC_filtered.png')\n",
    "#plt.show()\n",
    "plt.close()"
   ]
  },
  {
   "cell_type": "code",
   "execution_count": 33,
   "id": "c1405313",
   "metadata": {},
   "outputs": [],
   "source": [
    "fig = plt.subplots(dpi=100)\n",
    "\n",
    "plt.bar(x = umis_per_intBC_hist_filtered[1][:-1], height = umis_per_intBC_hist_filtered[0], width = 10)\n",
    "plt.title('PZ-2594_Tracer_Explant - Filtered - UMI per intBC')\n",
    "plt.ylabel('intBC Count')\n",
    "plt.xlabel('Number of UMIs')\n",
    "plt.yscale('log')\n",
    "plt.savefig(output_dir + '/QC_UMI_per_intBC_filtered.png')\n",
    "#plt.show()\n",
    "plt.close()"
   ]
  },
  {
   "cell_type": "code",
   "execution_count": 34,
   "id": "839708cb",
   "metadata": {},
   "outputs": [],
   "source": [
    "umis_per_intBC_df_filtered = pd.DataFrame({'count' : umi_table_filtered.groupby([ \"cellBC\", \"intBC\"] ).size()}).reset_index()"
   ]
  },
  {
   "cell_type": "code",
   "execution_count": 36,
   "id": "e8d8afdf",
   "metadata": {},
   "outputs": [],
   "source": [
    "fig, ax = plt.subplots(figsize = (10, 4), dpi=300)\n",
    "\n",
    "sns.violinplot(ax=ax, data = umis_per_intBC_df_filtered, x = 'intBC', y = 'count', scale = 'count', cut = 0, color = 'skyblue')\n",
    "\n",
    "plt.title('PZ-2594_Tracer_Explant - filtered - UMIs per intBC')\n",
    "ax.set_xticklabels(ax.get_xticklabels(), rotation = 90)\n",
    "ax.set_ylabel('UMI per intBC Count')\n",
    "plt.savefig(output_dir + '/QC_UMI_per_Target_Site_filtered.png', bbox_inches='tight')\n",
    "#plt.show()\n",
    "plt.close()"
   ]
  }
 ],
 "metadata": {
  "kernelspec": {
   "display_name": "Python 3 (ipykernel)",
   "language": "python",
   "name": "python3"
  },
  "language_info": {
   "codemirror_mode": {
    "name": "ipython",
    "version": 3
   },
   "file_extension": ".py",
   "mimetype": "text/x-python",
   "name": "python",
   "nbconvert_exporter": "python",
   "pygments_lexer": "ipython3",
   "version": "3.9.11"
  }
 },
 "nbformat": 4,
 "nbformat_minor": 5
}
