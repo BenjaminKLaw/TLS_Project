{
 "cells": [
  {
   "cell_type": "code",
   "execution_count": 1,
   "id": "e3a684b9",
   "metadata": {},
   "outputs": [],
   "source": [
    "import os\n",
    "os.environ['QT_QPA_PLATFORM']='offscreen'\n",
    "\n",
    "import cassiopeia as cas\n",
    "import pandas as pd\n",
    "import numpy as np\n",
    "import seaborn as sns\n",
    "from ete3 import Tree, ClusterTree, TreeStyle, faces\n",
    "from ete3.treeview.faces import add_face_to_node\n",
    "import pickle\n",
    "import matplotlib.pyplot as plt\n",
    "import scipy"
   ]
  },
  {
   "cell_type": "code",
   "execution_count": 2,
   "id": "15eb1b21",
   "metadata": {},
   "outputs": [],
   "source": [
    "outFile = '/Genomics/chanlab/blaw/TLS/data/explant/lineage/tree_plots/'\n",
    "outSizeLen = 10\n",
    "outSizeHeight = 10\n",
    "\n",
    "clusterColorsFile = \"/Genomics/chanlab/mchan/Adriano/TLS/TLS_TLSCL/20211102_clusterColorsTLSCL.p\"\n",
    "with open(clusterColorsFile,'rb') as fp:\n",
    "    clusterDict = pickle.load(fp)\n",
    "    \n",
    "TLS_barcodes = ['Bar1', 'Bar2', 'Bar3']\n",
    "TLSCL_barcodes = ['Bar4', 'Bar5', 'Bar6']\n",
    "barcodes = TLS_barcodes + TLSCL_barcodes\n",
    "\n",
    "Timepoints = ['120', '144', '120_144']\n",
    "\n",
    "total_cell_state_table = pd.read_csv('/Genomics/chanlab/blaw/TLS/metadata/TLS_Explant_Total_cellBC_cellState.tst', sep = '\\t')"
   ]
  },
  {
   "cell_type": "markdown",
   "id": "8a5290fd",
   "metadata": {},
   "source": [
    "# Label the trees"
   ]
  },
  {
   "cell_type": "code",
   "execution_count": 3,
   "id": "05f94d72",
   "metadata": {},
   "outputs": [],
   "source": [
    "# Label internal nodes\n",
    "def nameInteriorNodes(nwkFile,outnwkFile):\n",
    "\n",
    "    t = Tree(nwkFile,format=1)\n",
    "    labelID = 0\n",
    "\n",
    "    for node in t.traverse():\n",
    "        if node.is_leaf() == False:\n",
    "            node.name = \"node{}\".format(labelID)\n",
    "            labelID = labelID + 1\n",
    "\n",
    "    t.write(format=8,outfile=outnwkFile)"
   ]
  },
  {
   "cell_type": "code",
   "execution_count": 4,
   "id": "0582ce90",
   "metadata": {},
   "outputs": [],
   "source": [
    "def add_node0(nwkFile, outnwkFile):\n",
    "    infile = open(nwkFile, 'r')\n",
    "    outfile = open(outnwkFile, 'w')\n",
    "    \n",
    "    outfile.write(infile.readline()[:-1])\n",
    "    outfile.write('node0;')\n",
    "          \n",
    "    infile.close()\n",
    "    outfile.close()"
   ]
  },
  {
   "cell_type": "code",
   "execution_count": 17,
   "id": "370be30a",
   "metadata": {},
   "outputs": [],
   "source": [
    "# Label the greedy trees, ALREADY DONE\n",
    "'''\n",
    "for barcode in barcodes:\n",
    "    for time in Timepoints:\n",
    "        nameInteriorNodes('/Genomics/chanlab/blaw/TLS/data/explant/lineage/3_lineage_reconstruction/{}/{}/greedy/{}_{}_greedy_newick_noMutationlessEdges.txt'.format(barcode, time, barcode, time),\n",
    "                          '/Genomics/chanlab/blaw/TLS/data/explant/lineage/3_lineage_reconstruction/{}/{}/greedy/{}_{}_greedy_node0_missing.txt'.format(barcode, time, barcode, time))\n",
    "\n",
    "        add_node0('/Genomics/chanlab/blaw/TLS/data/explant/lineage/3_lineage_reconstruction/{}/{}/greedy/{}_{}_greedy_node0_missing.txt'.format(barcode, time, barcode, time),\n",
    "                  '/Genomics/chanlab/blaw/TLS/data/explant/lineage/3_lineage_reconstruction/{}/{}/greedy/{}_{}_greedy_newick_noMutationlessEdges_Labeled.nwk'.format(barcode, time, barcode, time))\n",
    "'''"
   ]
  },
  {
   "cell_type": "code",
   "execution_count": 7,
   "id": "88beefa2",
   "metadata": {},
   "outputs": [],
   "source": [
    "# Label the neighbor trees\n",
    "'''\n",
    "for barcode in barcodes:\n",
    "    for time in ['120', '144', '120_144']:\n",
    "        nameInteriorNodes('/Genomics/chanlab/blaw/TLS/data/explant/lineage/3_lineage_reconstruction/{}/{}/neighbor/{}_{}_neighbor_newick_noMutationlessEdges.txt'.format(barcode, time, barcode, time),\n",
    "                          '/Genomics/chanlab/blaw/TLS/data/explant/lineage/3_lineage_reconstruction/{}/{}/neighbor/{}_{}_neighbor_node0_missing.txt'.format(barcode, time, barcode, time))\n",
    "\n",
    "        add_node0('/Genomics/chanlab/blaw/TLS/data/explant/lineage/3_lineage_reconstruction/{}/{}/neighbor/{}_{}_neighbor_node0_missing.txt'.format(barcode, time, barcode, time),\n",
    "                  '/Genomics/chanlab/blaw/TLS/data/explant/lineage/3_lineage_reconstruction/{}/{}/neighbor/{}_{}_neighbor_newick_noMutationlessEdges_Labeled.nwk'.format(barcode, time, barcode, time))\n",
    "                  \n",
    "'''"
   ]
  },
  {
   "cell_type": "code",
   "execution_count": 9,
   "id": "462284a0",
   "metadata": {},
   "outputs": [],
   "source": [
    "# Label the hybrid trees\n",
    "for barcode in barcodes:\n",
    "    for time in ['120', '144', '120_144']:\n",
    "        nameInteriorNodes('/Genomics/chanlab/blaw/TLS/data/explant/lineage/3_lineage_reconstruction/{}/{}/hybrid/{}_{}_hybrid_newick_noMutationlessEdges.txt'.format(barcode, time, barcode, time),\n",
    "                          '/Genomics/chanlab/blaw/TLS/data/explant/lineage/3_lineage_reconstruction/{}/{}/hybrid/{}_{}_hybrid_node0_missing.txt'.format(barcode, time, barcode, time))\n",
    "\n",
    "        add_node0('/Genomics/chanlab/blaw/TLS/data/explant/lineage/3_lineage_reconstruction/{}/{}/hybrid/{}_{}_hybrid_node0_missing.txt'.format(barcode, time, barcode, time),\n",
    "                  '/Genomics/chanlab/blaw/TLS/data/explant/lineage/3_lineage_reconstruction/{}/{}/hybrid/{}_{}_hybrid_newick_noMutationlessEdges_Labeled.nwk'.format(barcode, time, barcode, time))"
   ]
  },
  {
   "cell_type": "markdown",
   "id": "d99606cf",
   "metadata": {},
   "source": [
    "# Plot the hybrid trees from the combined timepoint"
   ]
  },
  {
   "cell_type": "code",
   "execution_count": 10,
   "id": "3b0ae68e",
   "metadata": {},
   "outputs": [],
   "source": [
    "colorDict = {}\n",
    "\n",
    "for i in clusterDict.keys():\n",
    "    colorDict[i] = matplotlib.colors.to_hex(clusterDict[i], keep_alpha=False)\n",
    "    \n",
    "timeDict = {'120h': '#29BAFF', '144h': '#151E82'}"
   ]
  },
  {
   "cell_type": "code",
   "execution_count": 12,
   "id": "5ba16507",
   "metadata": {
    "scrolled": true
   },
   "outputs": [
    {
     "name": "stdout",
     "output_type": "stream",
     "text": [
      "------------------Bar1-Cell_States----------------------\n",
      "iTOL output: SUCCESS: 12811211774381991690296599\n",
      "\n",
      "Tree Web Page URL: http://itol.embl.de/external.cgi?tree=12811211774381991690296599&restore_saved=1\n",
      "Warnings: []\n",
      "------------------Bar1-Timepoint----------------------\n",
      "iTOL output: SUCCESS: 12811211774383401690296616\n",
      "\n",
      "Tree Web Page URL: http://itol.embl.de/external.cgi?tree=12811211774383401690296616&restore_saved=1\n",
      "Warnings: []\n"
     ]
    },
    {
     "data": {
      "application/vnd.jupyter.widget-view+json": {
       "model_id": "8ef6fdcf414d420bbd09f03ab52d4307",
       "version_major": 2,
       "version_minor": 0
      },
      "text/plain": [
       "filling in multiindex table:   0%|          | 0/50491 [00:00<?, ?it/s]"
      ]
     },
     "metadata": {},
     "output_type": "display_data"
    },
    {
     "name": "stderr",
     "output_type": "stream",
     "text": [
      "100%|███████████████████████████████████████████████████████████████████████████████████| 30/30 [00:09<00:00,  3.15it/s]\n"
     ]
    },
    {
     "name": "stdout",
     "output_type": "stream",
     "text": [
      "------------------Bar2-Cell_States----------------------\n",
      "iTOL output: SUCCESS: 12811211774416601690296884\n",
      "\n",
      "Tree Web Page URL: http://itol.embl.de/external.cgi?tree=12811211774416601690296884&restore_saved=1\n",
      "Warnings: []\n",
      "------------------Bar2-Timepoint----------------------\n",
      "iTOL output: SUCCESS: 12811211774417471690296895\n",
      "\n",
      "Tree Web Page URL: http://itol.embl.de/external.cgi?tree=12811211774417471690296895&restore_saved=1\n",
      "Warnings: []\n"
     ]
    },
    {
     "data": {
      "application/vnd.jupyter.widget-view+json": {
       "model_id": "696d6593d80f4e359f070535f75e9431",
       "version_major": 2,
       "version_minor": 0
      },
      "text/plain": [
       "filling in multiindex table:   0%|          | 0/28684 [00:00<?, ?it/s]"
      ]
     },
     "metadata": {},
     "output_type": "display_data"
    },
    {
     "name": "stderr",
     "output_type": "stream",
     "text": [
      "100%|███████████████████████████████████████████████████████████████████████████████████| 30/30 [00:04<00:00,  6.35it/s]\n"
     ]
    },
    {
     "name": "stdout",
     "output_type": "stream",
     "text": [
      "------------------Bar3-Cell_States----------------------\n",
      "iTOL output: SUCCESS: 12811211774463061690297069\n",
      "\n",
      "Tree Web Page URL: http://itol.embl.de/external.cgi?tree=12811211774463061690297069&restore_saved=1\n",
      "Warnings: []\n",
      "------------------Bar3-Timepoint----------------------\n",
      "iTOL output: SUCCESS: 12811211774465311690297080\n",
      "\n",
      "Tree Web Page URL: http://itol.embl.de/external.cgi?tree=12811211774465311690297080&restore_saved=1\n",
      "Warnings: []\n"
     ]
    },
    {
     "data": {
      "application/vnd.jupyter.widget-view+json": {
       "model_id": "5a5b3f9a1f1d449cb0b6ccc69f42c333",
       "version_major": 2,
       "version_minor": 0
      },
      "text/plain": [
       "filling in multiindex table:   0%|          | 0/32420 [00:00<?, ?it/s]"
      ]
     },
     "metadata": {},
     "output_type": "display_data"
    },
    {
     "name": "stderr",
     "output_type": "stream",
     "text": [
      "100%|███████████████████████████████████████████████████████████████████████████████████| 30/30 [00:04<00:00,  6.88it/s]\n"
     ]
    },
    {
     "name": "stdout",
     "output_type": "stream",
     "text": [
      "------------------Bar4-Cell_States----------------------\n",
      "iTOL output: SUCCESS: 1281121177431541690297258\n",
      "\n",
      "Tree Web Page URL: http://itol.embl.de/external.cgi?tree=1281121177431541690297258&restore_saved=1\n",
      "Warnings: []\n",
      "------------------Bar4-Timepoint----------------------\n",
      "iTOL output: SUCCESS: 1281121177435771690297271\n",
      "\n",
      "Tree Web Page URL: http://itol.embl.de/external.cgi?tree=1281121177435771690297271&restore_saved=1\n",
      "Warnings: []\n"
     ]
    },
    {
     "data": {
      "application/vnd.jupyter.widget-view+json": {
       "model_id": "73986ce5aab3442695d9a41326cfbaec",
       "version_major": 2,
       "version_minor": 0
      },
      "text/plain": [
       "filling in multiindex table:   0%|          | 0/21796 [00:00<?, ?it/s]"
      ]
     },
     "metadata": {},
     "output_type": "display_data"
    },
    {
     "name": "stderr",
     "output_type": "stream",
     "text": [
      "100%|███████████████████████████████████████████████████████████████████████████████████| 30/30 [00:03<00:00,  9.13it/s]\n"
     ]
    },
    {
     "name": "stdout",
     "output_type": "stream",
     "text": [
      "------------------Bar5-Cell_States----------------------\n",
      "iTOL output: SUCCESS: 1281121177473271690297422\n",
      "\n",
      "Tree Web Page URL: http://itol.embl.de/external.cgi?tree=1281121177473271690297422&restore_saved=1\n",
      "Warnings: []\n",
      "------------------Bar5-Timepoint----------------------\n",
      "iTOL output: SUCCESS: 1281121177479681690297433\n",
      "\n",
      "Tree Web Page URL: http://itol.embl.de/external.cgi?tree=1281121177479681690297433&restore_saved=1\n",
      "Warnings: []\n"
     ]
    },
    {
     "data": {
      "application/vnd.jupyter.widget-view+json": {
       "model_id": "a7561e65ea184ab6bd0bcf5c62977c4c",
       "version_major": 2,
       "version_minor": 0
      },
      "text/plain": [
       "filling in multiindex table:   0%|          | 0/20343 [00:00<?, ?it/s]"
      ]
     },
     "metadata": {},
     "output_type": "display_data"
    },
    {
     "name": "stderr",
     "output_type": "stream",
     "text": [
      "100%|███████████████████████████████████████████████████████████████████████████████████| 30/30 [00:03<00:00,  9.08it/s]\n"
     ]
    },
    {
     "name": "stdout",
     "output_type": "stream",
     "text": [
      "------------------Bar6-Cell_States----------------------\n",
      "iTOL output: SUCCESS: 12811211774113511690297568\n",
      "\n",
      "Tree Web Page URL: http://itol.embl.de/external.cgi?tree=12811211774113511690297568&restore_saved=1\n",
      "Warnings: []\n",
      "------------------Bar6-Timepoint----------------------\n",
      "iTOL output: SUCCESS: 12811211774118171690297573\n",
      "\n",
      "Tree Web Page URL: http://itol.embl.de/external.cgi?tree=12811211774118171690297573&restore_saved=1\n",
      "Warnings: []\n"
     ]
    },
    {
     "data": {
      "application/vnd.jupyter.widget-view+json": {
       "model_id": "e90913ec1a684c42ba1e71def0110865",
       "version_major": 2,
       "version_minor": 0
      },
      "text/plain": [
       "filling in multiindex table:   0%|          | 0/5090 [00:00<?, ?it/s]"
      ]
     },
     "metadata": {},
     "output_type": "display_data"
    },
    {
     "name": "stderr",
     "output_type": "stream",
     "text": [
      "100%|███████████████████████████████████████████████████████████████████████████████████| 30/30 [00:00<00:00, 37.08it/s]\n"
     ]
    },
    {
     "data": {
      "image/png": "[encoded data removed]",
      "text/plain": [
       "<Figure size 432x288 with 1 Axes>"
      ]
     },
     "metadata": {
      "needs_background": "light"
     },
     "output_type": "display_data"
    },
    {
     "data": {
      "image/png": "[encoded data removed]",
      "text/plain": [
       "<Figure size 432x288 with 1 Axes>"
      ]
     },
     "metadata": {
      "needs_background": "light"
     },
     "output_type": "display_data"
    },
    {
     "data": {
      "image/png": "[encoded data removed]",
      "text/plain": [
       "<Figure size 432x288 with 1 Axes>"
      ]
     },
     "metadata": {
      "needs_background": "light"
     },
     "output_type": "display_data"
    },
    {
     "data": {
      "image/png": "[encoded data removed]",
      "text/plain": [
       "<Figure size 432x288 with 1 Axes>"
      ]
     },
     "metadata": {
      "needs_background": "light"
     },
     "output_type": "display_data"
    },
    {
     "data": {
      "image/png": "[encoded data removed]",
      "text/plain": [
       "<Figure size 432x288 with 1 Axes>"
      ]
     },
     "metadata": {
      "needs_background": "light"
     },
     "output_type": "display_data"
    },
    {
     "data": {
      "image/png": "[encoded data removed]",
      "text/plain": [
       "<Figure size 432x288 with 1 Axes>"
      ]
     },
     "metadata": {
      "needs_background": "light"
     },
     "output_type": "display_data"
    }
   ],
   "source": [
    "for barcode in barcodes:\n",
    "    time = '120_144'\n",
    "    nwkFile = '/Genomics/chanlab/blaw/TLS/data/explant/lineage/3_lineage_reconstruction/{}/{}/hybrid/{}_{}_hybrid_newick_noMutationlessEdges_Labeled.nwk'.format(barcode, time, barcode, time)\n",
    "    metadataFile = '/Genomics/chanlab/blaw/TLS/data/explant/lineage/3_lineage_reconstruction/{}/{}/hybrid/{}_{}_metadata.txt'.format(barcode, time, barcode, time)\n",
    "    characterFile = '/Genomics/chanlab/blaw/TLS/data/explant/lineage/3_lineage_reconstruction/{}/{}/hybrid/{}_{}_character_matrix.txt'.format(barcode, time, barcode, time)\n",
    "    prior_file = '/Genomics/chanlab/blaw/TLS/data/explant/lineage/3_lineage_reconstruction/{}/{}/hybrid/{}_{}_priors.pickle'.format(barcode, time, barcode, time)\n",
    "    allele_table_file = '/Genomics/chanlab/blaw/TLS/data/explant/lineage/3_lineage_reconstruction/{}/{}/{}_{}_allele_table.txt'.format(barcode, time, barcode, time)\n",
    "\n",
    "    allele_table = pd.read_csv(allele_table_file, index_col = 0)\n",
    "    t = Tree(nwkFile, format=1)\n",
    "    tree_meta = pd.read_csv(metadataFile, sep='\\t')\n",
    "    character_matrix = pd.read_csv(characterFile, sep='\\t', index_col = 0)\n",
    "\n",
    "    with open(prior_file, 'rb') as f:\n",
    "        priors = pickle.load(f)\n",
    "\n",
    "    tree = cas.data.CassiopeiaTree(character_matrix=character_matrix, priors=priors, tree = t)\n",
    "\n",
    "    missing_proportion = (character_matrix == -1).sum(axis=0) / character_matrix.shape[0]\n",
    "    uncut_proportion = (character_matrix == 0).sum(axis=0) / character_matrix.shape[0]\n",
    "    n_unique_states = character_matrix.apply(lambda x: len(np.unique(x[(x != 0) & (x != -1)])), axis=0)\n",
    "\n",
    "    tree.parameters['stochastic_missing_probability'] = 0.1\n",
    "\n",
    "    character_meta = pd.DataFrame([missing_proportion, uncut_proportion, n_unique_states], index = ['missing_prop', 'uncut_prop', 'n_unique_states']).T\n",
    "    tree.cell_meta = tree_meta\n",
    "    tree.character_meta = character_meta\n",
    "    tree.cell_meta['cell_state'] = [i[2:-2] for i in tree.cell_meta['cell_state']]\n",
    "    tree.cell_meta['Timepoint'] = [i[2:-2] for i in tree.cell_meta['Timepoint']]\n",
    "    tree.cell_meta['orig.ident'] = [i[2:-2] for i in tree.cell_meta['orig.ident']]\n",
    "\n",
    "    tree.cell_meta.set_index('cellBC', inplace =True)\n",
    "    \n",
    "    test_palette = []\n",
    "    for i in colorDict.keys():\n",
    "        test_palette.append(colorDict[i])\n",
    "\n",
    "    values = tree.cell_meta['cell_state']\n",
    "\n",
    "    colors = test_palette[: len(values.unique())]\n",
    "    colormap = dict(zip(np.unique(values), colors))\n",
    "\n",
    "    final_palette = []\n",
    "    for i in colormap.keys():\n",
    "        final_palette.append(colorDict[i])\n",
    "\n",
    "    print('------------------{}-Cell_States----------------------'.format(barcode))    \n",
    "    cas.pl.upload_and_export_itol(tree, '{}_{}_hybrid_cell_states'.format(barcode, time), api_key = 'jtMaYpxAc94ImqU7xJjubQ',\n",
    "                          project_name = 'Explant', export_filepath='/Genomics/chanlab/blaw/TLS/data/explant/lineage/tree_plots/cell_states/{}_{}_hybrid_cell_states.pdf'.format(barcode, time), \n",
    "                          meta_data = ['cell_state'], palette = final_palette)\n",
    "    \n",
    "    print('------------------{}-Timepoint----------------------'.format(barcode))  \n",
    "    \n",
    "    test_palette_time = []\n",
    "    for i in timeDict.keys():\n",
    "        test_palette_time.append(timeDict[i])\n",
    "\n",
    "    values_time = tree.cell_meta['Timepoint']\n",
    "\n",
    "    colors_time = test_palette_time[: len(values_time.unique())]\n",
    "    colormap_time = dict(zip(np.unique(values_time), colors_time))\n",
    "\n",
    "    final_palette_time = []\n",
    "    for i in colormap_time.keys():\n",
    "        final_palette_time.append(timeDict[i])\n",
    "        \n",
    "    cas.pl.upload_and_export_itol(tree, '{}_{}_hybrid_Timepoint'.format(barcode, time), api_key = 'jtMaYpxAc94ImqU7xJjubQ',\n",
    "                          project_name = 'Explant', export_filepath='/Genomics/chanlab/blaw/TLS/data/explant/lineage/tree_plots/timepoint/{}_{}_hybrid_timepoint.pdf'.format(barcode, time), \n",
    "                          meta_data = ['Timepoint'], palette = final_palette_time)\n",
    "\n",
    "    # plot indel heatmap\n",
    "    fig, ax = plt.subplots()\n",
    "    if time == '120_144':\n",
    "        g = cas.pl.plot_matplotlib(tree, allele_table = allele_table, orient = 'right', figsize = (10, 60), meta_data = ['Timepoint'])\n",
    "    else:\n",
    "        g = cas.pl.plot_matplotlib(tree, allele_table = allele_table, orient = 'right', figsize = (10, 60))\n",
    "    plt.savefig('/Genomics/chanlab/blaw/TLS/data/explant/lineage/tree_plots/indel_heatmap/{}_{}_hybrid_Indel_Heatmap.pdf'.format(barcode, time), dpi = 300)\n",
    "    #plt.show()\n",
    "    plt.close()"
   ]
  },
  {
   "cell_type": "markdown",
   "id": "298127cb",
   "metadata": {},
   "source": [
    "# Plot trees with the branches colored by node time\n",
    "\n",
    "- To accomplish this, I need to make a node metadata table that I can upload to itol.\n",
    "- For this, I need a table that contains the name of each node, and some information about "
   ]
  },
  {
   "cell_type": "code",
   "execution_count": 13,
   "id": "ea366a66",
   "metadata": {},
   "outputs": [],
   "source": [
    "node_info = pd.read_csv('/Genomics/chanlab/blaw/TLS/data/explant/progenitor_analysis/TLS_explant_hybrid_node_info.txt', sep = '\\t')\n",
    "\n",
    "# dict of colors to label branches and nodes\n",
    "time_colors = {'120':'#e8e6e6', '120_144':'#000000', '144':'#e8e6e6'}\n",
    "\n",
    "for barcode in barcodes:\n",
    "    nwkFile = '/Genomics/chanlab/blaw/TLS/data/explant/lineage/3_lineage_reconstruction/{}/120_144/hybrid/{}_120_144_hybrid_newick_noMutationlessEdges_Labeled.nwk'.format(barcode, barcode)\n",
    "    t = Tree(nwkFile, format = 1)\n",
    "\n",
    "    node_names = []\n",
    "    for node in t.traverse():\n",
    "        if not node.is_leaf():\n",
    "            node_names.append('{}_{}'.format(barcode, node.name))\n",
    "\n",
    "    for leaf in t.get_leaves():\n",
    "        node_names.append(leaf.name)\n",
    "\n",
    "    # format columns for the itol metadata file\n",
    "    node_meta = pd.DataFrame(index = node_names, columns = ['node_ID', 'type', 'color', 'label_or_style', 'size_factor'])\n",
    "    \n",
    "    for i in node_meta.index:\n",
    "        info = []\n",
    "\n",
    "        if i.startswith('T'):\n",
    "            info.append(i)\n",
    "        else:\n",
    "            info.append(i.split('_')[1])\n",
    "\n",
    "        info.append('branch')\n",
    "\n",
    "        if i.startswith('T'):\n",
    "            info.append(time_colors[str(total_cell_state_table[total_cell_state_table['cellBC'] == i]['timepoint'].tolist()[0])])\n",
    "        else:\n",
    "            if i.endswith('node0'):\n",
    "                info.append(time_colors['120_144'])\n",
    "            else:\n",
    "                node_time = node_info[node_info['node_name'] == i]['Node_Time'].tolist()[0]\n",
    "                info.append(time_colors[node_time])\n",
    "\n",
    "        info.append('normal')\n",
    "        info.append(1)\n",
    "\n",
    "        node_meta.loc[i] = info\n",
    "        \n",
    "    node_meta.to_csv('/Genomics/chanlab/blaw/TLS/data/explant/lineage/tree_plots/{}_colors_nodemeta.txt'.format(barcode), index = False)"
   ]
  },
  {
   "cell_type": "markdown",
   "id": "374dd4ab",
   "metadata": {},
   "source": [
    "# Make node meta table:"
   ]
  },
  {
   "cell_type": "code",
   "execution_count": null,
   "id": "d5205cf1",
   "metadata": {},
   "outputs": [],
   "source": [
    "def nodeClusterProfile(node, data, colName, df):\n",
    "    if node.is_leaf():\n",
    "        clusterID = data.loc[node.name, colName]\n",
    "        df.loc[node.name, clusterID] = 1\n",
    "        return 1\n",
    "    else:\n",
    "        daughters = node.children\n",
    "        nodeNames = []\n",
    "        for d in daughters:\n",
    "            nodeClusterProfile(d, data, colName, df)\n",
    "            nodeNames.append(d.name)\n",
    "        df.loc[node.name, :] = df.loc[nodeNames, :].sum()\n",
    "        return 1\n",
    "\n",
    "def makeNodeMetaTable(nwkFile, metaFile, colName, outMetaFile):\n",
    "\n",
    "    t = Tree(nwkFile,format=1)\n",
    "    \n",
    "    # get node names from tree;\n",
    "    nodeNameList = []\n",
    "    for node in t.traverse():\n",
    "        nodeNameList.append(node.name)\n",
    "\n",
    "    data = pd.read_csv(metaFile, sep = '\\t')\n",
    "    data.set_index(\"cellBC\", inplace = True)\n",
    "\n",
    "    clusterNames = data[colName].unique()\n",
    "    df_meta = pd.DataFrame(columns = clusterNames, index = nodeNameList)\n",
    "    df_meta.fillna(0, inplace = True)\n",
    "    df_meta.index.name = \"cellBC\"\n",
    "\n",
    "    nodeClusterProfile(t.get_tree_root(), data, colName, df_meta)\n",
    "    df_meta.to_csv(outMetaFile, sep = \"\\t\")"
   ]
  },
  {
   "cell_type": "code",
   "execution_count": 7,
   "id": "0fbf641d",
   "metadata": {},
   "outputs": [],
   "source": [
    "for barcode in barcodes:\n",
    "    nwkFile = '/Genomics/chanlab/blaw/TLS/data/explant/lineage/3_lineage_reconstruction/{}/120_144/{}/{}_120_144_hybrid_newick_noMutationlessEdges_Labeled.nwk'.format(barcode, barcode)\n",
    "    metadataFile = '/Genomics/chanlab/blaw/TLS/data/explant/lineage/3_lineage_reconstruction/{}/120_144/hybrid/{}_120_144_metadata.txt'.format(barcode, barcode)\n",
    "\n",
    "    makeNodeMetaTable(nwkFile,\n",
    "                      metadataFile,\n",
    "                      colName = 'cell_state',\n",
    "                      outMetaFile = '/Genomics/chanlab/blaw/TLS/data/explant/lineage/3_lineage_reconstruction/{}/120_144/hybrid/{}_120_144_hybrid_cell_state_node_table.txt'.format(barcode, barcode))\n",
    "\n",
    "    makeNodeMetaTable(nwkFile,\n",
    "                      metadataFile,\n",
    "                      colName = 'Timepoint',\n",
    "                      outMetaFile = '/Genomics/chanlab/blaw/TLS/data/explant/lineage/3_lineage_reconstruction/{}/120_144/hybrid/{}_120_144_hybrid_timepoint_node_table.txt'.format(barcode, barcode))"
   ]
  },
  {
   "cell_type": "markdown",
   "id": "bbb18de9",
   "metadata": {},
   "source": [
    "# Plot ete tree with a piechart of cell states"
   ]
  },
  {
   "cell_type": "code",
   "execution_count": 46,
   "id": "74522a28",
   "metadata": {},
   "outputs": [],
   "source": [
    "def cell_state_mylayout(node):\n",
    "    if node.is_leaf():\n",
    "        color = timeDict[dataTime.columns[dataTime.loc[node.name,:] == 1][0]]\n",
    "        add_face_to_node(faces.RectFace(3,1, color, color), node, column = 0, aligned = True)\n",
    "    else:\n",
    "        cvals = data.loc[node.name, colNames].values\n",
    "        totalCells = float(cvals.sum())\n",
    "        if totalCells == 0:\n",
    "            print(node.name)\n",
    "        pcts = (cvals / totalCells) * 100\n",
    "        idx = np.nonzero(pcts)\n",
    "        apct = [pcts[i] for i in idx[0]]\n",
    "        acol = [colorDict[colNames[i]] for i in idx[0]]\n",
    "        # scale size to total cells\n",
    "        pSize = mCells / 100.\n",
    "        #pSize = np.log2(totalCells+(mCells/1000.))*0.5\n",
    "        pSize = np.log2(totalCells) #+(mCells/100.)) # works well\n",
    "        pSize = 3 \n",
    "        #pSize = np.log2(totalCells+0.1)\n",
    "        if pSize<1:\n",
    "            pSize=1\n",
    "\n",
    "        if not node.is_root(): \n",
    "        # PieChartFace(percents,width,height,colors,line_color) \n",
    "            C = faces.PieChartFace(apct, colors = acol, width = pSize, height = pSize)\n",
    "            C.border.width = None\n",
    "            C.opacity = 0.8\n",
    "            #faces.add_face_to_node(C,node,0,position=\"branch-bottom\") # opt1: branch bottom\n",
    "            faces.add_face_to_node(C, node, position=\"float\", column=0) # opt2: float\n",
    "\n",
    "    #daughters = node.children\n",
    "    #for d in daughters:\n",
    "        #dcol = lentiDict[dataLenti.loc[d.name,:].idxmax()]\n",
    "        #nst1 = NodeStyle()\n",
    "        #nst1[\"bgcolor\"] = dcol\n",
    "        #d.set_style(nst1)\n",
    "\n",
    "    node.img_style[\"size\"] = 0"
   ]
  },
  {
   "cell_type": "code",
   "execution_count": 48,
   "id": "6ebb6c07",
   "metadata": {},
   "outputs": [],
   "source": [
    "for barcode in barcodes:\n",
    "    nwkFile = '/Genomics/chanlab/blaw/TLS/data/explant/lineage/3_lineage_reconstruction/{}/120_144/hybrid/{}_120_144_hybrid_newick_noMutationlessEdges_Labeled.nwk'.format(barcode, barcode)\n",
    "\n",
    "    clusterFile = '/Genomics/chanlab/blaw/TLS/data/explant/lineage/3_lineage_reconstruction/{}/120_144/hybrid/{}_120_144_hybrid_cell_state_node_table.txt'.format(barcode, barcode)\n",
    "    colorDictFile = '/Genomics/chanlab/blaw/TLS/sandbox/20211102_clusterColorsTLSCL.p'\n",
    "\n",
    "    timepointFile = '/Genomics/chanlab/blaw/TLS/data/explant/lineage/3_lineage_reconstruction/{}/120_144/hybrid/{}_120_144_hybrid_timepoint_node_table.txt'.format(barcode, barcode)\n",
    "\n",
    "    outfile = '/Genomics/chanlab/blaw/TLS/data/explant/lineage/4_tree_plots/cell_state_pie/{}_120_144_hybrid_cell_state_pies.pdf'.format(barcode)\n",
    "    outSizeLen = 80\n",
    "    outSizeHeight = 80\n",
    "\n",
    "    data = pd.read_csv(clusterFile, sep='\\t', index_col = 0)\n",
    "    data.columns = [i[2:-2] for i in data.columns]\n",
    "\n",
    "    # import custom colormap for each cluster\n",
    "    colorDictFile = \"/Genomics/chanlab/mchan/Adriano/TLS/TLS_TLSCL/20211102_clusterColorsTLSCL.p\"\n",
    "    with open(colorDictFile,'rb') as fp:\n",
    "        colorDict = pickle.load(fp)\n",
    "\n",
    "    # import timepoints\n",
    "    dataTime = pd.read_csv(timepointFile, sep='\\t', index_col = 0)\n",
    "    dataTime.columns = [i[2:-2] for i in dataTime.columns]\n",
    "    timeDict = {'120h':'Red', '144h':'Black'}\n",
    "\n",
    "    t = Tree(nwkFile, format = 1)\n",
    "\n",
    "    data[\"totalCells\"] = data.sum(axis = 1)\n",
    "    colNames = data.columns[0:(data.shape[1]-1)].values\n",
    "    mCells = data[\"totalCells\"].max()\n",
    "\n",
    "    ts = TreeStyle()\n",
    "    ts.layout_fn = cell_state_mylayout\n",
    "    ts.show_leaf_name = False\n",
    "    ts.show_branch_length = False\n",
    "    ts.allow_face_overlap = True\n",
    "    #ts.min_leaf_separation = 0\n",
    "    ts.mode = \"c\"\n",
    "    ts.arc_start = 90\n",
    "    ts.arc_span = 340\n",
    "    ts.show_scale = False\n",
    "\n",
    "    t.render(file_name = outfile, w = outSizeLen, h = outSizeHeight, units = \"in\", tree_style = ts)"
   ]
  },
  {
   "cell_type": "markdown",
   "id": "f45b25ca",
   "metadata": {},
   "source": [
    "# Plot trees with the timepoints as pies on each node"
   ]
  },
  {
   "cell_type": "code",
   "execution_count": 39,
   "id": "9b472677",
   "metadata": {},
   "outputs": [],
   "source": [
    "def timepoint_mylayout(node):\n",
    "    # color the leaves\n",
    "    if node.is_leaf():\n",
    "        color = stateDict[dataState.columns[dataState.loc[node.name,:] == 1][0]]\n",
    "        add_face_to_node(faces.RectFace(3,1, color, color), node, column = 0, aligned = True)\n",
    "    # color the nodes\n",
    "    else:\n",
    "        cvals = data.loc[node.name, colNames].values\n",
    "        totalCells = float(cvals.sum())\n",
    "        if totalCells == 0:\n",
    "            print(node.name)\n",
    "        pcts = (cvals / totalCells) * 100\n",
    "        idx = np.nonzero(pcts)\n",
    "        apct = [pcts[i] for i in idx[0]]\n",
    "        acol = [colorDict[colNames[i]] for i in idx[0]]\n",
    "        # scale size to total cells\n",
    "        #pSize = mCells / 100.\n",
    "        #pSize = np.log2(totalCells+(mCells/1000.))*0.5\n",
    "        pSize = np.log2(totalCells) #+(mCells/100.)) # works well\n",
    "        pSize = 3 \n",
    "        #pSize = np.log2(totalCells+0.1)\n",
    "        if pSize<1:\n",
    "            pSize=1\n",
    "\n",
    "        if not node.is_root(): \n",
    "        # PieChartFace(percents,width,height,colors,line_color) \n",
    "            C = faces.PieChartFace(apct, colors = acol, width = pSize, height = pSize)\n",
    "            C.border.width = None\n",
    "            C.opacity = 0.8\n",
    "            #faces.add_face_to_node(C,node,0,position=\"branch-bottom\") # opt1: branch bottom\n",
    "            faces.add_face_to_node(C, node, position=\"float\", column=0) # opt2: float\n",
    "\n",
    "    #daughters = node.children\n",
    "    #for d in daughters:\n",
    "        #dcol = lentiDict[dataLenti.loc[d.name,:].idxmax()]\n",
    "        #nst1 = NodeStyle()\n",
    "        #nst1[\"bgcolor\"] = dcol\n",
    "        #d.set_style(nst1)\n",
    "\n",
    "    node.img_style[\"size\"] = 0"
   ]
  },
  {
   "cell_type": "code",
   "execution_count": 45,
   "id": "1416c613",
   "metadata": {},
   "outputs": [],
   "source": [
    "for barcode in barcodes:\n",
    "    nwkFile = '/Genomics/chanlab/blaw/TLS/data/explant/lineage/3_lineage_reconstruction/{}/120_144/hybrid/{}_120_144_hybrid_newick_noMutationlessEdges_Labeled.nwk'.format(barcode, barcode)\n",
    "\n",
    "    clusterFile = '/Genomics/chanlab/blaw/TLS/data/explant/lineage/3_lineage_reconstruction/{}/120_144/hybrid/{}_120_144_hybrid_cell_state_node_table.txt'.format(barcode, barcode)\n",
    "    colorDictFile = '/Genomics/chanlab/blaw/TLS/sandbox/20211102_clusterColorsTLSCL.p'\n",
    "\n",
    "    timepointFile = '/Genomics/chanlab/blaw/TLS/data/explant/lineage/3_lineage_reconstruction/{}/120_144/hybrid/{}_120_144_hybrid_timepoint_node_table.txt'.format(barcode, barcode)\n",
    "\n",
    "    outfile = '/Genomics/chanlab/blaw/TLS/data/explant/lineage/4_tree_plots/timepoint_pie/{}_120_144_hybrid_timepoint_pies.pdf'.format(barcode)\n",
    "    outSizeLen = 80\n",
    "    outSizeHeight = 80\n",
    "\n",
    "    data = pd.read_csv(timepointFile, sep='\\t', index_col = 0)\n",
    "    data.columns = [i[2:-2] for i in data.columns]\n",
    "    colorDict = {'120h':'Red', '144h':'Black'}\n",
    "\n",
    "    # import custom colormap for each cluster\n",
    "    colorDictFile = \"/Genomics/chanlab/mchan/Adriano/TLS/TLS_TLSCL/20211102_clusterColorsTLSCL.p\"\n",
    "    with open(colorDictFile,'rb') as fp:\n",
    "        stateDict = pickle.load(fp)\n",
    "\n",
    "    # import timepoints\n",
    "    dataState = pd.read_csv(clusterFile, sep='\\t', index_col = 0)\n",
    "    dataState.columns = [i[2:-2] for i in dataState.columns]\n",
    "\n",
    "    t = Tree(nwkFile, format = 1)\n",
    "\n",
    "    data[\"totalCells\"] = data.sum(axis = 1)\n",
    "    colNames = data.columns[0:(data.shape[1]-1)].values\n",
    "    mCells = data[\"totalCells\"].max()\n",
    "\n",
    "    ts = TreeStyle()\n",
    "    ts.layout_fn = timepoint_mylayout\n",
    "    ts.show_leaf_name = False\n",
    "    ts.show_branch_length = False\n",
    "    ts.allow_face_overlap = True\n",
    "    #ts.min_leaf_separation = 0\n",
    "    ts.mode = \"c\"\n",
    "    ts.arc_start = 90\n",
    "    ts.arc_span = 340\n",
    "    ts.show_scale = False\n",
    "\n",
    "    t.render(file_name = outfile, w = outSizeLen, h = outSizeHeight, units = \"in\", tree_style = ts)"
   ]
  }
 ],
 "metadata": {
  "kernelspec": {
   "display_name": "Python 3 (ipykernel)",
   "language": "python",
   "name": "python3"
  },
  "language_info": {
   "codemirror_mode": {
    "name": "ipython",
    "version": 3
   },
   "file_extension": ".py",
   "mimetype": "text/x-python",
   "name": "python",
   "nbconvert_exporter": "python",
   "pygments_lexer": "ipython3",
   "version": "3.9.11"
  }
 },
 "nbformat": 4,
 "nbformat_minor": 5
}
