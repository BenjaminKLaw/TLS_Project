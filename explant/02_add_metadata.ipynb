{
 "cells": [
  {
   "cell_type": "markdown",
   "id": "3f0d5796",
   "metadata": {},
   "source": [
    "# Info\n",
    "In this script I will use the multiseq information to combine the allele tables and add metadata to prepare for the tree reconstruction steps\n",
    "\n",
    "I will do the following steps:\n",
    "- combine the allele tables for the 3 datasets (changing the cellBC Id to incorperate the dataset name)\n",
    "- add the multiseq metadata\n",
    "- add timepoint metadata\n",
    "- Look at QC for the multiseq / timepoints\n",
    "\n",
    "This will allow me to split the allele table into the following allele tables when doing lineage reconstruction. For each barcode I will reconstruct the following trees:\n",
    "- 120h only\n",
    "- 144h only\n",
    "- both\n",
    "\n",
    "Across 6 barcodes, this will result in 18 trees to look at"
   ]
  },
  {
   "cell_type": "code",
   "execution_count": 27,
   "id": "ff0b18e7",
   "metadata": {},
   "outputs": [],
   "source": [
    "import sys\n",
    "import os\n",
    "import pandas as pd\n",
    "import numpy as np\n",
    "import cassiopeia as cas\n",
    "import matplotlib.pyplot as plt\n",
    "import scipy\n",
    "import pickle"
   ]
  },
  {
   "cell_type": "code",
   "execution_count": 2,
   "id": "4fdfb3e4",
   "metadata": {},
   "outputs": [],
   "source": [
    "output_dir = '/Genomics/chanlab/blaw/TLS/data/explant/lineage/2_add_metadata/'"
   ]
  },
  {
   "cell_type": "code",
   "execution_count": 3,
   "id": "3e2e1322",
   "metadata": {},
   "outputs": [],
   "source": [
    "explant_allele_table = pd.read_csv('/Genomics/chanlab/blaw/TLS/data/explant/lineage/1_preprocessing/PZ-2594_tracer_explant/allele_table_filtered.txt', sep='\\t', usecols = ['cellBC', 'intBC', 'r1', 'r2', 'r3', 'allele', 'lineageGrp', 'readCount', 'UMI'])\n",
    "outgrowth_1_allele_table = pd.read_csv('/Genomics/chanlab/blaw/TLS/data/explant/lineage/1_preprocessing/PZ-2594_tracer_outgrowth_1/allele_table_filtered.txt', sep='\\t', usecols = ['cellBC', 'intBC', 'r1', 'r2', 'r3', 'allele', 'lineageGrp', 'readCount', 'UMI'])\n",
    "outgrowth_2_allele_table = pd.read_csv('/Genomics/chanlab/blaw/TLS/data/explant/lineage/1_preprocessing/PZ-2594_tracer_outgrowth_2/allele_table_filtered.txt', sep='\\t', usecols = ['cellBC', 'intBC', 'r1', 'r2', 'r3', 'allele', 'lineageGrp', 'readCount', 'UMI'])\n",
    "\n",
    "explant_multiSeq_BC = pd.read_csv('/Genomics/chanlab/blaw/TLS/metadata/AM-DNA-341_MultiSeqBC.tsv', sep='\\t')\n",
    "outgrowth_1_multiSeq_BC = pd.read_csv('/Genomics/chanlab/blaw/TLS/metadata/AM-DNA-342_MultiSeqBC.tsv', sep='\\t')\n",
    "outgrowth_2_multiSeq_BC = pd.read_csv('/Genomics/chanlab/blaw/TLS/metadata/AM-DNA-343_MultiSeqBC.tsv', sep='\\t')"
   ]
  },
  {
   "cell_type": "code",
   "execution_count": 4,
   "id": "22a72cde",
   "metadata": {},
   "outputs": [],
   "source": [
    "# Make a combined cell state table for the entire explant experiment\n",
    "explant_cell_state = pd.read_csv('/Genomics/chanlab/blaw/TLS/metadata/AM-RNA-929_cellBC_cellState.tsv', sep='\\t')\n",
    "outgrowth_1_cell_state = pd.read_csv('/Genomics/chanlab/blaw/TLS/metadata/AM-RNA-930_cellBC_cellState.tsv', sep='\\t')\n",
    "outgrowth_2_cell_state = pd.read_csv('/Genomics/chanlab/blaw/TLS/metadata/AM-RNA-931_cellBC_cellState.tsv', sep='\\t')\n",
    "\n",
    "explant_cell_state['cellBC'] = ['Tracer_Explant_' + i[:-2] for i in explant_cell_state['cellBC']]\n",
    "explant_cell_state['timepoint'] = '120'\n",
    "outgrowth_1_cell_state['timepoint'] = '144'\n",
    "outgrowth_2_cell_state['timepoint'] = '144'\n",
    "\n",
    "outgrowth_1_cell_state['cellBC'] = [i[:-2] for i in outgrowth_1_cell_state['cellBC']]\n",
    "outgrowth_2_cell_state['cellBC'] = [i[:-2] for i in outgrowth_2_cell_state['cellBC']]\n",
    "\n",
    "total_cell_state = pd.concat([explant_cell_state, outgrowth_1_cell_state, outgrowth_2_cell_state])\n",
    "total_cell_state.to_csv('/Genomics/chanlab/blaw/TLS/metadata/TLS_Explant_Total_cellBC_cellState.tst', sep = '\\t', index= False)"
   ]
  },
  {
   "cell_type": "markdown",
   "id": "8a82117f",
   "metadata": {},
   "source": [
    "# Merge the allele tables with the barcode tables"
   ]
  },
  {
   "cell_type": "code",
   "execution_count": 5,
   "id": "0400b1c2",
   "metadata": {},
   "outputs": [],
   "source": [
    "explant_allele_table = explant_allele_table.merge(explant_multiSeq_BC, left_on='cellBC', right_on='cellBC')\n",
    "outgrowth_1_allele_table = outgrowth_1_allele_table.merge(outgrowth_1_multiSeq_BC, left_on='cellBC', right_on='cellBC')\n",
    "outgrowth_2_allele_table = outgrowth_2_allele_table.merge(outgrowth_2_multiSeq_BC, left_on='cellBC', right_on='cellBC')"
   ]
  },
  {
   "cell_type": "code",
   "execution_count": 9,
   "id": "4259b6fa",
   "metadata": {},
   "outputs": [],
   "source": [
    "# Record counts of edited and unedited cells per experiment\n",
    "multiseq_bar_counts_df = pd.DataFrame(index = ['explant_edited', 'explant_unedited', 'out_1_edited', 'out_1_unedited', 'out_2_edited', 'out_2_unedited'], columns = ['Bar1', 'Bar2', 'Bar3', 'Bar4', 'Bar5', 'Bar6', 'Doublet', 'Negative'])\n",
    "\n",
    "# record the edited and unedited cells in the explant (120h)\n",
    "for i in multiseq_bar_counts_df.columns:\n",
    "    temp_allele_table = explant_allele_table[explant_allele_table['final.calls.rescued'] == i].copy()\n",
    "    \n",
    "    edited_cellBC = set()\n",
    "    unedited_cellBC = set()\n",
    "    \n",
    "    for cellBC in temp_allele_table['cellBC'].unique():\n",
    "        bad = True\n",
    "        for allele in temp_allele_table[temp_allele_table['cellBC'] == cellBC]['allele']:\n",
    "            if allele != '[None][None][None]':\n",
    "                bad = False\n",
    "\n",
    "        if bad:\n",
    "            unedited_cellBC.add(cellBC)\n",
    "        else:\n",
    "            edited_cellBC.add(cellBC)\n",
    "            \n",
    "    multiseq_bar_counts_df.loc['explant_edited', i] = len(edited_cellBC)\n",
    "    multiseq_bar_counts_df.loc['explant_unedited', i] = len(unedited_cellBC)\n",
    "    \n",
    "# record the edited and unedited cells in the outgrowth sample 1 (144h)\n",
    "for i in multiseq_bar_counts_df.columns:\n",
    "    temp_allele_table = outgrowth_1_allele_table[outgrowth_1_allele_table['final.calls.rescued'] == i].copy()\n",
    "    \n",
    "    edited_cellBC = set()\n",
    "    unedited_cellBC = set()\n",
    "    \n",
    "    for cellBC in temp_allele_table['cellBC'].unique():\n",
    "        bad = True\n",
    "        for allele in temp_allele_table[temp_allele_table['cellBC'] == cellBC]['allele']:\n",
    "            if allele != '[None][None][None]':\n",
    "                bad = False\n",
    "\n",
    "        if bad:\n",
    "            unedited_cellBC.add(cellBC)\n",
    "        else:\n",
    "            edited_cellBC.add(cellBC)\n",
    "            \n",
    "    multiseq_bar_counts_df.loc['out_1_edited', i] = len(edited_cellBC)\n",
    "    multiseq_bar_counts_df.loc['out_1_unedited', i] = len(unedited_cellBC)\n",
    "    \n",
    "# record the edited and unedited cells in the outgrowth sample 2 (144h)\n",
    "for i in multiseq_bar_counts_df.columns:\n",
    "    temp_allele_table = outgrowth_2_allele_table[outgrowth_2_allele_table['final.calls.rescued'] == i].copy()\n",
    "    \n",
    "    edited_cellBC = set()\n",
    "    unedited_cellBC = set()\n",
    "    \n",
    "    for cellBC in temp_allele_table['cellBC'].unique():\n",
    "        bad = True\n",
    "        for allele in temp_allele_table[temp_allele_table['cellBC'] == cellBC]['allele']:\n",
    "            if allele != '[None][None][None]':\n",
    "                bad = False\n",
    "\n",
    "        if bad:\n",
    "            unedited_cellBC.add(cellBC)\n",
    "        else:\n",
    "            edited_cellBC.add(cellBC)\n",
    "            \n",
    "    multiseq_bar_counts_df.loc['out_2_edited', i] = len(edited_cellBC)\n",
    "    multiseq_bar_counts_df.loc['out_2_unedited', i] = len(unedited_cellBC)"
   ]
  },
  {
   "cell_type": "code",
   "execution_count": 12,
   "id": "ddfcaeef",
   "metadata": {},
   "outputs": [],
   "source": [
    "#fig, ax = plt.subplots()\n",
    "multiseq_bar_counts_df.T.plot.bar()\n",
    "plt.legend(bbox_to_anchor=(1, 1.05))\n",
    "plt.title('Tree Cell Counts per Barcode')\n",
    "plt.ylabel('# of Cells')\n",
    "plt.tight_layout()\n",
    "plt.savefig(output_dir + 'cell_counts_per_barcode.pdf', dpi = 300)\n",
    "#plt.show()\n",
    "plt.close()"
   ]
  },
  {
   "cell_type": "markdown",
   "id": "de6512f4",
   "metadata": {},
   "source": [
    "# Change the cellBCs for each dataset so that they can be merged"
   ]
  },
  {
   "cell_type": "code",
   "execution_count": 13,
   "id": "4f8ab3b7",
   "metadata": {},
   "outputs": [],
   "source": [
    "explant_allele_table['cellBC'] = ['Tracer_Explant_' + i for i in explant_allele_table['cellBC']]\n",
    "outgrowth_1_allele_table['cellBC'] = ['Tracer_Outgrowth_1_' + i for i in outgrowth_1_allele_table['cellBC']]\n",
    "outgrowth_2_allele_table['cellBC'] = ['Tracer_Outgrowth_2_' + i for i in outgrowth_2_allele_table['cellBC']]"
   ]
  },
  {
   "cell_type": "code",
   "execution_count": 14,
   "id": "c56c78ec",
   "metadata": {},
   "outputs": [],
   "source": [
    "explant_allele_table['Timepoint'] = '120h'\n",
    "outgrowth_1_allele_table['Timepoint'] = '144h'\n",
    "outgrowth_2_allele_table['Timepoint'] = '144h'"
   ]
  },
  {
   "cell_type": "code",
   "execution_count": 15,
   "id": "66478fa8",
   "metadata": {},
   "outputs": [],
   "source": [
    "explant_allele_table['orig.ident'] = 'explant'\n",
    "outgrowth_1_allele_table['orig.ident'] = 'outgrowth_1'\n",
    "outgrowth_2_allele_table['orig.ident'] = 'outgrowth_2'"
   ]
  },
  {
   "cell_type": "code",
   "execution_count": 17,
   "id": "24962b32",
   "metadata": {},
   "outputs": [],
   "source": [
    "merged_allele_table = pd.concat([explant_allele_table, outgrowth_1_allele_table, outgrowth_2_allele_table])\n",
    "merged_allele_table['finalCalls'] = merged_allele_table['final.calls.rescued']\n",
    "merged_allele_table.to_csv(output_dir + 'merged_allele_table_with_metadata.txt', sep = '\\t')"
   ]
  },
  {
   "cell_type": "code",
   "execution_count": 18,
   "id": "7ca4eb2b",
   "metadata": {},
   "outputs": [],
   "source": [
    "merged_allele_table = pd.read_csv(output_dir + 'merged_allele_table_with_metadata.txt', sep = '\\t', index_col = 0)"
   ]
  },
  {
   "cell_type": "markdown",
   "id": "bd76fb70",
   "metadata": {},
   "source": [
    "# Count the number of unique indels and alleles per experiment"
   ]
  },
  {
   "cell_type": "code",
   "execution_count": 20,
   "id": "97640cef",
   "metadata": {},
   "outputs": [],
   "source": [
    "tableFiltered = pd.read_csv('/Genomics/chanlab/blaw/TLS/data/explant/lineage/3_lineage_reconstruction/allele_table_filtered.txt', sep = '\\t', index_col = 0)"
   ]
  },
  {
   "cell_type": "code",
   "execution_count": 21,
   "id": "a1e7c04c",
   "metadata": {},
   "outputs": [],
   "source": [
    "indels = {}\n",
    "unique_indels = {}\n",
    "\n",
    "for barcode in ['Bar1', 'Bar2', 'Bar3', 'Bar4', 'Bar5', 'Bar6']:\n",
    "    for ID in tableFiltered['orig.ident'].unique():\n",
    "        if ID == 'explant':\n",
    "            name = '{}_{}'.format(barcode, ID)\n",
    "        else:\n",
    "            name = '{}_outgrowth'.format(barcode)\n",
    "        \n",
    "        temp = tableFiltered[(tableFiltered['finalCalls'] == barcode) & (tableFiltered['orig.ident'] == ID)].copy()\n",
    "        indels[name] = []\n",
    "        unique_indels[name] = set()\n",
    "        \n",
    "        for i in temp['cellBC'].unique():\n",
    "            count = 0\n",
    "\n",
    "            for col in ['r1', 'r2', 'r3']:\n",
    "                for indel in temp[temp['cellBC'] == i][col]:\n",
    "                    unique_indels[name].add(indel)\n",
    "                    if indel != '[None]':\n",
    "                        count += 1\n",
    "                        \n",
    "            indels[name].append(count)"
   ]
  },
  {
   "cell_type": "code",
   "execution_count": 28,
   "id": "06d62a24",
   "metadata": {},
   "outputs": [],
   "source": [
    "with open(output_dir + 'indels_per_barcode.pickle', 'wb') as handle:\n",
    "    pickle.dump(indels, handle, protocol=pickle.HIGHEST_PROTOCOL)\n",
    "    \n",
    "with open(output_dir + 'unique_indels_per_barcode.pickle', 'wb') as handle:\n",
    "    pickle.dump(unique_indels, handle, protocol=pickle.HIGHEST_PROTOCOL)"
   ]
  }
 ],
 "metadata": {
  "kernelspec": {
   "display_name": "Python 3 (ipykernel)",
   "language": "python",
   "name": "python3"
  },
  "language_info": {
   "codemirror_mode": {
    "name": "ipython",
    "version": 3
   },
   "file_extension": ".py",
   "mimetype": "text/x-python",
   "name": "python",
   "nbconvert_exporter": "python",
   "pygments_lexer": "ipython3",
   "version": "3.9.11"
  }
 },
 "nbformat": 4,
 "nbformat_minor": 5
}
