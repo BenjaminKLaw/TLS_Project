{
 "cells": [
  {
   "cell_type": "code",
   "execution_count": 1,
   "id": "70bc6d57",
   "metadata": {},
   "outputs": [],
   "source": [
    "%matplotlib inline\n",
    "import numpy as np\n",
    "import pandas as pd\n",
    "import scipy as sp\n",
    "import scanpy as sc\n",
    "import cassiopeia as cas\n",
    "import seaborn as sns\n",
    "import statistics as stats\n",
    "import collections\n",
    "import pickle\n",
    "import scipy.sparse as sp_sparse\n",
    "import scipy.io\n",
    "import tables\n",
    "import csv\n",
    "import math\n",
    "\n",
    "import matplotlib\n",
    "from matplotlib.pyplot import rc_context\n",
    "from matplotlib import pyplot as plt\n",
    "from matplotlib.backends.backend_pdf import PdfPages\n",
    "from itertools import combinations\n",
    "from itertools import product\n",
    "from pylab import *\n",
    "import ete3\n",
    "from ete3 import Tree\n",
    "from typing import Tuple"
   ]
  },
  {
   "cell_type": "code",
   "execution_count": 2,
   "id": "bcf29ac4",
   "metadata": {},
   "outputs": [],
   "source": [
    "clusterColorsFile = \"/Genomics/chanlab/mchan/Adriano/TLS/TLS_TLSCL/20211102_clusterColorsTLSCL.p\"\n",
    "with open(clusterColorsFile,'rb') as fp:\n",
    "    colorDict = pickle.load(fp)"
   ]
  },
  {
   "cell_type": "markdown",
   "id": "ebc49913",
   "metadata": {},
   "source": [
    "# Label the nodes in the tree"
   ]
  },
  {
   "cell_type": "code",
   "execution_count": 3,
   "id": "3b990443",
   "metadata": {},
   "outputs": [],
   "source": [
    "# Label internal nodes\n",
    "def nameInteriorNodes(nwkFile,outnwkFile):\n",
    "\n",
    "    t = Tree(nwkFile,format=1)\n",
    "    labelID = 0\n",
    "\n",
    "    for node in t.traverse():\n",
    "        if node.is_leaf() == False:\n",
    "            node.name = \"node{}\".format(labelID)\n",
    "            labelID = labelID + 1\n",
    "\n",
    "    t.write(format=8,outfile=outnwkFile)"
   ]
  },
  {
   "cell_type": "code",
   "execution_count": 4,
   "id": "7133087d",
   "metadata": {},
   "outputs": [],
   "source": [
    "def add_node0(nwkFile, outnwkFile):\n",
    "    infile = open(nwkFile, 'r')\n",
    "    outfile = open(outnwkFile, 'w')\n",
    "    \n",
    "    outfile.write(infile.readline()[:-1])\n",
    "    outfile.write('node0;')\n",
    "          \n",
    "    infile.close()\n",
    "    outfile.close()"
   ]
  },
  {
   "cell_type": "code",
   "execution_count": 5,
   "id": "0887ee13",
   "metadata": {},
   "outputs": [],
   "source": [
    "def nodeClusterProfile(node, data, colName, df):\n",
    "    if node.is_leaf():\n",
    "        clusterID = data.loc[node.name,colName]\n",
    "        df.loc[node.name,clusterID] = 1\n",
    "        return 1\n",
    "    else:\n",
    "        daughters = node.children\n",
    "        nodeNames = []\n",
    "        for d in daughters:\n",
    "            nodeClusterProfile(d,data,colName,df)\n",
    "            nodeNames.append(d.name)\n",
    "        df.loc[node.name,:] = df.loc[nodeNames,:].sum()\n",
    "        return 1"
   ]
  },
  {
   "cell_type": "code",
   "execution_count": 6,
   "id": "1871c6bb",
   "metadata": {},
   "outputs": [],
   "source": [
    "def makeNodeMetaTable(nwkFile, metaFile, colName, outMetaFile):\n",
    "\n",
    "    t = Tree(nwkFile,format=1)\n",
    "    \n",
    "    # get node names from tree;\n",
    "    nodeNameList = []\n",
    "    for node in t.traverse():\n",
    "        nodeNameList.append(node.name)\n",
    "\n",
    "    data = pd.read_csv(metaFile, sep='\\t')\n",
    "    data.set_index(\"cellBC\", inplace=True)\n",
    "\n",
    "    # best to initialize data frame with rows and columns when possible\n",
    "    # (try not to grow dataframes)\n",
    "    #clusterNames = data[colName].unique()\n",
    "    clusterNames = [\"['Somite']\", \"['Somite-1']\", \"['SomiteSclero']\", \"['NeuralTube1']\", \"['Somite0']\", \"['NeuralTube2']\", \n",
    "                    \"['NMPs']\", \"['SomiteDermo']\", \"['Unknown']\", \"['Endothelial']\", \"['pPSM']\", \"['aPSM']\", \"['PCGLC']\",\n",
    "                    \"['Endoderm']\"]\n",
    "\n",
    "    df_meta = pd.DataFrame(columns = clusterNames, index = nodeNameList)\n",
    "    df_meta.fillna(0, inplace = True)\n",
    "    df_meta.index.name = \"cellBC\"\n",
    "\n",
    "    nodeClusterProfile(t.get_tree_root(), data, colName, df_meta)\n",
    "    df_meta.to_csv(outMetaFile, sep=\"\\t\")"
   ]
  },
  {
   "cell_type": "code",
   "execution_count": 7,
   "id": "c8e72bfb",
   "metadata": {},
   "outputs": [],
   "source": [
    "def maxDepth(node):\n",
    "    '''\n",
    "    Input:\n",
    "        - a node in an ete tree\n",
    "    returns:\n",
    "        - The max depth of any branch in that node\n",
    "    '''\n",
    "    if node.is_leaf():\n",
    "        return 0\n",
    "    children_depths = []\n",
    "    \n",
    "    for child in node.children:\n",
    "        test = maxDepth(child)\n",
    "        \n",
    "        children_depths.append(test)\n",
    "        \n",
    "    return max(children_depths) + 1"
   ]
  },
  {
   "cell_type": "code",
   "execution_count": 8,
   "id": "da25eb2b",
   "metadata": {},
   "outputs": [],
   "source": [
    "nameInteriorNodes('/Genomics/chanlab/blaw/TLS/data/AM-DNA-098/lineage/2_lineage_reconstruction/neighbor/AM-DNA-098_neighbor_newick_noMutationlessEdges.txt',\n",
    "                  '/Genomics/chanlab/blaw/TLS/data/AM-DNA-098/lineage/2_lineage_reconstruction/neighbor/TLS2_node0_missing.txt')\n",
    "\n",
    "add_node0('/Genomics/chanlab/blaw/TLS/data/AM-DNA-098/lineage/2_lineage_reconstruction/neighbor/TLS2_node0_missing.txt',\n",
    "         '/Genomics/chanlab/blaw/TLS/data/AM-DNA-098/lineage/2_lineage_reconstruction/neighbor/AM-DNA-098_neighbor_newick_noMutationlessEdges_Labeled.nwk')"
   ]
  },
  {
   "cell_type": "code",
   "execution_count": null,
   "id": "d0138d35",
   "metadata": {},
   "outputs": [],
   "source": [
    "nameInteriorNodes(TLS2_loc, '/Genomics/chanlab/blaw/TLS/data/AM-DNA-098/lineage/2_lineage_reconstruction/TLS2_node0_missing.txt')\n",
    "\n",
    "add_node0('/Genomics/chanlab/blaw/TLS/data/AM-DNA-098/lineage/2_lineage_reconstruction/TLS2_node0_missing.txt',\n",
    "         '/Genomics/chanlab/blaw/TLS/data/AM-DNA-098/lineage/2_lineage_reconstruction/AM-DNA-098_hybrid_newick_noMutationlessEdges_Labeled.nwk')"
   ]
  },
  {
   "cell_type": "code",
   "execution_count": 8,
   "id": "af085681",
   "metadata": {},
   "outputs": [],
   "source": [
    "makeNodeMetaTable('/Genomics/chanlab/blaw/TLS/data/AM-DNA-098/lineage/2_lineage_reconstruction/AM-DNA-098_hybrid_newick_noMutationlessEdges_Labeled.nwk',\n",
    "                  '/Genomics/chanlab/blaw/TLS/data/AM-DNA-098/lineage/2_lineage_reconstruction/AM-DNA-098_metadata.txt',\n",
    "                  'cell_state',\n",
    "                  '/Genomics/chanlab/blaw/TLS/data/AM-DNA-098/lineage/2_lineage_reconstruction/AM-DNA-098_clusterTable.txt')"
   ]
  },
  {
   "cell_type": "markdown",
   "id": "a90fad62",
   "metadata": {},
   "source": [
    "# Load the data"
   ]
  },
  {
   "cell_type": "code",
   "execution_count": 3,
   "id": "d2021b19",
   "metadata": {},
   "outputs": [],
   "source": [
    "# Load the allele table, tree, and lineage table for TLS1\n",
    "TLS2_allele_table = pd.read_csv('/Genomics/chanlab/blaw/TLS/data/AM-DNA-098/lineage/2_lineage_reconstruction/allele_table.txt', sep='\\t')\n",
    "\n",
    "TLS2_loc = '/Genomics/chanlab/blaw/TLS/data/AM-DNA-098/lineage/2_lineage_reconstruction/AM-DNA-098_hybrid_newick_noMutationlessEdges_Labeled.nwk'\n",
    "t = Tree(TLS2_loc, format=1)\n",
    "\n",
    "lineage_table = pd.read_csv('/Genomics/chanlab/blaw/TLS/data/AM-DNA-098/lineage/2_lineage_reconstruction/AM-DNA-098_lineage_table.txt', sep = '\\t')"
   ]
  },
  {
   "cell_type": "code",
   "execution_count": 4,
   "id": "bfee2475",
   "metadata": {},
   "outputs": [],
   "source": [
    "# Load the cell states, single cell RNA seq, and cDNA data for TLS1\n",
    "cell_state_table = pd.read_csv('/Genomics/chanlab/blaw/TLS/LineageTracer/scRNAseq/TLS_120h_2_cellBC_cellState.tsv', sep='\\t')\n",
    "\n",
    "TLS2 = sc.read_h5ad('/Genomics/chanlab/blaw/TLS/raw_data/scRNA/TLS12/TLS_120h_2.h5ad')"
   ]
  },
  {
   "cell_type": "code",
   "execution_count": 5,
   "id": "b90bebc9",
   "metadata": {},
   "outputs": [],
   "source": [
    "# Load the cassiopeia Tree\n",
    "tree_meta = pd.read_csv('/Genomics/chanlab/blaw/TLS/data/AM-DNA-098/lineage/2_lineage_reconstruction/AM-DNA-098_metadata.txt', sep='\\t')\n",
    "character_matrix = pd.read_csv('/Genomics/chanlab/blaw/TLS/data/AM-DNA-098/lineage/2_lineage_reconstruction/AM-DNA-098_character_matrix.txt', sep='\\t', index_col = 0)\n",
    "\n",
    "prior_file = '/Genomics/chanlab/blaw/TLS/data/AM-DNA-098/lineage/2_lineage_reconstruction/AM-DNA-098_priors.pickle'\n",
    "with open(prior_file, 'rb') as f:\n",
    "    priors = pickle.load(f)\n",
    "\n",
    "TLS2_tree = cas.data.CassiopeiaTree(character_matrix=character_matrix, priors=priors, tree = t)\n",
    "\n",
    "missing_proportion = (character_matrix == -1).sum(axis=0) / character_matrix.shape[0]\n",
    "uncut_proportion = (character_matrix == 0).sum(axis=0) / character_matrix.shape[0]\n",
    "n_unique_states = character_matrix.apply(lambda x: len(np.unique(x[(x != 0) & (x != -1)])), axis=0)\n",
    "\n",
    "character_meta = pd.DataFrame([missing_proportion, uncut_proportion, n_unique_states], index = ['missing_prop', 'uncut_prop', 'n_unique_states']).T\n",
    "TLS2_tree.cell_meta = tree_meta\n",
    "TLS2_tree.character_meta = character_meta\n",
    "TLS2_tree.parameters['stochastic_missing_probability'] = 0.1"
   ]
  },
  {
   "cell_type": "code",
   "execution_count": 6,
   "id": "cca16f6c",
   "metadata": {},
   "outputs": [],
   "source": [
    "intBCs = np.unique(TLS2_allele_table['intBC'])\n",
    "cellBCs = np.unique(TLS2_allele_table['cellBC'])\n",
    "leaves = [i.name for i in t.get_leaves()]"
   ]
  },
  {
   "cell_type": "code",
   "execution_count": 8,
   "id": "27cb4dcb",
   "metadata": {},
   "outputs": [],
   "source": [
    "indels = TLS2_allele_table['r1'].to_list() + TLS2_allele_table['r2'].to_list() + TLS2_allele_table['r3'].to_list()"
   ]
  },
  {
   "cell_type": "code",
   "execution_count": 10,
   "id": "10819074",
   "metadata": {},
   "outputs": [
    {
     "data": {
      "text/plain": [
       "582"
      ]
     },
     "execution_count": 10,
     "metadata": {},
     "output_type": "execute_result"
    }
   ],
   "source": [
    "len(np.unique(indels))"
   ]
  },
  {
   "cell_type": "code",
   "execution_count": 14,
   "id": "ebf07087",
   "metadata": {},
   "outputs": [
    {
     "data": {
      "text/html": [
       "<div>\n",
       "<style scoped>\n",
       "    .dataframe tbody tr th:only-of-type {\n",
       "        vertical-align: middle;\n",
       "    }\n",
       "\n",
       "    .dataframe tbody tr th {\n",
       "        vertical-align: top;\n",
       "    }\n",
       "\n",
       "    .dataframe thead th {\n",
       "        text-align: right;\n",
       "    }\n",
       "</style>\n",
       "<table border=\"1\" class=\"dataframe\">\n",
       "  <thead>\n",
       "    <tr style=\"text-align: right;\">\n",
       "      <th></th>\n",
       "      <th>cellBC</th>\n",
       "      <th>intBC</th>\n",
       "      <th>allele</th>\n",
       "      <th>r1</th>\n",
       "      <th>r2</th>\n",
       "      <th>r3</th>\n",
       "      <th>lineageGrp</th>\n",
       "      <th>UMI</th>\n",
       "      <th>readCount</th>\n",
       "      <th>cell_state</th>\n",
       "      <th>predicted.id</th>\n",
       "    </tr>\n",
       "  </thead>\n",
       "  <tbody>\n",
       "    <tr>\n",
       "      <th>0</th>\n",
       "      <td>AAACCCAAGCGACAGT-1</td>\n",
       "      <td>AACTATTACATATA</td>\n",
       "      <td>[None][168:1I]T[None]</td>\n",
       "      <td>[None]</td>\n",
       "      <td>[168:1I]T</td>\n",
       "      <td>[None]</td>\n",
       "      <td>1</td>\n",
       "      <td>1</td>\n",
       "      <td>12</td>\n",
       "      <td>Endoderm</td>\n",
       "      <td>Seurat_13</td>\n",
       "    </tr>\n",
       "    <tr>\n",
       "      <th>1</th>\n",
       "      <td>AAACCCAAGCGACAGT-1</td>\n",
       "      <td>ACTTCTGTAATGTG</td>\n",
       "      <td>[None][155:19D][None]</td>\n",
       "      <td>[None]</td>\n",
       "      <td>[155:19D]</td>\n",
       "      <td>[None]</td>\n",
       "      <td>1</td>\n",
       "      <td>240</td>\n",
       "      <td>1367</td>\n",
       "      <td>Endoderm</td>\n",
       "      <td>Seurat_13</td>\n",
       "    </tr>\n",
       "    <tr>\n",
       "      <th>2</th>\n",
       "      <td>AAACCCAAGCGACAGT-1</td>\n",
       "      <td>ATCCGACTTATATC</td>\n",
       "      <td>[None][None][None]</td>\n",
       "      <td>[None]</td>\n",
       "      <td>[None]</td>\n",
       "      <td>[None]</td>\n",
       "      <td>1</td>\n",
       "      <td>264</td>\n",
       "      <td>1409</td>\n",
       "      <td>Endoderm</td>\n",
       "      <td>Seurat_13</td>\n",
       "    </tr>\n",
       "    <tr>\n",
       "      <th>3</th>\n",
       "      <td>AAACCCAAGCGACAGT-1</td>\n",
       "      <td>CAGCACGGGGTGCG</td>\n",
       "      <td>[None][None][None]</td>\n",
       "      <td>[None]</td>\n",
       "      <td>[None]</td>\n",
       "      <td>[None]</td>\n",
       "      <td>1</td>\n",
       "      <td>246</td>\n",
       "      <td>1232</td>\n",
       "      <td>Endoderm</td>\n",
       "      <td>Seurat_13</td>\n",
       "    </tr>\n",
       "    <tr>\n",
       "      <th>4</th>\n",
       "      <td>AAACCCAAGCGACAGT-1</td>\n",
       "      <td>CTTAATTCGCATTT</td>\n",
       "      <td>[None][None][None]</td>\n",
       "      <td>[None]</td>\n",
       "      <td>[None]</td>\n",
       "      <td>[None]</td>\n",
       "      <td>1</td>\n",
       "      <td>273</td>\n",
       "      <td>1501</td>\n",
       "      <td>Endoderm</td>\n",
       "      <td>Seurat_13</td>\n",
       "    </tr>\n",
       "    <tr>\n",
       "      <th>...</th>\n",
       "      <td>...</td>\n",
       "      <td>...</td>\n",
       "      <td>...</td>\n",
       "      <td>...</td>\n",
       "      <td>...</td>\n",
       "      <td>...</td>\n",
       "      <td>...</td>\n",
       "      <td>...</td>\n",
       "      <td>...</td>\n",
       "      <td>...</td>\n",
       "      <td>...</td>\n",
       "    </tr>\n",
       "    <tr>\n",
       "      <th>35603</th>\n",
       "      <td>TTTGTTGTCGCCGAGT-1</td>\n",
       "      <td>CAGCACGGGGTGCG</td>\n",
       "      <td>[None][None][None]</td>\n",
       "      <td>[None]</td>\n",
       "      <td>[None]</td>\n",
       "      <td>[None]</td>\n",
       "      <td>1</td>\n",
       "      <td>225</td>\n",
       "      <td>1187</td>\n",
       "      <td>NeuralTube1</td>\n",
       "      <td>Seurat_9</td>\n",
       "    </tr>\n",
       "    <tr>\n",
       "      <th>35604</th>\n",
       "      <td>TTTGTTGTCGCCGAGT-1</td>\n",
       "      <td>CTTAATTCGCATTT</td>\n",
       "      <td>[None][None][None]</td>\n",
       "      <td>[None]</td>\n",
       "      <td>[None]</td>\n",
       "      <td>[None]</td>\n",
       "      <td>1</td>\n",
       "      <td>555</td>\n",
       "      <td>2838</td>\n",
       "      <td>NeuralTube1</td>\n",
       "      <td>Seurat_9</td>\n",
       "    </tr>\n",
       "    <tr>\n",
       "      <th>35605</th>\n",
       "      <td>TTTGTTGTCGCCGAGT-1</td>\n",
       "      <td>GTCAGAACTTCTCC</td>\n",
       "      <td>[None][None][None]</td>\n",
       "      <td>[None]</td>\n",
       "      <td>[None]</td>\n",
       "      <td>[None]</td>\n",
       "      <td>1</td>\n",
       "      <td>202</td>\n",
       "      <td>1004</td>\n",
       "      <td>NeuralTube1</td>\n",
       "      <td>Seurat_9</td>\n",
       "    </tr>\n",
       "    <tr>\n",
       "      <th>35606</th>\n",
       "      <td>TTTGTTGTCGCCGAGT-1</td>\n",
       "      <td>TAACTTTTGAGACA</td>\n",
       "      <td>[None][None][None]</td>\n",
       "      <td>[None]</td>\n",
       "      <td>[None]</td>\n",
       "      <td>[None]</td>\n",
       "      <td>1</td>\n",
       "      <td>8</td>\n",
       "      <td>34</td>\n",
       "      <td>NeuralTube1</td>\n",
       "      <td>Seurat_9</td>\n",
       "    </tr>\n",
       "    <tr>\n",
       "      <th>35607</th>\n",
       "      <td>TTTGTTGTCGCCGAGT-1</td>\n",
       "      <td>TTAACTGCCCGCTT</td>\n",
       "      <td>[None][None][None]</td>\n",
       "      <td>[None]</td>\n",
       "      <td>[None]</td>\n",
       "      <td>[None]</td>\n",
       "      <td>1</td>\n",
       "      <td>301</td>\n",
       "      <td>1527</td>\n",
       "      <td>NeuralTube1</td>\n",
       "      <td>Seurat_9</td>\n",
       "    </tr>\n",
       "  </tbody>\n",
       "</table>\n",
       "<p>35608 rows × 11 columns</p>\n",
       "</div>"
      ],
      "text/plain": [
       "                   cellBC           intBC                 allele      r1  \\\n",
       "0      AAACCCAAGCGACAGT-1  AACTATTACATATA  [None][168:1I]T[None]  [None]   \n",
       "1      AAACCCAAGCGACAGT-1  ACTTCTGTAATGTG  [None][155:19D][None]  [None]   \n",
       "2      AAACCCAAGCGACAGT-1  ATCCGACTTATATC     [None][None][None]  [None]   \n",
       "3      AAACCCAAGCGACAGT-1  CAGCACGGGGTGCG     [None][None][None]  [None]   \n",
       "4      AAACCCAAGCGACAGT-1  CTTAATTCGCATTT     [None][None][None]  [None]   \n",
       "...                   ...             ...                    ...     ...   \n",
       "35603  TTTGTTGTCGCCGAGT-1  CAGCACGGGGTGCG     [None][None][None]  [None]   \n",
       "35604  TTTGTTGTCGCCGAGT-1  CTTAATTCGCATTT     [None][None][None]  [None]   \n",
       "35605  TTTGTTGTCGCCGAGT-1  GTCAGAACTTCTCC     [None][None][None]  [None]   \n",
       "35606  TTTGTTGTCGCCGAGT-1  TAACTTTTGAGACA     [None][None][None]  [None]   \n",
       "35607  TTTGTTGTCGCCGAGT-1  TTAACTGCCCGCTT     [None][None][None]  [None]   \n",
       "\n",
       "              r2      r3  lineageGrp  UMI  readCount   cell_state predicted.id  \n",
       "0      [168:1I]T  [None]           1    1         12     Endoderm    Seurat_13  \n",
       "1      [155:19D]  [None]           1  240       1367     Endoderm    Seurat_13  \n",
       "2         [None]  [None]           1  264       1409     Endoderm    Seurat_13  \n",
       "3         [None]  [None]           1  246       1232     Endoderm    Seurat_13  \n",
       "4         [None]  [None]           1  273       1501     Endoderm    Seurat_13  \n",
       "...          ...     ...         ...  ...        ...          ...          ...  \n",
       "35603     [None]  [None]           1  225       1187  NeuralTube1     Seurat_9  \n",
       "35604     [None]  [None]           1  555       2838  NeuralTube1     Seurat_9  \n",
       "35605     [None]  [None]           1  202       1004  NeuralTube1     Seurat_9  \n",
       "35606     [None]  [None]           1    8         34  NeuralTube1     Seurat_9  \n",
       "35607     [None]  [None]           1  301       1527  NeuralTube1     Seurat_9  \n",
       "\n",
       "[35608 rows x 11 columns]"
      ]
     },
     "execution_count": 14,
     "metadata": {},
     "output_type": "execute_result"
    }
   ],
   "source": [
    "TLS2_allele_table"
   ]
  },
  {
   "cell_type": "code",
   "execution_count": 13,
   "id": "2a14ef17",
   "metadata": {},
   "outputs": [
    {
     "data": {
      "text/plain": [
       "953"
      ]
     },
     "execution_count": 13,
     "metadata": {},
     "output_type": "execute_result"
    }
   ],
   "source": [
    "len(TLS2_allele_table['allele'].unique())"
   ]
  },
  {
   "cell_type": "markdown",
   "id": "f7ce5bcb",
   "metadata": {},
   "source": [
    "# Calculate and record tree specific statistics"
   ]
  },
  {
   "cell_type": "code",
   "execution_count": 12,
   "id": "1b236496",
   "metadata": {},
   "outputs": [],
   "source": [
    "n_of_cells = TLS2_tree.n_cell"
   ]
  },
  {
   "cell_type": "code",
   "execution_count": 13,
   "id": "c333cca7",
   "metadata": {},
   "outputs": [],
   "source": [
    "n_of_clones = len(t.children)"
   ]
  },
  {
   "cell_type": "code",
   "execution_count": 14,
   "id": "6883fff0",
   "metadata": {},
   "outputs": [],
   "source": [
    "# Calculate the depth and size for each clone in the tree (children of the root node)\n",
    "clone_sizes = []\n",
    "clone_max_depths = []\n",
    "\n",
    "for clone in t.children:\n",
    "    clone_sizes.append(len(clone))\n",
    "    clone_max_depths.append(maxDepth(clone))\n",
    "\n",
    "median_clone_size = stats.median(clone_sizes)\n",
    "mean_clone_size = stats.mean(clone_sizes)\n",
    "max_clone_size = max(clone_sizes)\n",
    "mean_clone_depth = stats.mean(clone_max_depths)\n",
    "max_clone_depth = max(clone_max_depths)"
   ]
  },
  {
   "cell_type": "code",
   "execution_count": 15,
   "id": "f1252da4",
   "metadata": {},
   "outputs": [],
   "source": [
    "# Calculate the number of unique alleles and unique indels\n",
    "unique_alleles = set()\n",
    "unique_indels = set()\n",
    "for allele in TLS2_allele_table['allele']:\n",
    "    unique_alleles.add(allele)\n",
    "for indel in TLS2_allele_table['r1']:\n",
    "    unique_indels.add(indel)\n",
    "for indel in TLS2_allele_table['r2']:\n",
    "    unique_indels.add(indel)\n",
    "for indel in TLS2_allele_table['r3']:\n",
    "    unique_indels.add(indel)\n",
    "\n",
    "n_of_unique_alleles = len(unique_alleles)\n",
    "n_of_unique_indels = len(unique_indels)"
   ]
  },
  {
   "cell_type": "code",
   "execution_count": 16,
   "id": "7720e3f2",
   "metadata": {},
   "outputs": [],
   "source": [
    "indel_sites = ['CTTAATTCGCATTT_r1', 'CTTAATTCGCATTT_r2', 'CTTAATTCGCATTT_r3', 'AACTATTACATATA_r1', 'AACTATTACATATA_r2',\n",
    "               'AACTATTACATATA_r3', 'GTCAGAACTTCTCC_r1', 'GTCAGAACTTCTCC_r2', 'GTCAGAACTTCTCC_r3', 'TTAACTGCCCGCTT_r1',\n",
    "               'TTAACTGCCCGCTT_r2', 'TTAACTGCCCGCTT_r3', 'CAGCACGGGGTGCG_r1', 'CAGCACGGGGTGCG_r2', 'CAGCACGGGGTGCG_r3',\n",
    "               'ACTTCTGTAATGTG_r1', 'ACTTCTGTAATGTG_r2', 'ACTTCTGTAATGTG_r3', 'ATCCGACTTATATC_r1', 'ATCCGACTTATATC_r2', \n",
    "               'ATCCGACTTATATC_r3', 'TAACTTTTGAGACA_r1', 'TAACTTTTGAGACA_r2', 'TAACTTTTGAGACA_r3', 'TCTTCAATAGTTTT_r1',\n",
    "               'TCTTCAATAGTTTT_r2', 'TCTTCAATAGTTTT_r3', 'TGAGTGTAACACTG_r1', 'TGAGTGTAACACTG_r2', 'TGAGTGTAACACTG_r3']"
   ]
  },
  {
   "cell_type": "code",
   "execution_count": 17,
   "id": "707e15e9",
   "metadata": {},
   "outputs": [],
   "source": [
    "lineage_table.fillna('[Null]', inplace = True)\n",
    "lineage_table['lineageBC'] = lineage_table[indel_sites].apply(\"\".join, axis=1)"
   ]
  },
  {
   "cell_type": "code",
   "execution_count": 18,
   "id": "593dd89a",
   "metadata": {},
   "outputs": [],
   "source": [
    "# Calculate the number of unique lineage barcodes\n",
    "unique_lineage_BC = set()\n",
    "\n",
    "for row in lineage_table.iterrows():\n",
    "    unique_lineage_BC.add(row[1]['lineageBC'])\n",
    "\n",
    "n_of_unique_lineage_BC = len(unique_lineage_BC)"
   ]
  },
  {
   "cell_type": "code",
   "execution_count": 19,
   "id": "3c8a13ac",
   "metadata": {},
   "outputs": [],
   "source": [
    "# Save all metrics to a text file\n",
    "tree_stats = open('/Genomics/chanlab/blaw/TLS/data/AM-DNA-098/lineage/3_lineage_stats/AM-DNA-098_Tree_Stats.txt', 'w')\n",
    "tree_stats.write('Metric,Value\\n')\n",
    "tree_stats.write('n_of_cells,' + str(n_of_cells) + '\\n')\n",
    "tree_stats.write('n_of_clones,' + str(n_of_clones) + '\\n')\n",
    "tree_stats.write('median_clone_size,' + str(median_clone_size) + '\\n') \n",
    "tree_stats.write('mean_clone_size,' + str(mean_clone_size) + '\\n')\n",
    "tree_stats.write('max_clone_size,' + str(max_clone_size) + '\\n')\n",
    "tree_stats.write('mean_clone_depth,' + str(mean_clone_depth) + '\\n')\n",
    "tree_stats.write('max_clone_depth,' + str(max_clone_depth) + '\\n')\n",
    "tree_stats.write('n_unique_indels,' + str(n_of_unique_indels) + '\\n')\n",
    "tree_stats.write('n_unique_alleles,' + str(n_of_unique_alleles) + '\\n')\n",
    "tree_stats.write('n_unique_lineage_BC,' + str(n_of_unique_lineage_BC) + '\\n')\n",
    "tree_stats.close()"
   ]
  },
  {
   "cell_type": "markdown",
   "id": "829ea92e",
   "metadata": {},
   "source": [
    "# intBC recovery by cell state"
   ]
  },
  {
   "cell_type": "code",
   "execution_count": 20,
   "id": "94b4e4fc",
   "metadata": {},
   "outputs": [],
   "source": [
    "# Count the number of intBC's are captured per cell in each cellstate\n",
    "cell_state_intBC_counts = pd.DataFrame({'count': TLS2_allele_table.groupby([ \"cell_state\", \"cellBC\"]).size()}).reset_index()"
   ]
  },
  {
   "cell_type": "code",
   "execution_count": 21,
   "id": "4f0539e1",
   "metadata": {},
   "outputs": [],
   "source": [
    "# Plot the intBC capture rate per cell state\n",
    "fig, ax = plt.subplots(figsize = (10, 4))\n",
    "\n",
    "sns.barplot(data = cell_state_intBC_counts, x = 'cell_state', y = 'count')\n",
    "plt.title('intBC Capture per Cell State')\n",
    "ax.set_xticklabels(ax.get_xticklabels(), rotation = 90)\n",
    "ax.set_ylabel('intBCs Captured')\n",
    "ax.set_ylim(0, 10)\n",
    "plt.savefig('/Genomics/chanlab/blaw/TLS/data/AM-DNA-098/lineage/3_lineage_stats/intBC_capture_per_cell_state.pdf', dpi = 900)\n",
    "#plt.show()\n",
    "plt.close()"
   ]
  },
  {
   "cell_type": "markdown",
   "id": "4c656e7f",
   "metadata": {},
   "source": [
    "# Investigate the shared alleles and lineage barcodes between cell states"
   ]
  },
  {
   "cell_type": "code",
   "execution_count": 22,
   "id": "d0e81e5f",
   "metadata": {},
   "outputs": [],
   "source": [
    "cell_states = ['aPSM', 'Somite', 'NeuralTube1', 'NeuralTube2', 'Somite-1', 'Unknown', 'PCGLC', 'Somite0', 'NMPs', 'Endoderm', 'SomiteSclero', 'Endothelial', 'SomiteDermo']"
   ]
  },
  {
   "cell_type": "code",
   "execution_count": 23,
   "id": "5a2db88b",
   "metadata": {},
   "outputs": [],
   "source": [
    "lineage_table = lineage_table.merge(cell_state_table, how='left', left_on='cellBC', right_on='cellBC').copy()"
   ]
  },
  {
   "cell_type": "code",
   "execution_count": 24,
   "id": "5aee5645",
   "metadata": {},
   "outputs": [],
   "source": [
    "tree_cells = []\n",
    "for leaf in t.get_leaves():\n",
    "    tree_cells.append(leaf.name)"
   ]
  },
  {
   "cell_type": "code",
   "execution_count": 25,
   "id": "59315270",
   "metadata": {},
   "outputs": [],
   "source": [
    "tree_lineage_table = lineage_table[lineage_table['cellBC'].isin(tree_cells)]"
   ]
  },
  {
   "cell_type": "code",
   "execution_count": 26,
   "id": "81c7f04a",
   "metadata": {},
   "outputs": [],
   "source": [
    "aPSM_cells = lineage_table[lineage_table['cell_state'] == 'aPSM']['cellBC']\n",
    "pPSM_cells = lineage_table[lineage_table['cell_state'] == 'pPSM']['cellBC']"
   ]
  },
  {
   "cell_type": "code",
   "execution_count": 27,
   "id": "65337a95",
   "metadata": {},
   "outputs": [],
   "source": [
    "lineageBC_fraq_per_cell = {}\n",
    "lineageBC_per_cell = {}\n",
    "for cell_state in cell_states:\n",
    "    lineageBC_fraq_per_cell[cell_state] = len(np.unique(tree_lineage_table[tree_lineage_table['cell_state'] == cell_state]['lineageBC'])) / len(tree_lineage_table[tree_lineage_table['cell_state'] == cell_state]['lineageBC'])\n",
    "    lineageBC_per_cell[cell_state] = len(np.unique(tree_lineage_table[tree_lineage_table['cell_state'] == cell_state]['lineageBC']))"
   ]
  },
  {
   "cell_type": "code",
   "execution_count": 28,
   "id": "65643866",
   "metadata": {},
   "outputs": [],
   "source": [
    "cell_order = dict(sorted(lineageBC_fraq_per_cell.items(), key=lambda item: item[1], reverse = True)).keys()"
   ]
  },
  {
   "cell_type": "code",
   "execution_count": 29,
   "id": "70a70480",
   "metadata": {},
   "outputs": [],
   "source": [
    "lineageBC_per_cell = dict(sorted(lineageBC_per_cell.items(), key=lambda item: item[1], reverse = True))"
   ]
  },
  {
   "cell_type": "code",
   "execution_count": 30,
   "id": "1bc478d2",
   "metadata": {},
   "outputs": [],
   "source": [
    "# Plot the number of unique lineage barcodes per cell state\n",
    "bar_order = []\n",
    "for cell in cell_order:\n",
    "    bar_order.append(lineageBC_per_cell[cell])\n",
    "\n",
    "plt.bar(x=cell_order, height = bar_order)\n",
    "plt.xticks(rotation=90)\n",
    "plt.ylabel('n of unique lineage BC')\n",
    "plt.tight_layout()\n",
    "plt.savefig('/Genomics/chanlab/blaw/TLS/data/AM-DNA-098/lineage/3_lineage_stats/n_unique_lineageBC_per_state.pdf', dpi = 300)\n",
    "#plt.show()\n",
    "plt.close()"
   ]
  },
  {
   "cell_type": "code",
   "execution_count": 31,
   "id": "5d37ef5a",
   "metadata": {},
   "outputs": [],
   "source": [
    "# Plot the fraction of unique lineage barcodes per cell state\n",
    "bar_order = []\n",
    "for cell in cell_order:\n",
    "    bar_order.append(lineageBC_fraq_per_cell[cell])\n",
    "\n",
    "plt.bar(x=cell_order, height = bar_order)\n",
    "plt.xticks(rotation=90)\n",
    "plt.ylabel('n of unique lineage BC\\n / n of cells')\n",
    "plt.tight_layout()\n",
    "plt.savefig('/Genomics/chanlab/blaw/TLS/data/AM-DNA-098/lineage/3_lineage_stats/fraq_unique_lineageBC_per_state.pdf', dpi = 300)\n",
    "#plt.show()\n",
    "plt.close()"
   ]
  },
  {
   "cell_type": "code",
   "execution_count": 32,
   "id": "e0f438f4",
   "metadata": {},
   "outputs": [],
   "source": [
    "# histogram of the number of cell states that each allele appears in:\n",
    "TLS2_allele_table.fillna('[Null]', inplace = True)\n",
    "unique_alleles = np.unique(TLS2_allele_table['allele'])\n",
    "n_state_counts = []\n",
    "two_or_more = 0\n",
    "\n",
    "for allele in unique_alleles:\n",
    "    temp = TLS2_allele_table[TLS2_allele_table['allele'] == allele]\n",
    "    n_states = len(np.unique(temp['cell_state']))\n",
    "    n_state_counts.append(n_states)\n",
    "    if n_states > 1:\n",
    "        two_or_more += 1\n",
    "\n",
    "two_or_more_fraq = two_or_more / len(unique_alleles)"
   ]
  },
  {
   "cell_type": "code",
   "execution_count": 33,
   "id": "521def02",
   "metadata": {
    "scrolled": true
   },
   "outputs": [],
   "source": [
    "# plot the distribution of alleles that are shared between states\n",
    "plt.scatter(x = 2, y = two_or_more, color = 'red')\n",
    "plt.bar(x = [1, 2, 3, 4, 5, 6, 7, 8, 9, 10, 11, 12, 13, 14], height = np.histogram(n_state_counts, bins = 14)[0])\n",
    "plt.xticks([1, 2, 3, 4, 5, 6, 7, 8, 9, 10, 11, 12, 13, 14])\n",
    "plt.xlabel('n of cell states')\n",
    "plt.ylabel('number of alleles')\n",
    "plt.legend(['Alleles in 2 or more cell states', 'Alleles in X cell states'])\n",
    "plt.savefig('/Genomics/chanlab/blaw/TLS/data/AM-DNA-098/lineage/3_lineage_stats/n_cell_states_per_allele_hist.pdf', dpi = 900)\n",
    "#plt.show()\n",
    "plt.close()"
   ]
  },
  {
   "cell_type": "code",
   "execution_count": 34,
   "id": "6044c750",
   "metadata": {},
   "outputs": [],
   "source": [
    "# ranked bar plot with each allele as a x value and the heights being the number of cell states that they are in\n",
    "TLS2_allele_table.fillna('[Null]', inplace = True)\n",
    "unique_alleles = np.unique(TLS2_allele_table['allele'])\n",
    "allele_IDs = []\n",
    "n_states = []\n",
    "count = 1\n",
    "\n",
    "for allele in unique_alleles:\n",
    "    temp = TLS2_allele_table[TLS2_allele_table['allele'] == allele]\n",
    "    n_states.append(len(np.unique(temp['cell_state'])))\n",
    "    allele_IDs.append(count)\n",
    "    count += 1\n",
    "    \n",
    "allele_cell_states = dict(zip(allele_IDs, n_states))"
   ]
  },
  {
   "cell_type": "code",
   "execution_count": 35,
   "id": "0d79187c",
   "metadata": {},
   "outputs": [],
   "source": [
    "# Plot the number of cell states that each allele appears in\n",
    "allele_cell_states = dict(sorted(allele_cell_states.items(), key=lambda item: item[1], reverse = True))\n",
    "x = np.linspace(0, 953, 953)\n",
    "y1 = allele_cell_states.values()\n",
    "\n",
    "plt.plot(x, y1)\n",
    "plt.xlabel('Ranked Alleles')\n",
    "plt.ylabel('n of cell states')\n",
    "plt.fill_between(x, y1, step=\"pre\", alpha=0.4)\n",
    "plt.savefig('/Genomics/chanlab/blaw/TLS/data/AM-DNA-098/lineage/3_lineage_stats/n_cell_states_per_allele.pdf', dpi = 900)\n",
    "#plt.show()\n",
    "plt.close()"
   ]
  },
  {
   "cell_type": "code",
   "execution_count": 36,
   "id": "5f57cfe4",
   "metadata": {},
   "outputs": [],
   "source": [
    "# Make a table of the shared allele fractions per cell state\n",
    "shared_allele_percents = pd.DataFrame.from_dict([lineageBC_per_cell])\n",
    "shared_allele_percents.drop(index=0, inplace = True)"
   ]
  },
  {
   "cell_type": "code",
   "execution_count": 37,
   "id": "2489f07a",
   "metadata": {},
   "outputs": [],
   "source": [
    "shared_allele_percents['cell_state'] = ''\n",
    "\n",
    "for cell_state in cell_states:\n",
    "    temp = [0, 0, 0, 0, 0, 0, 0, 0, 0, 0, 0, 0, 0]\n",
    "    temp.append(cell_state)\n",
    "    \n",
    "    shared_allele_percents.loc[len(shared_allele_percents.index)] = temp"
   ]
  },
  {
   "cell_type": "code",
   "execution_count": 38,
   "id": "b2a75dfa",
   "metadata": {},
   "outputs": [],
   "source": [
    "shared_allele_percents.set_index('cell_state', inplace = True)\n",
    "shared_n_allele = shared_allele_percents.copy()"
   ]
  },
  {
   "cell_type": "code",
   "execution_count": 39,
   "id": "db129568",
   "metadata": {},
   "outputs": [],
   "source": [
    "shared_allele_percents = shared_allele_percents.astype(float)"
   ]
  },
  {
   "cell_type": "code",
   "execution_count": 40,
   "id": "44c79a27",
   "metadata": {},
   "outputs": [],
   "source": [
    "for cell_state in cell_states:\n",
    "    cell_state_df = TLS2_allele_table[TLS2_allele_table['cell_state'] == cell_state]\n",
    "    cell_state_alleles = np.unique(cell_state_df['allele'])\n",
    "\n",
    "\n",
    "    for test_state in colorDict.keys():\n",
    "        test_state_df = TLS2_allele_table[TLS2_allele_table['cell_state'] == test_state]\n",
    "        test_state_alleles = np.unique(test_state_df['allele'])\n",
    "        \n",
    "        total_unique_alleles = np.unique(np.concatenate((cell_state_alleles, test_state_alleles)))\n",
    "        shared_alleles = np.intersect1d(cell_state_alleles, test_state_alleles)\n",
    "\n",
    "        shared_allele_percents.loc[cell_state][test_state] = len(shared_alleles) / len(total_unique_alleles)\n",
    "        shared_n_allele.loc[cell_state][test_state] = len(shared_alleles)"
   ]
  },
  {
   "cell_type": "code",
   "execution_count": 41,
   "id": "fbc0e6d2",
   "metadata": {},
   "outputs": [],
   "source": [
    "shared_allele_percents.to_csv('/Genomics/chanlab/blaw/TLS/data/AM-DNA-098/lineage/3_lineage_stats/shared_alleles_freq.csv')\n",
    "shared_n_allele.to_csv('/Genomics/chanlab/blaw/TLS/data/AM-DNA-098/lineage/3_lineage_stats/shared_alleles_counts.csv')"
   ]
  },
  {
   "cell_type": "markdown",
   "id": "20e666ef",
   "metadata": {},
   "source": [
    "# Clones specific statistics"
   ]
  },
  {
   "cell_type": "code",
   "execution_count": 42,
   "id": "22922e28",
   "metadata": {
    "scrolled": true
   },
   "outputs": [],
   "source": [
    "# dictionaries to collect the number of cells and the number of nodes per root node\n",
    "cells_per_clone = {}\n",
    "nodes_per_clone = {}\n",
    "clone_nodes = t.get_tree_root().children"
   ]
  },
  {
   "cell_type": "code",
   "execution_count": 43,
   "id": "2adac7f7",
   "metadata": {},
   "outputs": [],
   "source": [
    "# Count the number of nodes and leaves in each clone\n",
    "for clone in clone_nodes:\n",
    "    leaf_count = 0\n",
    "    node_count = 0\n",
    "    for node in clone.traverse():\n",
    "        if node.is_leaf():\n",
    "            leaf_count += 1\n",
    "        else:\n",
    "            node_count += 1\n",
    "    cells_per_clone[clone.name] = leaf_count\n",
    "    nodes_per_clone[clone.name] = node_count"
   ]
  },
  {
   "cell_type": "code",
   "execution_count": 44,
   "id": "78ab693e",
   "metadata": {},
   "outputs": [],
   "source": [
    "cells_per_clone_df = pd.DataFrame.from_dict(cells_per_clone, orient = 'index')\n",
    "nodes_per_clone_df = pd.DataFrame.from_dict(nodes_per_clone, orient = 'index')"
   ]
  },
  {
   "cell_type": "code",
   "execution_count": 45,
   "id": "c1bcec69",
   "metadata": {},
   "outputs": [],
   "source": [
    "cells_per_clone_df['Node'] = cells_per_clone_df.index\n",
    "nodes_per_clone_df['Node'] = nodes_per_clone_df.index\n",
    "merge = pd.merge(cells_per_clone_df, nodes_per_clone_df, on = 'Node')"
   ]
  },
  {
   "cell_type": "code",
   "execution_count": 46,
   "id": "4b7db0b7",
   "metadata": {},
   "outputs": [],
   "source": [
    "merge.rename(columns = {'0_x':'Cells_per_Clone', '0_y':'Nodes_per_Clone'}, inplace = True)\n",
    "merge.sort_values(ascending = False, by = 'Cells_per_Clone', inplace = True)\n",
    "#merge.set_index('Node', inplace =True)\n",
    "merge.to_csv('/Genomics/chanlab/blaw/TLS/data/AM-DNA-098/lineage/clone_stats.csv')"
   ]
  },
  {
   "cell_type": "code",
   "execution_count": 47,
   "id": "c78d1d1b",
   "metadata": {
    "scrolled": false
   },
   "outputs": [],
   "source": [
    "# Plot the number of cells per clone\n",
    "fig = plt.figure()\n",
    "plt.bar(x = merge['Node'], height = merge['Cells_per_Clone'])\n",
    "plt.title('AM-DNA-098 Cells per Clone')\n",
    "plt.ylabel('n of Cells per Clone')\n",
    "plt.xlabel('Node Name')\n",
    "plt.xticks(rotation = 90)\n",
    "plt.savefig('/Genomics/chanlab/blaw/TLS/data/AM-DNA-098/lineage/3_lineage_stats/AM-DNA_098_Cells_per_Clones.pdf', dpi = 900)\n",
    "#plt.show()\n",
    "plt.close()"
   ]
  },
  {
   "cell_type": "code",
   "execution_count": 48,
   "id": "52432530",
   "metadata": {
    "scrolled": false
   },
   "outputs": [],
   "source": [
    "# plot the number of nodes per clone\n",
    "fig = plt.figure()\n",
    "plt.bar(x = merge['Node'], height = merge['Nodes_per_Clone'])\n",
    "plt.title('AM-DNA-098 Nodes per Clone')\n",
    "plt.ylabel('n of Nodes per Clone')\n",
    "plt.xlabel('Node Name')\n",
    "plt.xticks(rotation = 90)\n",
    "plt.savefig('/Genomics/chanlab/blaw/TLS/data/AM-DNA-098/lineage/3_lineage_stats/AM-DNA_098_Nodes_per_Clones.pdf', dpi = 900)\n",
    "#plt.show()\n",
    "plt.close()"
   ]
  },
  {
   "cell_type": "markdown",
   "id": "2aa1ad07",
   "metadata": {},
   "source": [
    "# Plot the distribution of allelic distances between cells in the same sate and cells in seperate states\n",
    "- Allele Distance = (2*(sites with different indels) + 1*(sites with indel vs uncut))/(number of sites recovered in both cells)"
   ]
  },
  {
   "cell_type": "code",
   "execution_count": 49,
   "id": "b003ff06",
   "metadata": {},
   "outputs": [],
   "source": [
    "def calculate_allele_distance(cell_1, cell_2, lineage_table):\n",
    "    '''\n",
    "    input:\n",
    "        The index barcode values for cell_1 and cell_2\n",
    "        The lineage table that has the cellBC as the index values as well as the 30 target sites\n",
    "    output:\n",
    "        The allelic distance between the 2 lineage barcodes\n",
    "        \n",
    "    missing values (NaN) are taken as an indel\n",
    "    '''\n",
    "    cell_1_lineageBC = lineage_table.loc[cell_1].values[0:30]\n",
    "    cell_2_lineageBC = lineage_table.loc[cell_2].values[0:30] \n",
    "    \n",
    "    count = 0\n",
    "    for i, indel in enumerate(cell_1_lineageBC):\n",
    "        test_1 = cell_1_lineageBC[i]\n",
    "        test_2 = cell_2_lineageBC[i]\n",
    "        \n",
    "        if str(test_1) == str(test_2):\n",
    "            count += 0\n",
    "        elif str(test_1) == '[None]' or str(test_2) == '[None]':\n",
    "            count += 1\n",
    "        else:\n",
    "            count += 2\n",
    "            \n",
    "    return count"
   ]
  },
  {
   "cell_type": "code",
   "execution_count": 50,
   "id": "d96d7a6a",
   "metadata": {},
   "outputs": [],
   "source": [
    "tree_lineage_table.set_index('cellBC', inplace = True)"
   ]
  },
  {
   "cell_type": "code",
   "execution_count": 51,
   "id": "5da1e686",
   "metadata": {},
   "outputs": [],
   "source": [
    "cell_states = np.unique(tree_lineage_table['cell_state'])"
   ]
  },
  {
   "cell_type": "code",
   "execution_count": 66,
   "id": "e3c89099",
   "metadata": {},
   "outputs": [],
   "source": [
    "# Plot the distribution of allelic distances between cell states\n",
    "for cell_state_1 in cell_states:\n",
    "    cells_1 = tree_lineage_table[tree_lineage_table['cell_state'] == cell_state_1].index.values\n",
    "    \n",
    "    cell_state_distances = []\n",
    "    cell_order = []\n",
    "    \n",
    "    for cell_state_2 in cell_states:\n",
    "        cells_2 = tree_lineage_table[tree_lineage_table['cell_state'] == cell_state_2].index.values\n",
    "        \n",
    "        pair_distances = []\n",
    "        \n",
    "        for cell_1, cell_2 in ((cell_1, cell_2) for cell_1 in cells_1 for cell_2 in cells_2):\n",
    "            allele_distance = calculate_allele_distance(cell_1, cell_2, tree_lineage_table)     \n",
    "            pair_distances.append(allele_distance)\n",
    "        \n",
    "        cell_state_distances.append(pair_distances)\n",
    "        cell_order.append(cell_state_2)\n",
    "    \n",
    "    fig, ax = plt.subplots()\n",
    "    plt.boxplot(cell_state_distances)\n",
    "    plt.title(cell_state_1 + '_Allelic_Distances')\n",
    "    ax.set_xticklabels(cell_order, rotation = 90)\n",
    "    plt.ylabel('Allelic Distance')\n",
    "    plt.tight_layout()\n",
    "    plt.savefig('/Genomics/chanlab/blaw/TLS/data/AM-DNA-098/lineage/3_lineage_stats/pairwise_allelic_distance/' + cell_state_1 + '_Allelic_Distances.pdf', dpi = 300)\n",
    "    #plt.show()\n",
    "    plt.close()"
   ]
  },
  {
   "cell_type": "markdown",
   "id": "a09e8dc9",
   "metadata": {},
   "source": [
    "# Correlate allelic distance and transcriptional distance"
   ]
  },
  {
   "cell_type": "code",
   "execution_count": 52,
   "id": "606c341c",
   "metadata": {},
   "outputs": [],
   "source": [
    "def calculate_transcriptional_correlation(cell_1, cell_2, corr_df):\n",
    "    '''\n",
    "    input:\n",
    "        An array of the expression for cell_1 and cell_2\n",
    "    returns:\n",
    "        The pearson correlation between the two expression arrays\n",
    "    '''\n",
    "    return corr_df.loc['TLS_120h_rep2_' + cell_1]['TLS_120h_rep2_' + cell_2]"
   ]
  },
  {
   "cell_type": "code",
   "execution_count": 53,
   "id": "6788a8dc",
   "metadata": {},
   "outputs": [],
   "source": [
    "test_TLS2 = pd.DataFrame(TLS2.X.todense().T, columns = TLS2.obs.index.values, index = TLS2.var['features'].values)"
   ]
  },
  {
   "cell_type": "code",
   "execution_count": 54,
   "id": "4e09d9de",
   "metadata": {},
   "outputs": [],
   "source": [
    "geneList = ['Cxcl12','Nr2f1','Foxd2os','Ets1','Prrx2','Foxd2','Peg3','Twist1','Arg1','Fst',\n",
    "            'Prrx2','Tpm1','Aldh1a2','Foxd1','Ppp1r1a','Meox1','Foxc2','Tcf15','Twist1','Fst',\n",
    "            'Dll3','Lef1','Dll1','Fgf18','Rspo3','Pcdh19','Pcdh8','Notch1','Epb41l3','Synm',\n",
    "            'Meox1', 'Tcf15', 'Prrx2','Pax3','Fst','Six1','Foxc2','Cadm1','Foxc1','Twist1',\n",
    "            'Cdx2', 'Fgf8', 'Hoxc8', 'Hoxaas3', 'Hoxc6', 'Hoxb5os', 'Hoxb8', 'Epha5', 'Hoxc9', 'Lhpp',\n",
    "            'Tpm1','Foxp1','Lef1', 'Ifitm1', 'Apip','Slc9a3r1','Notch1','Ppp1r1a','Fgf18','Laptm4b',\n",
    "            'Crabp2', 'Ccnd2', 'Slc2a1', 'Fam181b', 'Sox21', 'Irx3', 'Sox3', 'Hoxaas3', 'Pax6', 'Hoxb9',\n",
    "            'Rspo3','Gm45889','2610528A11Rik','Dll1','Hes7','Dll3','Sp5','Fgf8','Ptprz1','Frzb',\n",
    "            'Igfbp5','Fxyd6','Nrtn','Nr2f2','Gas1','Tcf15','Tcf4','Cadm1','Phlda1','Pax3',\n",
    "            'Cdx2', 'Hoxc8', 'Hoxc9', 'Hoxaas3', 'Slc2a1', 'Hoxb9', 'Gbx2', 'Sox3', 'Sox2', 'Epha5',\n",
    "            'Lmo2', 'Kdr', 'Igfbp4', 'Inka1', 'Hhex', 'Etv2', 'Eva1b', 'Tmsb4x', 'Hopx', 'Cald1',\n",
    "            'Krt8', 'Krt18', 'Igfbp2', 'Emb','Tagln2', 'Vtn','Foxa1','Trh','Cmtm8','Cldn6',\n",
    "            'Dppa5a', 'Mt2', 'Hspb1', 'Mt1', 'L1td1', 'Dppa3', 'Ckb', 'Pou5f1', 'Ifitm3', 'Ldhb',\n",
    "            'Ass1','Perp','Bst2','Malat1','Cyba','Ddit4','Btg2','Apoe','Phlda3','Cdkn1a']"
   ]
  },
  {
   "cell_type": "code",
   "execution_count": 55,
   "id": "5439e7a4",
   "metadata": {},
   "outputs": [],
   "source": [
    "markerList = ['Cxcl12', 'Peg3', 'Nr2f1', 'Prrx2', 'Twist1', 'Meox1', 'Foxd1', 'Arg1', 'Fst', 'Meg3', 'Igfbp5', 'Fxyd6', 'Nrtn', \n",
    "           'Cadm1', 'Gas1', 'Tcf15', 'Phlda1', 'Gm26917','Fam181b','Crabp2', 'Ccnd2', 'Sox3', 'Slc2a1', 'Hoxb9',\n",
    "           'Hoxaas3', 'Hoxb5os', 'Id3', 'Hoxc9', 'Hoxc8', 'Cdx2', 'Sox2', 'Hoxb8', 'Uncx', 'Pax3', 'Crabp1', 'Fstl1', 'Ldha', \n",
    "           'Tpm1', 'Aldh1a2', 'Slc45a4', 'Fgf8', 'Epha5', 'Rspo3', 'Car4', 'Spink1', 'Krt8', 'Nepn', 'Krt18', 'Epcam', 'Trh',\n",
    "           'Igfbp2', 'Emb', 'Slc2a3', 'Hspb1', 'Dppa3', 'Klf2', 'Pou5f1', 'Mylpf', 'Dppa5a', 'Mt2', 'Ifitm3', 'Ckb', 'Mt1', \n",
    "           'Pcdh19', 'Slc9a3r1', 'Foxp1', 'Lef1', 'Ifitm1', 'Notch1', 'Apip', 'Kdr', 'Lmo2', 'Hhex', 'Etv2', 'Igfbp4', 'Ramp2',\n",
    "           'Tmsb4x', 'Egfl7', 'Vim', 'Sparc','Ripply2','Pcdh8', 'Dll1', 'Gm45889', 'Hes7', 'Sp5', 'Ass1', 'Btg2', 'Cdkn1a',\n",
    "           'Phlda3', 'Apoe', 'Malat1', 'Mdm2']"
   ]
  },
  {
   "cell_type": "code",
   "execution_count": 56,
   "id": "3aca7e2f",
   "metadata": {},
   "outputs": [],
   "source": [
    "test_tree_cells = []\n",
    "for i in tree_cells:\n",
    "    test_tree_cells.append('TLS_120h_rep2_' + i)"
   ]
  },
  {
   "cell_type": "code",
   "execution_count": 57,
   "id": "1315ef44",
   "metadata": {},
   "outputs": [],
   "source": [
    "test_TLS2 = test_TLS2.loc[geneList, test_tree_cells] "
   ]
  },
  {
   "cell_type": "code",
   "execution_count": 58,
   "id": "633aa79c",
   "metadata": {},
   "outputs": [],
   "source": [
    "r_df = test_TLS2.corr(method='pearson', min_periods=10)\n",
    "r = r_df.values"
   ]
  },
  {
   "cell_type": "code",
   "execution_count": 59,
   "id": "663a51bb",
   "metadata": {},
   "outputs": [],
   "source": [
    "#num_trials = 500000\n",
    "distances_dict = {}\n",
    "bins_dict = {0:[], 1:[], 2:[]}\n",
    "for i in range(60):\n",
    "    distances_dict[i/30] = []\n",
    "\n",
    "test = list(combinations(tree_cells, 2))\n",
    "\n",
    "for cell_1, cell_2 in test:\n",
    "    #cell_1 = np.random.choice(tree_lineage_table.index.values)\n",
    "    #cell_2 = np.random.choice(tree_lineage_table.index.values)\n",
    "    \n",
    "    allele_distance = calculate_allele_distance(cell_1, cell_2, tree_lineage_table) / 30\n",
    "    lineage_distance = calculate_transcriptional_correlation(cell_1, cell_2, r_df)\n",
    "    \n",
    "    distances_dict[allele_distance].append(lineage_distance)\n",
    "    \n",
    "    if allele_distance == 0:\n",
    "        bins_dict[0].append(lineage_distance)\n",
    "    elif allele_distance > 1/30:\n",
    "        bins_dict[2].append(lineage_distance)\n",
    "    else:\n",
    "        bins_dict[1].append(lineage_distance)"
   ]
  },
  {
   "cell_type": "code",
   "execution_count": 60,
   "id": "dd237a68",
   "metadata": {},
   "outputs": [
    {
     "name": "stderr",
     "output_type": "stream",
     "text": [
      "/tmp/ipykernel_177223/1196111039.py:1: FutureWarning: The default dtype for empty Series will be 'object' instead of 'float64' in a future version. Specify a dtype explicitly to silence this warning.\n",
      "  distances_df = pd.DataFrame({key:pd.Series(value) for key, value in distances_dict.items()})\n"
     ]
    }
   ],
   "source": [
    "distances_df = pd.DataFrame({key:pd.Series(value) for key, value in distances_dict.items()})\n",
    "bins_df = pd.DataFrame({key:pd.Series(value) for key, value in bins_dict.items()})"
   ]
  },
  {
   "cell_type": "code",
   "execution_count": 61,
   "id": "12eb88d5",
   "metadata": {},
   "outputs": [],
   "source": [
    "# Plot the allelic distances vs expression correlation in bins\n",
    "fig, ax = plt.subplots()\n",
    "sns.violinplot(data = bins_df, cut = 0, scale = 'width')\n",
    "ax.set_xticklabels(['0', '1', '> 2'], rotation = 90)\n",
    "#ax.set_title('Edited Cells Allelic Distances')\n",
    "#ax.set_ylabel('Allelic Distance')\n",
    "ax.set_xlabel('Allelic Distance')\n",
    "ax.set_ylabel('Expression Correlation')\n",
    "ax.grid(False)\n",
    "plt.savefig('/Genomics/chanlab/blaw/TLS/data/AM-DNA-098/lineage/3_lineage_stats/Allelic_Distance_vs_Expression_bins_width.pdf', dpi = 300)\n",
    "#plt.show()\n",
    "plt.close()"
   ]
  },
  {
   "cell_type": "code",
   "execution_count": 62,
   "id": "a4a1c937",
   "metadata": {},
   "outputs": [],
   "source": [
    "# Plot the allelic distance vs expression correlation for each allelic distance bin\n",
    "fig, ax = plt.subplots(figsize = (18, 3))\n",
    "sns.violinplot(data = distances_df[distances_df.columns[0:45]], cut = 0, scale = 'count')\n",
    "ax.set_xticklabels(ax.get_xticks(), rotation = 90)\n",
    "#ax.set_title('Edited Cells Allelic Distances')\n",
    "#ax.set_ylabel('Allelic Distance')\n",
    "ax.set_xlabel('Allelic Distance')\n",
    "ax.set_ylabel('Expression Correlation')\n",
    "ax.grid(False)\n",
    "plt.savefig('/Genomics/chanlab/blaw/TLS/data/AM-DNA-098/lineage/3_lineage_stats/Allelic_Distance_vs_Expression.pdf', dpi = 300)\n",
    "#plt.show()\n",
    "plt.close()"
   ]
  },
  {
   "cell_type": "markdown",
   "id": "bae71094",
   "metadata": {},
   "source": [
    "# Phylogenetic distance vs allele distance\n",
    "- Phylogenetic distance is calculated as branch distance between 2 cells\n",
    "- Allelic distance is calculated as above"
   ]
  },
  {
   "cell_type": "code",
   "execution_count": 63,
   "id": "30a2b2b4",
   "metadata": {},
   "outputs": [],
   "source": [
    "df_pairwiseTreeDist = pd.read_csv(\"/Genomics/chanlab/mchan/Adriano/TLS/TLS_1_2/20220721_AM-DNA-098_TLS2_PairwiseBranchDistArgo.txt\", index_col = 0, sep = \"\\t\")"
   ]
  },
  {
   "cell_type": "code",
   "execution_count": 64,
   "id": "7b7f9b14",
   "metadata": {},
   "outputs": [],
   "source": [
    "test_pairs = list(combinations(tree_cells, 2))\n",
    "\n",
    "allelic_distances = np.zeros(len(test_pairs))\n",
    "tree_distances = np.zeros(len(test_pairs))\n",
    "\n",
    "count = 0\n",
    "for cell_1, cell_2 in test_pairs:\n",
    "    allelic_distances[count] = calculate_allele_distance(cell_1, cell_2, tree_lineage_table)\n",
    "    tree_distances[count] = df_pairwiseTreeDist.loc[cell_1, cell_2]\n",
    "    count += 1"
   ]
  },
  {
   "cell_type": "code",
   "execution_count": 65,
   "id": "f21f9bd5",
   "metadata": {},
   "outputs": [],
   "source": [
    "slope, intercept, r_value, p_value, std_err = scipy.stats.linregress(allelic_distances, tree_distances)"
   ]
  },
  {
   "cell_type": "code",
   "execution_count": 66,
   "id": "c8fda65e",
   "metadata": {},
   "outputs": [
    {
     "name": "stdout",
     "output_type": "stream",
     "text": [
      "0.4965405340795302\n"
     ]
    }
   ],
   "source": [
    "print(r_value)"
   ]
  },
  {
   "cell_type": "code",
   "execution_count": 67,
   "id": "ffcf4a67",
   "metadata": {},
   "outputs": [],
   "source": [
    "# Plot a heatmap of the phylogenetic distance vs allelic distance\n",
    "fig, ax = plt.subplots(figsize = (10, 10))\n",
    "\n",
    "heatmap, xedges, yedges = np.histogram2d((allelic_distances), \n",
    "                                         (tree_distances), \n",
    "                                         bins = 15)\n",
    "extent = [xedges[0], xedges[-1], yedges[0], yedges[-1]]\n",
    "plt.imshow(heatmap.T, extent=extent, origin='lower', cmap = 'viridis', aspect = 'auto')\n",
    "plt.xlabel('Allelic Distance')\n",
    "plt.ylabel('Phylogenetic Distance')\n",
    "plt.colorbar()\n",
    "plt.savefig('/Genomics/chanlab/blaw/TLS/data/AM-DNA-098/lineage/3_lineage_stats/Allelic_Distance_vs_Phylogenetic.pdf', dpi = 300)\n",
    "#plt.show()\n",
    "plt.close()"
   ]
  },
  {
   "cell_type": "markdown",
   "id": "380180ce",
   "metadata": {},
   "source": [
    "# Plot cell state proportions split by edited and non-edited"
   ]
  },
  {
   "cell_type": "code",
   "execution_count": 68,
   "id": "0bacf86a",
   "metadata": {},
   "outputs": [],
   "source": [
    "all_cells = set(TLS2_allele_table['cellBC'])"
   ]
  },
  {
   "cell_type": "code",
   "execution_count": 69,
   "id": "46bc7763",
   "metadata": {},
   "outputs": [],
   "source": [
    "unEditedSet = set(TLS2_allele_table['cellBC'])\n",
    "\n",
    "for index, row in TLS2_allele_table.iterrows():\n",
    "    if row['allele'] != '[None][None][None]':\n",
    "        if row['cellBC'] in unEditedSet:\n",
    "            unEditedSet.remove(row['cellBC'])\n",
    "\n",
    "tableEdited = TLS2_allele_table[~TLS2_allele_table['cellBC'].isin(unEditedSet)]\n",
    "tableNotEdited = TLS2_allele_table[TLS2_allele_table['cellBC'].isin(unEditedSet)]"
   ]
  },
  {
   "cell_type": "code",
   "execution_count": 70,
   "id": "fcce787d",
   "metadata": {},
   "outputs": [
    {
     "name": "stdout",
     "output_type": "stream",
     "text": [
      "The full allele table has: 4577 cells\n",
      "There are: 2453 edited cells\n",
      "There are: 2124 unedited cells\n"
     ]
    }
   ],
   "source": [
    "print('The full allele table has:', str(len(np.unique(TLS2_allele_table['cellBC']))), 'cells')\n",
    "print('There are:', str(len(np.unique(tableEdited['cellBC']))), 'edited cells')\n",
    "print('There are:', str(len(np.unique(tableNotEdited['cellBC']))), 'unedited cells')"
   ]
  },
  {
   "cell_type": "code",
   "execution_count": 71,
   "id": "9d36541c",
   "metadata": {},
   "outputs": [],
   "source": [
    "TLS2_edited_cell_state_percent = {}\n",
    "TLS2_unedited_cell_state_percent = {}\n",
    "cell_states = colorDict.keys()"
   ]
  },
  {
   "cell_type": "code",
   "execution_count": 72,
   "id": "3410fa8f",
   "metadata": {},
   "outputs": [],
   "source": [
    "TLS2_edited_total = len(tableEdited['cell_state'])\n",
    "TLS2_unedited_total = len(tableNotEdited['cell_state'])\n",
    "\n",
    "for cell_state in cell_states:\n",
    "    TLS2_edited_cell_state_percent[cell_state] = 100 * len(tableEdited[tableEdited['cell_state'] == cell_state]) / TLS2_edited_total\n",
    "    TLS2_unedited_cell_state_percent[cell_state] = 100 * len(tableNotEdited[tableNotEdited['cell_state'] == cell_state]) / TLS2_unedited_total"
   ]
  },
  {
   "cell_type": "code",
   "execution_count": 73,
   "id": "f4b382da",
   "metadata": {},
   "outputs": [],
   "source": [
    "cell_percents = pd.DataFrame.from_dict([TLS2_edited_cell_state_percent, TLS2_unedited_cell_state_percent])\n",
    "cell_percents = cell_percents.rename(index = {0: \"TLS2_Edited\", 1: \"TLS2_Unedited\"})"
   ]
  },
  {
   "cell_type": "code",
   "execution_count": 74,
   "id": "829c9c21",
   "metadata": {},
   "outputs": [],
   "source": [
    "colors = []\n",
    "for color in cell_percents.columns:\n",
    "    colors.append(colorDict[color])"
   ]
  },
  {
   "cell_type": "code",
   "execution_count": 75,
   "id": "cb317c4a",
   "metadata": {},
   "outputs": [],
   "source": [
    "# Plot the composition of edited vs unedited cells\n",
    "cell_percents.plot(kind='bar', use_index = True, stacked=True, color = colors, grid = False)\n",
    "plt.legend(loc='center left', bbox_to_anchor=(1.0, 0.5))\n",
    "plt.title('TLS2 Cell State Proportions')\n",
    "plt.ylabel('% cells/cluster')\n",
    "plt.tight_layout()\n",
    "plt.savefig('/Genomics/chanlab/blaw/TLS/data/AM-DNA-098/lineage/3_lineage_stats/AM-DNA-098_Edited_vs_Unedited_Cell_Percents.pdf', dpi = 300)\n",
    "#plt.show()\n",
    "plt.close()"
   ]
  },
  {
   "cell_type": "markdown",
   "id": "eaf4674c",
   "metadata": {},
   "source": [
    "# Plot stacked bars of cell states for each clone"
   ]
  },
  {
   "cell_type": "code",
   "execution_count": 76,
   "id": "80e860ea",
   "metadata": {},
   "outputs": [],
   "source": [
    "clone_leaves = {}\n",
    "\n",
    "for clone in t.children:\n",
    "    clone_leaves[clone.name] = clone.get_leaves()"
   ]
  },
  {
   "cell_type": "code",
   "execution_count": 77,
   "id": "0e61c77a",
   "metadata": {},
   "outputs": [],
   "source": [
    "clone_cell_states = cell_percents.copy()\n",
    "clone_cell_states.drop(index = ['TLS2_Edited', 'TLS2_Unedited'], inplace = True)\n",
    "clone_cell_states['total'] = ''\n",
    "clone_cell_states['clone'] = ''"
   ]
  },
  {
   "cell_type": "code",
   "execution_count": 78,
   "id": "e5f850ec",
   "metadata": {},
   "outputs": [],
   "source": [
    "cell_state_dict = {'pPSM' : 0, 'Somite' : 1, 'aPSM' : 2, 'NeuralTube1' : 3, 'NeuralTube2' : 4, 'Somite-1' : 5,\n",
    "                   'Unknown' : 6, 'PCGLC' : 7, 'Somite0' : 8, 'NMPs' : 9, 'Endoderm' : 10, 'SomiteSclero' : 11, \n",
    "                   'Endothelial' : 12, 'SomiteDermo' : 13}"
   ]
  },
  {
   "cell_type": "code",
   "execution_count": 79,
   "id": "49bbd516",
   "metadata": {},
   "outputs": [],
   "source": [
    "for clone in clone_leaves.keys():\n",
    "    total_cells = len(clone_leaves[clone])\n",
    "    clone_cell_counts = [0, 0, 0, 0, 0, 0, 0, 0, 0, 0, 0, 0, 0, 0, 0]\n",
    "    for leaf in clone_leaves[clone]:\n",
    "        cell_state = np.unique(TLS2_allele_table[TLS2_allele_table['cellBC'] == leaf.name]['cell_state'])\n",
    "        clone_cell_counts[cell_state_dict[cell_state[0]]] += 1\n",
    "    clone_cell_counts[14] = total_cells\n",
    "    clone_cell_counts.append(clone)\n",
    "    \n",
    "    clone_cell_states.loc[len(clone_cell_states.index)] = clone_cell_counts"
   ]
  },
  {
   "cell_type": "code",
   "execution_count": 80,
   "id": "7f10909d",
   "metadata": {},
   "outputs": [],
   "source": [
    "clone_cell_states.set_index('clone', inplace = True)"
   ]
  },
  {
   "cell_type": "code",
   "execution_count": 81,
   "id": "49c19301",
   "metadata": {},
   "outputs": [],
   "source": [
    "clone_cell_states.sort_values('total', ascending = False, inplace = True)\n",
    "clone_cell_states.to_csv('/Genomics/chanlab/blaw/TLS/data/AM-DNA-098/lineage/3_lineage_stats/cell_states_per_clone.csv')"
   ]
  },
  {
   "cell_type": "code",
   "execution_count": 82,
   "id": "49766976",
   "metadata": {},
   "outputs": [],
   "source": [
    "clone_cell_states_freq = clone_cell_states.copy()\n",
    "clone_cell_states_freq = clone_cell_states_freq[clone_cell_states_freq.columns[:-1]].div(clone_cell_states_freq.total, axis=0)"
   ]
  },
  {
   "cell_type": "code",
   "execution_count": 83,
   "id": "bde435b2",
   "metadata": {},
   "outputs": [],
   "source": [
    "colors = []\n",
    "for color in clone_cell_states_freq.columns:\n",
    "    colors.append(colorDict[color])"
   ]
  },
  {
   "cell_type": "code",
   "execution_count": 84,
   "id": "dd98afda",
   "metadata": {},
   "outputs": [],
   "source": [
    "# Plot the composition of clones\n",
    "clone_cell_states_freq.plot(kind='bar', use_index = True, stacked=True, color = colors, grid = False, figsize = (12, 6))\n",
    "plt.legend(loc='center left', bbox_to_anchor=(1.0, 0.5))\n",
    "plt.title('Node Cell State Proportions')\n",
    "plt.ylabel('Proportion of cells per node')\n",
    "#plt.tight_layout()\n",
    "plt.savefig('/Genomics/chanlab/blaw/TLS/data/AM-DNA-098/lineage/3_lineage_stats/TLS2_Clone_cell_state_proportions.pdf', dpi = 900)\n",
    "#plt.show()\n",
    "plt.close()"
   ]
  },
  {
   "cell_type": "code",
   "execution_count": 85,
   "id": "7831136f",
   "metadata": {},
   "outputs": [],
   "source": [
    "# Plot the number of cell states per clone\n",
    "test = clone_cell_states.copy()\n",
    "test.drop(columns = ['total'], inplace = True)\n",
    "test.plot(kind='bar', use_index = True, stacked=True, color = colors, grid = False, figsize = (12, 6))\n",
    "plt.legend(loc='center left', bbox_to_anchor=(1.0, 0.5))\n",
    "plt.title('Node Cell State Counts')\n",
    "plt.ylabel('Number of cells')\n",
    "#plt.tight_layout()\n",
    "plt.savefig('/Genomics/chanlab/blaw/TLS/data/AM-DNA-098/lineage/3_lineage_stats/TLS2_Clone_cell_state_counts.pdf', dpi = 900)\n",
    "#plt.show()\n",
    "plt.close()"
   ]
  }
 ],
 "metadata": {
  "kernelspec": {
   "display_name": "Python 3 (ipykernel)",
   "language": "python",
   "name": "python3"
  },
  "language_info": {
   "codemirror_mode": {
    "name": "ipython",
    "version": 3
   },
   "file_extension": ".py",
   "mimetype": "text/x-python",
   "name": "python",
   "nbconvert_exporter": "python",
   "pygments_lexer": "ipython3",
   "version": "3.9.11"
  }
 },
 "nbformat": 4,
 "nbformat_minor": 5
}
