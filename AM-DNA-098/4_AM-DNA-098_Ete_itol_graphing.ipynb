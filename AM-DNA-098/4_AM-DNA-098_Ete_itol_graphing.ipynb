{
 "cells": [
  {
   "cell_type": "code",
   "execution_count": 1,
   "id": "b188af08",
   "metadata": {},
   "outputs": [],
   "source": [
    "import cassiopeia as cas\n",
    "import pandas as pd\n",
    "import numpy as np\n",
    "import pickle\n",
    "import os\n",
    "import matplotlib.pyplot as plt\n",
    "import seaborn as sns\n",
    "from ete3 import Tree, TreeStyle\n",
    "from typing import Tuple\n",
    "import scipy"
   ]
  },
  {
   "cell_type": "code",
   "execution_count": 2,
   "id": "93a89325",
   "metadata": {},
   "outputs": [],
   "source": [
    "TLS2_loc = '/Genomics/chanlab/blaw/TLS/data/AM-DNA-098/lineage/2_lineage_reconstruction/AM-DNA-098_hybrid_newick_noMutationlessEdges_Labeled.nwk'\n",
    "meta_loc = '/Genomics/chanlab/blaw/TLS/data/AM-DNA-098/lineage/2_lineage_reconstruction/AM-DNA-098_metadata.txt'\n",
    "character_matrix_loc = '/Genomics/chanlab/blaw/TLS/data/AM-DNA-098/lineage/2_lineage_reconstruction/AM-DNA-098_character_matrix.txt'\n",
    "priors_loc = '/Genomics/chanlab/blaw/TLS/data/AM-DNA-098/lineage/2_lineage_reconstruction/AM-DNA-098_priors.pickle'\n",
    "clusterColorsFile = \"/Genomics/chanlab/mchan/Adriano/TLS/TLS_TLSCL/20211102_clusterColorsTLSCL.p\"\n",
    "clusterFile = '/Genomics/chanlab/blaw/TLS/data/AM-DNA-098/lineage/2_lineage_reconstruction/AM-DNA-098_clusterTable.txt'\n",
    "allele_loc = '/Genomics/chanlab/blaw/TLS/data/AM-DNA-098/lineage/2_lineage_reconstruction/allele_table_filtered.txt'"
   ]
  },
  {
   "cell_type": "code",
   "execution_count": 3,
   "id": "fd9d1cd7",
   "metadata": {},
   "outputs": [],
   "source": [
    "colorDictFile = \"/Genomics/chanlab/mchan/Adriano/TLS/TLS_TLSCL/20211102_clusterColorsTLSCL.p\"\n",
    "with open(colorDictFile,'rb') as fp:\n",
    "    colorDict = pickle.load(fp)"
   ]
  },
  {
   "cell_type": "code",
   "execution_count": 4,
   "id": "1c71c7e1",
   "metadata": {},
   "outputs": [],
   "source": [
    "allele_table = pd.read_csv(allele_loc, sep = '\\t')"
   ]
  },
  {
   "cell_type": "code",
   "execution_count": 5,
   "id": "1b601d78",
   "metadata": {},
   "outputs": [],
   "source": [
    "tree = Tree(TLS2_loc, format=1)\n",
    "tree_meta = pd.read_csv(meta_loc, sep='\\t')\n",
    "character_matrix = pd.read_csv(character_matrix_loc, sep='\\t', index_col = 0)\n",
    "\n",
    "with open(priors_loc, 'rb') as f:\n",
    "    priors = pickle.load(f)\n",
    "        \n",
    "with open(clusterColorsFile,'rb') as fp:\n",
    "    colorDict = pickle.load(fp)\n",
    "\n",
    "# Create a cassiopeia Tree        \n",
    "test_tree = cas.data.CassiopeiaTree(character_matrix = character_matrix, priors = priors, tree = tree)\n",
    "    \n",
    "missing_proportion = (character_matrix == -1).sum(axis=0) / character_matrix.shape[0]\n",
    "uncut_proportion = (character_matrix == 0).sum(axis=0) / character_matrix.shape[0]\n",
    "n_unique_states = character_matrix.apply(lambda x: len(np.unique(x[(x != 0) & (x != -1)])), axis=0)\n",
    "\n",
    "character_meta = pd.DataFrame([missing_proportion, uncut_proportion, n_unique_states], index = ['missing_prop', 'uncut_prop', 'n_unique_states']).T\n",
    "test_tree.cell_meta = tree_meta\n",
    "test_tree.character_meta = character_meta\n",
    "\n",
    "test_tree.cell_meta['cluster'] = test_tree.cell_meta['cell_state'].str[2:-2]\n",
    "test_tree.cell_meta.set_index(\"cellBC\",inplace = True)"
   ]
  },
  {
   "cell_type": "code",
   "execution_count": 6,
   "id": "6c309f1e",
   "metadata": {},
   "outputs": [],
   "source": [
    "data = pd.read_csv(clusterFile,sep='\\t')\n",
    "data.rename(columns={\"Unnamed: 0\": \"cellBC\"},inplace=True)\n",
    "data.set_index(\"cellBC\",inplace=True)\n",
    "\n",
    "numClusters = data.shape[1]"
   ]
  },
  {
   "cell_type": "code",
   "execution_count": 7,
   "id": "4d656817",
   "metadata": {},
   "outputs": [],
   "source": [
    "with open(colorDictFile,'rb') as fp:\n",
    "    colorDict = pickle.load(fp)\n",
    "\n",
    "t = Tree(TLS2_loc,format=1)\n",
    "\n",
    "data[\"totalCells\"] = data.sum(axis = 1)\n",
    "colNames = data.columns[0:(data.shape[1] - 1)].values\n",
    "\n",
    "mCells = data[\"totalCells\"].max()"
   ]
  },
  {
   "cell_type": "code",
   "execution_count": 8,
   "id": "cea67500",
   "metadata": {},
   "outputs": [
    {
     "data": {
      "application/vnd.jupyter.widget-view+json": {
       "model_id": "4f3bc5168a2247c788414aea04224fd2",
       "version_major": 2,
       "version_minor": 0
      },
      "text/plain": [
       "filling in multiindex table:   0%|          | 0/18912 [00:00<?, ?it/s]"
      ]
     },
     "metadata": {},
     "output_type": "display_data"
    },
    {
     "name": "stderr",
     "output_type": "stream",
     "text": [
      "100%|███████████████████████████████████████████████████████████████████████████████████| 30/30 [00:03<00:00,  9.78it/s]\n"
     ]
    },
    {
     "data": {
      "image/png": "[encoded data removed]",
      "text/plain": [
       "<Figure size 432x288 with 1 Axes>"
      ]
     },
     "metadata": {
      "needs_background": "light"
     },
     "output_type": "display_data"
    }
   ],
   "source": [
    "fig, ax = plt.subplots()\n",
    "cas.pl.plot_matplotlib(test_tree, allele_table = allele_table, orient = 'right', figsize = (10, 40))\n",
    "plt.savefig('/Genomics/chanlab/blaw/TLS/data/AM-DNA-098/lineage/AM-DNA-098_Indel_Heatmap.pdf', dpi = 900)\n",
    "#plt.show()\n",
    "plt.close()"
   ]
  },
  {
   "cell_type": "code",
   "execution_count": 26,
   "id": "58f97f24",
   "metadata": {},
   "outputs": [],
   "source": [
    "def mylayout(node):\n",
    "    #if node.is_leaf():\n",
    "    #    node.img_style[\"size\"]=0\n",
    "    #else:\n",
    "    cvals = data.loc[node.name,colNames].values\n",
    "    totalCells = float(cvals.sum())\n",
    "    if totalCells==0:\n",
    "        print(node.name)\n",
    "    pcts = (cvals/totalCells)*100\n",
    "    idx = np.nonzero(pcts)\n",
    "    apct = [pcts[i] for i in idx[0]]\n",
    "    acol = [colorDict[colNames[i]] for i in idx[0]]\n",
    "    # scale size to total cells\n",
    "    pSize = mCells/100.\n",
    "    #pSize = np.log2(totalCells+(mCells/1000.))*0.5\n",
    "    pSize = np.log2(totalCells) #+(mCells/100.)) # works well\n",
    "    pSize = 3 \n",
    "    #pSize = np.log2(totalCells+0.1)\n",
    "    if pSize<1:\n",
    "        pSize=1\n",
    "\n",
    "    if not node.is_root(): \n",
    "    # PieChartFace(percents,width,height,colors,line_color) \n",
    "        C = faces.PieChartFace(apct,colors=acol,width=pSize,height=pSize)\n",
    "        C.border.width = None\n",
    "        C.opacity = 0.8\n",
    "        #faces.add_face_to_node(C,node,0,position=\"branch-bottom\") # opt1: branch bottom\n",
    "        faces.add_face_to_node(C,node,position=\"float\",column=0) # opt2: float\n",
    "\n",
    "    node.img_style[\"size\"]=0"
   ]
  },
  {
   "cell_type": "code",
   "execution_count": 27,
   "id": "de5982b7",
   "metadata": {},
   "outputs": [],
   "source": [
    "ts = TreeStyle()\n",
    "#ts.layout_fn = mylayout\n",
    "ts.show_leaf_name = False\n",
    "ts.show_branch_length = False\n",
    "ts.allow_face_overlap = True\n",
    "#ts.min_leaf_separation = 0\n",
    "ts.mode = \"r\"\n",
    "ts.show_scale = False"
   ]
  },
  {
   "cell_type": "code",
   "execution_count": 28,
   "id": "38350928",
   "metadata": {},
   "outputs": [],
   "source": [
    "outfile = '/Genomics/chanlab/blaw/TLS/data/AM-DNA-098/lineage/2_lineage_reconstruction/AM-DNA-098_Linear_Plot.pdf'\n",
    "outSizeLen = 10\n",
    "outSizeHeight=10"
   ]
  },
  {
   "cell_type": "code",
   "execution_count": null,
   "id": "88431de7",
   "metadata": {},
   "outputs": [],
   "source": [
    "t.render(file_name=outfile,w=outSizeLen,h=outSizeHeight,units=\"in\",tree_style=ts)"
   ]
  }
 ],
 "metadata": {
  "kernelspec": {
   "display_name": "Python 3 (ipykernel)",
   "language": "python",
   "name": "python3"
  },
  "language_info": {
   "codemirror_mode": {
    "name": "ipython",
    "version": 3
   },
   "file_extension": ".py",
   "mimetype": "text/x-python",
   "name": "python",
   "nbconvert_exporter": "python",
   "pygments_lexer": "ipython3",
   "version": "3.9.11"
  }
 },
 "nbformat": 4,
 "nbformat_minor": 5
}
