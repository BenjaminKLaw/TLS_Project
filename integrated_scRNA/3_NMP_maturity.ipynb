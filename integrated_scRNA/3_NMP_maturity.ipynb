{
 "cells": [
  {
   "cell_type": "code",
   "execution_count": 1,
   "id": "17ec0d11",
   "metadata": {},
   "outputs": [],
   "source": [
    "import anndata\n",
    "import pickle\n",
    "import pandas as pd\n",
    "import numpy as np\n",
    "import scanpy as sc\n",
    "import seaborn as sns\n",
    "import matplotlib.pyplot as plt\n",
    "import matplotlib.cm as cm\n",
    "import matplotlib.colors as mcolors\n",
    "\n",
    "from copy import copy\n",
    "from matplotlib import rc_context\n",
    "from scipy.stats import norm\n",
    "from scipy import sparse\n",
    "from scipy import stats\n",
    "from sklearn.neighbors import KernelDensity\n",
    "from ete3 import Tree\n",
    "from typing import Tuple"
   ]
  },
  {
   "cell_type": "code",
   "execution_count": 2,
   "id": "5bf74d3f",
   "metadata": {},
   "outputs": [],
   "source": [
    "sc.settings.verbosity = 0\n",
    "sc.settings.figdir = '/Genomics/chanlab/blaw/TLS/data/integrated_scRNA/3_maturity/'\n",
    "\n",
    "clusterColorsFile = \"/Genomics/chanlab/mchan/Adriano/TLS/TLS_TLSCL/20211102_clusterColorsTLSCL.p\"\n",
    "with open(clusterColorsFile,'rb') as fp:\n",
    "    colorDict = pickle.load(fp)"
   ]
  },
  {
   "cell_type": "code",
   "execution_count": 3,
   "id": "9021f48f",
   "metadata": {},
   "outputs": [],
   "source": [
    "# Load the integrated object\n",
    "TLS_integrated = sc.read_h5ad('/Genomics/chanlab/blaw/TLS/raw_data/scRNA/Integrated/TLS_TLSCL_1_2_Time_integrated.h5ad')\n",
    "\n",
    "# Load the multiseq barcodes metadata\n",
    "multiseq_barcodes = pd.read_csv('/Genomics/chanlab/blaw/TLS/metadata/multiseq_barcodes.txt', sep='\\t')\n",
    "\n",
    "# Add the multiseq group numbers and whether the sample is a TLS or TLSCL (in the multiseq experiment)\n",
    "# The TLS replicates from TLS1, TLS2, TIME ones are counted as NA in both of these categories to seperate them from the multiseq\n",
    "multiseq_barcode_dict = dict(zip(multiseq_barcodes['Sequence'], multiseq_barcodes['ID']))\n",
    "TLS_TLSCL_dict = {}\n",
    "for key, value in multiseq_barcode_dict.items():\n",
    "    multiseq_barcode_dict[key] = str(int(value[3:]))\n",
    "for row in multiseq_barcodes.iterrows():\n",
    "    TLS_TLSCL_dict[row[1][2]] = 'TLS'\n",
    "for row in multiseq_barcodes[multiseq_barcodes['TLS ID'].str.startswith('TLSCL')].iterrows():\n",
    "    TLS_TLSCL_dict[row[1][2]] = 'TLSCL'\n",
    "    \n",
    "multiseq_barcode_dict['Doublet'] = 'Doublet'\n",
    "multiseq_barcode_dict['Negative'] = 'Negative'\n",
    "TLS_TLSCL_dict['Doublet'] = 'Doublet'\n",
    "TLS_TLSCL_dict['Negative'] = 'Negative'\n",
    "\n",
    "# Merge the multiseq group metadata with the entire integrated dataset\n",
    "TLS_integrated.obs['MultiSeqGroup'] = TLS_integrated.obs['MultiSeqBCseq'].map(multiseq_barcode_dict)\n",
    "TLS_integrated.obs['TLSCL'] = TLS_integrated.obs['MultiSeqBCseq'].map(TLS_TLSCL_dict)\n",
    "\n",
    "# Load the monocle position values\n",
    "pseudotime = pd.read_csv('/Genomics/chanlab/blaw/TLS/raw_data/monocle_results/TLS_TLSCL_1_2_Time_integrated_Monocle_Pos.txt', sep = '\\t', index_col = 0)\n",
    "\n",
    "# Rename the index column\n",
    "pseudotime.rename(columns = {'x': 'pseudotime'}, inplace = True)\n",
    "\n",
    "# Merge the pseudotime values into the integrated object\n",
    "TLS_integrated.obs = pd.merge(TLS_integrated.obs, pseudotime, left_index = True, right_index = True)\n",
    "\n",
    "# Recenter the pseudotime value to put the NMP median in the center since both trajectories originate from NMPs\n",
    "NMP_median = np.median(TLS_integrated.obs[TLS_integrated.obs['cell_state'] == 'NMPs']['pseudotime'].values)\n",
    "TLS_integrated.obs['NT-Somite_Traj'] = TLS_integrated.obs['pseudotime'] - NMP_median"
   ]
  },
  {
   "cell_type": "markdown",
   "id": "d16584c3",
   "metadata": {},
   "source": [
    "# Investigate how NMP density changes over time in the pseudotime"
   ]
  },
  {
   "cell_type": "code",
   "execution_count": 4,
   "id": "a2e22c7a",
   "metadata": {},
   "outputs": [],
   "source": [
    "NMPs = TLS_integrated[TLS_integrated.obs['cell_state'] == 'NMPs'].copy()"
   ]
  },
  {
   "cell_type": "code",
   "execution_count": 7,
   "id": "75318c95",
   "metadata": {},
   "outputs": [],
   "source": [
    "# NMP specific density plots\n",
    "TLS_96_NMP_pseudotime_values = NMPs.obs[(NMPs.obs['orig.ident'] == 'mGast_96h')]['NT-Somite_Traj']\n",
    "TLS_108_NMP_pseudotime_values = NMPs.obs[(NMPs.obs['orig.ident'] == 'mGast_108h')]['NT-Somite_Traj']\n",
    "TLS_120_NMP_pseudotime_values = NMPs.obs[(NMPs.obs['orig.ident'] == 'mGast_120h')]['NT-Somite_Traj']\n",
    "fig, ax = plt.subplots(figsize = (10, 5))\n",
    "\n",
    "sns.kdeplot(TLS_96_NMP_pseudotime_values, color = 'red', ax = ax)\n",
    "sns.kdeplot(TLS_108_NMP_pseudotime_values, color = 'green', ax = ax)\n",
    "sns.kdeplot(TLS_120_NMP_pseudotime_values, color = 'blue', ax = ax)\n",
    "ax.legend(['TLS_96h', 'TLS_108h', 'TLS_120h'])\n",
    "ax.set_xlim(-20, 20)\n",
    "ax.set_ylim(0, 0.5)\n",
    "\n",
    "plt.tight_layout()\n",
    "plt.savefig('/Genomics/chanlab/blaw/TLS/data/integrated_scRNA/3_maturity/pseudotime_timecourse_NMP_distributions.pdf', dpi = 300)\n",
    "#plt.show()\n",
    "plt.close()"
   ]
  },
  {
   "cell_type": "code",
   "execution_count": 8,
   "id": "455a10c9",
   "metadata": {},
   "outputs": [],
   "source": [
    "# plot known genes related to NMP maturity over the pseudotime\n",
    "\n",
    "gene_list = ['Sox2', 'Sox11', 'Hes7', 'Rspo3', 'Nkx1-2', 'Cyp26a1', 'Cdx1', 'Cdx2']\n",
    "\n",
    "# Plot the expression of a gene vs the pseudotime values for each cell\n",
    "# Hoxc10 is one of the genes identified to be differentially expressed\n",
    "for gene in gene_list:\n",
    "    fig, ax = plt.subplots(figsize = (10, 5))\n",
    "\n",
    "    avg_range = np.arange(-10, 10, 1)\n",
    "    # This is setup to expect 4 genes, if more are wanted, you must change the subplot call and the i_count and j_count logic\n",
    "\n",
    "    avg_expr = []\n",
    "    for i, value in enumerate(avg_range):\n",
    "        try:\n",
    "            avg_expr.append(NMPs[(NMPs.obs['NT-Somite_Traj'] >= value) & (NMPs.obs['NT-Somite_Traj'] < avg_range[i + 1])][:, gene].X.todense().mean())\n",
    "        except:\n",
    "            pass\n",
    "    x1 = avg_range[0:-1]\n",
    "    y1 = avg_expr\n",
    "    ax.plot(x1, y1, color = 'black')\n",
    "    y2 = NMPs[:, gene].X.todense()\n",
    "    x2 = NMPs.obs['NT-Somite_Traj']\n",
    "    ax.plot(x2, y2, '.', markersize = 3, alpha = 0.1)\n",
    "    ax.set_title('{} - All Cells'.format(gene))\n",
    "    ax.set_ylabel('{} Expression'.format(gene))\n",
    "    ax.set_xlabel('NT-Somite_Traj')\n",
    "    ax.set_xlim(-10, 10)\n",
    "\n",
    "    plt.tight_layout()\n",
    "    plt.savefig('/Genomics/chanlab/blaw/TLS/data/integrated_scRNA/3_maturity/{}_expr_timecourse_NMPs.pdf'.format(gene), dpi = 300)\n",
    "    #plt.show()\n",
    "    plt.close()"
   ]
  }
 ],
 "metadata": {
  "kernelspec": {
   "display_name": "Python 3 (ipykernel)",
   "language": "python",
   "name": "python3"
  },
  "language_info": {
   "codemirror_mode": {
    "name": "ipython",
    "version": 3
   },
   "file_extension": ".py",
   "mimetype": "text/x-python",
   "name": "python",
   "nbconvert_exporter": "python",
   "pygments_lexer": "ipython3",
   "version": "3.9.11"
  }
 },
 "nbformat": 4,
 "nbformat_minor": 5
}
